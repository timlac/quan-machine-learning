{
 "cells": [
  {
   "cell_type": "code",
   "execution_count": 2,
   "id": "cf0c0fe8-4d42-4831-b800-8ebb99cfd0ab",
   "metadata": {},
   "outputs": [],
   "source": [
    "import os\n",
    "import sys\n",
    "from pathlib import Path\n",
    "from dotenv import load_dotenv\n",
    "\n",
    "import numpy as np\n",
    "import matplotlib.pyplot as plt\n",
    "import seaborn as sns\n",
    "import pandas as pd\n",
    "import sklearn as sk\n",
    "import pickle\n",
    "import copy\n",
    "from pyts.classification import TimeSeriesForest\n",
    "from sklearn.model_selection import train_test_split, RandomizedSearchCV, GridSearchCV\n",
    "from pyts.multivariate.classification import MultivariateClassifier\n",
    "from pyts.classification import KNeighborsClassifier\n",
    "from pyts.classification import BOSSVS\n",
    "from pyts.classification import TSBF\n",
    "from sktime.classification.distance_based import KNeighborsTimeSeriesClassifier\n",
    "from sktime.classification.interval_based import TimeSeriesForestClassifier\n",
    "from sktime.transformations.panel.compose import ColumnConcatenator\n",
    "from sklearn.pipeline import Pipeline\n",
    "from sktime.classification.compose import ColumnEnsembleClassifier\n",
    "from sktime.classification.dictionary_based import BOSSEnsemble\n",
    "from sktime.classification.interval_based import TimeSeriesForestClassifier"
   ]
  },
  {
   "cell_type": "code",
   "execution_count": 3,
   "id": "a1b12227-9996-44a7-8017-65c25c3a234d",
   "metadata": {},
   "outputs": [],
   "source": [
    "AU_COLS = ['AU01_r',\n",
    "'AU02_r',\n",
    "'AU04_r',\n",
    "'AU05_r',\n",
    "'AU06_r',\n",
    "'AU07_r',\n",
    "'AU09_r',\n",
    "'AU10_r',\n",
    "'AU12_r',\n",
    "'AU14_r',\n",
    "'AU15_r',\n",
    "'AU17_r',\n",
    "'AU20_r',\n",
    "'AU23_r',\n",
    "'AU25_r',\n",
    "'AU26_r',\n",
    "'AU45_r']\n",
    "\n",
    "ID_COLS = ['filename', \"frame\", \"video_id\", \"emotion_1_id\"]"
   ]
  },
  {
   "cell_type": "code",
   "execution_count": 4,
   "id": "1e3a757b-1864-4bc2-98f0-f873459f7f90",
   "metadata": {},
   "outputs": [],
   "source": [
    "load_dotenv()\n",
    "\n",
    "# path to save figures\n",
    "output_path = os.getenv(\"VIDEO_OUT\")"
   ]
  },
  {
   "cell_type": "code",
   "execution_count": 5,
   "id": "48447e3b-15db-4a67-9cf7-736660b3a273",
   "metadata": {},
   "outputs": [],
   "source": [
    "load_path = os.path.join(output_path, 'video_data_time_series_reduced.csv')\n",
    "df = pd.read_csv(load_path)"
   ]
  },
  {
   "cell_type": "code",
   "execution_count": 6,
   "id": "0a482c14-f1a3-40da-a85b-f33b3bd925f8",
   "metadata": {},
   "outputs": [
    {
     "data": {
      "text/html": [
       "<div>\n",
       "<style scoped>\n",
       "    .dataframe tbody tr th:only-of-type {\n",
       "        vertical-align: middle;\n",
       "    }\n",
       "\n",
       "    .dataframe tbody tr th {\n",
       "        vertical-align: top;\n",
       "    }\n",
       "\n",
       "    .dataframe thead th {\n",
       "        text-align: right;\n",
       "    }\n",
       "</style>\n",
       "<table border=\"1\" class=\"dataframe\">\n",
       "  <thead>\n",
       "    <tr style=\"text-align: right;\">\n",
       "      <th></th>\n",
       "      <th>filename</th>\n",
       "      <th>frame</th>\n",
       "      <th>video_id</th>\n",
       "      <th>emotion_1_id</th>\n",
       "      <th>AU01_r</th>\n",
       "      <th>AU02_r</th>\n",
       "      <th>AU04_r</th>\n",
       "      <th>AU05_r</th>\n",
       "      <th>AU06_r</th>\n",
       "      <th>AU07_r</th>\n",
       "      <th>...</th>\n",
       "      <th>AU10_r</th>\n",
       "      <th>AU12_r</th>\n",
       "      <th>AU14_r</th>\n",
       "      <th>AU15_r</th>\n",
       "      <th>AU17_r</th>\n",
       "      <th>AU20_r</th>\n",
       "      <th>AU23_r</th>\n",
       "      <th>AU25_r</th>\n",
       "      <th>AU26_r</th>\n",
       "      <th>AU45_r</th>\n",
       "    </tr>\n",
       "  </thead>\n",
       "  <tbody>\n",
       "    <tr>\n",
       "      <th>0</th>\n",
       "      <td>A220_reg_p_2</td>\n",
       "      <td>1</td>\n",
       "      <td>A220</td>\n",
       "      <td>0</td>\n",
       "      <td>0.000</td>\n",
       "      <td>0.0</td>\n",
       "      <td>0.420</td>\n",
       "      <td>0.0</td>\n",
       "      <td>0.0</td>\n",
       "      <td>0.137778</td>\n",
       "      <td>...</td>\n",
       "      <td>0.244</td>\n",
       "      <td>0.000000</td>\n",
       "      <td>0.328</td>\n",
       "      <td>0.000</td>\n",
       "      <td>0.119816</td>\n",
       "      <td>0.0</td>\n",
       "      <td>0.168950</td>\n",
       "      <td>0.080</td>\n",
       "      <td>0.120690</td>\n",
       "      <td>0.000000</td>\n",
       "    </tr>\n",
       "    <tr>\n",
       "      <th>1</th>\n",
       "      <td>A220_reg_p_2</td>\n",
       "      <td>2</td>\n",
       "      <td>A220</td>\n",
       "      <td>0</td>\n",
       "      <td>0.000</td>\n",
       "      <td>0.0</td>\n",
       "      <td>0.422</td>\n",
       "      <td>0.0</td>\n",
       "      <td>0.0</td>\n",
       "      <td>0.057778</td>\n",
       "      <td>...</td>\n",
       "      <td>0.202</td>\n",
       "      <td>0.000000</td>\n",
       "      <td>0.344</td>\n",
       "      <td>0.030</td>\n",
       "      <td>0.066820</td>\n",
       "      <td>0.0</td>\n",
       "      <td>0.146119</td>\n",
       "      <td>0.082</td>\n",
       "      <td>0.106322</td>\n",
       "      <td>0.020080</td>\n",
       "    </tr>\n",
       "    <tr>\n",
       "      <th>2</th>\n",
       "      <td>A220_reg_p_2</td>\n",
       "      <td>3</td>\n",
       "      <td>A220</td>\n",
       "      <td>0</td>\n",
       "      <td>0.000</td>\n",
       "      <td>0.0</td>\n",
       "      <td>0.412</td>\n",
       "      <td>0.0</td>\n",
       "      <td>0.0</td>\n",
       "      <td>0.024444</td>\n",
       "      <td>...</td>\n",
       "      <td>0.176</td>\n",
       "      <td>0.000000</td>\n",
       "      <td>0.348</td>\n",
       "      <td>0.030</td>\n",
       "      <td>0.046083</td>\n",
       "      <td>0.0</td>\n",
       "      <td>0.134703</td>\n",
       "      <td>0.092</td>\n",
       "      <td>0.077586</td>\n",
       "      <td>0.020080</td>\n",
       "    </tr>\n",
       "    <tr>\n",
       "      <th>3</th>\n",
       "      <td>A220_reg_p_2</td>\n",
       "      <td>4</td>\n",
       "      <td>A220</td>\n",
       "      <td>0</td>\n",
       "      <td>0.000</td>\n",
       "      <td>0.0</td>\n",
       "      <td>0.412</td>\n",
       "      <td>0.0</td>\n",
       "      <td>0.0</td>\n",
       "      <td>0.057778</td>\n",
       "      <td>...</td>\n",
       "      <td>0.180</td>\n",
       "      <td>0.000000</td>\n",
       "      <td>0.340</td>\n",
       "      <td>0.024</td>\n",
       "      <td>0.062212</td>\n",
       "      <td>0.0</td>\n",
       "      <td>0.139269</td>\n",
       "      <td>0.084</td>\n",
       "      <td>0.063218</td>\n",
       "      <td>0.018072</td>\n",
       "    </tr>\n",
       "    <tr>\n",
       "      <th>4</th>\n",
       "      <td>A220_reg_p_2</td>\n",
       "      <td>5</td>\n",
       "      <td>A220</td>\n",
       "      <td>0</td>\n",
       "      <td>0.000</td>\n",
       "      <td>0.0</td>\n",
       "      <td>0.406</td>\n",
       "      <td>0.0</td>\n",
       "      <td>0.0</td>\n",
       "      <td>0.053333</td>\n",
       "      <td>...</td>\n",
       "      <td>0.174</td>\n",
       "      <td>0.000000</td>\n",
       "      <td>0.344</td>\n",
       "      <td>0.020</td>\n",
       "      <td>0.062212</td>\n",
       "      <td>0.0</td>\n",
       "      <td>0.134703</td>\n",
       "      <td>0.096</td>\n",
       "      <td>0.100575</td>\n",
       "      <td>0.010040</td>\n",
       "    </tr>\n",
       "    <tr>\n",
       "      <th>...</th>\n",
       "      <td>...</td>\n",
       "      <td>...</td>\n",
       "      <td>...</td>\n",
       "      <td>...</td>\n",
       "      <td>...</td>\n",
       "      <td>...</td>\n",
       "      <td>...</td>\n",
       "      <td>...</td>\n",
       "      <td>...</td>\n",
       "      <td>...</td>\n",
       "      <td>...</td>\n",
       "      <td>...</td>\n",
       "      <td>...</td>\n",
       "      <td>...</td>\n",
       "      <td>...</td>\n",
       "      <td>...</td>\n",
       "      <td>...</td>\n",
       "      <td>...</td>\n",
       "      <td>...</td>\n",
       "      <td>...</td>\n",
       "      <td>...</td>\n",
       "    </tr>\n",
       "    <tr>\n",
       "      <th>98332</th>\n",
       "      <td>A220_anx_v_3</td>\n",
       "      <td>306</td>\n",
       "      <td>A220</td>\n",
       "      <td>34</td>\n",
       "      <td>0.002</td>\n",
       "      <td>0.0</td>\n",
       "      <td>0.124</td>\n",
       "      <td>0.0</td>\n",
       "      <td>0.0</td>\n",
       "      <td>0.104444</td>\n",
       "      <td>...</td>\n",
       "      <td>0.274</td>\n",
       "      <td>0.144550</td>\n",
       "      <td>0.420</td>\n",
       "      <td>0.000</td>\n",
       "      <td>0.179724</td>\n",
       "      <td>0.0</td>\n",
       "      <td>0.216895</td>\n",
       "      <td>0.006</td>\n",
       "      <td>0.000000</td>\n",
       "      <td>0.000000</td>\n",
       "    </tr>\n",
       "    <tr>\n",
       "      <th>98333</th>\n",
       "      <td>A220_anx_v_3</td>\n",
       "      <td>307</td>\n",
       "      <td>A220</td>\n",
       "      <td>34</td>\n",
       "      <td>0.006</td>\n",
       "      <td>0.0</td>\n",
       "      <td>0.126</td>\n",
       "      <td>0.0</td>\n",
       "      <td>0.0</td>\n",
       "      <td>0.102222</td>\n",
       "      <td>...</td>\n",
       "      <td>0.284</td>\n",
       "      <td>0.149289</td>\n",
       "      <td>0.416</td>\n",
       "      <td>0.000</td>\n",
       "      <td>0.186636</td>\n",
       "      <td>0.0</td>\n",
       "      <td>0.205479</td>\n",
       "      <td>0.006</td>\n",
       "      <td>0.000000</td>\n",
       "      <td>0.000000</td>\n",
       "    </tr>\n",
       "    <tr>\n",
       "      <th>98334</th>\n",
       "      <td>A220_anx_v_3</td>\n",
       "      <td>308</td>\n",
       "      <td>A220</td>\n",
       "      <td>34</td>\n",
       "      <td>0.006</td>\n",
       "      <td>0.0</td>\n",
       "      <td>0.110</td>\n",
       "      <td>0.0</td>\n",
       "      <td>0.0</td>\n",
       "      <td>0.102222</td>\n",
       "      <td>...</td>\n",
       "      <td>0.292</td>\n",
       "      <td>0.151659</td>\n",
       "      <td>0.406</td>\n",
       "      <td>0.000</td>\n",
       "      <td>0.191244</td>\n",
       "      <td>0.0</td>\n",
       "      <td>0.182648</td>\n",
       "      <td>0.004</td>\n",
       "      <td>0.000000</td>\n",
       "      <td>0.000000</td>\n",
       "    </tr>\n",
       "    <tr>\n",
       "      <th>98335</th>\n",
       "      <td>A220_anx_v_3</td>\n",
       "      <td>309</td>\n",
       "      <td>A220</td>\n",
       "      <td>34</td>\n",
       "      <td>0.010</td>\n",
       "      <td>0.0</td>\n",
       "      <td>0.100</td>\n",
       "      <td>0.0</td>\n",
       "      <td>0.0</td>\n",
       "      <td>0.075556</td>\n",
       "      <td>...</td>\n",
       "      <td>0.286</td>\n",
       "      <td>0.144550</td>\n",
       "      <td>0.404</td>\n",
       "      <td>0.000</td>\n",
       "      <td>0.184332</td>\n",
       "      <td>0.0</td>\n",
       "      <td>0.162100</td>\n",
       "      <td>0.004</td>\n",
       "      <td>0.000000</td>\n",
       "      <td>0.000000</td>\n",
       "    </tr>\n",
       "    <tr>\n",
       "      <th>98336</th>\n",
       "      <td>A220_anx_v_3</td>\n",
       "      <td>310</td>\n",
       "      <td>A220</td>\n",
       "      <td>34</td>\n",
       "      <td>0.014</td>\n",
       "      <td>0.0</td>\n",
       "      <td>0.096</td>\n",
       "      <td>0.0</td>\n",
       "      <td>0.0</td>\n",
       "      <td>0.066667</td>\n",
       "      <td>...</td>\n",
       "      <td>0.280</td>\n",
       "      <td>0.132701</td>\n",
       "      <td>0.388</td>\n",
       "      <td>0.000</td>\n",
       "      <td>0.179724</td>\n",
       "      <td>0.0</td>\n",
       "      <td>0.132420</td>\n",
       "      <td>0.014</td>\n",
       "      <td>0.000000</td>\n",
       "      <td>0.000000</td>\n",
       "    </tr>\n",
       "  </tbody>\n",
       "</table>\n",
       "<p>98337 rows × 21 columns</p>\n",
       "</div>"
      ],
      "text/plain": [
       "           filename  frame video_id  emotion_1_id  AU01_r  AU02_r  AU04_r  \\\n",
       "0      A220_reg_p_2      1     A220             0   0.000     0.0   0.420   \n",
       "1      A220_reg_p_2      2     A220             0   0.000     0.0   0.422   \n",
       "2      A220_reg_p_2      3     A220             0   0.000     0.0   0.412   \n",
       "3      A220_reg_p_2      4     A220             0   0.000     0.0   0.412   \n",
       "4      A220_reg_p_2      5     A220             0   0.000     0.0   0.406   \n",
       "...             ...    ...      ...           ...     ...     ...     ...   \n",
       "98332  A220_anx_v_3    306     A220            34   0.002     0.0   0.124   \n",
       "98333  A220_anx_v_3    307     A220            34   0.006     0.0   0.126   \n",
       "98334  A220_anx_v_3    308     A220            34   0.006     0.0   0.110   \n",
       "98335  A220_anx_v_3    309     A220            34   0.010     0.0   0.100   \n",
       "98336  A220_anx_v_3    310     A220            34   0.014     0.0   0.096   \n",
       "\n",
       "       AU05_r  AU06_r    AU07_r  ...  AU10_r    AU12_r  AU14_r  AU15_r  \\\n",
       "0         0.0     0.0  0.137778  ...   0.244  0.000000   0.328   0.000   \n",
       "1         0.0     0.0  0.057778  ...   0.202  0.000000   0.344   0.030   \n",
       "2         0.0     0.0  0.024444  ...   0.176  0.000000   0.348   0.030   \n",
       "3         0.0     0.0  0.057778  ...   0.180  0.000000   0.340   0.024   \n",
       "4         0.0     0.0  0.053333  ...   0.174  0.000000   0.344   0.020   \n",
       "...       ...     ...       ...  ...     ...       ...     ...     ...   \n",
       "98332     0.0     0.0  0.104444  ...   0.274  0.144550   0.420   0.000   \n",
       "98333     0.0     0.0  0.102222  ...   0.284  0.149289   0.416   0.000   \n",
       "98334     0.0     0.0  0.102222  ...   0.292  0.151659   0.406   0.000   \n",
       "98335     0.0     0.0  0.075556  ...   0.286  0.144550   0.404   0.000   \n",
       "98336     0.0     0.0  0.066667  ...   0.280  0.132701   0.388   0.000   \n",
       "\n",
       "         AU17_r  AU20_r    AU23_r  AU25_r    AU26_r    AU45_r  \n",
       "0      0.119816     0.0  0.168950   0.080  0.120690  0.000000  \n",
       "1      0.066820     0.0  0.146119   0.082  0.106322  0.020080  \n",
       "2      0.046083     0.0  0.134703   0.092  0.077586  0.020080  \n",
       "3      0.062212     0.0  0.139269   0.084  0.063218  0.018072  \n",
       "4      0.062212     0.0  0.134703   0.096  0.100575  0.010040  \n",
       "...         ...     ...       ...     ...       ...       ...  \n",
       "98332  0.179724     0.0  0.216895   0.006  0.000000  0.000000  \n",
       "98333  0.186636     0.0  0.205479   0.006  0.000000  0.000000  \n",
       "98334  0.191244     0.0  0.182648   0.004  0.000000  0.000000  \n",
       "98335  0.184332     0.0  0.162100   0.004  0.000000  0.000000  \n",
       "98336  0.179724     0.0  0.132420   0.014  0.000000  0.000000  \n",
       "\n",
       "[98337 rows x 21 columns]"
      ]
     },
     "execution_count": 6,
     "metadata": {},
     "output_type": "execute_result"
    }
   ],
   "source": [
    "df"
   ]
  },
  {
   "cell_type": "code",
   "execution_count": 7,
   "id": "8b929486-ca04-44bc-955b-810dea4d158b",
   "metadata": {},
   "outputs": [],
   "source": [
    "frame_counts = df[['frame','filename']].groupby([\"filename\"]).frame.nunique().reset_index()"
   ]
  },
  {
   "cell_type": "code",
   "execution_count": 8,
   "id": "a7ad298c-a627-48a8-90d0-274e4d52efdd",
   "metadata": {},
   "outputs": [
    {
     "data": {
      "image/png": "[encoded data removed]",
      "text/plain": [
       "<Figure size 1080x360 with 1 Axes>"
      ]
     },
     "metadata": {
      "needs_background": "light"
     },
     "output_type": "display_data"
    }
   ],
   "source": [
    "frame_counts.plot(figsize=(15,5))\n",
    "plt.title(\"Frame counts\")\n",
    "plt.xlabel('videos')\n",
    "plt.ylabel('frames')\n",
    "plt.show()"
   ]
  },
  {
   "cell_type": "code",
   "execution_count": 9,
   "id": "c1ba3e99-0d4a-45da-99d1-5975a61779bb",
   "metadata": {},
   "outputs": [],
   "source": [
    "X = []\n",
    "y = []\n",
    "for _, group in df.groupby('filename'):\n",
    "    x_arr = np.asarray(group[AU_COLS])\n",
    "\n",
    "    X.append(x_arr)\n",
    "    \n",
    "    y_list = group[\"emotion_1_id\"].unique()\n",
    "    if len(y_list) == 1:\n",
    "        y.append(y_list[0])\n",
    "    else:\n",
    "        raise ValueError('More than 1 label for time series encountered')"
   ]
  },
  {
   "cell_type": "code",
   "execution_count": 10,
   "id": "2f0fbb93-8248-4ce8-8270-1899f7610666",
   "metadata": {},
   "outputs": [],
   "source": [
    "y = np.asarray(y)"
   ]
  },
  {
   "cell_type": "code",
   "execution_count": 11,
   "id": "05fd13e9-3451-44cd-8cb3-9cf4e65ac54a",
   "metadata": {},
   "outputs": [],
   "source": [
    "length = max(map(len, X))\n",
    "\n",
    "padded_X = []\n",
    "for xi in X:\n",
    "    pad = np.zeros((length-len(xi), xi.shape[1]))\n",
    "    xi = np.concatenate((xi, pad)).T\n",
    "    padded_X.append(xi)"
   ]
  },
  {
   "cell_type": "code",
   "execution_count": 12,
   "id": "544e2e1a-baa9-4588-acb5-b67cc10a3f5e",
   "metadata": {},
   "outputs": [],
   "source": [
    "X = np.array(padded_X)"
   ]
  },
  {
   "cell_type": "code",
   "execution_count": 13,
   "id": "447ecd82-6974-4bfb-9705-a2267b5cccf8",
   "metadata": {},
   "outputs": [
    {
     "data": {
      "text/plain": [
       "(352, 17, 1084)"
      ]
     },
     "execution_count": 13,
     "metadata": {},
     "output_type": "execute_result"
    }
   ],
   "source": [
    "X.shape"
   ]
  },
  {
   "cell_type": "code",
   "execution_count": 14,
   "id": "784c089d-0e57-4ae4-beeb-cbd7408dedfd",
   "metadata": {},
   "outputs": [
    {
     "data": {
      "text/plain": [
       "(352,)"
      ]
     },
     "execution_count": 14,
     "metadata": {},
     "output_type": "execute_result"
    }
   ],
   "source": [
    "y.shape"
   ]
  },
  {
   "cell_type": "code",
   "execution_count": 15,
   "id": "6270c89d-3c48-417f-83b8-52bb8faf6db9",
   "metadata": {},
   "outputs": [],
   "source": [
    "X_train, X_test, y_train, y_test = train_test_split(X, y, test_size=0.3)"
   ]
  },
  {
   "cell_type": "code",
   "execution_count": 16,
   "id": "3def321d-9ee9-4522-abe6-b36cad7bade5",
   "metadata": {},
   "outputs": [
    {
     "data": {
      "text/plain": [
       "(246, 17, 1084)"
      ]
     },
     "execution_count": 16,
     "metadata": {},
     "output_type": "execute_result"
    }
   ],
   "source": [
    "X_train.shape"
   ]
  },
  {
   "cell_type": "code",
   "execution_count": 17,
   "id": "bdb0d732-1e5f-4ca4-b0b3-7063cfb5695f",
   "metadata": {},
   "outputs": [
    {
     "data": {
      "text/plain": [
       "(246,)"
      ]
     },
     "execution_count": 17,
     "metadata": {},
     "output_type": "execute_result"
    }
   ],
   "source": [
    "y_train.shape"
   ]
  },
  {
   "cell_type": "markdown",
   "id": "00aaf9c4-f3f1-4708-9040-251631fb542b",
   "metadata": {},
   "source": [
    "### Time series exploration"
   ]
  },
  {
   "cell_type": "code",
   "execution_count": 24,
   "id": "1bc06e98-0d72-4958-a415-ac055585122e",
   "metadata": {},
   "outputs": [
    {
     "data": {
      "text/plain": [
       "[<matplotlib.lines.Line2D at 0x7fd7627ae040>]"
      ]
     },
     "execution_count": 24,
     "metadata": {},
     "output_type": "execute_result"
    },
    {
     "data": {
      "image/png": "[encoded data removed]",
      "text/plain": [
       "<Figure size 432x288 with 1 Axes>"
      ]
     },
     "metadata": {
      "needs_background": "light"
     },
     "output_type": "display_data"
    }
   ],
   "source": [
    "plt.plot(X[0, 0])"
   ]
  }
 ],
 "metadata": {
  "kernelspec": {
   "display_name": "Python 3 (ipykernel)",
   "language": "python",
   "name": "python3"
  },
  "language_info": {
   "codemirror_mode": {
    "name": "ipython",
    "version": 3
   },
   "file_extension": ".py",
   "mimetype": "text/x-python",
   "name": "python",
   "nbconvert_exporter": "python",
   "pygments_lexer": "ipython3",
   "version": "3.8.13"
  }
 },
 "nbformat": 4,
 "nbformat_minor": 5
}
