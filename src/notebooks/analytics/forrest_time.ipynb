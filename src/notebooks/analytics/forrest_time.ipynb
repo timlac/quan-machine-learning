{
 "cells": [
  {
   "cell_type": "code",
   "execution_count": 7,
   "id": "cf0c0fe8-4d42-4831-b800-8ebb99cfd0ab",
   "metadata": {},
   "outputs": [],
   "source": [
    "from pyts.datasets import load_gunpoint\n",
    "from pyts.classification import TimeSeriesForest\n"
   ]
  },
  {
   "cell_type": "code",
   "execution_count": 8,
   "id": "a6af3748-5165-42d7-adb4-a3ef5b7c5d0e",
   "metadata": {
    "tags": []
   },
   "outputs": [],
   "source": [
    "X_train, X_test, y_train, y_test = load_gunpoint(return_X_y=True)"
   ]
  },
  {
   "cell_type": "markdown",
   "id": "ea57cf8c-2556-477f-9274-37821805600e",
   "metadata": {},
   "source": [
    "Every row is a time series, every column is a timestamp\n",
    "\n",
    "There are 50 time series to be classified"
   ]
  },
  {
   "cell_type": "code",
   "execution_count": 11,
   "id": "860834fb-8a1c-49a7-8df8-30f0b3964ddc",
   "metadata": {},
   "outputs": [],
   "source": [
    "clf = TimeSeriesForest(random_state=43)\n",
    "clf.fit(X_train, y_train)\n",
    "\n",
    "ret = clf.score(X_test, y_test)"
   ]
  },
  {
   "cell_type": "code",
   "execution_count": 12,
   "id": "07693ff7-6b91-4864-955e-5814ad91bf69",
   "metadata": {},
   "outputs": [
    {
     "data": {
      "text/plain": [
       "0.9733333333333334"
      ]
     },
     "execution_count": 12,
     "metadata": {},
     "output_type": "execute_result"
    }
   ],
   "source": [
    "ret"
   ]
  },
  {
   "cell_type": "code",
   "execution_count": 13,
   "id": "8eff7ca7-0d77-4dba-a7c4-0031a4c80aaf",
   "metadata": {},
   "outputs": [],
   "source": [
    "from sklearn.model_selection import cross_validate\n",
    "import numpy as np"
   ]
  },
  {
   "cell_type": "code",
   "execution_count": 14,
   "id": "3c9d46f6-c16c-4a3d-9671-1e2339476977",
   "metadata": {},
   "outputs": [
    {
     "name": "stderr",
     "output_type": "stream",
     "text": [
      "[Parallel(n_jobs=1)]: Using backend SequentialBackend with 1 concurrent workers.\n",
      "[Parallel(n_jobs=1)]: Done   5 out of   5 | elapsed:    5.0s finished\n"
     ]
    }
   ],
   "source": [
    "scores = cross_validate(X=X_test, y=y_test,\n",
    "                        estimator           = clf,\n",
    "                        scoring             = ['accuracy'],\n",
    "                        verbose             = 1,\n",
    "                        return_train_score = True\n",
    "                       )"
   ]
  },
  {
   "cell_type": "code",
   "execution_count": 15,
   "id": "38d3777b-e891-4bd3-81a8-7a852ffa8058",
   "metadata": {},
   "outputs": [
    {
     "name": "stdout",
     "output_type": "stream",
     "text": [
      "AUC_avg (train): 1.0\n",
      "AUC_std (train): 0.0\n",
      "AUC_avg (validation): 0.9666666666666668\n",
      "AUC_std (validation): 0.04216370213557838\n"
     ]
    }
   ],
   "source": [
    "print('AUC_avg (train):', np.mean(scores['train_roc_auc_ovo_weighted']))\n",
    "print('AUC_std (train):', np.std(scores['train_roc_auc_ovo_weighted']))\n",
    "print('AUC_avg (validation):', np.mean(scores['test_roc_auc_ovo_weighted']))\n",
    "print('AUC_std (validation):', np.std(scores['test_roc_auc_ovo_weighted']))"
   ]
  },
  {
   "cell_type": "code",
   "execution_count": 20,
   "id": "e6052ab4-693b-4afa-8370-9bb227c0df23",
   "metadata": {},
   "outputs": [
    {
     "name": "stdout",
     "output_type": "stream",
     "text": [
      "acc_avg (train): 1.0\n",
      "acc_std (train): 0.0\n",
      "acc_avg (validation): 0.9666666666666668\n",
      "acc_std (validation): 0.04216370213557838\n"
     ]
    }
   ],
   "source": [
    "print('acc_avg (train):', np.mean(scores['train_accuracy']))\n",
    "print('acc_std (train):', np.std(scores['train_accuracy']))\n",
    "print('acc_avg (validation):', np.mean(scores['test_accuracy']))\n",
    "print('acc_std (validation):', np.std(scores['test_accuracy']))"
   ]
  },
  {
   "cell_type": "code",
   "execution_count": 25,
   "id": "882cc460-eced-45cf-b362-e2fdfb0b2436",
   "metadata": {},
   "outputs": [
    {
     "data": {
      "text/plain": [
       "1.0"
      ]
     },
     "execution_count": 25,
     "metadata": {},
     "output_type": "execute_result"
    }
   ],
   "source": [
    "from pyts.classification import TimeSeriesForest\n",
    "from pyts.datasets import load_basic_motions\n",
    "from pyts.multivariate.classification import MultivariateClassifier\n",
    "X_train, X_test, y_train, y_test = load_basic_motions(return_X_y=True)\n",
    "\n",
    "clf = MultivariateClassifier(TimeSeriesForest())\n",
    "clf.fit(X_train, y_train)\n",
    "\n",
    "clf.score(X_test, y_test)"
   ]
  },
  {
   "cell_type": "code",
   "execution_count": 22,
   "id": "dc331eee-0a74-4cd2-be92-4261d960995c",
   "metadata": {},
   "outputs": [
    {
     "data": {
      "text/plain": [
       "(40, 6, 100)"
      ]
     },
     "execution_count": 22,
     "metadata": {},
     "output_type": "execute_result"
    }
   ],
   "source": [
    "X_train.shape"
   ]
  },
  {
   "cell_type": "code",
   "execution_count": 27,
   "id": "019f950c-9387-48c9-a6d0-51d4b7169980",
   "metadata": {},
   "outputs": [
    {
     "data": {
      "text/plain": [
       "array([[[-7.4065300e-01, -7.4065300e-01,  1.0208449e+01, ...,\n",
       "         -3.2918200e-01, -2.8719200e-01, -2.8719200e-01],\n",
       "        [ 7.5650900e-01,  7.5650900e-01, -9.2169700e+00, ...,\n",
       "         -4.6058000e-02,  9.8725000e-02,  9.8725000e-02],\n",
       "        [-2.7580900e-01, -2.7580900e-01, -1.2378901e+01, ...,\n",
       "          3.5301000e-02,  2.6540000e-02,  2.6540000e-02],\n",
       "        [-4.2347600e-01, -4.2347600e-01, -1.4699153e+01, ...,\n",
       "         -2.1307000e-02,  2.6630000e-03,  2.6630000e-03],\n",
       "        [ 1.3317000e-02,  1.3317000e-02,  4.5783370e+00, ...,\n",
       "         -2.3970000e-02, -2.3970000e-02, -2.3970000e-02],\n",
       "        [ 1.3317000e-02,  1.3317000e-02, -5.0550810e+00, ...,\n",
       "          2.9297000e-02,  2.3970000e-02,  2.3970000e-02]],\n",
       "\n",
       "       [[-2.4740900e-01, -2.4740900e-01, -7.7129000e-01, ...,\n",
       "         -4.0875100e-01, -4.0875100e-01, -3.7630600e-01],\n",
       "        [-6.0459000e-02, -6.0459000e-02, -4.7618000e-02, ...,\n",
       "          2.4765000e-01,  2.4765000e-01,  2.7305300e-01],\n",
       "        [-6.0856500e-01, -6.0856500e-01, -2.9441100e-01, ...,\n",
       "         -5.8686000e-02, -5.8686000e-02, -1.7902200e-01],\n",
       "        [-2.3970000e-02, -2.3970000e-02, -2.6900100e-01, ...,\n",
       "          9.0555000e-02,  9.0555000e-02,  4.7941000e-02],\n",
       "        [ 1.0120800e-01,  1.0120800e-01,  1.1186200e-01, ...,\n",
       "          4.7941000e-02,  4.7941000e-02,  2.3970000e-02],\n",
       "        [ 7.1911000e-02,  7.1911000e-02,  1.3583200e-01, ...,\n",
       "          9.3218000e-02,  9.3218000e-02,  7.9901000e-02]],\n",
       "\n",
       "       [[-6.6328400e-01, -6.6328400e-01,  5.3939240e+00, ...,\n",
       "         -5.3863200e-01, -9.6331000e-02, -2.2467700e-01],\n",
       "        [ 2.7301000e-01,  2.7301000e-01, -3.0796730e+00, ...,\n",
       "          2.6570300e-01,  4.8027900e-01,  5.4216000e-01],\n",
       "        [-1.6096300e-01, -1.6096300e-01, -3.1759110e+00, ...,\n",
       "          5.8508000e-02,  2.6352000e-02, -2.3403300e-01],\n",
       "        [-2.4503000e-01, -2.4503000e-01, -6.4080740e+00, ...,\n",
       "          5.3270000e-03,  5.3267000e-02, -1.0919800e-01],\n",
       "        [-7.7238000e-02, -7.7238000e-02,  4.7141700e-01, ...,\n",
       "          7.9900000e-03,  5.0604000e-02,  7.9901000e-02],\n",
       "        [-1.8644000e-02, -1.8644000e-02, -3.5928900e+00, ...,\n",
       "          1.5980200e-01, -1.3317000e-02, -7.9900000e-03]],\n",
       "\n",
       "       ...,\n",
       "\n",
       "       [[-4.6089000e-02, -2.8305100e-01, -5.8774800e-01, ...,\n",
       "         -1.7369980e+00, -1.1917620e+00,  7.6567830e+00],\n",
       "        [-7.3802600e-01, -3.1457200e-01,  3.3881080e+00, ...,\n",
       "          1.1412410e+00,  6.4917360e+00, -6.0010010e+00],\n",
       "        [ 1.7966700e-01, -7.2425700e-01, -2.2356300e-01, ...,\n",
       "          6.1722700e-01, -7.0569510e+00, -4.1641860e+00],\n",
       "        [ 3.6488200e-01, -1.1638940e+00, -2.5435210e+00, ...,\n",
       "          1.3849500e-01,  8.9755700e-01, -5.8327900e-01],\n",
       "        [-2.3704000e-01, -1.0120800e-01,  4.0216900e-01, ...,\n",
       "         -8.2031900e-01, -1.5660630e+00, -4.5543670e+00],\n",
       "        [ 3.8618900e-01, -1.6512900e-01, -8.9755700e-01, ...,\n",
       "          5.1669400e-01,  7.4041800e-01, -4.3998910e+00]],\n",
       "\n",
       "       [[-2.1787460e+00, -2.1787460e+00, -4.4805600e-01, ...,\n",
       "          8.0552880e+00,  3.9727040e+00,  3.9727040e+00],\n",
       "        [-3.8537100e-01, -3.8537100e-01, -2.0894390e+00, ...,\n",
       "          1.2416919e+01, -6.2564750e+00, -6.2564750e+00],\n",
       "        [-8.0583700e-01, -8.0583700e-01,  1.0461700e+00, ...,\n",
       "         -1.5308962e+01, -3.1697560e+00, -3.1697560e+00],\n",
       "        [-3.9951000e-02, -3.9951000e-02,  1.9469250e+00, ...,\n",
       "          3.7180680e+00,  1.8031030e+00,  1.8031030e+00],\n",
       "        [ 4.8473400e-01,  4.8473400e-01, -5.2468400e-01, ...,\n",
       "         -4.5810010e+00,  1.4062610e+00,  1.4062610e+00],\n",
       "        [ 1.0546960e+00,  1.0546960e+00,  2.4369860e+00, ...,\n",
       "          2.7539270e+00,  2.7645810e+00,  2.7645810e+00]],\n",
       "\n",
       "       [[ 9.0164500e-01,  9.0164500e-01, -5.4697000e-02, ...,\n",
       "          4.3164710e+00,  7.0444600e-01, -2.0747490e+00],\n",
       "        [ 2.5819160e+00,  2.5819160e+00, -1.1422000e-02, ...,\n",
       "         -3.5743190e+00, -4.9204440e+00, -6.8923770e+00],\n",
       "        [-3.5378300e-01, -3.5378300e-01, -9.5210000e-03, ...,\n",
       "          2.0638310e+00,  2.8518570e+00,  4.8483790e+00],\n",
       "        [-4.5543700e-01, -4.5543700e-01, -2.5035700e-01, ...,\n",
       "         -1.7178750e+00, -2.9829770e+00, -1.3503300e+00],\n",
       "        [ 1.0653500e-01,  1.0653500e-01, -6.9248000e-02, ...,\n",
       "         -1.8430540e+00, -8.0966500e-01, -1.2038440e+00],\n",
       "        [ 2.4503000e-01,  2.4503000e-01,  5.3270000e-03, ...,\n",
       "          4.8473400e-01, -7.2177400e-01, -1.7764700e+00]]])"
      ]
     },
     "execution_count": 27,
     "metadata": {},
     "output_type": "execute_result"
    }
   ],
   "source": [
    "X_test"
   ]
  },
  {
   "cell_type": "code",
   "execution_count": 24,
   "id": "0d1b5b21-1c8c-4d43-b56a-6d5c57518b5d",
   "metadata": {},
   "outputs": [
    {
     "data": {
      "text/plain": [
       "(40,)"
      ]
     },
     "execution_count": 24,
     "metadata": {},
     "output_type": "execute_result"
    }
   ],
   "source": [
    "y_train.shape"
   ]
  }
 ],
 "metadata": {
  "kernelspec": {
   "display_name": "Python 3 (ipykernel)",
   "language": "python",
   "name": "python3"
  },
  "language_info": {
   "codemirror_mode": {
    "name": "ipython",
    "version": 3
   },
   "file_extension": ".py",
   "mimetype": "text/x-python",
   "name": "python",
   "nbconvert_exporter": "python",
   "pygments_lexer": "ipython3",
   "version": "3.8.13"
  }
 },
 "nbformat": 4,
 "nbformat_minor": 5
}
