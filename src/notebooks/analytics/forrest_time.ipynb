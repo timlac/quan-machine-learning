{
 "cells": [
  {
   "cell_type": "code",
   "execution_count": 3,
   "id": "cf0c0fe8-4d42-4831-b800-8ebb99cfd0ab",
   "metadata": {},
   "outputs": [],
   "source": [
    "from pyts.datasets import load_gunpoint\n",
    "from pyts.classification import TimeSeriesForest"
   ]
  },
  {
   "cell_type": "code",
   "execution_count": 4,
   "id": "a6af3748-5165-42d7-adb4-a3ef5b7c5d0e",
   "metadata": {},
   "outputs": [],
   "source": [
    "X_train, X_test, y_train, y_test = load_gunpoint(return_X_y=True)"
   ]
  },
  {
   "cell_type": "code",
   "execution_count": 5,
   "id": "860834fb-8a1c-49a7-8df8-30f0b3964ddc",
   "metadata": {},
   "outputs": [],
   "source": [
    "clf = TimeSeriesForest(random_state=43)\n",
    "clf.fit(X_train, y_train)\n",
    "\n",
    "ret = clf.score(X_test, y_test)"
   ]
  },
  {
   "cell_type": "code",
   "execution_count": 9,
   "id": "8eff7ca7-0d77-4dba-a7c4-0031a4c80aaf",
   "metadata": {},
   "outputs": [],
   "source": [
    "from sklearn.model_selection import cross_validate\n",
    "import numpy as np"
   ]
  },
  {
   "cell_type": "code",
   "execution_count": 17,
   "id": "3c9d46f6-c16c-4a3d-9671-1e2339476977",
   "metadata": {},
   "outputs": [
    {
     "name": "stderr",
     "output_type": "stream",
     "text": [
      "[Parallel(n_jobs=1)]: Using backend SequentialBackend with 1 concurrent workers.\n",
      "[Parallel(n_jobs=1)]: Done   5 out of   5 | elapsed:    4.0s finished\n"
     ]
    }
   ],
   "source": [
    "scores = cross_validate(X=X_test, y=y_test,\n",
    "                        estimator           = clf,\n",
    "                        scoring             = ['accuracy'],\n",
    "                        verbose             = 1,\n",
    "                        return_train_score = True\n",
    "                       )"
   ]
  },
  {
   "cell_type": "code",
   "execution_count": 19,
   "id": "38d3777b-e891-4bd3-81a8-7a852ffa8058",
   "metadata": {},
   "outputs": [
    {
     "ename": "KeyError",
     "evalue": "'train_roc_auc_ovo_weighted'",
     "output_type": "error",
     "traceback": [
      "\u001b[0;31m---------------------------------------------------------------------------\u001b[0m",
      "\u001b[0;31mKeyError\u001b[0m                                  Traceback (most recent call last)",
      "Input \u001b[0;32mIn [19]\u001b[0m, in \u001b[0;36m<cell line: 1>\u001b[0;34m()\u001b[0m\n\u001b[0;32m----> 1\u001b[0m \u001b[38;5;28mprint\u001b[39m(\u001b[38;5;124m'\u001b[39m\u001b[38;5;124mAUC_avg (train):\u001b[39m\u001b[38;5;124m'\u001b[39m, np\u001b[38;5;241m.\u001b[39mmean(\u001b[43mscores\u001b[49m\u001b[43m[\u001b[49m\u001b[38;5;124;43m'\u001b[39;49m\u001b[38;5;124;43mtrain_roc_auc_ovo_weighted\u001b[39;49m\u001b[38;5;124;43m'\u001b[39;49m\u001b[43m]\u001b[49m))\n\u001b[1;32m      2\u001b[0m \u001b[38;5;28mprint\u001b[39m(\u001b[38;5;124m'\u001b[39m\u001b[38;5;124mAUC_std (train):\u001b[39m\u001b[38;5;124m'\u001b[39m, np\u001b[38;5;241m.\u001b[39mstd(scores[\u001b[38;5;124m'\u001b[39m\u001b[38;5;124mtrain_roc_auc_ovo_weighted\u001b[39m\u001b[38;5;124m'\u001b[39m]))\n\u001b[1;32m      3\u001b[0m \u001b[38;5;28mprint\u001b[39m(\u001b[38;5;124m'\u001b[39m\u001b[38;5;124mAUC_avg (validation):\u001b[39m\u001b[38;5;124m'\u001b[39m, np\u001b[38;5;241m.\u001b[39mmean(scores[\u001b[38;5;124m'\u001b[39m\u001b[38;5;124mtest_roc_auc_ovo_weighted\u001b[39m\u001b[38;5;124m'\u001b[39m]))\n",
      "\u001b[0;31mKeyError\u001b[0m: 'train_roc_auc_ovo_weighted'"
     ]
    }
   ],
   "source": [
    "print('AUC_avg (train):', np.mean(scores['train_roc_auc_ovo_weighted']))\n",
    "print('AUC_std (train):', np.std(scores['train_roc_auc_ovo_weighted']))\n",
    "print('AUC_avg (validation):', np.mean(scores['test_roc_auc_ovo_weighted']))\n",
    "print('AUC_std (validation):', np.std(scores['test_roc_auc_ovo_weighted']))"
   ]
  },
  {
   "cell_type": "code",
   "execution_count": 20,
   "id": "e6052ab4-693b-4afa-8370-9bb227c0df23",
   "metadata": {},
   "outputs": [
    {
     "name": "stdout",
     "output_type": "stream",
     "text": [
      "acc_avg (train): 1.0\n",
      "acc_std (train): 0.0\n",
      "acc_avg (validation): 0.9666666666666668\n",
      "acc_std (validation): 0.04216370213557838\n"
     ]
    }
   ],
   "source": [
    "print('acc_avg (train):', np.mean(scores['train_accuracy']))\n",
    "print('acc_std (train):', np.std(scores['train_accuracy']))\n",
    "print('acc_avg (validation):', np.mean(scores['test_accuracy']))\n",
    "print('acc_std (validation):', np.std(scores['test_accuracy']))"
   ]
  }
 ],
 "metadata": {
  "kernelspec": {
   "display_name": "Python 3 (ipykernel)",
   "language": "python",
   "name": "python3"
  },
  "language_info": {
   "codemirror_mode": {
    "name": "ipython",
    "version": 3
   },
   "file_extension": ".py",
   "mimetype": "text/x-python",
   "name": "python",
   "nbconvert_exporter": "python",
   "pygments_lexer": "ipython3",
   "version": "3.8.13"
  }
 },
 "nbformat": 4,
 "nbformat_minor": 5
}
