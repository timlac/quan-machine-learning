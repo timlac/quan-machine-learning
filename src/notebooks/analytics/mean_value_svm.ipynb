{
 "cells": [
  {
   "cell_type": "code",
   "execution_count": 27,
   "id": "6f9548c3-f69f-4fb4-aab9-c62672048be5",
   "metadata": {},
   "outputs": [],
   "source": [
    "import os\n",
    "import sys\n",
    "from pathlib import Path\n",
    "from dotenv import load_dotenv\n",
    "\n",
    "import numpy as np\n",
    "import matplotlib.pyplot as plt\n",
    "import seaborn as sns\n",
    "import pandas as pd\n",
    "import sklearn as sk\n",
    "import pickle\n",
    "import copy\n",
    "from sklearn.model_selection import train_test_split\n",
    "from sklearn import svm"
   ]
  },
  {
   "cell_type": "code",
   "execution_count": 2,
   "id": "e51cb8dc-d3ad-42e3-9a57-0df257d51f73",
   "metadata": {},
   "outputs": [],
   "source": [
    "AU_COLS = ['AU01_r',\n",
    "'AU02_r',\n",
    "'AU04_r',\n",
    "'AU05_r',\n",
    "'AU06_r',\n",
    "'AU07_r',\n",
    "'AU09_r',\n",
    "'AU10_r',\n",
    "'AU12_r',\n",
    "'AU14_r',\n",
    "'AU15_r',\n",
    "'AU17_r',\n",
    "'AU20_r',\n",
    "'AU23_r',\n",
    "'AU25_r',\n",
    "'AU26_r',\n",
    "'AU45_r']\n",
    "\n",
    "ID_COLS = ['filename', \"frame\", \"video_id\", \"emotion_1_id\"]"
   ]
  },
  {
   "cell_type": "code",
   "execution_count": 3,
   "id": "91b46888-c202-4c3d-bf88-8e1c0c38bb7e",
   "metadata": {},
   "outputs": [],
   "source": [
    "load_dotenv()\n",
    "\n",
    "# path to save figures\n",
    "output_path = os.getenv(\"VIDEO_OUT\")"
   ]
  },
  {
   "cell_type": "code",
   "execution_count": 4,
   "id": "2dc262b9-2f4d-4106-8c87-80e8730bb93d",
   "metadata": {},
   "outputs": [],
   "source": [
    "load_path = os.path.join(output_path, 'video_data_time_series_reduced.csv')\n",
    "df = pd.read_csv(load_path)"
   ]
  },
  {
   "cell_type": "code",
   "execution_count": 5,
   "id": "508f75d1-276b-4f10-a007-915405b9fd0e",
   "metadata": {},
   "outputs": [
    {
     "data": {
      "text/html": [
       "<div>\n",
       "<style scoped>\n",
       "    .dataframe tbody tr th:only-of-type {\n",
       "        vertical-align: middle;\n",
       "    }\n",
       "\n",
       "    .dataframe tbody tr th {\n",
       "        vertical-align: top;\n",
       "    }\n",
       "\n",
       "    .dataframe thead th {\n",
       "        text-align: right;\n",
       "    }\n",
       "</style>\n",
       "<table border=\"1\" class=\"dataframe\">\n",
       "  <thead>\n",
       "    <tr style=\"text-align: right;\">\n",
       "      <th></th>\n",
       "      <th>filename</th>\n",
       "      <th>frame</th>\n",
       "      <th>video_id</th>\n",
       "      <th>emotion_1_id</th>\n",
       "      <th>AU01_r</th>\n",
       "      <th>AU02_r</th>\n",
       "      <th>AU04_r</th>\n",
       "      <th>AU05_r</th>\n",
       "      <th>AU06_r</th>\n",
       "      <th>AU07_r</th>\n",
       "      <th>...</th>\n",
       "      <th>AU10_r</th>\n",
       "      <th>AU12_r</th>\n",
       "      <th>AU14_r</th>\n",
       "      <th>AU15_r</th>\n",
       "      <th>AU17_r</th>\n",
       "      <th>AU20_r</th>\n",
       "      <th>AU23_r</th>\n",
       "      <th>AU25_r</th>\n",
       "      <th>AU26_r</th>\n",
       "      <th>AU45_r</th>\n",
       "    </tr>\n",
       "  </thead>\n",
       "  <tbody>\n",
       "    <tr>\n",
       "      <th>0</th>\n",
       "      <td>A220_reg_p_2</td>\n",
       "      <td>1</td>\n",
       "      <td>A220</td>\n",
       "      <td>0</td>\n",
       "      <td>0.000</td>\n",
       "      <td>0.0</td>\n",
       "      <td>0.420</td>\n",
       "      <td>0.0</td>\n",
       "      <td>0.0</td>\n",
       "      <td>0.137778</td>\n",
       "      <td>...</td>\n",
       "      <td>0.244</td>\n",
       "      <td>0.000000</td>\n",
       "      <td>0.328</td>\n",
       "      <td>0.000</td>\n",
       "      <td>0.119816</td>\n",
       "      <td>0.0</td>\n",
       "      <td>0.168950</td>\n",
       "      <td>0.080</td>\n",
       "      <td>0.120690</td>\n",
       "      <td>0.000000</td>\n",
       "    </tr>\n",
       "    <tr>\n",
       "      <th>1</th>\n",
       "      <td>A220_reg_p_2</td>\n",
       "      <td>2</td>\n",
       "      <td>A220</td>\n",
       "      <td>0</td>\n",
       "      <td>0.000</td>\n",
       "      <td>0.0</td>\n",
       "      <td>0.422</td>\n",
       "      <td>0.0</td>\n",
       "      <td>0.0</td>\n",
       "      <td>0.057778</td>\n",
       "      <td>...</td>\n",
       "      <td>0.202</td>\n",
       "      <td>0.000000</td>\n",
       "      <td>0.344</td>\n",
       "      <td>0.030</td>\n",
       "      <td>0.066820</td>\n",
       "      <td>0.0</td>\n",
       "      <td>0.146119</td>\n",
       "      <td>0.082</td>\n",
       "      <td>0.106322</td>\n",
       "      <td>0.020080</td>\n",
       "    </tr>\n",
       "    <tr>\n",
       "      <th>2</th>\n",
       "      <td>A220_reg_p_2</td>\n",
       "      <td>3</td>\n",
       "      <td>A220</td>\n",
       "      <td>0</td>\n",
       "      <td>0.000</td>\n",
       "      <td>0.0</td>\n",
       "      <td>0.412</td>\n",
       "      <td>0.0</td>\n",
       "      <td>0.0</td>\n",
       "      <td>0.024444</td>\n",
       "      <td>...</td>\n",
       "      <td>0.176</td>\n",
       "      <td>0.000000</td>\n",
       "      <td>0.348</td>\n",
       "      <td>0.030</td>\n",
       "      <td>0.046083</td>\n",
       "      <td>0.0</td>\n",
       "      <td>0.134703</td>\n",
       "      <td>0.092</td>\n",
       "      <td>0.077586</td>\n",
       "      <td>0.020080</td>\n",
       "    </tr>\n",
       "    <tr>\n",
       "      <th>3</th>\n",
       "      <td>A220_reg_p_2</td>\n",
       "      <td>4</td>\n",
       "      <td>A220</td>\n",
       "      <td>0</td>\n",
       "      <td>0.000</td>\n",
       "      <td>0.0</td>\n",
       "      <td>0.412</td>\n",
       "      <td>0.0</td>\n",
       "      <td>0.0</td>\n",
       "      <td>0.057778</td>\n",
       "      <td>...</td>\n",
       "      <td>0.180</td>\n",
       "      <td>0.000000</td>\n",
       "      <td>0.340</td>\n",
       "      <td>0.024</td>\n",
       "      <td>0.062212</td>\n",
       "      <td>0.0</td>\n",
       "      <td>0.139269</td>\n",
       "      <td>0.084</td>\n",
       "      <td>0.063218</td>\n",
       "      <td>0.018072</td>\n",
       "    </tr>\n",
       "    <tr>\n",
       "      <th>4</th>\n",
       "      <td>A220_reg_p_2</td>\n",
       "      <td>5</td>\n",
       "      <td>A220</td>\n",
       "      <td>0</td>\n",
       "      <td>0.000</td>\n",
       "      <td>0.0</td>\n",
       "      <td>0.406</td>\n",
       "      <td>0.0</td>\n",
       "      <td>0.0</td>\n",
       "      <td>0.053333</td>\n",
       "      <td>...</td>\n",
       "      <td>0.174</td>\n",
       "      <td>0.000000</td>\n",
       "      <td>0.344</td>\n",
       "      <td>0.020</td>\n",
       "      <td>0.062212</td>\n",
       "      <td>0.0</td>\n",
       "      <td>0.134703</td>\n",
       "      <td>0.096</td>\n",
       "      <td>0.100575</td>\n",
       "      <td>0.010040</td>\n",
       "    </tr>\n",
       "    <tr>\n",
       "      <th>...</th>\n",
       "      <td>...</td>\n",
       "      <td>...</td>\n",
       "      <td>...</td>\n",
       "      <td>...</td>\n",
       "      <td>...</td>\n",
       "      <td>...</td>\n",
       "      <td>...</td>\n",
       "      <td>...</td>\n",
       "      <td>...</td>\n",
       "      <td>...</td>\n",
       "      <td>...</td>\n",
       "      <td>...</td>\n",
       "      <td>...</td>\n",
       "      <td>...</td>\n",
       "      <td>...</td>\n",
       "      <td>...</td>\n",
       "      <td>...</td>\n",
       "      <td>...</td>\n",
       "      <td>...</td>\n",
       "      <td>...</td>\n",
       "      <td>...</td>\n",
       "    </tr>\n",
       "    <tr>\n",
       "      <th>98332</th>\n",
       "      <td>A220_anx_v_3</td>\n",
       "      <td>306</td>\n",
       "      <td>A220</td>\n",
       "      <td>34</td>\n",
       "      <td>0.002</td>\n",
       "      <td>0.0</td>\n",
       "      <td>0.124</td>\n",
       "      <td>0.0</td>\n",
       "      <td>0.0</td>\n",
       "      <td>0.104444</td>\n",
       "      <td>...</td>\n",
       "      <td>0.274</td>\n",
       "      <td>0.144550</td>\n",
       "      <td>0.420</td>\n",
       "      <td>0.000</td>\n",
       "      <td>0.179724</td>\n",
       "      <td>0.0</td>\n",
       "      <td>0.216895</td>\n",
       "      <td>0.006</td>\n",
       "      <td>0.000000</td>\n",
       "      <td>0.000000</td>\n",
       "    </tr>\n",
       "    <tr>\n",
       "      <th>98333</th>\n",
       "      <td>A220_anx_v_3</td>\n",
       "      <td>307</td>\n",
       "      <td>A220</td>\n",
       "      <td>34</td>\n",
       "      <td>0.006</td>\n",
       "      <td>0.0</td>\n",
       "      <td>0.126</td>\n",
       "      <td>0.0</td>\n",
       "      <td>0.0</td>\n",
       "      <td>0.102222</td>\n",
       "      <td>...</td>\n",
       "      <td>0.284</td>\n",
       "      <td>0.149289</td>\n",
       "      <td>0.416</td>\n",
       "      <td>0.000</td>\n",
       "      <td>0.186636</td>\n",
       "      <td>0.0</td>\n",
       "      <td>0.205479</td>\n",
       "      <td>0.006</td>\n",
       "      <td>0.000000</td>\n",
       "      <td>0.000000</td>\n",
       "    </tr>\n",
       "    <tr>\n",
       "      <th>98334</th>\n",
       "      <td>A220_anx_v_3</td>\n",
       "      <td>308</td>\n",
       "      <td>A220</td>\n",
       "      <td>34</td>\n",
       "      <td>0.006</td>\n",
       "      <td>0.0</td>\n",
       "      <td>0.110</td>\n",
       "      <td>0.0</td>\n",
       "      <td>0.0</td>\n",
       "      <td>0.102222</td>\n",
       "      <td>...</td>\n",
       "      <td>0.292</td>\n",
       "      <td>0.151659</td>\n",
       "      <td>0.406</td>\n",
       "      <td>0.000</td>\n",
       "      <td>0.191244</td>\n",
       "      <td>0.0</td>\n",
       "      <td>0.182648</td>\n",
       "      <td>0.004</td>\n",
       "      <td>0.000000</td>\n",
       "      <td>0.000000</td>\n",
       "    </tr>\n",
       "    <tr>\n",
       "      <th>98335</th>\n",
       "      <td>A220_anx_v_3</td>\n",
       "      <td>309</td>\n",
       "      <td>A220</td>\n",
       "      <td>34</td>\n",
       "      <td>0.010</td>\n",
       "      <td>0.0</td>\n",
       "      <td>0.100</td>\n",
       "      <td>0.0</td>\n",
       "      <td>0.0</td>\n",
       "      <td>0.075556</td>\n",
       "      <td>...</td>\n",
       "      <td>0.286</td>\n",
       "      <td>0.144550</td>\n",
       "      <td>0.404</td>\n",
       "      <td>0.000</td>\n",
       "      <td>0.184332</td>\n",
       "      <td>0.0</td>\n",
       "      <td>0.162100</td>\n",
       "      <td>0.004</td>\n",
       "      <td>0.000000</td>\n",
       "      <td>0.000000</td>\n",
       "    </tr>\n",
       "    <tr>\n",
       "      <th>98336</th>\n",
       "      <td>A220_anx_v_3</td>\n",
       "      <td>310</td>\n",
       "      <td>A220</td>\n",
       "      <td>34</td>\n",
       "      <td>0.014</td>\n",
       "      <td>0.0</td>\n",
       "      <td>0.096</td>\n",
       "      <td>0.0</td>\n",
       "      <td>0.0</td>\n",
       "      <td>0.066667</td>\n",
       "      <td>...</td>\n",
       "      <td>0.280</td>\n",
       "      <td>0.132701</td>\n",
       "      <td>0.388</td>\n",
       "      <td>0.000</td>\n",
       "      <td>0.179724</td>\n",
       "      <td>0.0</td>\n",
       "      <td>0.132420</td>\n",
       "      <td>0.014</td>\n",
       "      <td>0.000000</td>\n",
       "      <td>0.000000</td>\n",
       "    </tr>\n",
       "  </tbody>\n",
       "</table>\n",
       "<p>98337 rows × 21 columns</p>\n",
       "</div>"
      ],
      "text/plain": [
       "           filename  frame video_id  emotion_1_id  AU01_r  AU02_r  AU04_r  \\\n",
       "0      A220_reg_p_2      1     A220             0   0.000     0.0   0.420   \n",
       "1      A220_reg_p_2      2     A220             0   0.000     0.0   0.422   \n",
       "2      A220_reg_p_2      3     A220             0   0.000     0.0   0.412   \n",
       "3      A220_reg_p_2      4     A220             0   0.000     0.0   0.412   \n",
       "4      A220_reg_p_2      5     A220             0   0.000     0.0   0.406   \n",
       "...             ...    ...      ...           ...     ...     ...     ...   \n",
       "98332  A220_anx_v_3    306     A220            34   0.002     0.0   0.124   \n",
       "98333  A220_anx_v_3    307     A220            34   0.006     0.0   0.126   \n",
       "98334  A220_anx_v_3    308     A220            34   0.006     0.0   0.110   \n",
       "98335  A220_anx_v_3    309     A220            34   0.010     0.0   0.100   \n",
       "98336  A220_anx_v_3    310     A220            34   0.014     0.0   0.096   \n",
       "\n",
       "       AU05_r  AU06_r    AU07_r  ...  AU10_r    AU12_r  AU14_r  AU15_r  \\\n",
       "0         0.0     0.0  0.137778  ...   0.244  0.000000   0.328   0.000   \n",
       "1         0.0     0.0  0.057778  ...   0.202  0.000000   0.344   0.030   \n",
       "2         0.0     0.0  0.024444  ...   0.176  0.000000   0.348   0.030   \n",
       "3         0.0     0.0  0.057778  ...   0.180  0.000000   0.340   0.024   \n",
       "4         0.0     0.0  0.053333  ...   0.174  0.000000   0.344   0.020   \n",
       "...       ...     ...       ...  ...     ...       ...     ...     ...   \n",
       "98332     0.0     0.0  0.104444  ...   0.274  0.144550   0.420   0.000   \n",
       "98333     0.0     0.0  0.102222  ...   0.284  0.149289   0.416   0.000   \n",
       "98334     0.0     0.0  0.102222  ...   0.292  0.151659   0.406   0.000   \n",
       "98335     0.0     0.0  0.075556  ...   0.286  0.144550   0.404   0.000   \n",
       "98336     0.0     0.0  0.066667  ...   0.280  0.132701   0.388   0.000   \n",
       "\n",
       "         AU17_r  AU20_r    AU23_r  AU25_r    AU26_r    AU45_r  \n",
       "0      0.119816     0.0  0.168950   0.080  0.120690  0.000000  \n",
       "1      0.066820     0.0  0.146119   0.082  0.106322  0.020080  \n",
       "2      0.046083     0.0  0.134703   0.092  0.077586  0.020080  \n",
       "3      0.062212     0.0  0.139269   0.084  0.063218  0.018072  \n",
       "4      0.062212     0.0  0.134703   0.096  0.100575  0.010040  \n",
       "...         ...     ...       ...     ...       ...       ...  \n",
       "98332  0.179724     0.0  0.216895   0.006  0.000000  0.000000  \n",
       "98333  0.186636     0.0  0.205479   0.006  0.000000  0.000000  \n",
       "98334  0.191244     0.0  0.182648   0.004  0.000000  0.000000  \n",
       "98335  0.184332     0.0  0.162100   0.004  0.000000  0.000000  \n",
       "98336  0.179724     0.0  0.132420   0.014  0.000000  0.000000  \n",
       "\n",
       "[98337 rows x 21 columns]"
      ]
     },
     "execution_count": 5,
     "metadata": {},
     "output_type": "execute_result"
    }
   ],
   "source": [
    "df"
   ]
  },
  {
   "cell_type": "code",
   "execution_count": 6,
   "id": "e7fc60bc-d2d3-4c8c-86aa-af8c14667e18",
   "metadata": {},
   "outputs": [],
   "source": [
    "X = []\n",
    "y = []\n",
    "for _, group in df.groupby('filename'):\n",
    "    x_arr = np.asarray(group[AU_COLS])\n",
    "\n",
    "    X.append(x_arr)\n",
    "    \n",
    "    y_list = group[\"emotion_1_id\"].unique()\n",
    "    if len(y_list) == 1:\n",
    "        y.append(y_list[0])\n",
    "    else:\n",
    "        raise ValueError('More than 1 label for time series encountered')"
   ]
  },
  {
   "cell_type": "code",
   "execution_count": 15,
   "id": "4f06e4fc-5ebd-4686-b9a7-fd5ba01b6b9c",
   "metadata": {},
   "outputs": [],
   "source": [
    "newX = []\n",
    "for xi in X:\n",
    "    newX.append(np.mean(xi, axis=0))"
   ]
  },
  {
   "cell_type": "code",
   "execution_count": 16,
   "id": "6702fcc0-ef81-40a8-a2d7-684194080cf7",
   "metadata": {},
   "outputs": [],
   "source": [
    "X = np.asarray(newX)"
   ]
  },
  {
   "cell_type": "code",
   "execution_count": 18,
   "id": "64737080-6c50-49fe-b9ac-d04f21732630",
   "metadata": {},
   "outputs": [
    {
     "data": {
      "text/plain": [
       "(352, 17)"
      ]
     },
     "execution_count": 18,
     "metadata": {},
     "output_type": "execute_result"
    }
   ],
   "source": [
    "X.shape"
   ]
  },
  {
   "cell_type": "code",
   "execution_count": 19,
   "id": "7b32683f-68ec-40f1-87c2-537ec764cef6",
   "metadata": {},
   "outputs": [],
   "source": [
    "y = np.asarray(y)"
   ]
  },
  {
   "cell_type": "code",
   "execution_count": 21,
   "id": "d8a1453b-426f-4dd5-9f35-0c719f6289a9",
   "metadata": {},
   "outputs": [
    {
     "data": {
      "text/plain": [
       "(352,)"
      ]
     },
     "execution_count": 21,
     "metadata": {},
     "output_type": "execute_result"
    }
   ],
   "source": [
    "y.shape"
   ]
  },
  {
   "cell_type": "code",
   "execution_count": 24,
   "id": "aafeda4a-2c26-416b-9829-b2e1d022b5e8",
   "metadata": {},
   "outputs": [],
   "source": [
    "X_train, X_test, y_train, y_test = train_test_split(X, y, test_size=0.3)"
   ]
  },
  {
   "cell_type": "code",
   "execution_count": 26,
   "id": "74bacc5c-aaf7-4262-9a29-59fafc42175e",
   "metadata": {},
   "outputs": [
    {
     "data": {
      "text/plain": [
       "(246, 17)"
      ]
     },
     "execution_count": 26,
     "metadata": {},
     "output_type": "execute_result"
    }
   ],
   "source": [
    "X_train.shape"
   ]
  },
  {
   "cell_type": "markdown",
   "id": "3480e6bf-3c7d-44cd-badf-7f9081570975",
   "metadata": {},
   "source": [
    "## Train"
   ]
  },
  {
   "cell_type": "markdown",
   "id": "59fedeaa-3445-431f-9ed9-fb66e933014d",
   "metadata": {},
   "source": [
    "### RBF kernel"
   ]
  },
  {
   "cell_type": "code",
   "execution_count": 29,
   "id": "974769f3-c17a-4ddb-a194-64c459abead6",
   "metadata": {},
   "outputs": [
    {
     "data": {
      "text/plain": [
       "SVC()"
      ]
     },
     "execution_count": 29,
     "metadata": {},
     "output_type": "execute_result"
    }
   ],
   "source": [
    "# feed into your classifier \n",
    "clf = svm.SVC()\n",
    "clf.fit(X_train, y_train)"
   ]
  },
  {
   "cell_type": "code",
   "execution_count": 30,
   "id": "1b098b6b-cd33-4a57-bf1b-60564b4b34ac",
   "metadata": {},
   "outputs": [
    {
     "data": {
      "text/plain": [
       "0.19811320754716982"
      ]
     },
     "execution_count": 30,
     "metadata": {},
     "output_type": "execute_result"
    }
   ],
   "source": [
    "clf.score(X_test, y_test)"
   ]
  },
  {
   "cell_type": "code",
   "execution_count": 31,
   "id": "5d14eae1-940e-4a17-a67d-0ace9ce95232",
   "metadata": {},
   "outputs": [
    {
     "data": {
      "text/plain": [
       "0.3699186991869919"
      ]
     },
     "execution_count": 31,
     "metadata": {},
     "output_type": "execute_result"
    }
   ],
   "source": [
    "clf.score(X_train, y_train)"
   ]
  },
  {
   "cell_type": "markdown",
   "id": "def085d4-759e-4650-baed-02f40f6c373a",
   "metadata": {},
   "source": [
    "### Linear Kernel"
   ]
  },
  {
   "cell_type": "code",
   "execution_count": 32,
   "id": "52a5365d-046f-43f1-ac5a-26bc1ddbb29a",
   "metadata": {},
   "outputs": [
    {
     "data": {
      "text/plain": [
       "SVC(kernel='linear')"
      ]
     },
     "execution_count": 32,
     "metadata": {},
     "output_type": "execute_result"
    }
   ],
   "source": [
    "# feed into your classifier \n",
    "clf = svm.SVC(kernel=\"linear\")\n",
    "clf.fit(X_train, y_train)"
   ]
  },
  {
   "cell_type": "code",
   "execution_count": 33,
   "id": "fa8cfecc-5512-4a07-bd2d-1fd2bc9943ef",
   "metadata": {},
   "outputs": [
    {
     "data": {
      "text/plain": [
       "0.02830188679245283"
      ]
     },
     "execution_count": 33,
     "metadata": {},
     "output_type": "execute_result"
    }
   ],
   "source": [
    "clf.score(X_test, y_test)"
   ]
  },
  {
   "cell_type": "code",
   "execution_count": 34,
   "id": "9846b01c-c781-432a-ab9f-ba43f88112f0",
   "metadata": {},
   "outputs": [
    {
     "data": {
      "text/plain": [
       "0.12195121951219512"
      ]
     },
     "execution_count": 34,
     "metadata": {},
     "output_type": "execute_result"
    }
   ],
   "source": [
    "clf.score(X_train, y_train)"
   ]
  },
  {
   "cell_type": "markdown",
   "id": "07f24bdb-4e6d-47a6-9de7-2be8a82b97d1",
   "metadata": {},
   "source": [
    "### Polynomial Kernel"
   ]
  },
  {
   "cell_type": "code",
   "execution_count": 35,
   "id": "93b046a6-bee3-4842-901a-8782aed8b14c",
   "metadata": {},
   "outputs": [
    {
     "data": {
      "text/plain": [
       "SVC(kernel='poly')"
      ]
     },
     "execution_count": 35,
     "metadata": {},
     "output_type": "execute_result"
    }
   ],
   "source": [
    "#feed into your classifier \n",
    "clf = svm.SVC(kernel=\"poly\")\n",
    "clf.fit(X_train, y_train)"
   ]
  },
  {
   "cell_type": "code",
   "execution_count": 36,
   "id": "832efc46-9fef-4099-9db1-e0083199970f",
   "metadata": {},
   "outputs": [
    {
     "data": {
      "text/plain": [
       "0.3113207547169811"
      ]
     },
     "execution_count": 36,
     "metadata": {},
     "output_type": "execute_result"
    }
   ],
   "source": [
    "clf.score(X_test, y_test)"
   ]
  },
  {
   "cell_type": "code",
   "execution_count": 37,
   "id": "c08d9ca8-3d79-47ea-a23b-32599f4f91af",
   "metadata": {
    "tags": []
   },
   "outputs": [
    {
     "data": {
      "text/plain": [
       "0.508130081300813"
      ]
     },
     "execution_count": 37,
     "metadata": {},
     "output_type": "execute_result"
    }
   ],
   "source": [
    "clf.score(X_train, y_train)"
   ]
  },
  {
   "cell_type": "markdown",
   "id": "d7bbf921-6f4a-4a86-a745-3140aa007286",
   "metadata": {},
   "source": [
    "### Sigmoid Kernel"
   ]
  },
  {
   "cell_type": "code",
   "execution_count": 38,
   "id": "5853fad0-51a4-4162-8414-730da2906ba9",
   "metadata": {},
   "outputs": [
    {
     "data": {
      "text/plain": [
       "SVC(kernel='sigmoid')"
      ]
     },
     "execution_count": 38,
     "metadata": {},
     "output_type": "execute_result"
    }
   ],
   "source": [
    "# feed into your classifier \n",
    "clf = svm.SVC(kernel=\"sigmoid\")\n",
    "clf.fit(X_train, y_train)"
   ]
  },
  {
   "cell_type": "code",
   "execution_count": 39,
   "id": "cf25133d-b9da-45fe-86a1-be8e910555ad",
   "metadata": {},
   "outputs": [
    {
     "data": {
      "text/plain": [
       "0.0"
      ]
     },
     "execution_count": 39,
     "metadata": {},
     "output_type": "execute_result"
    }
   ],
   "source": [
    "clf.score(X_test, y_test)"
   ]
  },
  {
   "cell_type": "code",
   "execution_count": 40,
   "id": "4fc4ce9e-154f-4dd7-ad52-6e7ff878a4f6",
   "metadata": {},
   "outputs": [
    {
     "data": {
      "text/plain": [
       "0.036585365853658534"
      ]
     },
     "execution_count": 40,
     "metadata": {},
     "output_type": "execute_result"
    }
   ],
   "source": [
    "clf.score(X_train, y_train)"
   ]
  }
 ],
 "metadata": {
  "kernelspec": {
   "display_name": "Python 3 (ipykernel)",
   "language": "python",
   "name": "python3"
  },
  "language_info": {
   "codemirror_mode": {
    "name": "ipython",
    "version": 3
   },
   "file_extension": ".py",
   "mimetype": "text/x-python",
   "name": "python",
   "nbconvert_exporter": "python",
   "pygments_lexer": "ipython3",
   "version": "3.8.13"
  }
 },
 "nbformat": 4,
 "nbformat_minor": 5
}
