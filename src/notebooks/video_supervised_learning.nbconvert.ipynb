{
 "cells": [
  {
   "cell_type": "code",
   "execution_count": 1,
   "id": "f2527dc6-c731-4225-9376-7b01de157e72",
   "metadata": {
    "execution": {
     "iopub.execute_input": "2022-07-05T13:57:37.566104Z",
     "iopub.status.busy": "2022-07-05T13:57:37.565399Z",
     "iopub.status.idle": "2022-07-05T13:57:39.984819Z",
     "shell.execute_reply": "2022-07-05T13:57:39.981754Z"
    }
   },
   "outputs": [],
   "source": [
    "import os\n",
    "import sys\n",
    "from glob import glob\n",
    "from pathlib import Path\n",
    "from tqdm import tqdm\n",
    "\n",
    "import numpy as np\n",
    "import matplotlib.pyplot as plt\n",
    "import seaborn as sns\n",
    "import pandas as pd\n",
    "import sklearn as sk\n",
    "import pickle\n",
    "import copy\n",
    "\n",
    "from sklearn.model_selection import LeaveOneGroupOut\n",
    "from sklearn.model_selection import GridSearchCV, RandomizedSearchCV\n",
    "from sklearn.metrics import roc_auc_score\n",
    "from sklearn.utils.class_weight import compute_class_weight"
   ]
  },
  {
   "cell_type": "code",
   "execution_count": 2,
   "id": "9e93d935-b652-4774-97b4-2b5c60a2e3ff",
   "metadata": {
    "execution": {
     "iopub.execute_input": "2022-07-05T13:57:39.996468Z",
     "iopub.status.busy": "2022-07-05T13:57:39.995840Z",
     "iopub.status.idle": "2022-07-05T13:57:40.005370Z",
     "shell.execute_reply": "2022-07-05T13:57:40.003335Z"
    }
   },
   "outputs": [],
   "source": [
    "notebooks = os.path.abspath('')\n",
    "src = os.path.dirname(notebooks)\n",
    "if not src in sys.path: \n",
    "    sys.path.append(src)"
   ]
  },
  {
   "cell_type": "code",
   "execution_count": 3,
   "id": "5a800579-fd4c-4aae-80de-bf0a2bdb3455",
   "metadata": {
    "execution": {
     "iopub.execute_input": "2022-07-05T13:57:40.013524Z",
     "iopub.status.busy": "2022-07-05T13:57:40.012635Z",
     "iopub.status.idle": "2022-07-05T13:57:40.027186Z",
     "shell.execute_reply": "2022-07-05T13:57:40.025597Z"
    }
   },
   "outputs": [],
   "source": [
    "from helpers import get_emotion_abrs_from_ids"
   ]
  },
  {
   "cell_type": "markdown",
   "id": "eea6d334",
   "metadata": {},
   "source": [
    "# Paths"
   ]
  },
  {
   "cell_type": "code",
   "execution_count": 4,
   "id": "2180ef91",
   "metadata": {
    "execution": {
     "iopub.execute_input": "2022-07-05T13:57:40.034613Z",
     "iopub.status.busy": "2022-07-05T13:57:40.034047Z",
     "iopub.status.idle": "2022-07-05T13:57:40.045574Z",
     "shell.execute_reply": "2022-07-05T13:57:40.042480Z"
    }
   },
   "outputs": [],
   "source": [
    "output_path = '../../files/out/video/'\n",
    "# Global configuration path\n",
    "glob_conf_path = '../global_config.py'"
   ]
  },
  {
   "cell_type": "markdown",
   "id": "a9bf7c3e",
   "metadata": {},
   "source": [
    "# Load global variables"
   ]
  },
  {
   "cell_type": "code",
   "execution_count": 5,
   "id": "651437e9",
   "metadata": {
    "execution": {
     "iopub.execute_input": "2022-07-05T13:57:40.055237Z",
     "iopub.status.busy": "2022-07-05T13:57:40.054348Z",
     "iopub.status.idle": "2022-07-05T13:57:40.075236Z",
     "shell.execute_reply": "2022-07-05T13:57:40.072508Z"
    }
   },
   "outputs": [],
   "source": [
    "exec(open(glob_conf_path).read())"
   ]
  },
  {
   "cell_type": "markdown",
   "id": "d4606fb0",
   "metadata": {},
   "source": [
    "# Load and shuffle data"
   ]
  },
  {
   "cell_type": "code",
   "execution_count": 6,
   "id": "f98fc246",
   "metadata": {
    "execution": {
     "iopub.execute_input": "2022-07-05T13:57:40.086755Z",
     "iopub.status.busy": "2022-07-05T13:57:40.085922Z",
     "iopub.status.idle": "2022-07-05T13:57:40.226690Z",
     "shell.execute_reply": "2022-07-05T13:57:40.223691Z"
    }
   },
   "outputs": [
    {
     "data": {
      "text/html": [
       "<div>\n",
       "<style scoped>\n",
       "    .dataframe tbody tr th:only-of-type {\n",
       "        vertical-align: middle;\n",
       "    }\n",
       "\n",
       "    .dataframe tbody tr th {\n",
       "        vertical-align: top;\n",
       "    }\n",
       "\n",
       "    .dataframe thead th {\n",
       "        text-align: right;\n",
       "    }\n",
       "</style>\n",
       "<table border=\"1\" class=\"dataframe\">\n",
       "  <thead>\n",
       "    <tr style=\"text-align: right;\">\n",
       "      <th></th>\n",
       "      <th>filename</th>\n",
       "      <th>AU01_r_mean</th>\n",
       "      <th>AU01_r_stddevNorm</th>\n",
       "      <th>AU01_r_percentile20.0</th>\n",
       "      <th>AU01_r_percentile50.0</th>\n",
       "      <th>AU01_r_percentile80.0</th>\n",
       "      <th>AU01_r_iqr60_80-20</th>\n",
       "      <th>AU01_r_numPeaks</th>\n",
       "      <th>AU02_r_mean</th>\n",
       "      <th>AU02_r_stddevNorm</th>\n",
       "      <th>...</th>\n",
       "      <th>AU45_r_mean</th>\n",
       "      <th>AU45_r_stddevNorm</th>\n",
       "      <th>AU45_r_percentile20.0</th>\n",
       "      <th>AU45_r_percentile50.0</th>\n",
       "      <th>AU45_r_percentile80.0</th>\n",
       "      <th>AU45_r_iqr60_80-20</th>\n",
       "      <th>AU45_r_numPeaks</th>\n",
       "      <th>video_id</th>\n",
       "      <th>emotion_1_id</th>\n",
       "      <th>group</th>\n",
       "    </tr>\n",
       "  </thead>\n",
       "  <tbody>\n",
       "    <tr>\n",
       "      <th>265</th>\n",
       "      <td>A200_reg_p_3</td>\n",
       "      <td>0.463187</td>\n",
       "      <td>0.749064</td>\n",
       "      <td>0.0</td>\n",
       "      <td>0.000000</td>\n",
       "      <td>0.203252</td>\n",
       "      <td>0.203252</td>\n",
       "      <td>0.188679</td>\n",
       "      <td>0.702141</td>\n",
       "      <td>0.733587</td>\n",
       "      <td>...</td>\n",
       "      <td>0.224003</td>\n",
       "      <td>0.199766</td>\n",
       "      <td>0.0</td>\n",
       "      <td>0.000000</td>\n",
       "      <td>0.171355</td>\n",
       "      <td>0.171355</td>\n",
       "      <td>0.650</td>\n",
       "      <td>A200</td>\n",
       "      <td>0</td>\n",
       "      <td>0</td>\n",
       "    </tr>\n",
       "    <tr>\n",
       "      <th>74</th>\n",
       "      <td>A102_awe_p_3</td>\n",
       "      <td>0.175606</td>\n",
       "      <td>0.933978</td>\n",
       "      <td>0.0</td>\n",
       "      <td>0.333333</td>\n",
       "      <td>0.056911</td>\n",
       "      <td>0.056911</td>\n",
       "      <td>0.056604</td>\n",
       "      <td>0.382604</td>\n",
       "      <td>0.703252</td>\n",
       "      <td>...</td>\n",
       "      <td>0.310979</td>\n",
       "      <td>0.467789</td>\n",
       "      <td>0.0</td>\n",
       "      <td>0.166667</td>\n",
       "      <td>0.084399</td>\n",
       "      <td>0.084399</td>\n",
       "      <td>0.100</td>\n",
       "      <td>A102</td>\n",
       "      <td>18</td>\n",
       "      <td>1</td>\n",
       "    </tr>\n",
       "    <tr>\n",
       "      <th>148</th>\n",
       "      <td>A18_awe_v_1</td>\n",
       "      <td>0.188274</td>\n",
       "      <td>0.492815</td>\n",
       "      <td>0.0</td>\n",
       "      <td>0.000000</td>\n",
       "      <td>0.198374</td>\n",
       "      <td>0.198374</td>\n",
       "      <td>0.075472</td>\n",
       "      <td>0.190862</td>\n",
       "      <td>0.426560</td>\n",
       "      <td>...</td>\n",
       "      <td>0.207909</td>\n",
       "      <td>0.572976</td>\n",
       "      <td>0.0</td>\n",
       "      <td>0.333333</td>\n",
       "      <td>0.020460</td>\n",
       "      <td>0.020460</td>\n",
       "      <td>0.025</td>\n",
       "      <td>A18</td>\n",
       "      <td>18</td>\n",
       "      <td>1</td>\n",
       "    </tr>\n",
       "    <tr>\n",
       "      <th>3</th>\n",
       "      <td>A101_awe_p_4</td>\n",
       "      <td>0.061996</td>\n",
       "      <td>0.400991</td>\n",
       "      <td>0.0</td>\n",
       "      <td>0.000000</td>\n",
       "      <td>0.060976</td>\n",
       "      <td>0.060976</td>\n",
       "      <td>0.358491</td>\n",
       "      <td>0.065202</td>\n",
       "      <td>0.477737</td>\n",
       "      <td>...</td>\n",
       "      <td>0.046476</td>\n",
       "      <td>0.181229</td>\n",
       "      <td>0.0</td>\n",
       "      <td>0.000000</td>\n",
       "      <td>0.031714</td>\n",
       "      <td>0.031714</td>\n",
       "      <td>0.550</td>\n",
       "      <td>A101</td>\n",
       "      <td>18</td>\n",
       "      <td>0</td>\n",
       "    </tr>\n",
       "    <tr>\n",
       "      <th>233</th>\n",
       "      <td>A200_dou_p_2</td>\n",
       "      <td>0.182025</td>\n",
       "      <td>0.409290</td>\n",
       "      <td>0.0</td>\n",
       "      <td>0.000000</td>\n",
       "      <td>0.178049</td>\n",
       "      <td>0.178049</td>\n",
       "      <td>0.245283</td>\n",
       "      <td>0.200819</td>\n",
       "      <td>0.541570</td>\n",
       "      <td>...</td>\n",
       "      <td>0.226453</td>\n",
       "      <td>0.214635</td>\n",
       "      <td>0.0</td>\n",
       "      <td>0.000000</td>\n",
       "      <td>0.173913</td>\n",
       "      <td>0.173913</td>\n",
       "      <td>0.175</td>\n",
       "      <td>A200</td>\n",
       "      <td>3</td>\n",
       "      <td>0</td>\n",
       "    </tr>\n",
       "    <tr>\n",
       "      <th>...</th>\n",
       "      <td>...</td>\n",
       "      <td>...</td>\n",
       "      <td>...</td>\n",
       "      <td>...</td>\n",
       "      <td>...</td>\n",
       "      <td>...</td>\n",
       "      <td>...</td>\n",
       "      <td>...</td>\n",
       "      <td>...</td>\n",
       "      <td>...</td>\n",
       "      <td>...</td>\n",
       "      <td>...</td>\n",
       "      <td>...</td>\n",
       "      <td>...</td>\n",
       "      <td>...</td>\n",
       "      <td>...</td>\n",
       "      <td>...</td>\n",
       "      <td>...</td>\n",
       "      <td>...</td>\n",
       "      <td>...</td>\n",
       "      <td>...</td>\n",
       "    </tr>\n",
       "    <tr>\n",
       "      <th>24</th>\n",
       "      <td>A101_env_p_1</td>\n",
       "      <td>0.030968</td>\n",
       "      <td>0.449200</td>\n",
       "      <td>0.0</td>\n",
       "      <td>0.166667</td>\n",
       "      <td>0.029268</td>\n",
       "      <td>0.029268</td>\n",
       "      <td>0.132075</td>\n",
       "      <td>0.096300</td>\n",
       "      <td>0.376929</td>\n",
       "      <td>...</td>\n",
       "      <td>0.308084</td>\n",
       "      <td>0.515232</td>\n",
       "      <td>0.0</td>\n",
       "      <td>0.166667</td>\n",
       "      <td>0.054220</td>\n",
       "      <td>0.054220</td>\n",
       "      <td>0.025</td>\n",
       "      <td>A101</td>\n",
       "      <td>4</td>\n",
       "      <td>0</td>\n",
       "    </tr>\n",
       "    <tr>\n",
       "      <th>240</th>\n",
       "      <td>A200_env_p_2</td>\n",
       "      <td>0.102112</td>\n",
       "      <td>0.580680</td>\n",
       "      <td>0.0</td>\n",
       "      <td>0.333333</td>\n",
       "      <td>0.069106</td>\n",
       "      <td>0.069106</td>\n",
       "      <td>0.150943</td>\n",
       "      <td>0.038659</td>\n",
       "      <td>0.353450</td>\n",
       "      <td>...</td>\n",
       "      <td>0.295423</td>\n",
       "      <td>0.313167</td>\n",
       "      <td>0.0</td>\n",
       "      <td>0.000000</td>\n",
       "      <td>0.165217</td>\n",
       "      <td>0.165217</td>\n",
       "      <td>0.100</td>\n",
       "      <td>A200</td>\n",
       "      <td>4</td>\n",
       "      <td>0</td>\n",
       "    </tr>\n",
       "    <tr>\n",
       "      <th>31</th>\n",
       "      <td>A101_env_v_4</td>\n",
       "      <td>0.168026</td>\n",
       "      <td>0.816701</td>\n",
       "      <td>0.0</td>\n",
       "      <td>0.166667</td>\n",
       "      <td>0.046341</td>\n",
       "      <td>0.046341</td>\n",
       "      <td>0.094340</td>\n",
       "      <td>0.233069</td>\n",
       "      <td>0.599587</td>\n",
       "      <td>...</td>\n",
       "      <td>0.283891</td>\n",
       "      <td>0.740826</td>\n",
       "      <td>0.0</td>\n",
       "      <td>0.166667</td>\n",
       "      <td>0.021483</td>\n",
       "      <td>0.021483</td>\n",
       "      <td>0.125</td>\n",
       "      <td>A101</td>\n",
       "      <td>4</td>\n",
       "      <td>0</td>\n",
       "    </tr>\n",
       "    <tr>\n",
       "      <th>184</th>\n",
       "      <td>A18_gui_p_1</td>\n",
       "      <td>0.146868</td>\n",
       "      <td>0.699797</td>\n",
       "      <td>0.0</td>\n",
       "      <td>0.333333</td>\n",
       "      <td>0.089431</td>\n",
       "      <td>0.089431</td>\n",
       "      <td>0.037736</td>\n",
       "      <td>0.118299</td>\n",
       "      <td>0.550872</td>\n",
       "      <td>...</td>\n",
       "      <td>0.239968</td>\n",
       "      <td>0.380419</td>\n",
       "      <td>0.0</td>\n",
       "      <td>0.333333</td>\n",
       "      <td>0.084399</td>\n",
       "      <td>0.084399</td>\n",
       "      <td>0.075</td>\n",
       "      <td>A18</td>\n",
       "      <td>40</td>\n",
       "      <td>1</td>\n",
       "    </tr>\n",
       "    <tr>\n",
       "      <th>19</th>\n",
       "      <td>A101_dou_p_4</td>\n",
       "      <td>0.565163</td>\n",
       "      <td>0.335329</td>\n",
       "      <td>0.0</td>\n",
       "      <td>0.000000</td>\n",
       "      <td>0.605691</td>\n",
       "      <td>0.605691</td>\n",
       "      <td>0.358491</td>\n",
       "      <td>0.081605</td>\n",
       "      <td>0.558012</td>\n",
       "      <td>...</td>\n",
       "      <td>0.308596</td>\n",
       "      <td>0.428860</td>\n",
       "      <td>0.0</td>\n",
       "      <td>0.333333</td>\n",
       "      <td>0.090537</td>\n",
       "      <td>0.090537</td>\n",
       "      <td>0.125</td>\n",
       "      <td>A101</td>\n",
       "      <td>3</td>\n",
       "      <td>0</td>\n",
       "    </tr>\n",
       "  </tbody>\n",
       "</table>\n",
       "<p>287 rows × 123 columns</p>\n",
       "</div>"
      ],
      "text/plain": [
       "         filename  AU01_r_mean  AU01_r_stddevNorm  AU01_r_percentile20.0  \\\n",
       "265  A200_reg_p_3     0.463187           0.749064                    0.0   \n",
       "74   A102_awe_p_3     0.175606           0.933978                    0.0   \n",
       "148   A18_awe_v_1     0.188274           0.492815                    0.0   \n",
       "3    A101_awe_p_4     0.061996           0.400991                    0.0   \n",
       "233  A200_dou_p_2     0.182025           0.409290                    0.0   \n",
       "..            ...          ...                ...                    ...   \n",
       "24   A101_env_p_1     0.030968           0.449200                    0.0   \n",
       "240  A200_env_p_2     0.102112           0.580680                    0.0   \n",
       "31   A101_env_v_4     0.168026           0.816701                    0.0   \n",
       "184   A18_gui_p_1     0.146868           0.699797                    0.0   \n",
       "19   A101_dou_p_4     0.565163           0.335329                    0.0   \n",
       "\n",
       "     AU01_r_percentile50.0  AU01_r_percentile80.0  AU01_r_iqr60_80-20  \\\n",
       "265               0.000000               0.203252            0.203252   \n",
       "74                0.333333               0.056911            0.056911   \n",
       "148               0.000000               0.198374            0.198374   \n",
       "3                 0.000000               0.060976            0.060976   \n",
       "233               0.000000               0.178049            0.178049   \n",
       "..                     ...                    ...                 ...   \n",
       "24                0.166667               0.029268            0.029268   \n",
       "240               0.333333               0.069106            0.069106   \n",
       "31                0.166667               0.046341            0.046341   \n",
       "184               0.333333               0.089431            0.089431   \n",
       "19                0.000000               0.605691            0.605691   \n",
       "\n",
       "     AU01_r_numPeaks  AU02_r_mean  AU02_r_stddevNorm  ...  AU45_r_mean  \\\n",
       "265         0.188679     0.702141           0.733587  ...     0.224003   \n",
       "74          0.056604     0.382604           0.703252  ...     0.310979   \n",
       "148         0.075472     0.190862           0.426560  ...     0.207909   \n",
       "3           0.358491     0.065202           0.477737  ...     0.046476   \n",
       "233         0.245283     0.200819           0.541570  ...     0.226453   \n",
       "..               ...          ...                ...  ...          ...   \n",
       "24          0.132075     0.096300           0.376929  ...     0.308084   \n",
       "240         0.150943     0.038659           0.353450  ...     0.295423   \n",
       "31          0.094340     0.233069           0.599587  ...     0.283891   \n",
       "184         0.037736     0.118299           0.550872  ...     0.239968   \n",
       "19          0.358491     0.081605           0.558012  ...     0.308596   \n",
       "\n",
       "     AU45_r_stddevNorm  AU45_r_percentile20.0  AU45_r_percentile50.0  \\\n",
       "265           0.199766                    0.0               0.000000   \n",
       "74            0.467789                    0.0               0.166667   \n",
       "148           0.572976                    0.0               0.333333   \n",
       "3             0.181229                    0.0               0.000000   \n",
       "233           0.214635                    0.0               0.000000   \n",
       "..                 ...                    ...                    ...   \n",
       "24            0.515232                    0.0               0.166667   \n",
       "240           0.313167                    0.0               0.000000   \n",
       "31            0.740826                    0.0               0.166667   \n",
       "184           0.380419                    0.0               0.333333   \n",
       "19            0.428860                    0.0               0.333333   \n",
       "\n",
       "     AU45_r_percentile80.0  AU45_r_iqr60_80-20  AU45_r_numPeaks  video_id  \\\n",
       "265               0.171355            0.171355            0.650      A200   \n",
       "74                0.084399            0.084399            0.100      A102   \n",
       "148               0.020460            0.020460            0.025       A18   \n",
       "3                 0.031714            0.031714            0.550      A101   \n",
       "233               0.173913            0.173913            0.175      A200   \n",
       "..                     ...                 ...              ...       ...   \n",
       "24                0.054220            0.054220            0.025      A101   \n",
       "240               0.165217            0.165217            0.100      A200   \n",
       "31                0.021483            0.021483            0.125      A101   \n",
       "184               0.084399            0.084399            0.075       A18   \n",
       "19                0.090537            0.090537            0.125      A101   \n",
       "\n",
       "     emotion_1_id  group  \n",
       "265             0      0  \n",
       "74             18      1  \n",
       "148            18      1  \n",
       "3              18      0  \n",
       "233             3      0  \n",
       "..            ...    ...  \n",
       "24              4      0  \n",
       "240             4      0  \n",
       "31              4      0  \n",
       "184            40      1  \n",
       "19              3      0  \n",
       "\n",
       "[287 rows x 123 columns]"
      ]
     },
     "execution_count": 6,
     "metadata": {},
     "output_type": "execute_result"
    }
   ],
   "source": [
    "from sklearn.utils import shuffle\n",
    "\n",
    "train_intensity_df = pd.read_csv(output_path + 'video_data_intensity_train.csv')\n",
    "train_shuffled_df = shuffle(train_intensity_df, random_state=seed)\n",
    "train_shuffled_df"
   ]
  },
  {
   "cell_type": "markdown",
   "id": "a3d11ef9",
   "metadata": {
    "tags": []
   },
   "source": [
    "# Other functions"
   ]
  },
  {
   "cell_type": "code",
   "execution_count": 7,
   "id": "8ee4fb62-c753-4b97-863e-37bb69328101",
   "metadata": {
    "execution": {
     "iopub.execute_input": "2022-07-05T13:57:40.238218Z",
     "iopub.status.busy": "2022-07-05T13:57:40.237400Z",
     "iopub.status.idle": "2022-07-05T13:57:40.250212Z",
     "shell.execute_reply": "2022-07-05T13:57:40.247538Z"
    }
   },
   "outputs": [],
   "source": [
    "from sklearn.metrics import confusion_matrix\n",
    "\n",
    "def calculate_conf_matrix(X_train, X_val, y_train, y_val, clf):\n",
    "    # train classifier on training sets \n",
    "    clf.fit(X_train,y_train)\n",
    "\n",
    "    # Compute results (validation dataset)    \n",
    "    y_pred = clf.predict(X_val)                       # Predict class\n",
    "\n",
    "    # compare true validation results (y_val) with prediction (y_pred)\n",
    "    # Compute confusion matrix\n",
    "    return confusion_matrix(y_val,\n",
    "                            y_pred,\n",
    "                            normalize='true'\n",
    "                            )\n",
    "    "
   ]
  },
  {
   "cell_type": "code",
   "execution_count": 8,
   "id": "93170569-97de-4233-af52-006eda50effa",
   "metadata": {
    "execution": {
     "iopub.execute_input": "2022-07-05T13:57:40.259755Z",
     "iopub.status.busy": "2022-07-05T13:57:40.259077Z",
     "iopub.status.idle": "2022-07-05T13:57:40.273453Z",
     "shell.execute_reply": "2022-07-05T13:57:40.270710Z"
    }
   },
   "outputs": [],
   "source": [
    "def iterate_conf_matrices(size, X, y, cv, clf):\n",
    "    # Initialize a matrix of zeros to store results\n",
    "    conf_mat_avg = np.zeros([size, size])\n",
    "    n_groups = 0\n",
    "    for train_idx, val_idx in cv:\n",
    "        n_groups += 1\n",
    "        X_train, X_val, y_train, y_val = X.iloc[train_idx], X.iloc[val_idx], y.iloc[train_idx], y.iloc[val_idx]\n",
    "        conf_mat_avg += calculate_conf_matrix(X_train, X_val, y_train, y_val, clf)\n",
    "    \n",
    "    # compute the average scores by dividing with number of groups\n",
    "    return conf_mat_avg/n_groups"
   ]
  },
  {
   "cell_type": "code",
   "execution_count": 9,
   "id": "e290b218",
   "metadata": {
    "execution": {
     "iopub.execute_input": "2022-07-05T13:57:40.283531Z",
     "iopub.status.busy": "2022-07-05T13:57:40.282833Z",
     "iopub.status.idle": "2022-07-05T13:57:40.297526Z",
     "shell.execute_reply": "2022-07-05T13:57:40.294690Z"
    }
   },
   "outputs": [],
   "source": [
    "def get_conf_matrix(X, y, cv, clf):\n",
    "    \"\"\"\n",
    "    Produces a confusion matrix by iterating and averageing the confusion matrix for each validation set\n",
    "    :return: confusion matrix in the form of a dataframe\n",
    "    \"\"\"\n",
    "    # get emotion_ids\n",
    "    emotion_ids = y.unique()\n",
    "    \n",
    "    # compute the average scores by dividing with number of groups\n",
    "    conf_mat_avg = iterate_conf_matrices(len(emotion_ids), X, y, cv, clf,)\n",
    "    \n",
    "    # get emotion abreviations\n",
    "    emotion_abrs = get_emotion_abrs_from_ids(emotion_ids)\n",
    "    \n",
    "    # create dataframe with lists of emotion ids as row and column names\n",
    "    df_cm = pd.DataFrame(conf_mat_avg, list(emotion_abrs), list(emotion_abrs))\n",
    "    \n",
    "    # sort columns\n",
    "    df_cm = df_cm.reindex(sorted(df_cm.columns)).reindex(sorted(df_cm.columns), axis=1)\n",
    "    \n",
    "    return df_cm"
   ]
  },
  {
   "cell_type": "code",
   "execution_count": 10,
   "id": "75ed4308-a050-418b-b00a-988d9153a604",
   "metadata": {
    "execution": {
     "iopub.execute_input": "2022-07-05T13:57:40.307582Z",
     "iopub.status.busy": "2022-07-05T13:57:40.306896Z",
     "iopub.status.idle": "2022-07-05T13:57:40.319142Z",
     "shell.execute_reply": "2022-07-05T13:57:40.316399Z"
    }
   },
   "outputs": [],
   "source": [
    "def plot_conf_matrix(df_cm, title):\n",
    "    plt.figure(figsize=(15,15))\n",
    "    ax = sns.heatmap(df_cm, annot=True, fmt='.2f', vmin=0, vmax=1, cmap=conf_cmap)\n",
    "    plt.yticks(va='center')\n",
    "    plt.xlabel('Predicted Label')\n",
    "    plt.ylabel('Actual Label')\n",
    "    plt.title(title)"
   ]
  },
  {
   "cell_type": "code",
   "execution_count": 11,
   "id": "7e029cbd-01ae-41f1-be28-f0c8e5042d84",
   "metadata": {
    "execution": {
     "iopub.execute_input": "2022-07-05T13:57:40.329117Z",
     "iopub.status.busy": "2022-07-05T13:57:40.328398Z",
     "iopub.status.idle": "2022-07-05T13:57:40.339664Z",
     "shell.execute_reply": "2022-07-05T13:57:40.336885Z"
    }
   },
   "outputs": [],
   "source": [
    "def save_conf_matrix(file_name):\n",
    "    plt.savefig(os.path.join(output_path,'confusion_matrix',file_name), bbox_inches = 'tight')       "
   ]
  },
  {
   "cell_type": "markdown",
   "id": "269a4344-6b4e-4592-9a0c-4cb289fa0e40",
   "metadata": {},
   "source": [
    "# Training and testing"
   ]
  },
  {
   "cell_type": "markdown",
   "id": "eab57351-f08f-400f-9ae9-aca97fa2eb3f",
   "metadata": {},
   "source": [
    "### Get X, y and groups from the training data set"
   ]
  },
  {
   "cell_type": "code",
   "execution_count": 12,
   "id": "89ee4e24-5bb3-470a-aa8b-a2df8d369331",
   "metadata": {
    "execution": {
     "iopub.execute_input": "2022-07-05T13:57:40.349996Z",
     "iopub.status.busy": "2022-07-05T13:57:40.349270Z",
     "iopub.status.idle": "2022-07-05T13:57:40.365478Z",
     "shell.execute_reply": "2022-07-05T13:57:40.362723Z"
    }
   },
   "outputs": [],
   "source": [
    "# Obtain X, y, and groups from the training dataset\n",
    "X = train_shuffled_df.drop(columns=[\"filename\", \"video_id\", \"emotion_1_id\", \"group\"])\n",
    "y = train_shuffled_df.emotion_1_id\n",
    "groups = train_shuffled_df.group\n",
    "n_groups = len(groups.unique())"
   ]
  },
  {
   "cell_type": "markdown",
   "id": "a7db86ac",
   "metadata": {},
   "source": [
    "# Elastic Net SGD Classifier"
   ]
  },
  {
   "cell_type": "markdown",
   "id": "ee01df3e-a0f9-43e1-a277-6a6641c9a865",
   "metadata": {},
   "source": [
    "### Grid Search best parameters"
   ]
  },
  {
   "cell_type": "code",
   "execution_count": 13,
   "id": "73115624",
   "metadata": {
    "execution": {
     "iopub.execute_input": "2022-07-05T13:57:40.375940Z",
     "iopub.status.busy": "2022-07-05T13:57:40.375187Z",
     "iopub.status.idle": "2022-07-05T13:58:00.381374Z",
     "shell.execute_reply": "2022-07-05T13:58:00.377958Z"
    }
   },
   "outputs": [
    {
     "name": "stdout",
     "output_type": "stream",
     "text": [
      "Fitting 2 folds for each of 960 candidates, totalling 1920 fits\n",
      "SGDClassifier(alpha=0.01, class_weight='balanced', l1_ratio=0.55, loss='log',\n",
      "              max_iter=2500, n_iter_no_change=20, penalty='elasticnet',\n",
      "              random_state=27)\n"
     ]
    }
   ],
   "source": [
    "from sklearn.linear_model import SGDClassifier\n",
    "\n",
    "# Define parameters to evaluate\n",
    "alpha_values            = [0.0001, 0.00025, 0.0005, 0.00075, 0.001, 0.005, 0.0025, 0.0075, 0.01, 0.05, 0.1, 1]\n",
    "n_iter_no_change_values = [20, 50, 100, 150]\n",
    "l1_ratio_values         = [0.049, 0.10, 0.15, 0.20, 0.25, 0.30, 0.35, 0.40, 0.45, 0.50,\n",
    "                           0.55, 0.60, 0.65, 0.70, 0.75, 0.80, 0.85, 0.89, 0.95, 0.99]\n",
    "parameters              = {'penalty': ['elasticnet'],\n",
    "                           'class_weight': ['balanced'],\n",
    "                           'loss': ['log'],\n",
    "                           'random_state': [seed],\n",
    "                           'alpha': alpha_values,\n",
    "                           'l1_ratio': l1_ratio_values,\n",
    "                           'n_iter_no_change': n_iter_no_change_values,\n",
    "                           'max_iter': [2500]\n",
    "                          }\n",
    "\n",
    "elasticnet = SGDClassifier()\n",
    "logo = LeaveOneGroupOut()\n",
    "\n",
    "clf = GridSearchCV(estimator  = elasticnet, \n",
    "                   param_grid = parameters,\n",
    "                   scoring    = 'roc_auc_ovo_weighted',\n",
    "                   cv         = logo.split(X=X,groups=groups),\n",
    "                   verbose    = 1,\n",
    "                   n_jobs     = -1,\n",
    "                  )\n",
    "clf.fit(X,y)\n",
    "print(clf.best_estimator_)\n",
    "\n",
    "# Store results in a DataFrame and then save them as csv\n",
    "results_df = pd.DataFrame(clf.cv_results_)\n",
    "results_df.to_csv(os.path.join(output_path,'results','res_elastic_net_'+str(n_groups)+'_logocv_intensity_video.csv'), index=None, header=True)\n",
    "\n",
    "# Save best parameters to disk\n",
    "file_path = os.path.join(output_path,'best_params','best_params_elastic_net_intensity_video.sav')\n",
    "pickle.dump(clf.best_params_, open(file_path, 'wb'))\n",
    "\n",
    "# Save the best model to disk\n",
    "file_path = os.path.join(output_path,'models','mod_elastic_net_intensity_video.sav')\n",
    "pickle.dump(clf.best_estimator_, open(file_path, 'wb'))"
   ]
  },
  {
   "cell_type": "code",
   "execution_count": 14,
   "id": "e9887973-dd93-4d43-afe1-a2c8601a89f6",
   "metadata": {
    "execution": {
     "iopub.execute_input": "2022-07-05T13:58:00.393422Z",
     "iopub.status.busy": "2022-07-05T13:58:00.392327Z",
     "iopub.status.idle": "2022-07-05T13:58:00.461764Z",
     "shell.execute_reply": "2022-07-05T13:58:00.458547Z"
    }
   },
   "outputs": [
    {
     "data": {
      "text/html": [
       "<div>\n",
       "<style scoped>\n",
       "    .dataframe tbody tr th:only-of-type {\n",
       "        vertical-align: middle;\n",
       "    }\n",
       "\n",
       "    .dataframe tbody tr th {\n",
       "        vertical-align: top;\n",
       "    }\n",
       "\n",
       "    .dataframe thead th {\n",
       "        text-align: right;\n",
       "    }\n",
       "</style>\n",
       "<table border=\"1\" class=\"dataframe\">\n",
       "  <thead>\n",
       "    <tr style=\"text-align: right;\">\n",
       "      <th></th>\n",
       "      <th>mean_fit_time</th>\n",
       "      <th>std_fit_time</th>\n",
       "      <th>mean_score_time</th>\n",
       "      <th>std_score_time</th>\n",
       "      <th>param_alpha</th>\n",
       "      <th>param_class_weight</th>\n",
       "      <th>param_l1_ratio</th>\n",
       "      <th>param_loss</th>\n",
       "      <th>param_max_iter</th>\n",
       "      <th>param_n_iter_no_change</th>\n",
       "      <th>param_penalty</th>\n",
       "      <th>param_random_state</th>\n",
       "      <th>params</th>\n",
       "      <th>split0_test_score</th>\n",
       "      <th>split1_test_score</th>\n",
       "      <th>mean_test_score</th>\n",
       "      <th>std_test_score</th>\n",
       "      <th>rank_test_score</th>\n",
       "    </tr>\n",
       "  </thead>\n",
       "  <tbody>\n",
       "    <tr>\n",
       "      <th>680</th>\n",
       "      <td>0.089008</td>\n",
       "      <td>0.011988</td>\n",
       "      <td>0.092614</td>\n",
       "      <td>0.006841</td>\n",
       "      <td>0.01</td>\n",
       "      <td>balanced</td>\n",
       "      <td>0.55</td>\n",
       "      <td>log</td>\n",
       "      <td>2500</td>\n",
       "      <td>20</td>\n",
       "      <td>elasticnet</td>\n",
       "      <td>27</td>\n",
       "      <td>{'alpha': 0.01, 'class_weight': 'balanced', 'l...</td>\n",
       "      <td>0.614603</td>\n",
       "      <td>0.634820</td>\n",
       "      <td>0.624712</td>\n",
       "      <td>0.010108</td>\n",
       "      <td>1</td>\n",
       "    </tr>\n",
       "    <tr>\n",
       "      <th>681</th>\n",
       "      <td>0.158375</td>\n",
       "      <td>0.031853</td>\n",
       "      <td>0.057129</td>\n",
       "      <td>0.000510</td>\n",
       "      <td>0.01</td>\n",
       "      <td>balanced</td>\n",
       "      <td>0.55</td>\n",
       "      <td>log</td>\n",
       "      <td>2500</td>\n",
       "      <td>50</td>\n",
       "      <td>elasticnet</td>\n",
       "      <td>27</td>\n",
       "      <td>{'alpha': 0.01, 'class_weight': 'balanced', 'l...</td>\n",
       "      <td>0.614119</td>\n",
       "      <td>0.633789</td>\n",
       "      <td>0.623954</td>\n",
       "      <td>0.009835</td>\n",
       "      <td>2</td>\n",
       "    </tr>\n",
       "    <tr>\n",
       "      <th>704</th>\n",
       "      <td>0.101302</td>\n",
       "      <td>0.022863</td>\n",
       "      <td>0.082420</td>\n",
       "      <td>0.014445</td>\n",
       "      <td>0.01</td>\n",
       "      <td>balanced</td>\n",
       "      <td>0.85</td>\n",
       "      <td>log</td>\n",
       "      <td>2500</td>\n",
       "      <td>20</td>\n",
       "      <td>elasticnet</td>\n",
       "      <td>27</td>\n",
       "      <td>{'alpha': 0.01, 'class_weight': 'balanced', 'l...</td>\n",
       "      <td>0.616457</td>\n",
       "      <td>0.631239</td>\n",
       "      <td>0.623848</td>\n",
       "      <td>0.007391</td>\n",
       "      <td>3</td>\n",
       "    </tr>\n",
       "  </tbody>\n",
       "</table>\n",
       "</div>"
      ],
      "text/plain": [
       "     mean_fit_time  std_fit_time  mean_score_time  std_score_time param_alpha  \\\n",
       "680       0.089008      0.011988         0.092614        0.006841        0.01   \n",
       "681       0.158375      0.031853         0.057129        0.000510        0.01   \n",
       "704       0.101302      0.022863         0.082420        0.014445        0.01   \n",
       "\n",
       "    param_class_weight param_l1_ratio param_loss param_max_iter  \\\n",
       "680           balanced           0.55        log           2500   \n",
       "681           balanced           0.55        log           2500   \n",
       "704           balanced           0.85        log           2500   \n",
       "\n",
       "    param_n_iter_no_change param_penalty param_random_state  \\\n",
       "680                     20    elasticnet                 27   \n",
       "681                     50    elasticnet                 27   \n",
       "704                     20    elasticnet                 27   \n",
       "\n",
       "                                                params  split0_test_score  \\\n",
       "680  {'alpha': 0.01, 'class_weight': 'balanced', 'l...           0.614603   \n",
       "681  {'alpha': 0.01, 'class_weight': 'balanced', 'l...           0.614119   \n",
       "704  {'alpha': 0.01, 'class_weight': 'balanced', 'l...           0.616457   \n",
       "\n",
       "     split1_test_score  mean_test_score  std_test_score  rank_test_score  \n",
       "680           0.634820         0.624712        0.010108                1  \n",
       "681           0.633789         0.623954        0.009835                2  \n",
       "704           0.631239         0.623848        0.007391                3  "
      ]
     },
     "execution_count": 14,
     "metadata": {},
     "output_type": "execute_result"
    }
   ],
   "source": [
    "results_df.sort_values(by=\"rank_test_score\").head(3)"
   ]
  },
  {
   "cell_type": "markdown",
   "id": "f3597ffd-619c-418f-b6d1-e24bac922f35",
   "metadata": {},
   "source": [
    "### Cross validate with best parameters"
   ]
  },
  {
   "cell_type": "code",
   "execution_count": 15,
   "id": "b2940e44-72d1-4d4e-8604-ec6191b86db9",
   "metadata": {
    "execution": {
     "iopub.execute_input": "2022-07-05T13:58:00.471959Z",
     "iopub.status.busy": "2022-07-05T13:58:00.471276Z",
     "iopub.status.idle": "2022-07-05T13:58:02.824808Z",
     "shell.execute_reply": "2022-07-05T13:58:02.823125Z"
    }
   },
   "outputs": [
    {
     "name": "stderr",
     "output_type": "stream",
     "text": [
      "[Parallel(n_jobs=-1)]: Using backend LokyBackend with 52 concurrent workers.\n",
      "[Parallel(n_jobs=-1)]: Done   2 out of   2 | elapsed:    0.3s finished\n",
      "[Parallel(n_jobs=-1)]: Using backend LokyBackend with 52 concurrent workers.\n",
      "[Parallel(n_jobs=-1)]: Done   2 out of   2 | elapsed:    0.1s finished\n"
     ]
    },
    {
     "name": "stdout",
     "output_type": "stream",
     "text": [
      "printing Area Under the Curve (AUC) measures\n",
      "AUC_avg (train): 0.9095857538728631\n",
      "AUC_std (train): 0.00019072182158114126\n",
      "AUC_avg (validation): 0.6247116219284189\n",
      "AUC_std (validation): 0.010108256543803318\n",
      "printing Unweighted Average Recall (UAC) measures\n",
      "UAR_avg (train): 0.5858796296296296\n",
      "UAR_std (train): 0.009490740740740744\n",
      "UAR_avg (validation): 0.24375000000000002\n",
      "UAR_std (validation): 0.006249999999999992\n"
     ]
    },
    {
     "data": {
      "image/png": "[encoded data removed]",
      "text/plain": [
       "<Figure size 1080x1080 with 2 Axes>"
      ]
     },
     "metadata": {
      "needs_background": "light"
     },
     "output_type": "display_data"
    }
   ],
   "source": [
    "from sklearn.linear_model import SGDClassifier\n",
    "from sklearn.model_selection import cross_validate\n",
    "\n",
    "logo = LeaveOneGroupOut()\n",
    "\n",
    "# Load best parameters\n",
    "file_path = os.path.join(output_path,'best_params','best_params_elastic_net_intensity_video.sav')\n",
    "best_params = pickle.load(open(file_path, 'rb'))\n",
    "                   \n",
    "clf = SGDClassifier(**best_params)\n",
    "\n",
    "# get scores\n",
    "scores = cross_validate(X=X, y=y,\n",
    "                        estimator           = clf,\n",
    "                        scoring             = ['roc_auc_ovo_weighted'],\n",
    "                        cv                  = logo.split(X=X,groups=groups),\n",
    "                        verbose             = 1,\n",
    "                        n_jobs              = -1,\n",
    "                        return_train_score  = True                        \n",
    "                       )\n",
    "\n",
    "print('printing Area Under the Curve (AUC) measures')\n",
    "print('AUC_avg (train):', np.mean(scores['train_roc_auc_ovo_weighted']))\n",
    "print('AUC_std (train):', np.std(scores['train_roc_auc_ovo_weighted']))\n",
    "print('AUC_avg (validation):', np.mean(scores['test_roc_auc_ovo_weighted']))\n",
    "print('AUC_std (validation):', np.std(scores['test_roc_auc_ovo_weighted']))\n",
    "\n",
    "scores = cross_validate(X=X, y=y,\n",
    "                        estimator           = clf,\n",
    "                        scoring             = ['recall_macro'],\n",
    "                        cv                  = logo.split(X=X,groups=groups),\n",
    "                        verbose             = 1,\n",
    "                        n_jobs              = -1,\n",
    "                        return_train_score  = True\n",
    "                       )\n",
    "      \n",
    "print('printing Unweighted Average Recall (UAC) measures')\n",
    "print('UAR_avg (train):', np.mean(scores['train_recall_macro']))\n",
    "print('UAR_std (train):', np.std(scores['train_recall_macro']))\n",
    "print('UAR_avg (validation):', np.mean(scores['test_recall_macro']))\n",
    "print('UAR_std (validation):', np.std(scores['test_recall_macro']))\n",
    "\n",
    "# Create confusion matrix\n",
    "df_cm = get_conf_matrix(X=X,\n",
    "                        y=y,\n",
    "                        cv=logo.split(X=X, groups=groups),\n",
    "                        clf=clf,\n",
    "                        )\n",
    "# Plot confusion matrix\n",
    "plot_conf_matrix(df_cm, title='Elastic Net Normalized Confusion Matrix (Video Intensity Validation Set)')\n",
    "\n",
    "# Save confusion matrix\n",
    "save_conf_matrix(file_name='conf_mat_elastic_net_intensity_video.svg')\n"
   ]
  },
  {
   "cell_type": "markdown",
   "id": "b0f83e5f-d288-4bde-96cf-5c5c964dd53b",
   "metadata": {},
   "source": [
    "# kNN Classifier"
   ]
  },
  {
   "cell_type": "markdown",
   "id": "2e9beebd-16f7-4916-82ef-15c1d31a97e6",
   "metadata": {},
   "source": [
    "TODO: Might be smart to seed such that every emotion has it's own cluster starting point"
   ]
  },
  {
   "cell_type": "code",
   "execution_count": 16,
   "id": "bf544071-5baa-4088-b292-814dda01db06",
   "metadata": {
    "execution": {
     "iopub.execute_input": "2022-07-05T13:58:02.836448Z",
     "iopub.status.busy": "2022-07-05T13:58:02.836163Z",
     "iopub.status.idle": "2022-07-05T13:58:02.844926Z",
     "shell.execute_reply": "2022-07-05T13:58:02.843660Z"
    }
   },
   "outputs": [],
   "source": [
    "# we want to evaluate different number of neighbors (clusters) based on the size of the training set. \n",
    "# set a cluster floor at the number of targets \n",
    "floor = len(y.unique())\n",
    "# set a cluster cap equal to 3/4:ths of the size of the training set.\n",
    "# size of training set is equal to all datapoints minus the size of one group\n",
    "cap = (len(y) - groups.value_counts().max()) * 3/4\n",
    "\n",
    "n_neigh_values   = np.linspace(floor, cap, 50, dtype=np.int64).tolist()"
   ]
  },
  {
   "cell_type": "code",
   "execution_count": 17,
   "id": "13cbf895-38d0-4e69-a720-b8cbcd5f1045",
   "metadata": {
    "execution": {
     "iopub.execute_input": "2022-07-05T13:58:02.852027Z",
     "iopub.status.busy": "2022-07-05T13:58:02.851705Z",
     "iopub.status.idle": "2022-07-05T13:58:10.726029Z",
     "shell.execute_reply": "2022-07-05T13:58:10.723111Z"
    }
   },
   "outputs": [
    {
     "name": "stdout",
     "output_type": "stream",
     "text": [
      "Fitting 2 folds for each of 450 candidates, totalling 900 fits\n",
      "KNeighborsClassifier(algorithm='ball_tree', leaf_size=10, metric='manhattan',\n",
      "                     n_jobs=-1, n_neighbors=21)\n"
     ]
    }
   ],
   "source": [
    "from sklearn.neighbors import KNeighborsClassifier\n",
    "from sklearn.model_selection import cross_validate\n",
    "\n",
    "# Define other to evaluate\n",
    "leaf_size_values = [10, 20, 30]\n",
    "algorithm_values = ['ball_tree','brute', 'kd_tree']\n",
    "parameters      = {'n_neighbors': n_neigh_values,\n",
    "                   'leaf_size': leaf_size_values,\n",
    "                   'weights': ['uniform'],\n",
    "                   'algorithm': algorithm_values,\n",
    "                   'metric': ['manhattan'],\n",
    "                   'n_jobs': [-1]\n",
    "                  }\n",
    "\n",
    "knn = KNeighborsClassifier()\n",
    "logo = LeaveOneGroupOut()\n",
    "\n",
    "clf = GridSearchCV(estimator  = knn, \n",
    "                   param_grid = parameters,\n",
    "                   scoring    = 'roc_auc_ovo_weighted',\n",
    "                   cv         = logo.split(X=X,groups=groups),\n",
    "                   verbose    = 1,\n",
    "                   n_jobs     = -1,\n",
    "                  )\n",
    "clf.fit(X,y)\n",
    "print(clf.best_estimator_)\n",
    "\n",
    "# Store results in a DataFrame and then save them as csv\n",
    "results_df = pd.DataFrame(clf.cv_results_)\n",
    "results_df.to_csv(os.path.join(output_path,'results','res_knn_'+str(n_groups)+'_logocv_intensity_video.csv'), index=None, header=True)\n",
    "\n",
    "# Save best parameters to disk\n",
    "file_path = os.path.join(output_path,'best_params','best_params_knn_intensity_video.sav')\n",
    "pickle.dump(clf.best_params_, open(file_path, 'wb'))\n",
    "\n",
    "# Save the best model to disk\n",
    "file_path = os.path.join(output_path,'models','mod_knn_intensity_video.sav')\n",
    "pickle.dump(clf.best_estimator_, open(file_path, 'wb'))"
   ]
  },
  {
   "cell_type": "code",
   "execution_count": 18,
   "id": "5046a79c-98e3-4c90-aae9-57836786ce05",
   "metadata": {
    "execution": {
     "iopub.execute_input": "2022-07-05T13:58:10.735482Z",
     "iopub.status.busy": "2022-07-05T13:58:10.734058Z",
     "iopub.status.idle": "2022-07-05T13:58:13.636135Z",
     "shell.execute_reply": "2022-07-05T13:58:13.633866Z"
    }
   },
   "outputs": [
    {
     "name": "stderr",
     "output_type": "stream",
     "text": [
      "[Parallel(n_jobs=-1)]: Using backend LokyBackend with 52 concurrent workers.\n",
      "[Parallel(n_jobs=-1)]: Done   2 out of   2 | elapsed:    0.5s finished\n",
      "[Parallel(n_jobs=-1)]: Using backend LokyBackend with 52 concurrent workers.\n"
     ]
    },
    {
     "name": "stdout",
     "output_type": "stream",
     "text": [
      "AUC_avg (train): 0.8524355445986305\n",
      "AUC_std (train): 0.004253908526369421\n",
      "AUC_avg (validation): 0.5999810871637044\n",
      "AUC_std (validation): 8.944235018448765e-05\n"
     ]
    },
    {
     "name": "stderr",
     "output_type": "stream",
     "text": [
      "[Parallel(n_jobs=-1)]: Done   2 out of   2 | elapsed:    0.3s finished\n"
     ]
    },
    {
     "name": "stdout",
     "output_type": "stream",
     "text": [
      "UAR_avg (train): 0.4525462962962963\n",
      "UAR_std (train): 0.0219907407407407\n",
      "UAR_avg (validation): 0.1877314814814815\n",
      "UAR_std (validation): 0.006712962962962962\n"
     ]
    },
    {
     "data": {
      "image/png": "[encoded data removed]",
      "text/plain": [
       "<Figure size 1080x1080 with 2 Axes>"
      ]
     },
     "metadata": {
      "needs_background": "light"
     },
     "output_type": "display_data"
    }
   ],
   "source": [
    "# Load best parameters\n",
    "file_path = os.path.join(output_path,'best_params','best_params_knn_intensity_video.sav')\n",
    "best_params = pickle.load(open(file_path, 'rb'))\n",
    "                   \n",
    "clf = KNeighborsClassifier(**best_params)\n",
    "\n",
    "scores = cross_validate(X=X, y=y,\n",
    "                        estimator           = clf,\n",
    "                        scoring             = ['roc_auc_ovo_weighted'],\n",
    "                        cv                  = logo.split(X=X,groups=groups),\n",
    "                        verbose             = 1,\n",
    "                        n_jobs              = -1,\n",
    "                        return_train_score  = True                        \n",
    "                       )\n",
    "\n",
    "print('AUC_avg (train):', np.mean(scores['train_roc_auc_ovo_weighted']))\n",
    "print('AUC_std (train):', np.std(scores['train_roc_auc_ovo_weighted']))\n",
    "print('AUC_avg (validation):', np.mean(scores['test_roc_auc_ovo_weighted']))\n",
    "print('AUC_std (validation):', np.std(scores['test_roc_auc_ovo_weighted']))\n",
    "\n",
    "scores = cross_validate(X=X, y=y,\n",
    "                        estimator           = clf,\n",
    "                        scoring             = ['recall_macro'],\n",
    "                        cv                  = logo.split(X=X,groups=groups),\n",
    "                        verbose             = 1,\n",
    "                        n_jobs              = -1,\n",
    "                        return_train_score  = True                        \n",
    "                       )\n",
    "\n",
    "print('UAR_avg (train):', np.mean(scores['train_recall_macro']))\n",
    "print('UAR_std (train):', np.std(scores['train_recall_macro']))\n",
    "print('UAR_avg (validation):', np.mean(scores['test_recall_macro']))\n",
    "print('UAR_std (validation):', np.std(scores['test_recall_macro']))\n",
    "\n",
    "# Create confusion matrix\n",
    "df_cm = get_conf_matrix(X=X,\n",
    "                        y=y,\n",
    "                        cv=logo.split(X=X, groups=groups),\n",
    "                        clf=clf,\n",
    "                        )\n",
    "# Plot confusion matrix\n",
    "plot_conf_matrix(df_cm, title='kNN Normalized Confusion Matrix (Video Intensity Validation Set)')\n",
    "\n",
    "# Save confusion matrix\n",
    "save_conf_matrix(file_name='conf_mat_knn_intensity_video.svg')"
   ]
  },
  {
   "cell_type": "markdown",
   "id": "25b279cc-4e9d-4c07-9d36-411ba7d04892",
   "metadata": {},
   "source": [
    "## Decision Tree\n"
   ]
  },
  {
   "cell_type": "code",
   "execution_count": 19,
   "id": "4cb201cb-93e6-4ba9-9105-640b9fc540fd",
   "metadata": {
    "execution": {
     "iopub.execute_input": "2022-07-05T13:58:13.643026Z",
     "iopub.status.busy": "2022-07-05T13:58:13.642708Z",
     "iopub.status.idle": "2022-07-05T13:58:57.761382Z",
     "shell.execute_reply": "2022-07-05T13:58:57.758373Z"
    }
   },
   "outputs": [
    {
     "name": "stdout",
     "output_type": "stream",
     "text": [
      "Fitting 2 folds for each of 5000 candidates, totalling 10000 fits\n",
      "DecisionTreeClassifier(class_weight='balanced', criterion='entropy',\n",
      "                       max_depth=15, max_features=70, min_samples_leaf=0.1,\n",
      "                       min_samples_split=0.4, random_state=27,\n",
      "                       splitter='random')\n"
     ]
    }
   ],
   "source": [
    "from sklearn.tree import DecisionTreeClassifier\n",
    "\n",
    "# Define parameters to evaluate\n",
    "criterion_values         = ['gini', 'entropy']\n",
    "splitter_values          = ['best', 'random']\n",
    "max_depth_values         = np.arange(5, 55, 5).tolist()\n",
    "min_samples_split_values = np.linspace(0.1, 1.0, 10, endpoint=True)\n",
    "min_samples_leaf_values  = np.linspace(0.1, 0.5, 5, endpoint=True)\n",
    "max_features_values      = [int(x) for x in np.linspace(1, len(X.columns), num = 18)] #list(range(1,len(X.columns)))\n",
    "parameters      = {'criterion': criterion_values,\n",
    "                   'splitter': splitter_values,\n",
    "                   'max_depth': max_depth_values,\n",
    "                   'min_samples_split': min_samples_split_values,\n",
    "                   'min_samples_leaf': min_samples_leaf_values,\n",
    "                   'max_features': max_features_values,\n",
    "                   'class_weight': ['balanced'],\n",
    "                   'random_state': [seed]\n",
    "                  }\n",
    "\n",
    "dt = DecisionTreeClassifier()\n",
    "logo = LeaveOneGroupOut()\n",
    "\n",
    "# Reduce the number of possible combinations by randomly resampling to 5000 combinations\n",
    "clf = RandomizedSearchCV(estimator           = dt, \n",
    "                         param_distributions = parameters,\n",
    "                         scoring             = 'roc_auc_ovo_weighted',\n",
    "                         cv                  = logo.split(X=X,groups=groups),\n",
    "                         verbose             = 1,\n",
    "                         random_state        = seed,\n",
    "                         n_iter              = 5000,\n",
    "                         n_jobs              = -1\n",
    "                         )\n",
    "clf.fit(X,y)\n",
    "print(clf.best_estimator_)\n",
    "\n",
    "# Store results in a DataFrame and then save them as csv\n",
    "results_df = pd.DataFrame(clf.cv_results_)\n",
    "results_df.to_csv(os.path.join(output_path,'results','res_tree_'+str(n_groups)+'_logocv_intensity_video.csv'), index=None, header=True)\n",
    "\n",
    "# Save best parameters to disk\n",
    "file_path = os.path.join(output_path,'best_params','best_params_tree_intensity_video.sav')\n",
    "pickle.dump(clf.best_params_, open(file_path, 'wb'))\n",
    "\n",
    "# Save the best model to disk\n",
    "file_path = os.path.join(output_path,'models','mod_tree_intensity_video.sav')\n",
    "pickle.dump(clf.best_estimator_, open(file_path, 'wb'))"
   ]
  },
  {
   "cell_type": "code",
   "execution_count": 20,
   "id": "c25c6f85-80f1-4876-8da3-4e1c40f04397",
   "metadata": {
    "execution": {
     "iopub.execute_input": "2022-07-05T13:58:57.772414Z",
     "iopub.status.busy": "2022-07-05T13:58:57.770064Z",
     "iopub.status.idle": "2022-07-05T13:58:57.827810Z",
     "shell.execute_reply": "2022-07-05T13:58:57.825580Z"
    }
   },
   "outputs": [
    {
     "data": {
      "text/html": [
       "<div>\n",
       "<style scoped>\n",
       "    .dataframe tbody tr th:only-of-type {\n",
       "        vertical-align: middle;\n",
       "    }\n",
       "\n",
       "    .dataframe tbody tr th {\n",
       "        vertical-align: top;\n",
       "    }\n",
       "\n",
       "    .dataframe thead th {\n",
       "        text-align: right;\n",
       "    }\n",
       "</style>\n",
       "<table border=\"1\" class=\"dataframe\">\n",
       "  <thead>\n",
       "    <tr style=\"text-align: right;\">\n",
       "      <th></th>\n",
       "      <th>mean_fit_time</th>\n",
       "      <th>std_fit_time</th>\n",
       "      <th>mean_score_time</th>\n",
       "      <th>std_score_time</th>\n",
       "      <th>param_splitter</th>\n",
       "      <th>param_random_state</th>\n",
       "      <th>param_min_samples_split</th>\n",
       "      <th>param_min_samples_leaf</th>\n",
       "      <th>param_max_features</th>\n",
       "      <th>param_max_depth</th>\n",
       "      <th>param_criterion</th>\n",
       "      <th>param_class_weight</th>\n",
       "      <th>params</th>\n",
       "      <th>split0_test_score</th>\n",
       "      <th>split1_test_score</th>\n",
       "      <th>mean_test_score</th>\n",
       "      <th>std_test_score</th>\n",
       "      <th>rank_test_score</th>\n",
       "    </tr>\n",
       "  </thead>\n",
       "  <tbody>\n",
       "    <tr>\n",
       "      <th>1615</th>\n",
       "      <td>0.006358</td>\n",
       "      <td>0.001916</td>\n",
       "      <td>0.086394</td>\n",
       "      <td>0.006204</td>\n",
       "      <td>random</td>\n",
       "      <td>27</td>\n",
       "      <td>0.4</td>\n",
       "      <td>0.1</td>\n",
       "      <td>70</td>\n",
       "      <td>15</td>\n",
       "      <td>entropy</td>\n",
       "      <td>balanced</td>\n",
       "      <td>{'splitter': 'random', 'random_state': 27, 'mi...</td>\n",
       "      <td>0.610113</td>\n",
       "      <td>0.598145</td>\n",
       "      <td>0.604129</td>\n",
       "      <td>0.005984</td>\n",
       "      <td>1</td>\n",
       "    </tr>\n",
       "    <tr>\n",
       "      <th>619</th>\n",
       "      <td>0.009764</td>\n",
       "      <td>0.002442</td>\n",
       "      <td>0.078146</td>\n",
       "      <td>0.018753</td>\n",
       "      <td>best</td>\n",
       "      <td>27</td>\n",
       "      <td>0.2</td>\n",
       "      <td>0.1</td>\n",
       "      <td>77</td>\n",
       "      <td>20</td>\n",
       "      <td>gini</td>\n",
       "      <td>balanced</td>\n",
       "      <td>{'splitter': 'best', 'random_state': 27, 'min_...</td>\n",
       "      <td>0.604517</td>\n",
       "      <td>0.586182</td>\n",
       "      <td>0.595349</td>\n",
       "      <td>0.009168</td>\n",
       "      <td>2</td>\n",
       "    </tr>\n",
       "    <tr>\n",
       "      <th>3570</th>\n",
       "      <td>0.007886</td>\n",
       "      <td>0.001941</td>\n",
       "      <td>0.067740</td>\n",
       "      <td>0.009468</td>\n",
       "      <td>best</td>\n",
       "      <td>27</td>\n",
       "      <td>0.1</td>\n",
       "      <td>0.1</td>\n",
       "      <td>77</td>\n",
       "      <td>10</td>\n",
       "      <td>gini</td>\n",
       "      <td>balanced</td>\n",
       "      <td>{'splitter': 'best', 'random_state': 27, 'min_...</td>\n",
       "      <td>0.604517</td>\n",
       "      <td>0.586182</td>\n",
       "      <td>0.595349</td>\n",
       "      <td>0.009168</td>\n",
       "      <td>2</td>\n",
       "    </tr>\n",
       "  </tbody>\n",
       "</table>\n",
       "</div>"
      ],
      "text/plain": [
       "      mean_fit_time  std_fit_time  mean_score_time  std_score_time  \\\n",
       "1615       0.006358      0.001916         0.086394        0.006204   \n",
       "619        0.009764      0.002442         0.078146        0.018753   \n",
       "3570       0.007886      0.001941         0.067740        0.009468   \n",
       "\n",
       "     param_splitter param_random_state param_min_samples_split  \\\n",
       "1615         random                 27                     0.4   \n",
       "619            best                 27                     0.2   \n",
       "3570           best                 27                     0.1   \n",
       "\n",
       "     param_min_samples_leaf param_max_features param_max_depth  \\\n",
       "1615                    0.1                 70              15   \n",
       "619                     0.1                 77              20   \n",
       "3570                    0.1                 77              10   \n",
       "\n",
       "     param_criterion param_class_weight  \\\n",
       "1615         entropy           balanced   \n",
       "619             gini           balanced   \n",
       "3570            gini           balanced   \n",
       "\n",
       "                                                 params  split0_test_score  \\\n",
       "1615  {'splitter': 'random', 'random_state': 27, 'mi...           0.610113   \n",
       "619   {'splitter': 'best', 'random_state': 27, 'min_...           0.604517   \n",
       "3570  {'splitter': 'best', 'random_state': 27, 'min_...           0.604517   \n",
       "\n",
       "      split1_test_score  mean_test_score  std_test_score  rank_test_score  \n",
       "1615           0.598145         0.604129        0.005984                1  \n",
       "619            0.586182         0.595349        0.009168                2  \n",
       "3570           0.586182         0.595349        0.009168                2  "
      ]
     },
     "execution_count": 20,
     "metadata": {},
     "output_type": "execute_result"
    }
   ],
   "source": [
    "results_df.sort_values(by=\"rank_test_score\").head(3)"
   ]
  },
  {
   "cell_type": "code",
   "execution_count": 21,
   "id": "d15ada35-da73-4bc9-8629-ed1c5c8f7800",
   "metadata": {
    "execution": {
     "iopub.execute_input": "2022-07-05T13:58:57.838424Z",
     "iopub.status.busy": "2022-07-05T13:58:57.836889Z",
     "iopub.status.idle": "2022-07-05T13:58:59.784571Z",
     "shell.execute_reply": "2022-07-05T13:58:59.782706Z"
    }
   },
   "outputs": [
    {
     "name": "stderr",
     "output_type": "stream",
     "text": [
      "[Parallel(n_jobs=-1)]: Using backend LokyBackend with 52 concurrent workers.\n",
      "[Parallel(n_jobs=-1)]: Done   2 out of   2 | elapsed:    0.2s finished\n",
      "[Parallel(n_jobs=-1)]: Using backend LokyBackend with 52 concurrent workers.\n",
      "[Parallel(n_jobs=-1)]: Done   2 out of   2 | elapsed:    0.0s finished\n"
     ]
    },
    {
     "name": "stdout",
     "output_type": "stream",
     "text": [
      "AUC_avg (train): 0.7363296425796426\n",
      "AUC_std (train): 0.0023886703574203527\n",
      "AUC_avg (validation): 0.6041285374781469\n",
      "AUC_std (validation): 0.005984006228146821\n",
      "UAR_avg (train): 0.2534722222222222\n",
      "UAR_std (train): 0.00347222222222221\n",
      "UAR_avg (validation): 0.20162037037037037\n",
      "UAR_std (validation): 0.020601851851851843\n"
     ]
    },
    {
     "data": {
      "image/png": "[encoded data removed]",
      "text/plain": [
       "<Figure size 1080x1080 with 2 Axes>"
      ]
     },
     "metadata": {
      "needs_background": "light"
     },
     "output_type": "display_data"
    }
   ],
   "source": [
    "# Load best parameters\n",
    "file_path = os.path.join(output_path,'best_params','best_params_tree_intensity_video.sav')\n",
    "best_params = pickle.load(open(file_path, 'rb'))\n",
    "                   \n",
    "clf = DecisionTreeClassifier(**best_params)\n",
    "\n",
    "scores = cross_validate(X=X, y=y,\n",
    "                        estimator           = clf,\n",
    "                        scoring             = ['roc_auc_ovo_weighted'],\n",
    "                        cv                  = logo.split(X=X,groups=groups),\n",
    "                        verbose             = 1,\n",
    "                        n_jobs              = -1,\n",
    "                        return_train_score  = True                        \n",
    "                       )\n",
    "\n",
    "print('AUC_avg (train):', np.mean(scores['train_roc_auc_ovo_weighted']))\n",
    "print('AUC_std (train):', np.std(scores['train_roc_auc_ovo_weighted']))\n",
    "print('AUC_avg (validation):', np.mean(scores['test_roc_auc_ovo_weighted']))\n",
    "print('AUC_std (validation):', np.std(scores['test_roc_auc_ovo_weighted']))\n",
    "\n",
    "scores = cross_validate(X=X, y=y,\n",
    "                        estimator           = clf,\n",
    "                        scoring             = ['recall_macro'],\n",
    "                        cv                  = logo.split(X=X,groups=groups),\n",
    "                        verbose             = 1,\n",
    "                        n_jobs              = -1,\n",
    "                        return_train_score  = True                        \n",
    "                       )\n",
    "\n",
    "print('UAR_avg (train):', np.mean(scores['train_recall_macro']))\n",
    "print('UAR_std (train):', np.std(scores['train_recall_macro']))\n",
    "print('UAR_avg (validation):', np.mean(scores['test_recall_macro']))\n",
    "print('UAR_std (validation):', np.std(scores['test_recall_macro']))\n",
    "\n",
    "# Create confusion matrix\n",
    "df_cm = get_conf_matrix(X=X,\n",
    "                        y=y,\n",
    "                        cv=logo.split(X=X, groups=groups),\n",
    "                        clf=clf,\n",
    "                        )\n",
    "# Plot confusion matrix\n",
    "plot_conf_matrix(df_cm, title='Decision Tree Normalized Confusion Matrix (Video Intensity Test Set)')\n",
    "\n",
    "# Save confusion matrix\n",
    "save_conf_matrix(file_name='conf_mat_tree_intensity_video.svg')"
   ]
  },
  {
   "cell_type": "code",
   "execution_count": 22,
   "id": "18154947-f504-4913-8ace-3a1ce8139277",
   "metadata": {
    "execution": {
     "iopub.execute_input": "2022-07-05T13:58:59.791701Z",
     "iopub.status.busy": "2022-07-05T13:58:59.791435Z",
     "iopub.status.idle": "2022-07-05T14:09:54.156405Z",
     "shell.execute_reply": "2022-07-05T14:09:54.153680Z"
    }
   },
   "outputs": [
    {
     "name": "stdout",
     "output_type": "stream",
     "text": [
      "Fitting 2 folds for each of 5000 candidates, totalling 10000 fits\n",
      "RandomForestClassifier(class_weight='balanced', max_depth=70,\n",
      "                       max_features='sqrt', min_samples_leaf=2,\n",
      "                       n_estimators=262, n_jobs=-1, random_state=27)\n"
     ]
    }
   ],
   "source": [
    "from sklearn.ensemble import RandomForestClassifier\n",
    "\n",
    "# Define parameters to evaluate\n",
    "# the number of trees to build before taking the maximum voting or averages of predictions\n",
    "n_estimators_values      = [int(x) for x in np.linspace(10, 500, num = 100)]#np.arange(100, 810, 10).tolist()\n",
    "criterion_values         = ['gini']\n",
    "class_weight_values      = ['balanced']\n",
    "max_features_values      = ['auto', 'sqrt']\n",
    "max_depth_values         = [int(x) for x in np.linspace(10, 110, num = 11)]\n",
    "max_depth_values.append(None)\n",
    "min_samples_split_values = [2, 5, 10]\n",
    "min_samples_leaf_values  = [1, 2, 4]\n",
    "bootstrap_values         = [True, False]\n",
    "parameters      = {'n_estimators': n_estimators_values,\n",
    "                   'criterion': criterion_values,\n",
    "                   'max_features': max_features_values,\n",
    "                   'max_depth': max_depth_values,\n",
    "                   'min_samples_split': min_samples_split_values,\n",
    "                   'min_samples_leaf': min_samples_leaf_values,\n",
    "                   'bootstrap': bootstrap_values,\n",
    "                   'random_state': [seed],\n",
    "                   'class_weight': class_weight_values,\n",
    "                   'n_jobs': [-1]\n",
    "                  }\n",
    "\n",
    "rf = RandomForestClassifier()\n",
    "logo = LeaveOneGroupOut()\n",
    "\n",
    "# Reduce the number of possible combinations by randomly resampling to 5000 combinations\n",
    "clf = RandomizedSearchCV(estimator           = rf, \n",
    "                         param_distributions = parameters,\n",
    "                         scoring             = 'roc_auc_ovo_weighted',\n",
    "                         cv                  = logo.split(X=X,groups=groups),\n",
    "                         verbose             = 1,\n",
    "                         n_iter              = 5000,\n",
    "                         random_state        = seed,\n",
    "                         n_jobs              = -1\n",
    "                        )\n",
    "clf.fit(X,y)\n",
    "print(clf.best_estimator_)\n",
    "\n",
    "# Store results in a DataFrame and then save them as csv\n",
    "results_df = pd.DataFrame(clf.cv_results_)\n",
    "results_df.to_csv(os.path.join(output_path,'results','res_rf_'+str(n_groups)+'_logocv_intensity_video.csv'), index=None, header=True)\n",
    "\n",
    "# Save best parameters to disk\n",
    "file_path = os.path.join(output_path,'best_params','best_params_rf_intensity_video.sav')\n",
    "pickle.dump(clf.best_params_, open(file_path, 'wb'))\n",
    "\n",
    "# Save the best model to disk\n",
    "file_path = os.path.join(output_path,'models','mod_rf_intensity_video.sav')\n",
    "pickle.dump(clf.best_estimator_, open(file_path, 'wb'))"
   ]
  },
  {
   "cell_type": "code",
   "execution_count": 23,
   "id": "9f99d779-c177-473b-917b-34b1500f9efb",
   "metadata": {
    "execution": {
     "iopub.execute_input": "2022-07-05T14:09:54.165366Z",
     "iopub.status.busy": "2022-07-05T14:09:54.164912Z",
     "iopub.status.idle": "2022-07-05T14:10:06.109096Z",
     "shell.execute_reply": "2022-07-05T14:10:06.106833Z"
    }
   },
   "outputs": [
    {
     "name": "stderr",
     "output_type": "stream",
     "text": [
      "[Parallel(n_jobs=-1)]: Using backend LokyBackend with 52 concurrent workers.\n",
      "[Parallel(n_jobs=-1)]: Done   2 out of   2 | elapsed:    2.9s finished\n",
      "[Parallel(n_jobs=-1)]: Using backend LokyBackend with 52 concurrent workers.\n"
     ]
    },
    {
     "name": "stdout",
     "output_type": "stream",
     "text": [
      "AUC_avg (train): 1.0\n",
      "AUC_std (train): 0.0\n",
      "AUC_avg (validation): 0.6470127582920551\n",
      "AUC_std (validation): 0.0004741298198329691\n"
     ]
    },
    {
     "name": "stderr",
     "output_type": "stream",
     "text": [
      "[Parallel(n_jobs=-1)]: Done   2 out of   2 | elapsed:    2.7s finished\n"
     ]
    },
    {
     "name": "stdout",
     "output_type": "stream",
     "text": [
      "UAR_avg (train): 1.0\n",
      "UAR_std (train): 0.0\n",
      "UAR_avg (validation): 0.20925925925925926\n",
      "UAR_std (validation): 0.014814814814814808\n"
     ]
    },
    {
     "data": {
      "image/png": "[encoded data removed]",
      "text/plain": [
       "<Figure size 1080x1080 with 2 Axes>"
      ]
     },
     "metadata": {
      "needs_background": "light"
     },
     "output_type": "display_data"
    }
   ],
   "source": [
    "# Load best parameters\n",
    "file_path = os.path.join(output_path,'best_params','best_params_rf_intensity_video.sav')\n",
    "best_params = pickle.load(open(file_path, 'rb'))\n",
    "                   \n",
    "clf = RandomForestClassifier(**best_params)\n",
    "\n",
    "scores = cross_validate(X=X, y=y,\n",
    "                        estimator           = clf,\n",
    "                        scoring             = ['roc_auc_ovo_weighted'],\n",
    "                        cv                  = logo.split(X=X,groups=groups),\n",
    "                        verbose             = 1,\n",
    "                        n_jobs              = -1,\n",
    "                        return_train_score  = True                        \n",
    "                       )\n",
    "\n",
    "print('AUC_avg (train):', np.mean(scores['train_roc_auc_ovo_weighted']))\n",
    "print('AUC_std (train):', np.std(scores['train_roc_auc_ovo_weighted']))\n",
    "print('AUC_avg (validation):', np.mean(scores['test_roc_auc_ovo_weighted']))\n",
    "print('AUC_std (validation):', np.std(scores['test_roc_auc_ovo_weighted']))\n",
    "\n",
    "scores = cross_validate(X=X, y=y,\n",
    "                        estimator           = clf,\n",
    "                        scoring             = ['recall_macro'],\n",
    "                        cv                  = logo.split(X=X,groups=groups),\n",
    "                        verbose             = 1,\n",
    "                        n_jobs              = -1,\n",
    "                        return_train_score  = True                        \n",
    "                       )\n",
    "\n",
    "print('UAR_avg (train):', np.mean(scores['train_recall_macro']))\n",
    "print('UAR_std (train):', np.std(scores['train_recall_macro']))\n",
    "print('UAR_avg (validation):', np.mean(scores['test_recall_macro']))\n",
    "print('UAR_std (validation):', np.std(scores['test_recall_macro']))\n",
    "\n",
    "# Create confusion matrix\n",
    "df_cm = get_conf_matrix(X=X,\n",
    "                        y=y,\n",
    "                        cv=logo.split(X=X, groups=groups),\n",
    "                        clf=clf,\n",
    "                        )\n",
    "# Plot confusion matrix\n",
    "plot_conf_matrix(df_cm, title='Random Forest Normalized Confusion Matrix (Video Intensity Validation Set)')\n",
    "\n",
    "# Save confusion matrix\n",
    "save_conf_matrix(file_name='conf_mat_rf_intensity_video.svg')"
   ]
  }
 ],
 "metadata": {
  "kernelspec": {
   "display_name": "Python 3 (ipykernel)",
   "language": "python",
   "name": "python3"
  },
  "language_info": {
   "codemirror_mode": {
    "name": "ipython",
    "version": 3
   },
   "file_extension": ".py",
   "mimetype": "text/x-python",
   "name": "python",
   "nbconvert_exporter": "python",
   "pygments_lexer": "ipython3",
   "version": "3.8.13"
  }
 },
 "nbformat": 4,
 "nbformat_minor": 5
}
