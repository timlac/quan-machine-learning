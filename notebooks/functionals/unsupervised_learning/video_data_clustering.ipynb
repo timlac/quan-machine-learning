{
 "cells": [
  {
   "cell_type": "code",
   "execution_count": 89,
   "id": "766a981e-385c-4637-bb94-6d045b73ccd0",
   "metadata": {},
   "outputs": [],
   "source": [
    "import os\n",
    "import sys\n",
    "\n",
    "from tqdm import tqdm\n",
    "import numpy as np\n",
    "import matplotlib.pyplot as plt\n",
    "\n",
    "import seaborn as sns\n",
    "import pandas as pd\n",
    "import sklearn as sk\n",
    "import pickle\n",
    "import copy\n",
    "import time\n",
    "\n",
    "from sklearn.preprocessing import MinMaxScaler\n",
    "from sklearn.cluster import KMeans\n",
    "from sklearn.metrics import silhouette_score\n",
    "\n",
    "# Feature importances via Decision Tree\n",
    "from sklearn.tree import DecisionTreeClassifier\n",
    "from sklearn.tree import export_graphviz\n",
    "from sklearn.model_selection import train_test_split\n",
    "\n",
    "from scipy.cluster.hierarchy import linkage, cut_tree"
   ]
  },
  {
   "cell_type": "code",
   "execution_count": 4,
   "id": "1a48a7f0-2f87-418a-951e-ada08bf57812",
   "metadata": {},
   "outputs": [],
   "source": [
    "module_path = os.path.abspath(os.path.join('../../../'))\n",
    "if module_path not in sys.path:\n",
    "    sys.path.append(module_path)"
   ]
  },
  {
   "cell_type": "code",
   "execution_count": 46,
   "id": "581efaa0-7504-4a24-b43a-5e948d83e879",
   "metadata": {},
   "outputs": [],
   "source": [
    "from global_config import *\n",
    "from src.utils.helpers import get_emotion_abrs_from_ids"
   ]
  },
  {
   "cell_type": "markdown",
   "id": "d51df920-96fc-4d0a-8396-d15c2f1db4cc",
   "metadata": {},
   "source": [
    "## Paths"
   ]
  },
  {
   "cell_type": "code",
   "execution_count": 83,
   "id": "bc50bc02-a430-4eae-a313-4f25dcfc0ebc",
   "metadata": {},
   "outputs": [],
   "source": [
    "input_path = os.path.join(ROOT_DIR,'files/tests/preprocessing/dataset_creation/video_data_functionals_A220.npz')\n",
    "output_path = os.path.join(ROOT_DIR,'files/out/functionals/unsupervised_learning/video')"
   ]
  },
  {
   "cell_type": "code",
   "execution_count": 84,
   "id": "2429fc68-57e0-4607-b077-01bf060f2f94",
   "metadata": {},
   "outputs": [],
   "source": [
    "npz_file = np.load(input_path, allow_pickle=True)\n",
    "X = npz_file['x']\n",
    "y = npz_file['y']\n",
    "col_names = npz_file['col_names']"
   ]
  },
  {
   "cell_type": "code",
   "execution_count": 71,
   "id": "522aee27-f63c-4595-824f-8ed1e7d5acfa",
   "metadata": {},
   "outputs": [],
   "source": [
    "scaler = MinMaxScaler()\n",
    "X = scaler.fit_transform(X)"
   ]
  },
  {
   "cell_type": "markdown",
   "id": "8105cc72-b460-44b2-af18-9e81908a28bf",
   "metadata": {},
   "source": [
    "## K Means"
   ]
  },
  {
   "cell_type": "markdown",
   "id": "c15cbb2c-a8a1-4675-873e-d80f4cb74452",
   "metadata": {},
   "source": [
    "### CH index"
   ]
  },
  {
   "cell_type": "code",
   "execution_count": 28,
   "id": "35d61e2c-d77d-444c-a8a5-e05b32e1d33f",
   "metadata": {},
   "outputs": [
    {
     "name": "stderr",
     "output_type": "stream",
     "text": [
      "100%|███████████████████████████████████████████| 98/98 [04:42<00:00,  2.89s/it]\n"
     ]
    },
    {
     "ename": "NameError",
     "evalue": "name 'output_path' is not defined",
     "output_type": "error",
     "traceback": [
      "\u001b[0;31m---------------------------------------------------------------------------\u001b[0m",
      "\u001b[0;31mNameError\u001b[0m                                 Traceback (most recent call last)",
      "Input \u001b[0;32mIn [28]\u001b[0m, in \u001b[0;36m<cell line: 19>\u001b[0;34m()\u001b[0m\n\u001b[1;32m     16\u001b[0m     results\u001b[38;5;241m.\u001b[39mappend([k,WCSS_k,BCSS_k,CH_k])\n\u001b[1;32m     18\u001b[0m results_df \u001b[38;5;241m=\u001b[39m pd\u001b[38;5;241m.\u001b[39mDataFrame(results, columns\u001b[38;5;241m=\u001b[39m[\u001b[38;5;124m'\u001b[39m\u001b[38;5;124mk\u001b[39m\u001b[38;5;124m'\u001b[39m,\u001b[38;5;124m'\u001b[39m\u001b[38;5;124mWCSS\u001b[39m\u001b[38;5;124m'\u001b[39m,\u001b[38;5;124m'\u001b[39m\u001b[38;5;124mBCSS\u001b[39m\u001b[38;5;124m'\u001b[39m,\u001b[38;5;124m'\u001b[39m\u001b[38;5;124mCH_index\u001b[39m\u001b[38;5;124m'\u001b[39m])\n\u001b[0;32m---> 19\u001b[0m results_df\u001b[38;5;241m.\u001b[39mto_csv(os\u001b[38;5;241m.\u001b[39mpath\u001b[38;5;241m.\u001b[39mjoin(\u001b[43moutput_path\u001b[49m,\u001b[38;5;124m'\u001b[39m\u001b[38;5;124mresults\u001b[39m\u001b[38;5;124m'\u001b[39m,\u001b[38;5;124m'\u001b[39m\u001b[38;5;124mch_kmeans_before_dim_red.csv\u001b[39m\u001b[38;5;124m'\u001b[39m), index\u001b[38;5;241m=\u001b[39m\u001b[38;5;28;01mNone\u001b[39;00m, header\u001b[38;5;241m=\u001b[39m\u001b[38;5;28;01mTrue\u001b[39;00m)\n",
      "\u001b[0;31mNameError\u001b[0m: name 'output_path' is not defined"
     ]
    }
   ],
   "source": [
    "def calculateBCSS(X, km):\n",
    "    _, label_counts = np.unique(km.labels_, return_counts = True)\n",
    "    diff_cluster_sq = np.linalg.norm(km.cluster_centers_ - np.mean(X,axis=0), axis=1)**2\n",
    "    return sum(label_counts * diff_cluster_sq)\n",
    "\n",
    "# Initialize variables\n",
    "results = []\n",
    "K_max = 100\n",
    "K = range(2,K_max)\n",
    "for k in tqdm(K):\n",
    "    km = KMeans(n_clusters=k, n_init=100, random_state=seed)\n",
    "    km = km.fit(X)\n",
    "    WCSS_k = km.inertia_\n",
    "    BCSS_k = calculateBCSS(X,km)\n",
    "    CH_k = (BCSS_k/WCSS_k)*((len(X)-k)/(k-1))\n",
    "    results.append([k,WCSS_k,BCSS_k,CH_k])\n",
    "\n",
    "results_df = pd.DataFrame(results, columns=['k','WCSS','BCSS','CH_index'])\n",
    "results_df.to_csv(os.path.join(output_path,'results','ch_kmeans_before_dim_red.csv'), index=None, header=True)"
   ]
  },
  {
   "cell_type": "code",
   "execution_count": 30,
   "id": "c2e15eb9-7411-4d6c-ad66-8681f91ad251",
   "metadata": {},
   "outputs": [],
   "source": [
    "results_df.to_csv(os.path.join(output_path,'results','ch_kmeans_before_dim_red.csv'), index=None, header=True)"
   ]
  },
  {
   "cell_type": "code",
   "execution_count": 34,
   "id": "f16f03c2-1809-440f-af2a-873f00456ba0",
   "metadata": {},
   "outputs": [
    {
     "data": {
      "text/html": [
       "<div>\n",
       "<style scoped>\n",
       "    .dataframe tbody tr th:only-of-type {\n",
       "        vertical-align: middle;\n",
       "    }\n",
       "\n",
       "    .dataframe tbody tr th {\n",
       "        vertical-align: top;\n",
       "    }\n",
       "\n",
       "    .dataframe thead th {\n",
       "        text-align: right;\n",
       "    }\n",
       "</style>\n",
       "<table border=\"1\" class=\"dataframe\">\n",
       "  <thead>\n",
       "    <tr style=\"text-align: right;\">\n",
       "      <th></th>\n",
       "      <th>k</th>\n",
       "      <th>WCSS</th>\n",
       "      <th>BCSS</th>\n",
       "      <th>CH_index</th>\n",
       "    </tr>\n",
       "  </thead>\n",
       "  <tbody>\n",
       "    <tr>\n",
       "      <th>0</th>\n",
       "      <td>2</td>\n",
       "      <td>799.324106</td>\n",
       "      <td>202.032366</td>\n",
       "      <td>88.463900</td>\n",
       "    </tr>\n",
       "    <tr>\n",
       "      <th>1</th>\n",
       "      <td>3</td>\n",
       "      <td>730.276110</td>\n",
       "      <td>271.080363</td>\n",
       "      <td>64.774847</td>\n",
       "    </tr>\n",
       "    <tr>\n",
       "      <th>2</th>\n",
       "      <td>4</td>\n",
       "      <td>684.197539</td>\n",
       "      <td>317.158934</td>\n",
       "      <td>53.771658</td>\n",
       "    </tr>\n",
       "    <tr>\n",
       "      <th>3</th>\n",
       "      <td>5</td>\n",
       "      <td>650.374679</td>\n",
       "      <td>350.981794</td>\n",
       "      <td>46.815584</td>\n",
       "    </tr>\n",
       "    <tr>\n",
       "      <th>4</th>\n",
       "      <td>6</td>\n",
       "      <td>619.040254</td>\n",
       "      <td>382.316219</td>\n",
       "      <td>42.737580</td>\n",
       "    </tr>\n",
       "    <tr>\n",
       "      <th>...</th>\n",
       "      <td>...</td>\n",
       "      <td>...</td>\n",
       "      <td>...</td>\n",
       "      <td>...</td>\n",
       "    </tr>\n",
       "    <tr>\n",
       "      <th>93</th>\n",
       "      <td>95</td>\n",
       "      <td>239.237217</td>\n",
       "      <td>762.119256</td>\n",
       "      <td>8.709625</td>\n",
       "    </tr>\n",
       "    <tr>\n",
       "      <th>94</th>\n",
       "      <td>96</td>\n",
       "      <td>236.738698</td>\n",
       "      <td>764.617774</td>\n",
       "      <td>8.703451</td>\n",
       "    </tr>\n",
       "    <tr>\n",
       "      <th>95</th>\n",
       "      <td>97</td>\n",
       "      <td>235.380871</td>\n",
       "      <td>765.975602</td>\n",
       "      <td>8.643959</td>\n",
       "    </tr>\n",
       "    <tr>\n",
       "      <th>96</th>\n",
       "      <td>98</td>\n",
       "      <td>233.037490</td>\n",
       "      <td>768.318983</td>\n",
       "      <td>8.633318</td>\n",
       "    </tr>\n",
       "    <tr>\n",
       "      <th>97</th>\n",
       "      <td>99</td>\n",
       "      <td>232.663863</td>\n",
       "      <td>768.692609</td>\n",
       "      <td>8.529395</td>\n",
       "    </tr>\n",
       "  </tbody>\n",
       "</table>\n",
       "<p>98 rows × 4 columns</p>\n",
       "</div>"
      ],
      "text/plain": [
       "     k        WCSS        BCSS   CH_index\n",
       "0    2  799.324106  202.032366  88.463900\n",
       "1    3  730.276110  271.080363  64.774847\n",
       "2    4  684.197539  317.158934  53.771658\n",
       "3    5  650.374679  350.981794  46.815584\n",
       "4    6  619.040254  382.316219  42.737580\n",
       "..  ..         ...         ...        ...\n",
       "93  95  239.237217  762.119256   8.709625\n",
       "94  96  236.738698  764.617774   8.703451\n",
       "95  97  235.380871  765.975602   8.643959\n",
       "96  98  233.037490  768.318983   8.633318\n",
       "97  99  232.663863  768.692609   8.529395\n",
       "\n",
       "[98 rows x 4 columns]"
      ]
     },
     "execution_count": 34,
     "metadata": {},
     "output_type": "execute_result"
    }
   ],
   "source": [
    "results_df"
   ]
  },
  {
   "cell_type": "code",
   "execution_count": 32,
   "id": "7b19958f-0416-4698-9524-aeeb47236188",
   "metadata": {},
   "outputs": [
    {
     "data": {
      "image/png": "[encoded data removed]",
      "text/plain": [
       "<Figure size 360x360 with 1 Axes>"
      ]
     },
     "metadata": {
      "needs_background": "light"
     },
     "output_type": "display_data"
    },
    {
     "data": {
      "image/png": "[encoded data removed]",
      "text/plain": [
       "<Figure size 360x360 with 1 Axes>"
      ]
     },
     "metadata": {
      "needs_background": "light"
     },
     "output_type": "display_data"
    },
    {
     "data": {
      "image/png": "[encoded data removed]",
      "text/plain": [
       "<Figure size 360x360 with 1 Axes>"
      ]
     },
     "metadata": {
      "needs_background": "light"
     },
     "output_type": "display_data"
    }
   ],
   "source": [
    "results_df = pd.read_csv(os.path.join(output_path,'results','ch_kmeans_before_dim_red.csv'))\n",
    "\n",
    "plt.figure(figsize=[5,5])\n",
    "sns.lineplot('k', 'WCSS', marker='o', data=results_df, color=blue_rgb)\n",
    "plt.xlabel('k')\n",
    "plt.ylabel('Within-Cluster Variation')\n",
    "plt.grid(axis='x')\n",
    "plt.savefig(os.path.join(output_path,'charts','ch_wcss_kmeans_before_dim_red.svg'), bbox_inches = 'tight')\n",
    "plt.show()\n",
    "\n",
    "plt.figure(figsize=[5,5])\n",
    "sns.lineplot('k', 'BCSS', marker='o', data=results_df, color=blue_rgb)\n",
    "plt.xlabel('k')\n",
    "plt.ylabel('Between-Cluster Variation')\n",
    "plt.grid(axis='x')\n",
    "plt.savefig(os.path.join(output_path,'charts','ch_bcss_kmeans_before_dim_red.svg'), bbox_inches = 'tight')\n",
    "plt.show()\n",
    "\n",
    "plt.figure(figsize=[5,5])\n",
    "sns.lineplot('k', 'CH_index', marker='o', data=results_df, color=blue_rgb)\n",
    "plt.xlabel('k')\n",
    "plt.ylabel('CH Index')\n",
    "plt.grid(axis='x')\n",
    "plt.savefig(os.path.join(output_path,'charts','report_ch_kmeans_before_dim_red.svg'), bbox_inches = 'tight')\n",
    "plt.show()"
   ]
  },
  {
   "cell_type": "markdown",
   "id": "48067740-ec46-45a8-83a9-9a7e6a5787ec",
   "metadata": {},
   "source": [
    "### Average Silhoutte Value"
   ]
  },
  {
   "cell_type": "code",
   "execution_count": 37,
   "id": "ca9c257f-9500-44b8-b1bf-ed878565e6db",
   "metadata": {},
   "outputs": [
    {
     "name": "stderr",
     "output_type": "stream",
     "text": [
      "100%|███████████████████████████████████████████| 98/98 [04:22<00:00,  2.68s/it]\n"
     ]
    }
   ],
   "source": [
    "# Initialize variables\n",
    "results = []          \n",
    "K_max = 100\n",
    "K = range(2,K_max)\n",
    "for k in tqdm(K):\n",
    "    km = KMeans(n_clusters=k, n_init=100, random_state=seed)\n",
    "    cluster_labels = km.fit_predict(X)\n",
    "    silhouette_avg_k = silhouette_score(X, cluster_labels)\n",
    "    results.append([k,silhouette_avg_k])\n",
    "results_df = pd.DataFrame(results,columns=['k','silhouette_avg'])\n",
    "results_df.to_csv(os.path.join(output_path,'results','silhouette_kmeans_before_dim_red.csv'), index=None, header=True)"
   ]
  },
  {
   "cell_type": "code",
   "execution_count": 39,
   "id": "64494561-19a0-46a6-8326-157410e51124",
   "metadata": {},
   "outputs": [
    {
     "data": {
      "text/html": [
       "<div>\n",
       "<style scoped>\n",
       "    .dataframe tbody tr th:only-of-type {\n",
       "        vertical-align: middle;\n",
       "    }\n",
       "\n",
       "    .dataframe tbody tr th {\n",
       "        vertical-align: top;\n",
       "    }\n",
       "\n",
       "    .dataframe thead th {\n",
       "        text-align: right;\n",
       "    }\n",
       "</style>\n",
       "<table border=\"1\" class=\"dataframe\">\n",
       "  <thead>\n",
       "    <tr style=\"text-align: right;\">\n",
       "      <th></th>\n",
       "      <th>k</th>\n",
       "      <th>silhouette_avg</th>\n",
       "    </tr>\n",
       "  </thead>\n",
       "  <tbody>\n",
       "    <tr>\n",
       "      <th>0</th>\n",
       "      <td>2</td>\n",
       "      <td>0.197917</td>\n",
       "    </tr>\n",
       "    <tr>\n",
       "      <th>1</th>\n",
       "      <td>3</td>\n",
       "      <td>0.167465</td>\n",
       "    </tr>\n",
       "    <tr>\n",
       "      <th>2</th>\n",
       "      <td>4</td>\n",
       "      <td>0.112945</td>\n",
       "    </tr>\n",
       "    <tr>\n",
       "      <th>3</th>\n",
       "      <td>5</td>\n",
       "      <td>0.114033</td>\n",
       "    </tr>\n",
       "    <tr>\n",
       "      <th>4</th>\n",
       "      <td>6</td>\n",
       "      <td>0.114068</td>\n",
       "    </tr>\n",
       "    <tr>\n",
       "      <th>...</th>\n",
       "      <td>...</td>\n",
       "      <td>...</td>\n",
       "    </tr>\n",
       "    <tr>\n",
       "      <th>93</th>\n",
       "      <td>95</td>\n",
       "      <td>0.061303</td>\n",
       "    </tr>\n",
       "    <tr>\n",
       "      <th>94</th>\n",
       "      <td>96</td>\n",
       "      <td>0.057604</td>\n",
       "    </tr>\n",
       "    <tr>\n",
       "      <th>95</th>\n",
       "      <td>97</td>\n",
       "      <td>0.054020</td>\n",
       "    </tr>\n",
       "    <tr>\n",
       "      <th>96</th>\n",
       "      <td>98</td>\n",
       "      <td>0.062711</td>\n",
       "    </tr>\n",
       "    <tr>\n",
       "      <th>97</th>\n",
       "      <td>99</td>\n",
       "      <td>0.068229</td>\n",
       "    </tr>\n",
       "  </tbody>\n",
       "</table>\n",
       "<p>98 rows × 2 columns</p>\n",
       "</div>"
      ],
      "text/plain": [
       "     k  silhouette_avg\n",
       "0    2        0.197917\n",
       "1    3        0.167465\n",
       "2    4        0.112945\n",
       "3    5        0.114033\n",
       "4    6        0.114068\n",
       "..  ..             ...\n",
       "93  95        0.061303\n",
       "94  96        0.057604\n",
       "95  97        0.054020\n",
       "96  98        0.062711\n",
       "97  99        0.068229\n",
       "\n",
       "[98 rows x 2 columns]"
      ]
     },
     "execution_count": 39,
     "metadata": {},
     "output_type": "execute_result"
    }
   ],
   "source": [
    "results_df"
   ]
  },
  {
   "cell_type": "code",
   "execution_count": 38,
   "id": "605d4bc7-c0f3-4a5d-85f0-c6ec4396d38b",
   "metadata": {
    "tags": []
   },
   "outputs": [
    {
     "data": {
      "image/png": "[encoded data removed]",
      "text/plain": [
       "<Figure size 360x360 with 1 Axes>"
      ]
     },
     "metadata": {
      "needs_background": "light"
     },
     "output_type": "display_data"
    }
   ],
   "source": [
    "results_df = pd.read_csv(os.path.join(output_path,'results','silhouette_kmeans_before_dim_red.csv'))\n",
    "\n",
    "plt.figure(figsize=(5,5))\n",
    "sns.lineplot(x='k', y='silhouette_avg', marker='o', data=results_df, color=blue_rgb)\n",
    "plt.xlabel('k')\n",
    "plt.ylabel('Silhouette Score')\n",
    "plt.grid(axis='x')\n",
    "plt.savefig(os.path.join(output_path,'charts','report_silhouette_kmeans_before_dim_red.svg'), bbox_inches = 'tight')"
   ]
  },
  {
   "cell_type": "markdown",
   "id": "2b783b93-55da-4e89-ab0b-c9520bb729a1",
   "metadata": {},
   "source": [
    "### Result"
   ]
  },
  {
   "cell_type": "code",
   "execution_count": 76,
   "id": "12841da8-0d42-4404-98d8-51a2cb0a01a5",
   "metadata": {},
   "outputs": [
    {
     "data": {
      "image/png": "[encoded data removed]",
      "text/plain": [
       "<Figure size 1656x360 with 1 Axes>"
      ]
     },
     "metadata": {
      "needs_background": "light"
     },
     "output_type": "display_data"
    }
   ],
   "source": [
    "km = KMeans(n_clusters=2, n_init=100, random_state=seed)\n",
    "labels = km.fit_predict(X)\n",
    "\n",
    "tmp_df = pd.DataFrame(data=X)\n",
    "tmp_df['cluster'] = labels\n",
    "tmp_df[\"emotion_id\"] = get_emotion_abrs_from_ids(y)\n",
    "\n",
    "emotion_cluster = tmp_df.groupby(['emotion_id','cluster']).agg({0:'count'}).rename(columns={0:'counts'})\n",
    "perc_df = emotion_cluster.groupby(level=0).apply(lambda x: 100 * x / x.sum()).reset_index().rename(columns={'counts':'percentage'})\n",
    "\n",
    "plt.figure(figsize=[23,5])\n",
    "sns.barplot(x='emotion_id', y='percentage', hue='cluster', data=perc_df, saturation=sns_saturation, palette=palette_def)\n",
    "plt.xlabel('Emotion ID')\n",
    "plt.ylabel('Percentage of Files (%)')\n",
    "plt.legend(title='Cluster', loc='upper right', bbox_to_anchor=(1.09, 1))\n",
    "plt.savefig(os.path.join(output_path,'charts','report_k_kmeans_k_2_before_dim_red.svg'), bbox_inches = 'tight')\n",
    "plt.title('k-Means Clustering (k=2) (before dimensionality reduction)')\n",
    "plt.savefig(os.path.join(output_path,'charts','k_kmeans_k_2_before_dim_red.svg'), bbox_inches = 'tight')\n",
    "plt.show()"
   ]
  },
  {
   "cell_type": "code",
   "execution_count": 85,
   "id": "c2928fc4-3e8d-410d-beb5-ffea4d2dc64f",
   "metadata": {},
   "outputs": [],
   "source": [
    "XX = tmp_df.drop(columns=['emotion_id','cluster'])\n",
    "yy = tmp_df.cluster\n",
    "\n",
    "#X_train, X_test, y_train, y_test = train_test_split(X, y, test_size=0.25, random_state=seed)\n",
    "\n",
    "# MODEL INTERPRETATION VIA DECISION TREE -------------------------------------------------------------------------------------------------------------------------------------------------------------\n",
    "clf = DecisionTreeClassifier(random_state=0)\n",
    "clf.fit(XX,yy)\n",
    "\n",
    "dot_data = export_graphviz(clf,\n",
    "                           out_file = os.path.join(output_path,'others','report_tree_kmeans_k_2_before_dim_red.dot'),\n",
    "                           feature_names = col_names,\n",
    "                           filled = False,\n",
    "                           class_names = ['0','1'],\n",
    "                           max_depth = 3)\n",
    "\n",
    "! dot -Nfontname=Sans-Serif -Efontname=Sans-Serif -Tsvg ../../../files/out/functionals/unsupervised_learning/video/others/report_tree_kmeans_k_2_before_dim_red.dot -o ../../../files/out/functionals/unsupervised_learning/video/others/report_tree_kmeans_k_2_before_dim_red.svg\n",
    "! dot -Nfontname=Sans-Serif -Efontname=Sans-Serif -Tpng ../../../files/out/functionals/unsupervised_learning/video/others/report_tree_kmeans_k_2_before_dim_red.dot -o ../../../files/out/functionals/unsupervised_learning/video/others/report_tree_kmeans_k_2_before_dim_red.png "
   ]
  },
  {
   "cell_type": "code",
   "execution_count": 86,
   "id": "6d0440f5-31cd-4434-a237-75094b9a8815",
   "metadata": {},
   "outputs": [
    {
     "data": {
      "text/html": [
       "<div>\n",
       "<style scoped>\n",
       "    .dataframe tbody tr th:only-of-type {\n",
       "        vertical-align: middle;\n",
       "    }\n",
       "\n",
       "    .dataframe tbody tr th {\n",
       "        vertical-align: top;\n",
       "    }\n",
       "\n",
       "    .dataframe thead th {\n",
       "        text-align: right;\n",
       "    }\n",
       "</style>\n",
       "<table border=\"1\" class=\"dataframe\">\n",
       "  <thead>\n",
       "    <tr style=\"text-align: right;\">\n",
       "      <th></th>\n",
       "      <th>emotion_id</th>\n",
       "      <th>cluster</th>\n",
       "      <th>counts</th>\n",
       "    </tr>\n",
       "  </thead>\n",
       "  <tbody>\n",
       "    <tr>\n",
       "      <th>1</th>\n",
       "      <td>adm</td>\n",
       "      <td>1</td>\n",
       "      <td>7</td>\n",
       "    </tr>\n",
       "    <tr>\n",
       "      <th>2</th>\n",
       "      <td>amu</td>\n",
       "      <td>1</td>\n",
       "      <td>8</td>\n",
       "    </tr>\n",
       "    <tr>\n",
       "      <th>3</th>\n",
       "      <td>ang</td>\n",
       "      <td>0</td>\n",
       "      <td>7</td>\n",
       "    </tr>\n",
       "    <tr>\n",
       "      <th>5</th>\n",
       "      <td>anx</td>\n",
       "      <td>0</td>\n",
       "      <td>8</td>\n",
       "    </tr>\n",
       "    <tr>\n",
       "      <th>7</th>\n",
       "      <td>awe</td>\n",
       "      <td>1</td>\n",
       "      <td>5</td>\n",
       "    </tr>\n",
       "    <tr>\n",
       "      <th>8</th>\n",
       "      <td>bor</td>\n",
       "      <td>0</td>\n",
       "      <td>8</td>\n",
       "    </tr>\n",
       "    <tr>\n",
       "      <th>9</th>\n",
       "      <td>conc</td>\n",
       "      <td>0</td>\n",
       "      <td>8</td>\n",
       "    </tr>\n",
       "    <tr>\n",
       "      <th>10</th>\n",
       "      <td>conf</td>\n",
       "      <td>0</td>\n",
       "      <td>4</td>\n",
       "    </tr>\n",
       "    <tr>\n",
       "      <th>11</th>\n",
       "      <td>conf</td>\n",
       "      <td>1</td>\n",
       "      <td>4</td>\n",
       "    </tr>\n",
       "    <tr>\n",
       "      <th>12</th>\n",
       "      <td>cont</td>\n",
       "      <td>0</td>\n",
       "      <td>8</td>\n",
       "    </tr>\n",
       "    <tr>\n",
       "      <th>13</th>\n",
       "      <td>det</td>\n",
       "      <td>0</td>\n",
       "      <td>8</td>\n",
       "    </tr>\n",
       "    <tr>\n",
       "      <th>14</th>\n",
       "      <td>disa</td>\n",
       "      <td>0</td>\n",
       "      <td>8</td>\n",
       "    </tr>\n",
       "    <tr>\n",
       "      <th>16</th>\n",
       "      <td>disg</td>\n",
       "      <td>1</td>\n",
       "      <td>6</td>\n",
       "    </tr>\n",
       "    <tr>\n",
       "      <th>17</th>\n",
       "      <td>dist</td>\n",
       "      <td>0</td>\n",
       "      <td>8</td>\n",
       "    </tr>\n",
       "    <tr>\n",
       "      <th>19</th>\n",
       "      <td>dou</td>\n",
       "      <td>1</td>\n",
       "      <td>5</td>\n",
       "    </tr>\n",
       "    <tr>\n",
       "      <th>20</th>\n",
       "      <td>ele</td>\n",
       "      <td>0</td>\n",
       "      <td>5</td>\n",
       "    </tr>\n",
       "    <tr>\n",
       "      <th>22</th>\n",
       "      <td>emb</td>\n",
       "      <td>0</td>\n",
       "      <td>5</td>\n",
       "    </tr>\n",
       "    <tr>\n",
       "      <th>24</th>\n",
       "      <td>env</td>\n",
       "      <td>0</td>\n",
       "      <td>8</td>\n",
       "    </tr>\n",
       "    <tr>\n",
       "      <th>26</th>\n",
       "      <td>exc</td>\n",
       "      <td>1</td>\n",
       "      <td>6</td>\n",
       "    </tr>\n",
       "    <tr>\n",
       "      <th>27</th>\n",
       "      <td>fea</td>\n",
       "      <td>0</td>\n",
       "      <td>7</td>\n",
       "    </tr>\n",
       "    <tr>\n",
       "      <th>29</th>\n",
       "      <td>gra</td>\n",
       "      <td>0</td>\n",
       "      <td>6</td>\n",
       "    </tr>\n",
       "    <tr>\n",
       "      <th>31</th>\n",
       "      <td>gui</td>\n",
       "      <td>0</td>\n",
       "      <td>8</td>\n",
       "    </tr>\n",
       "    <tr>\n",
       "      <th>32</th>\n",
       "      <td>hap</td>\n",
       "      <td>1</td>\n",
       "      <td>8</td>\n",
       "    </tr>\n",
       "    <tr>\n",
       "      <th>33</th>\n",
       "      <td>hop</td>\n",
       "      <td>0</td>\n",
       "      <td>6</td>\n",
       "    </tr>\n",
       "    <tr>\n",
       "      <th>35</th>\n",
       "      <td>ins</td>\n",
       "      <td>0</td>\n",
       "      <td>8</td>\n",
       "    </tr>\n",
       "    <tr>\n",
       "      <th>36</th>\n",
       "      <td>int</td>\n",
       "      <td>0</td>\n",
       "      <td>5</td>\n",
       "    </tr>\n",
       "    <tr>\n",
       "      <th>39</th>\n",
       "      <td>mov</td>\n",
       "      <td>1</td>\n",
       "      <td>7</td>\n",
       "    </tr>\n",
       "    <tr>\n",
       "      <th>40</th>\n",
       "      <td>neg_sur</td>\n",
       "      <td>0</td>\n",
       "      <td>8</td>\n",
       "    </tr>\n",
       "    <tr>\n",
       "      <th>41</th>\n",
       "      <td>neu</td>\n",
       "      <td>0</td>\n",
       "      <td>8</td>\n",
       "    </tr>\n",
       "    <tr>\n",
       "      <th>43</th>\n",
       "      <td>nos</td>\n",
       "      <td>1</td>\n",
       "      <td>7</td>\n",
       "    </tr>\n",
       "    <tr>\n",
       "      <th>44</th>\n",
       "      <td>pea</td>\n",
       "      <td>0</td>\n",
       "      <td>6</td>\n",
       "    </tr>\n",
       "    <tr>\n",
       "      <th>47</th>\n",
       "      <td>ple</td>\n",
       "      <td>1</td>\n",
       "      <td>7</td>\n",
       "    </tr>\n",
       "    <tr>\n",
       "      <th>48</th>\n",
       "      <td>pos_sur</td>\n",
       "      <td>0</td>\n",
       "      <td>4</td>\n",
       "    </tr>\n",
       "    <tr>\n",
       "      <th>49</th>\n",
       "      <td>pos_sur</td>\n",
       "      <td>1</td>\n",
       "      <td>4</td>\n",
       "    </tr>\n",
       "    <tr>\n",
       "      <th>50</th>\n",
       "      <td>pri</td>\n",
       "      <td>1</td>\n",
       "      <td>8</td>\n",
       "    </tr>\n",
       "    <tr>\n",
       "      <th>51</th>\n",
       "      <td>reg</td>\n",
       "      <td>0</td>\n",
       "      <td>8</td>\n",
       "    </tr>\n",
       "    <tr>\n",
       "      <th>52</th>\n",
       "      <td>rej</td>\n",
       "      <td>0</td>\n",
       "      <td>8</td>\n",
       "    </tr>\n",
       "    <tr>\n",
       "      <th>53</th>\n",
       "      <td>rel</td>\n",
       "      <td>0</td>\n",
       "      <td>8</td>\n",
       "    </tr>\n",
       "    <tr>\n",
       "      <th>54</th>\n",
       "      <td>sad</td>\n",
       "      <td>0</td>\n",
       "      <td>7</td>\n",
       "    </tr>\n",
       "    <tr>\n",
       "      <th>57</th>\n",
       "      <td>sar</td>\n",
       "      <td>1</td>\n",
       "      <td>6</td>\n",
       "    </tr>\n",
       "    <tr>\n",
       "      <th>58</th>\n",
       "      <td>sat</td>\n",
       "      <td>1</td>\n",
       "      <td>8</td>\n",
       "    </tr>\n",
       "    <tr>\n",
       "      <th>59</th>\n",
       "      <td>scha</td>\n",
       "      <td>1</td>\n",
       "      <td>8</td>\n",
       "    </tr>\n",
       "    <tr>\n",
       "      <th>60</th>\n",
       "      <td>sex</td>\n",
       "      <td>0</td>\n",
       "      <td>8</td>\n",
       "    </tr>\n",
       "    <tr>\n",
       "      <th>61</th>\n",
       "      <td>sha</td>\n",
       "      <td>0</td>\n",
       "      <td>8</td>\n",
       "    </tr>\n",
       "    <tr>\n",
       "      <th>62</th>\n",
       "      <td>ten</td>\n",
       "      <td>1</td>\n",
       "      <td>8</td>\n",
       "    </tr>\n",
       "    <tr>\n",
       "      <th>63</th>\n",
       "      <td>tri</td>\n",
       "      <td>1</td>\n",
       "      <td>8</td>\n",
       "    </tr>\n",
       "  </tbody>\n",
       "</table>\n",
       "</div>"
      ],
      "text/plain": [
       "   emotion_id  cluster  counts\n",
       "1         adm        1       7\n",
       "2         amu        1       8\n",
       "3         ang        0       7\n",
       "5         anx        0       8\n",
       "7         awe        1       5\n",
       "8         bor        0       8\n",
       "9        conc        0       8\n",
       "10       conf        0       4\n",
       "11       conf        1       4\n",
       "12       cont        0       8\n",
       "13        det        0       8\n",
       "14       disa        0       8\n",
       "16       disg        1       6\n",
       "17       dist        0       8\n",
       "19        dou        1       5\n",
       "20        ele        0       5\n",
       "22        emb        0       5\n",
       "24        env        0       8\n",
       "26        exc        1       6\n",
       "27        fea        0       7\n",
       "29        gra        0       6\n",
       "31        gui        0       8\n",
       "32        hap        1       8\n",
       "33        hop        0       6\n",
       "35        ins        0       8\n",
       "36        int        0       5\n",
       "39        mov        1       7\n",
       "40    neg_sur        0       8\n",
       "41        neu        0       8\n",
       "43        nos        1       7\n",
       "44        pea        0       6\n",
       "47        ple        1       7\n",
       "48    pos_sur        0       4\n",
       "49    pos_sur        1       4\n",
       "50        pri        1       8\n",
       "51        reg        0       8\n",
       "52        rej        0       8\n",
       "53        rel        0       8\n",
       "54        sad        0       7\n",
       "57        sar        1       6\n",
       "58        sat        1       8\n",
       "59       scha        1       8\n",
       "60        sex        0       8\n",
       "61        sha        0       8\n",
       "62        ten        1       8\n",
       "63        tri        1       8"
      ]
     },
     "execution_count": 86,
     "metadata": {},
     "output_type": "execute_result"
    }
   ],
   "source": [
    "df_tmp = emotion_cluster.reset_index()\n",
    "idx = df_tmp.groupby(['emotion_id'])['counts'].transform(max) == df_tmp['counts']\n",
    "df_tmp[idx]"
   ]
  },
  {
   "cell_type": "markdown",
   "id": "650b047b-38cc-4192-a3bd-2e3803d15b55",
   "metadata": {},
   "source": [
    "## Hierachial Clustering"
   ]
  },
  {
   "cell_type": "markdown",
   "id": "72841ed8-3677-4b1b-85cc-d9bbcd3d1628",
   "metadata": {},
   "source": [
    "### CH index"
   ]
  },
  {
   "cell_type": "code",
   "execution_count": 92,
   "id": "9363a57e-973d-49f5-afd0-8d502615025b",
   "metadata": {},
   "outputs": [
    {
     "name": "stderr",
     "output_type": "stream",
     "text": [
      "100%|█████████████████████████████████████████████| 3/3 [01:00<00:00, 20.33s/it]\n"
     ]
    }
   ],
   "source": [
    "def getCentroids(X,clusters,labels):\n",
    "    X_tmp = pd.DataFrame(data=X)\n",
    "    X_tmp['cluster'] = clusters    \n",
    "    #centroids = {l: X_tmp.loc[X_tmp['cluster'] == l].mean().values for l in labels}\n",
    "    centroids = [X_tmp.drop(columns='cluster').loc[X_tmp['cluster'] == l].mean().values for l in labels]\n",
    "    return centroids\n",
    "\n",
    "def calculateWCSS(X, clusters):\n",
    "    labels, label_counts = np.unique(clusters, return_counts = True)\n",
    "    X_tmp = pd.DataFrame(data=X)\n",
    "    X_tmp['cluster'] = clusters\n",
    "    centroids = getCentroids(X,clusters,labels)\n",
    "    diff_cluster_sq = [np.linalg.norm(X_tmp.drop(columns='cluster').loc[X_tmp['cluster'] == l] - centroids[l])**2 for l in labels]\n",
    "    return sum(diff_cluster_sq)\n",
    "\n",
    "def calculateBCSS(X, clusters):\n",
    "    labels, label_counts = np.unique(clusters, return_counts = True)\n",
    "    diff_cluster_sq = np.linalg.norm(getCentroids(X,clusters,labels) - np.mean(X,axis=0), axis=1)**2\n",
    "    return sum(label_counts * diff_cluster_sq)\n",
    "\n",
    "\n",
    "\n",
    "K_max = 100\n",
    "K = range(2,K_max)\n",
    "method_values = ['single','complete','weighted']\n",
    "results = []\n",
    "for method in tqdm(method_values):\n",
    "    links = linkage(X, method=method, metric='cityblock')\n",
    "    \n",
    "    for k in K:\n",
    "        clusters = cut_tree(links, n_clusters=k)\n",
    "        WCSS_k = calculateWCSS(X, clusters)\n",
    "        BCSS_k = calculateBCSS(X, clusters)\n",
    "        CH_k = (BCSS_k/WCSS_k)*((len(X)-k)/(k-1))\n",
    "        results.append([method,\n",
    "                        k,\n",
    "                        WCSS_k,\n",
    "                        BCSS_k,\n",
    "                        CH_k]\n",
    "                      )\n",
    "results_df = pd.DataFrame(results,columns=['method','k','WCSS','BCSS','CH_index'])\n",
    "results_df.to_csv(os.path.join(output_path,'results','ch_hier_clust_before_dim_red.csv'), index=None, header=True)"
   ]
  },
  {
   "cell_type": "code",
   "execution_count": 95,
   "id": "5fdd680e-8d4a-4ede-a9a3-ea75464a62ad",
   "metadata": {},
   "outputs": [
    {
     "data": {
      "image/png": "[encoded data removed]",
      "text/plain": [
       "<Figure size 360x360 with 1 Axes>"
      ]
     },
     "metadata": {
      "needs_background": "light"
     },
     "output_type": "display_data"
    },
    {
     "data": {
      "image/png": "[encoded data removed]",
      "text/plain": [
       "<Figure size 360x360 with 1 Axes>"
      ]
     },
     "metadata": {
      "needs_background": "light"
     },
     "output_type": "display_data"
    },
    {
     "data": {
      "image/png": "[encoded data removed]",
      "text/plain": [
       "<Figure size 360x360 with 1 Axes>"
      ]
     },
     "metadata": {
      "needs_background": "light"
     },
     "output_type": "display_data"
    }
   ],
   "source": [
    "results_df = pd.read_csv(os.path.join(output_path,'results','ch_hier_clust_before_dim_red.csv'))\n",
    "\n",
    "plt.figure(figsize=[5,5])\n",
    "sns.lineplot(x='k', y='WCSS', marker='o', hue='method', data=results_df)\n",
    "plt.xlabel('k')\n",
    "plt.ylabel('Within-Cluster Variation')\n",
    "plt.grid(axis='x')\n",
    "plt.legend(labels=results_df['method'].unique(), title='Method', loc='upper right')\n",
    "plt.savefig(os.path.join(output_path,'charts','ch_wcss_hier_clust_before_dim_red.svg'), bbox_inches = 'tight')\n",
    "plt.show()\n",
    "\n",
    "plt.figure(figsize=[5,5])\n",
    "sns.lineplot(x='k', y='BCSS', marker='o', hue='method', data=results_df)\n",
    "plt.xlabel('k')\n",
    "plt.ylabel('Between-Cluster Variation')\n",
    "plt.grid(axis='x')\n",
    "plt.legend(labels=results_df['method'].unique(), title='Method', loc='upper right')\n",
    "plt.savefig(os.path.join(output_path,'charts','ch_bcss_hier_clust_before_dim_red.svg'), bbox_inches = 'tight')\n",
    "plt.show()\n",
    "\n",
    "plt.figure(figsize=[5,5])\n",
    "sns.lineplot(x='k', y='CH_index', marker='o', hue='method', data=results_df)\n",
    "plt.xlabel('k')\n",
    "plt.ylabel('CH Index')\n",
    "plt.grid(axis='x')\n",
    "plt.legend(labels=results_df['method'].unique(), title='Method', loc='upper right')\n",
    "plt.savefig(os.path.join(output_path,'charts','report_ch_hier_clust_before_dim_red.svg'), bbox_inches = 'tight')\n",
    "plt.show()"
   ]
  },
  {
   "cell_type": "code",
   "execution_count": 96,
   "id": "f31d09e5-55d7-4bc6-8eb5-e4234687728e",
   "metadata": {},
   "outputs": [
    {
     "data": {
      "text/html": [
       "<div>\n",
       "<style scoped>\n",
       "    .dataframe tbody tr th:only-of-type {\n",
       "        vertical-align: middle;\n",
       "    }\n",
       "\n",
       "    .dataframe tbody tr th {\n",
       "        vertical-align: top;\n",
       "    }\n",
       "\n",
       "    .dataframe thead th {\n",
       "        text-align: right;\n",
       "    }\n",
       "</style>\n",
       "<table border=\"1\" class=\"dataframe\">\n",
       "  <thead>\n",
       "    <tr style=\"text-align: right;\">\n",
       "      <th></th>\n",
       "      <th>method</th>\n",
       "      <th>k</th>\n",
       "      <th>WCSS</th>\n",
       "      <th>BCSS</th>\n",
       "      <th>CH_index</th>\n",
       "    </tr>\n",
       "  </thead>\n",
       "  <tbody>\n",
       "    <tr>\n",
       "      <th>100</th>\n",
       "      <td>complete</td>\n",
       "      <td>4</td>\n",
       "      <td>420699.671496</td>\n",
       "      <td>622640.553424</td>\n",
       "      <td>171.681390</td>\n",
       "    </tr>\n",
       "    <tr>\n",
       "      <th>0</th>\n",
       "      <td>single</td>\n",
       "      <td>2</td>\n",
       "      <td>873959.232744</td>\n",
       "      <td>169380.992177</td>\n",
       "      <td>67.833081</td>\n",
       "    </tr>\n",
       "    <tr>\n",
       "      <th>198</th>\n",
       "      <td>weighted</td>\n",
       "      <td>4</td>\n",
       "      <td>447376.216488</td>\n",
       "      <td>595964.008433</td>\n",
       "      <td>154.527269</td>\n",
       "    </tr>\n",
       "  </tbody>\n",
       "</table>\n",
       "</div>"
      ],
      "text/plain": [
       "       method  k           WCSS           BCSS    CH_index\n",
       "100  complete  4  420699.671496  622640.553424  171.681390\n",
       "0      single  2  873959.232744  169380.992177   67.833081\n",
       "198  weighted  4  447376.216488  595964.008433  154.527269"
      ]
     },
     "execution_count": 96,
     "metadata": {},
     "output_type": "execute_result"
    }
   ],
   "source": [
    "results_df = pd.read_csv(os.path.join(output_path,'results','ch_hier_clust_before_dim_red.csv'))\n",
    "results_df.loc[results_df.groupby('method')['CH_index'].idxmax()]"
   ]
  },
  {
   "cell_type": "markdown",
   "id": "6f3463c8-f4a1-4ceb-a724-456937d6149d",
   "metadata": {},
   "source": [
    "### Average Silhoutte Value"
   ]
  },
  {
   "cell_type": "code",
   "execution_count": 97,
   "id": "15abe043-e643-49b1-bcaf-11f879df742f",
   "metadata": {},
   "outputs": [
    {
     "name": "stderr",
     "output_type": "stream",
     "text": [
      "100%|█████████████████████████████████████████████| 3/3 [00:17<00:00,  5.99s/it]\n"
     ]
    }
   ],
   "source": [
    "# Initialize variables\n",
    "K_max = 100\n",
    "K = range(2,K_max)\n",
    "method_values = ['single','complete','weighted']\n",
    "results = []\n",
    "for method in tqdm(method_values):\n",
    "    links = linkage(X, method=method, metric='cityblock')\n",
    "\n",
    "    #for k in tqdm(K):\n",
    "    for k in K:\n",
    "        cluster_labels = cut_tree(links, n_clusters=k)\n",
    "        silhouette_avg_k = silhouette_score(X, cluster_labels.ravel(), metric='cityblock')\n",
    "        results.append([method,k,silhouette_avg_k])\n",
    "\n",
    "results_df = pd.DataFrame(results, columns=['method', 'k', 'silhouette_avg'])\n",
    "results_df.to_csv(os.path.join(output_path,'results','silhouette_hier_clust_before_dim_red.csv'), index=None, header=True)"
   ]
  },
  {
   "cell_type": "code",
   "execution_count": 98,
   "id": "810cf811-7d74-4f53-93d8-443d69425133",
   "metadata": {},
   "outputs": [
    {
     "data": {
      "text/html": [
       "<div>\n",
       "<style scoped>\n",
       "    .dataframe tbody tr th:only-of-type {\n",
       "        vertical-align: middle;\n",
       "    }\n",
       "\n",
       "    .dataframe tbody tr th {\n",
       "        vertical-align: top;\n",
       "    }\n",
       "\n",
       "    .dataframe thead th {\n",
       "        text-align: right;\n",
       "    }\n",
       "</style>\n",
       "<table border=\"1\" class=\"dataframe\">\n",
       "  <thead>\n",
       "    <tr style=\"text-align: right;\">\n",
       "      <th></th>\n",
       "      <th>method</th>\n",
       "      <th>k</th>\n",
       "      <th>silhouette_avg</th>\n",
       "    </tr>\n",
       "  </thead>\n",
       "  <tbody>\n",
       "    <tr>\n",
       "      <th>98</th>\n",
       "      <td>complete</td>\n",
       "      <td>2</td>\n",
       "      <td>0.657792</td>\n",
       "    </tr>\n",
       "    <tr>\n",
       "      <th>0</th>\n",
       "      <td>single</td>\n",
       "      <td>2</td>\n",
       "      <td>0.776836</td>\n",
       "    </tr>\n",
       "    <tr>\n",
       "      <th>196</th>\n",
       "      <td>weighted</td>\n",
       "      <td>2</td>\n",
       "      <td>0.703421</td>\n",
       "    </tr>\n",
       "  </tbody>\n",
       "</table>\n",
       "</div>"
      ],
      "text/plain": [
       "       method  k  silhouette_avg\n",
       "98   complete  2        0.657792\n",
       "0      single  2        0.776836\n",
       "196  weighted  2        0.703421"
      ]
     },
     "execution_count": 98,
     "metadata": {},
     "output_type": "execute_result"
    }
   ],
   "source": [
    "results_df = pd.read_csv(os.path.join(output_path,'results','silhouette_hier_clust_before_dim_red.csv'))\n",
    "results_df.loc[results_df.groupby('method')['silhouette_avg'].idxmax()]"
   ]
  }
 ],
 "metadata": {
  "kernelspec": {
   "display_name": "Python 3 (ipykernel)",
   "language": "python",
   "name": "python3"
  },
  "language_info": {
   "codemirror_mode": {
    "name": "ipython",
    "version": 3
   },
   "file_extension": ".py",
   "mimetype": "text/x-python",
   "name": "python",
   "nbconvert_exporter": "python",
   "pygments_lexer": "ipython3",
   "version": "3.8.13"
  }
 },
 "nbformat": 4,
 "nbformat_minor": 5
}
