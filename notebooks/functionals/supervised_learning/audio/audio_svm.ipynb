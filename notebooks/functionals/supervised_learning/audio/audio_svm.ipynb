{
 "cells": [
  {
   "cell_type": "code",
   "execution_count": 2,
   "id": "88feb62a-1f61-47c4-b8b2-5c521eb559a2",
   "metadata": {},
   "outputs": [],
   "source": [
    "import os\n",
    "import sys\n",
    "import pickle\n",
    "\n",
    "import numpy as np\n",
    "import matplotlib.pyplot as plt\n",
    "import pandas as pd\n",
    "\n",
    "from sklearn.model_selection import GridSearchCV\n",
    "from sklearn.model_selection import RandomizedSearchCV\n",
    "\n",
    "from sklearn.model_selection import train_test_split\n",
    "from sklearn.svm import SVC\n",
    "from sklearn.model_selection import cross_validate\n",
    "from sklearn.utils import shuffle\n",
    "from sklearn.preprocessing import MinMaxScaler, StandardScaler\n",
    "from sklearn.model_selection import StratifiedKFold, KFold"
   ]
  },
  {
   "cell_type": "code",
   "execution_count": 3,
   "id": "aef97368-638b-4bb7-8566-40565b7570fd",
   "metadata": {},
   "outputs": [],
   "source": [
    "module_path = os.path.abspath(os.path.join('../../../../'))\n",
    "if module_path not in sys.path:\n",
    "    sys.path.append(module_path)"
   ]
  },
  {
   "cell_type": "code",
   "execution_count": 5,
   "id": "3a80e562-1135-47a2-8626-282f1a564207",
   "metadata": {},
   "outputs": [],
   "source": [
    "from global_config import AUDIO_FUNCTIONALS_EGEMAPS_COLS\n",
    "from src.preprocessing.dataset_creation.scaling.functional_scaling import scale_by"
   ]
  },
  {
   "cell_type": "code",
   "execution_count": 6,
   "id": "b3694f94-2163-40c4-8c42-d2f7407febd7",
   "metadata": {},
   "outputs": [],
   "source": [
    "def evaluate_scores(x_, y_, svc, scoring_method):\n",
    "    \n",
    "    skf = KFold(n_splits=5, shuffle=True)\n",
    "    \n",
    "    # get scores\n",
    "    scores = cross_validate(X=x_, y=y_,\n",
    "                            estimator           = svc,\n",
    "                            scoring             = [scoring_method],\n",
    "                            verbose             = 1,\n",
    "                            cv                  = skf.split(x_, y_),\n",
    "                            n_jobs              = -1,\n",
    "                            return_train_score  = True                        \n",
    "                           )\n",
    "    \n",
    "    print('printing {} measures'.format(scoring_method))\n",
    "    print('avg (train):', np.mean(scores['train_{}'.format(scoring_method)]))\n",
    "    print('std (train):', np.std(scores['train_{}'.format(scoring_method)]))\n",
    "    print('avg (validation):', np.mean(scores['test_{}'.format(scoring_method)]))\n",
    "    print('std (validation):', np.std(scores['test_{}'.format(scoring_method)]))"
   ]
  },
  {
   "cell_type": "code",
   "execution_count": 7,
   "id": "05a3c709-e55e-4a03-95e6-7003a0d66a2f",
   "metadata": {},
   "outputs": [],
   "source": [
    "from s3fs.core import S3FileSystem\n",
    "s3 = S3FileSystem()\n",
    "from sagemaker import get_execution_role\n",
    "\n",
    "# this datafile has standardscaled data on a per actor basis\n",
    "role = get_execution_role()\n",
    "bucket='files-and-examples-01'\n",
    "file = 'datasets/su_dataset/opensmile_query_13_videos.csv'\n",
    "\n",
    "path = 's3://{}/{}'.format(bucket, file)\n",
    "\n",
    "df = pd.read_csv(path)"
   ]
  },
  {
   "cell_type": "code",
   "execution_count": 8,
   "id": "3f9cf8dd-26b7-48d2-9ef8-e9bef917b669",
   "metadata": {},
   "outputs": [
    {
     "data": {
      "text/html": [
       "<div>\n",
       "<style scoped>\n",
       "    .dataframe tbody tr th:only-of-type {\n",
       "        vertical-align: middle;\n",
       "    }\n",
       "\n",
       "    .dataframe tbody tr th {\n",
       "        vertical-align: top;\n",
       "    }\n",
       "\n",
       "    .dataframe thead th {\n",
       "        text-align: right;\n",
       "    }\n",
       "</style>\n",
       "<table border=\"1\" class=\"dataframe\">\n",
       "  <thead>\n",
       "    <tr style=\"text-align: right;\">\n",
       "      <th></th>\n",
       "      <th>filename</th>\n",
       "      <th>video_id</th>\n",
       "      <th>intensity_level</th>\n",
       "      <th>emotion_1_id</th>\n",
       "      <th>F0semitoneFrom27.5Hz_sma3nz_amean</th>\n",
       "      <th>F0semitoneFrom27.5Hz_sma3nz_stddevNorm</th>\n",
       "      <th>F0semitoneFrom27.5Hz_sma3nz_percentile20.0</th>\n",
       "      <th>F0semitoneFrom27.5Hz_sma3nz_percentile50.0</th>\n",
       "      <th>F0semitoneFrom27.5Hz_sma3nz_percentile80.0</th>\n",
       "      <th>F0semitoneFrom27.5Hz_sma3nz_pctlrange0-2</th>\n",
       "      <th>...</th>\n",
       "      <th>slopeUV0-500_sma3nz_amean</th>\n",
       "      <th>slopeUV500-1500_sma3nz_amean</th>\n",
       "      <th>spectralFluxUV_sma3nz_amean</th>\n",
       "      <th>loudnessPeaksPerSec</th>\n",
       "      <th>VoicedSegmentsPerSec</th>\n",
       "      <th>MeanVoicedSegmentLengthSec</th>\n",
       "      <th>StddevVoicedSegmentLengthSec</th>\n",
       "      <th>MeanUnvoicedSegmentLength</th>\n",
       "      <th>StddevUnvoicedSegmentLength</th>\n",
       "      <th>equivalentSoundLevel_dBp</th>\n",
       "    </tr>\n",
       "  </thead>\n",
       "  <tbody>\n",
       "    <tr>\n",
       "      <th>0</th>\n",
       "      <td>A223_ang_p_4</td>\n",
       "      <td>A223</td>\n",
       "      <td>4</td>\n",
       "      <td>12</td>\n",
       "      <td>44.081318</td>\n",
       "      <td>0.112749</td>\n",
       "      <td>43.205925</td>\n",
       "      <td>45.499218</td>\n",
       "      <td>46.877730</td>\n",
       "      <td>3.671806</td>\n",
       "      <td>...</td>\n",
       "      <td>0.046794</td>\n",
       "      <td>0.006695</td>\n",
       "      <td>0.012153</td>\n",
       "      <td>1.156069</td>\n",
       "      <td>0.389105</td>\n",
       "      <td>0.930000</td>\n",
       "      <td>0.280000</td>\n",
       "      <td>1.076667</td>\n",
       "      <td>0.683341</td>\n",
       "      <td>-33.727013</td>\n",
       "    </tr>\n",
       "    <tr>\n",
       "      <th>1</th>\n",
       "      <td>A223_ele_v_4</td>\n",
       "      <td>A223</td>\n",
       "      <td>4</td>\n",
       "      <td>8</td>\n",
       "      <td>0.000000</td>\n",
       "      <td>0.000000</td>\n",
       "      <td>0.000000</td>\n",
       "      <td>0.000000</td>\n",
       "      <td>0.000000</td>\n",
       "      <td>0.000000</td>\n",
       "      <td>...</td>\n",
       "      <td>0.006542</td>\n",
       "      <td>0.007306</td>\n",
       "      <td>0.000958</td>\n",
       "      <td>0.361533</td>\n",
       "      <td>0.000000</td>\n",
       "      <td>0.000000</td>\n",
       "      <td>0.000000</td>\n",
       "      <td>13.770000</td>\n",
       "      <td>0.000000</td>\n",
       "      <td>-88.274410</td>\n",
       "    </tr>\n",
       "    <tr>\n",
       "      <th>2</th>\n",
       "      <td>A102_ten_p_2</td>\n",
       "      <td>A102</td>\n",
       "      <td>2</td>\n",
       "      <td>28</td>\n",
       "      <td>37.364210</td>\n",
       "      <td>0.012795</td>\n",
       "      <td>37.054905</td>\n",
       "      <td>37.203660</td>\n",
       "      <td>37.935577</td>\n",
       "      <td>0.880672</td>\n",
       "      <td>...</td>\n",
       "      <td>0.019007</td>\n",
       "      <td>0.001844</td>\n",
       "      <td>0.003722</td>\n",
       "      <td>1.117319</td>\n",
       "      <td>0.567108</td>\n",
       "      <td>0.026667</td>\n",
       "      <td>0.009428</td>\n",
       "      <td>1.285000</td>\n",
       "      <td>1.059658</td>\n",
       "      <td>-65.307490</td>\n",
       "    </tr>\n",
       "    <tr>\n",
       "      <th>3</th>\n",
       "      <td>A205_sad_p_4</td>\n",
       "      <td>A205</td>\n",
       "      <td>4</td>\n",
       "      <td>6</td>\n",
       "      <td>44.120106</td>\n",
       "      <td>0.045053</td>\n",
       "      <td>42.679100</td>\n",
       "      <td>43.668730</td>\n",
       "      <td>45.004967</td>\n",
       "      <td>2.325867</td>\n",
       "      <td>...</td>\n",
       "      <td>0.027048</td>\n",
       "      <td>0.008397</td>\n",
       "      <td>0.004681</td>\n",
       "      <td>1.610542</td>\n",
       "      <td>0.737463</td>\n",
       "      <td>0.286000</td>\n",
       "      <td>0.098914</td>\n",
       "      <td>1.046000</td>\n",
       "      <td>1.222303</td>\n",
       "      <td>-56.946110</td>\n",
       "    </tr>\n",
       "    <tr>\n",
       "      <th>4</th>\n",
       "      <td>A227_neg_sur_v_4</td>\n",
       "      <td>A227</td>\n",
       "      <td>4</td>\n",
       "      <td>11</td>\n",
       "      <td>47.671467</td>\n",
       "      <td>0.133833</td>\n",
       "      <td>42.556465</td>\n",
       "      <td>50.469810</td>\n",
       "      <td>51.363800</td>\n",
       "      <td>8.807335</td>\n",
       "      <td>...</td>\n",
       "      <td>0.004720</td>\n",
       "      <td>0.007221</td>\n",
       "      <td>0.004899</td>\n",
       "      <td>0.623701</td>\n",
       "      <td>0.420168</td>\n",
       "      <td>0.360000</td>\n",
       "      <td>0.340000</td>\n",
       "      <td>1.330000</td>\n",
       "      <td>0.257294</td>\n",
       "      <td>-34.559720</td>\n",
       "    </tr>\n",
       "    <tr>\n",
       "      <th>...</th>\n",
       "      <td>...</td>\n",
       "      <td>...</td>\n",
       "      <td>...</td>\n",
       "      <td>...</td>\n",
       "      <td>...</td>\n",
       "      <td>...</td>\n",
       "      <td>...</td>\n",
       "      <td>...</td>\n",
       "      <td>...</td>\n",
       "      <td>...</td>\n",
       "      <td>...</td>\n",
       "      <td>...</td>\n",
       "      <td>...</td>\n",
       "      <td>...</td>\n",
       "      <td>...</td>\n",
       "      <td>...</td>\n",
       "      <td>...</td>\n",
       "      <td>...</td>\n",
       "      <td>...</td>\n",
       "      <td>...</td>\n",
       "      <td>...</td>\n",
       "    </tr>\n",
       "    <tr>\n",
       "      <th>4539</th>\n",
       "      <td>A207_sat_v_4</td>\n",
       "      <td>A207</td>\n",
       "      <td>4</td>\n",
       "      <td>16</td>\n",
       "      <td>29.149166</td>\n",
       "      <td>0.054495</td>\n",
       "      <td>27.490206</td>\n",
       "      <td>29.333115</td>\n",
       "      <td>30.569393</td>\n",
       "      <td>3.079187</td>\n",
       "      <td>...</td>\n",
       "      <td>-0.006541</td>\n",
       "      <td>0.008077</td>\n",
       "      <td>0.002328</td>\n",
       "      <td>0.214133</td>\n",
       "      <td>0.434783</td>\n",
       "      <td>0.125000</td>\n",
       "      <td>0.015000</td>\n",
       "      <td>1.433333</td>\n",
       "      <td>1.119593</td>\n",
       "      <td>-63.634820</td>\n",
       "    </tr>\n",
       "    <tr>\n",
       "      <th>4540</th>\n",
       "      <td>A220_disg_v_4</td>\n",
       "      <td>A220</td>\n",
       "      <td>4</td>\n",
       "      <td>35</td>\n",
       "      <td>45.610935</td>\n",
       "      <td>0.193249</td>\n",
       "      <td>35.477707</td>\n",
       "      <td>43.274364</td>\n",
       "      <td>56.909890</td>\n",
       "      <td>21.432182</td>\n",
       "      <td>...</td>\n",
       "      <td>0.008508</td>\n",
       "      <td>0.006249</td>\n",
       "      <td>0.002458</td>\n",
       "      <td>0.601805</td>\n",
       "      <td>0.100806</td>\n",
       "      <td>0.100000</td>\n",
       "      <td>0.000000</td>\n",
       "      <td>3.260000</td>\n",
       "      <td>2.948570</td>\n",
       "      <td>-68.924150</td>\n",
       "    </tr>\n",
       "    <tr>\n",
       "      <th>4541</th>\n",
       "      <td>A220_anx_v_3</td>\n",
       "      <td>A220</td>\n",
       "      <td>3</td>\n",
       "      <td>34</td>\n",
       "      <td>27.079062</td>\n",
       "      <td>0.017017</td>\n",
       "      <td>26.622227</td>\n",
       "      <td>27.018835</td>\n",
       "      <td>27.524992</td>\n",
       "      <td>0.902765</td>\n",
       "      <td>...</td>\n",
       "      <td>0.003961</td>\n",
       "      <td>0.005975</td>\n",
       "      <td>0.001410</td>\n",
       "      <td>0.323102</td>\n",
       "      <td>0.162866</td>\n",
       "      <td>0.110000</td>\n",
       "      <td>0.000000</td>\n",
       "      <td>3.000000</td>\n",
       "      <td>0.880000</td>\n",
       "      <td>-69.462190</td>\n",
       "    </tr>\n",
       "    <tr>\n",
       "      <th>4542</th>\n",
       "      <td>A221_mov_p_2</td>\n",
       "      <td>A221</td>\n",
       "      <td>2</td>\n",
       "      <td>42</td>\n",
       "      <td>46.290650</td>\n",
       "      <td>0.001560</td>\n",
       "      <td>46.207880</td>\n",
       "      <td>46.311370</td>\n",
       "      <td>46.359245</td>\n",
       "      <td>0.151367</td>\n",
       "      <td>...</td>\n",
       "      <td>0.098675</td>\n",
       "      <td>0.006784</td>\n",
       "      <td>0.005030</td>\n",
       "      <td>3.773585</td>\n",
       "      <td>0.769231</td>\n",
       "      <td>0.030000</td>\n",
       "      <td>0.010000</td>\n",
       "      <td>0.615000</td>\n",
       "      <td>0.668375</td>\n",
       "      <td>-63.103870</td>\n",
       "    </tr>\n",
       "    <tr>\n",
       "      <th>4543</th>\n",
       "      <td>A200_sar_v_3</td>\n",
       "      <td>A200</td>\n",
       "      <td>3</td>\n",
       "      <td>31</td>\n",
       "      <td>0.000000</td>\n",
       "      <td>0.000000</td>\n",
       "      <td>0.000000</td>\n",
       "      <td>0.000000</td>\n",
       "      <td>0.000000</td>\n",
       "      <td>0.000000</td>\n",
       "      <td>...</td>\n",
       "      <td>0.001861</td>\n",
       "      <td>0.007046</td>\n",
       "      <td>0.001545</td>\n",
       "      <td>0.376648</td>\n",
       "      <td>0.000000</td>\n",
       "      <td>0.000000</td>\n",
       "      <td>0.000000</td>\n",
       "      <td>5.250000</td>\n",
       "      <td>0.000000</td>\n",
       "      <td>-73.205025</td>\n",
       "    </tr>\n",
       "  </tbody>\n",
       "</table>\n",
       "<p>4544 rows × 92 columns</p>\n",
       "</div>"
      ],
      "text/plain": [
       "              filename video_id  intensity_level  emotion_1_id  \\\n",
       "0         A223_ang_p_4     A223                4            12   \n",
       "1         A223_ele_v_4     A223                4             8   \n",
       "2         A102_ten_p_2     A102                2            28   \n",
       "3         A205_sad_p_4     A205                4             6   \n",
       "4     A227_neg_sur_v_4     A227                4            11   \n",
       "...                ...      ...              ...           ...   \n",
       "4539      A207_sat_v_4     A207                4            16   \n",
       "4540     A220_disg_v_4     A220                4            35   \n",
       "4541      A220_anx_v_3     A220                3            34   \n",
       "4542      A221_mov_p_2     A221                2            42   \n",
       "4543      A200_sar_v_3     A200                3            31   \n",
       "\n",
       "      F0semitoneFrom27.5Hz_sma3nz_amean  \\\n",
       "0                             44.081318   \n",
       "1                              0.000000   \n",
       "2                             37.364210   \n",
       "3                             44.120106   \n",
       "4                             47.671467   \n",
       "...                                 ...   \n",
       "4539                          29.149166   \n",
       "4540                          45.610935   \n",
       "4541                          27.079062   \n",
       "4542                          46.290650   \n",
       "4543                           0.000000   \n",
       "\n",
       "      F0semitoneFrom27.5Hz_sma3nz_stddevNorm  \\\n",
       "0                                   0.112749   \n",
       "1                                   0.000000   \n",
       "2                                   0.012795   \n",
       "3                                   0.045053   \n",
       "4                                   0.133833   \n",
       "...                                      ...   \n",
       "4539                                0.054495   \n",
       "4540                                0.193249   \n",
       "4541                                0.017017   \n",
       "4542                                0.001560   \n",
       "4543                                0.000000   \n",
       "\n",
       "      F0semitoneFrom27.5Hz_sma3nz_percentile20.0  \\\n",
       "0                                      43.205925   \n",
       "1                                       0.000000   \n",
       "2                                      37.054905   \n",
       "3                                      42.679100   \n",
       "4                                      42.556465   \n",
       "...                                          ...   \n",
       "4539                                   27.490206   \n",
       "4540                                   35.477707   \n",
       "4541                                   26.622227   \n",
       "4542                                   46.207880   \n",
       "4543                                    0.000000   \n",
       "\n",
       "      F0semitoneFrom27.5Hz_sma3nz_percentile50.0  \\\n",
       "0                                      45.499218   \n",
       "1                                       0.000000   \n",
       "2                                      37.203660   \n",
       "3                                      43.668730   \n",
       "4                                      50.469810   \n",
       "...                                          ...   \n",
       "4539                                   29.333115   \n",
       "4540                                   43.274364   \n",
       "4541                                   27.018835   \n",
       "4542                                   46.311370   \n",
       "4543                                    0.000000   \n",
       "\n",
       "      F0semitoneFrom27.5Hz_sma3nz_percentile80.0  \\\n",
       "0                                      46.877730   \n",
       "1                                       0.000000   \n",
       "2                                      37.935577   \n",
       "3                                      45.004967   \n",
       "4                                      51.363800   \n",
       "...                                          ...   \n",
       "4539                                   30.569393   \n",
       "4540                                   56.909890   \n",
       "4541                                   27.524992   \n",
       "4542                                   46.359245   \n",
       "4543                                    0.000000   \n",
       "\n",
       "      F0semitoneFrom27.5Hz_sma3nz_pctlrange0-2  ...  \\\n",
       "0                                     3.671806  ...   \n",
       "1                                     0.000000  ...   \n",
       "2                                     0.880672  ...   \n",
       "3                                     2.325867  ...   \n",
       "4                                     8.807335  ...   \n",
       "...                                        ...  ...   \n",
       "4539                                  3.079187  ...   \n",
       "4540                                 21.432182  ...   \n",
       "4541                                  0.902765  ...   \n",
       "4542                                  0.151367  ...   \n",
       "4543                                  0.000000  ...   \n",
       "\n",
       "      slopeUV0-500_sma3nz_amean  slopeUV500-1500_sma3nz_amean  \\\n",
       "0                      0.046794                      0.006695   \n",
       "1                      0.006542                      0.007306   \n",
       "2                      0.019007                      0.001844   \n",
       "3                      0.027048                      0.008397   \n",
       "4                      0.004720                      0.007221   \n",
       "...                         ...                           ...   \n",
       "4539                  -0.006541                      0.008077   \n",
       "4540                   0.008508                      0.006249   \n",
       "4541                   0.003961                      0.005975   \n",
       "4542                   0.098675                      0.006784   \n",
       "4543                   0.001861                      0.007046   \n",
       "\n",
       "      spectralFluxUV_sma3nz_amean  loudnessPeaksPerSec  VoicedSegmentsPerSec  \\\n",
       "0                        0.012153             1.156069              0.389105   \n",
       "1                        0.000958             0.361533              0.000000   \n",
       "2                        0.003722             1.117319              0.567108   \n",
       "3                        0.004681             1.610542              0.737463   \n",
       "4                        0.004899             0.623701              0.420168   \n",
       "...                           ...                  ...                   ...   \n",
       "4539                     0.002328             0.214133              0.434783   \n",
       "4540                     0.002458             0.601805              0.100806   \n",
       "4541                     0.001410             0.323102              0.162866   \n",
       "4542                     0.005030             3.773585              0.769231   \n",
       "4543                     0.001545             0.376648              0.000000   \n",
       "\n",
       "      MeanVoicedSegmentLengthSec  StddevVoicedSegmentLengthSec  \\\n",
       "0                       0.930000                      0.280000   \n",
       "1                       0.000000                      0.000000   \n",
       "2                       0.026667                      0.009428   \n",
       "3                       0.286000                      0.098914   \n",
       "4                       0.360000                      0.340000   \n",
       "...                          ...                           ...   \n",
       "4539                    0.125000                      0.015000   \n",
       "4540                    0.100000                      0.000000   \n",
       "4541                    0.110000                      0.000000   \n",
       "4542                    0.030000                      0.010000   \n",
       "4543                    0.000000                      0.000000   \n",
       "\n",
       "      MeanUnvoicedSegmentLength  StddevUnvoicedSegmentLength  \\\n",
       "0                      1.076667                     0.683341   \n",
       "1                     13.770000                     0.000000   \n",
       "2                      1.285000                     1.059658   \n",
       "3                      1.046000                     1.222303   \n",
       "4                      1.330000                     0.257294   \n",
       "...                         ...                          ...   \n",
       "4539                   1.433333                     1.119593   \n",
       "4540                   3.260000                     2.948570   \n",
       "4541                   3.000000                     0.880000   \n",
       "4542                   0.615000                     0.668375   \n",
       "4543                   5.250000                     0.000000   \n",
       "\n",
       "      equivalentSoundLevel_dBp  \n",
       "0                   -33.727013  \n",
       "1                   -88.274410  \n",
       "2                   -65.307490  \n",
       "3                   -56.946110  \n",
       "4                   -34.559720  \n",
       "...                        ...  \n",
       "4539                -63.634820  \n",
       "4540                -68.924150  \n",
       "4541                -69.462190  \n",
       "4542                -63.103870  \n",
       "4543                -73.205025  \n",
       "\n",
       "[4544 rows x 92 columns]"
      ]
     },
     "execution_count": 8,
     "metadata": {},
     "output_type": "execute_result"
    }
   ],
   "source": [
    "df"
   ]
  },
  {
   "cell_type": "markdown",
   "id": "06ae150d-4936-4650-8ec3-12ffc9b9f790",
   "metadata": {},
   "source": [
    "# With general normalization"
   ]
  },
  {
   "cell_type": "markdown",
   "id": "d92ddf58-99ed-41b3-92fe-9ff0272577af",
   "metadata": {},
   "source": [
    "### Min Max"
   ]
  },
  {
   "cell_type": "code",
   "execution_count": 7,
   "id": "d4105a59-585c-49e3-8def-9c1e1b007122",
   "metadata": {},
   "outputs": [],
   "source": [
    "x = df[AUDIO_FUNCTIONALS_EGEMAPS_COLS].values\n",
    "y = df[\"emotion_1_id\"].values\n",
    "video_ids = df[\"video_id\"].values"
   ]
  },
  {
   "cell_type": "code",
   "execution_count": 8,
   "id": "2407756d-596f-40db-b7ce-c400cffb8c47",
   "metadata": {},
   "outputs": [],
   "source": [
    "scaler = MinMaxScaler()\n",
    "x = scaler.fit_transform(x)"
   ]
  },
  {
   "cell_type": "code",
   "execution_count": 9,
   "id": "ade97de2-9653-4ea1-b2cc-06154ad2e319",
   "metadata": {},
   "outputs": [],
   "source": [
    "skf = KFold(n_splits=5, shuffle=True)\n",
    "splits = skf.split(x, y)"
   ]
  },
  {
   "cell_type": "code",
   "execution_count": 10,
   "id": "03c5e4f2-a7be-493f-920d-4cf3f33f2c55",
   "metadata": {},
   "outputs": [],
   "source": [
    "# regularization paramater, lower C -> more regularization (less overfitting), large C -> less regularization (and possibly more overfitting)\n",
    "c_values = [0.1, 1, 5, 10, 25, 50, 75, 100]\n",
    "#\n",
    "gamma = [1, 0.1, 0.01, 0.001, 0.0001]\n",
    "\n",
    "kernel = ['rbf', 'linear', 'poly', 'sigmoid']\n",
    "\n",
    "parameters = {'class_weight': ['balanced'],\n",
    "              'C': c_values,\n",
    "              'gamma': gamma,\n",
    "              'kernel': kernel,\n",
    "              }\n",
    "\n",
    "svc = SVC()\n",
    "clf = GridSearchCV(estimator=svc,\n",
    "                   param_grid=parameters,\n",
    "                   scoring='accuracy',\n",
    "                   verbose=5,\n",
    "                   cv=splits,\n",
    "                   n_jobs=-1,\n",
    "                   )"
   ]
  },
  {
   "cell_type": "code",
   "execution_count": 11,
   "id": "b78e3335-c5d3-4f72-b7f3-288712c4d667",
   "metadata": {},
   "outputs": [
    {
     "name": "stdout",
     "output_type": "stream",
     "text": [
      "Fitting 5 folds for each of 160 candidates, totalling 800 fits\n"
     ]
    },
    {
     "name": "stderr",
     "output_type": "stream",
     "text": [
      "[Parallel(n_jobs=-1)]: Using backend LokyBackend with 72 concurrent workers.\n",
      "[Parallel(n_jobs=-1)]: Done  18 tasks      | elapsed:    4.9s\n",
      "[Parallel(n_jobs=-1)]: Done 144 tasks      | elapsed:   12.4s\n",
      "[Parallel(n_jobs=-1)]: Done 306 tasks      | elapsed:   22.7s\n",
      "[Parallel(n_jobs=-1)]: Done 504 tasks      | elapsed:   36.8s\n",
      "[Parallel(n_jobs=-1)]: Done 800 out of 800 | elapsed:  1.9min finished\n"
     ]
    },
    {
     "data": {
      "text/plain": [
       "GridSearchCV(cv=<generator object _BaseKFold.split at 0x7f1480aed4d0>,\n",
       "             error_score=nan,\n",
       "             estimator=SVC(C=1.0, break_ties=False, cache_size=200,\n",
       "                           class_weight=None, coef0=0.0,\n",
       "                           decision_function_shape='ovr', degree=3,\n",
       "                           gamma='scale', kernel='rbf', max_iter=-1,\n",
       "                           probability=False, random_state=None, shrinking=True,\n",
       "                           tol=0.001, verbose=False),\n",
       "             iid='deprecated', n_jobs=-1,\n",
       "             param_grid={'C': [0.1, 1, 5, 10, 25, 50, 75, 100],\n",
       "                         'class_weight': ['balanced'],\n",
       "                         'gamma': [1, 0.1, 0.01, 0.001, 0.0001],\n",
       "                         'kernel': ['rbf', 'linear', 'poly', 'sigmoid']},\n",
       "             pre_dispatch='2*n_jobs', refit=True, return_train_score=False,\n",
       "             scoring='accuracy', verbose=5)"
      ]
     },
     "execution_count": 11,
     "metadata": {},
     "output_type": "execute_result"
    }
   ],
   "source": [
    "clf.fit(x, y)"
   ]
  },
  {
   "cell_type": "code",
   "execution_count": 12,
   "id": "87949430-1939-42a6-9ab3-0ca95bfd6eef",
   "metadata": {},
   "outputs": [
    {
     "data": {
      "text/plain": [
       "{'C': 75, 'class_weight': 'balanced', 'gamma': 1, 'kernel': 'rbf'}"
      ]
     },
     "execution_count": 12,
     "metadata": {},
     "output_type": "execute_result"
    }
   ],
   "source": [
    "clf.best_params_"
   ]
  },
  {
   "cell_type": "code",
   "execution_count": 14,
   "id": "7572b0ab-47af-49b9-b6bd-66964b69a914",
   "metadata": {},
   "outputs": [
    {
     "name": "stderr",
     "output_type": "stream",
     "text": [
      "[Parallel(n_jobs=-1)]: Using backend LokyBackend with 72 concurrent workers.\n"
     ]
    },
    {
     "name": "stdout",
     "output_type": "stream",
     "text": [
      "printing accuracy measures\n",
      "avg (train): 0.6031027339322652\n",
      "std (train): 0.0062613632445338244\n",
      "avg (validation): 0.08736787775693869\n",
      "std (validation): 0.001115020222025127\n"
     ]
    },
    {
     "name": "stderr",
     "output_type": "stream",
     "text": [
      "[Parallel(n_jobs=-1)]: Done   5 out of   5 | elapsed:    6.3s finished\n"
     ]
    }
   ],
   "source": [
    "svc = SVC(**clf.best_params_)\n",
    "evaluate_scores(x, y, svc, scoring_method=\"accuracy\")"
   ]
  },
  {
   "cell_type": "markdown",
   "id": "eb9ed744-e442-45fd-b298-afd26a7fd2cf",
   "metadata": {},
   "source": [
    "### Standard"
   ]
  },
  {
   "cell_type": "code",
   "execution_count": 20,
   "id": "57b9e2f9-b360-4be1-8685-056fbf59c8ce",
   "metadata": {},
   "outputs": [
    {
     "name": "stdout",
     "output_type": "stream",
     "text": [
      "Fitting 5 folds for each of 160 candidates, totalling 800 fits\n"
     ]
    },
    {
     "name": "stderr",
     "output_type": "stream",
     "text": [
      "[Parallel(n_jobs=-1)]: Using backend LokyBackend with 72 concurrent workers.\n",
      "[Parallel(n_jobs=-1)]: Done  18 tasks      | elapsed:    3.8s\n",
      "[Parallel(n_jobs=-1)]: Done 144 tasks      | elapsed:   12.3s\n",
      "[Parallel(n_jobs=-1)]: Done 306 tasks      | elapsed:   27.1s\n",
      "[Parallel(n_jobs=-1)]: Done 504 tasks      | elapsed:   51.4s\n",
      "[Parallel(n_jobs=-1)]: Done 800 out of 800 | elapsed:  3.1min finished\n"
     ]
    },
    {
     "data": {
      "text/plain": [
       "{'C': 75, 'class_weight': 'balanced', 'gamma': 0.01, 'kernel': 'rbf'}"
      ]
     },
     "execution_count": 20,
     "metadata": {},
     "output_type": "execute_result"
    }
   ],
   "source": [
    "x = df[AUDIO_FUNCTIONALS_EGEMAPS_COLS].values\n",
    "y = df[\"emotion_1_id\"].values\n",
    "video_ids = df[\"video_id\"].values\n",
    "\n",
    "scaler = StandardScaler()\n",
    "x = scaler.fit_transform(x)\n",
    "\n",
    "skf = KFold(n_splits=5, shuffle=True)\n",
    "splits = skf.split(x, y)\n",
    "\n",
    "# regularization paramater, lower C -> more regularization (less overfitting), large C -> less regularization (and possibly more overfitting)\n",
    "c_values = [0.1, 1, 5, 10, 25, 50, 75, 100]\n",
    "#\n",
    "gamma = [1, 0.1, 0.01, 0.001, 0.0001]\n",
    "\n",
    "kernel = ['rbf', 'linear', 'poly', 'sigmoid']\n",
    "\n",
    "parameters = {'class_weight': ['balanced'],\n",
    "              'C': c_values,\n",
    "              'gamma': gamma,\n",
    "              'kernel': kernel,\n",
    "              }\n",
    "\n",
    "svc = SVC()\n",
    "clf = GridSearchCV(estimator=svc,\n",
    "                   param_grid=parameters,\n",
    "                   scoring='accuracy',\n",
    "                   verbose=5,\n",
    "                   cv=splits,\n",
    "                   n_jobs=-1,\n",
    "                   )\n",
    "\n",
    "clf.fit(x, y)\n",
    "\n",
    "clf.best_params_"
   ]
  },
  {
   "cell_type": "code",
   "execution_count": 21,
   "id": "1203c1f2-b39b-4a34-8b92-6e32e790920d",
   "metadata": {},
   "outputs": [
    {
     "name": "stderr",
     "output_type": "stream",
     "text": [
      "[Parallel(n_jobs=-1)]: Using backend LokyBackend with 72 concurrent workers.\n"
     ]
    },
    {
     "name": "stdout",
     "output_type": "stream",
     "text": [
      "printing accuracy measures\n",
      "avg (train): 0.618123033761423\n",
      "std (train): 0.006379448761293059\n",
      "avg (validation): 0.08560721710937613\n",
      "std (validation): 0.009823311841076968\n"
     ]
    },
    {
     "name": "stderr",
     "output_type": "stream",
     "text": [
      "[Parallel(n_jobs=-1)]: Done   5 out of   5 | elapsed:    6.2s finished\n"
     ]
    }
   ],
   "source": [
    "svc = SVC(**clf.best_params_)\n",
    "evaluate_scores(x, y, svc, scoring_method=\"accuracy\")"
   ]
  },
  {
   "cell_type": "markdown",
   "id": "8fdd07ac-d795-4673-ae23-89faa3e11f3d",
   "metadata": {},
   "source": [
    "## With video specific normalization "
   ]
  },
  {
   "cell_type": "markdown",
   "id": "67b59638-e626-4bd1-a3a6-20435a2851a8",
   "metadata": {},
   "source": [
    "### Min max"
   ]
  },
  {
   "cell_type": "code",
   "execution_count": 8,
   "id": "4894ed5c-a5e6-42d2-9bd9-44b4d21b7710",
   "metadata": {},
   "outputs": [],
   "source": [
    "x = df[AUDIO_FUNCTIONALS_EGEMAPS_COLS].values\n",
    "y = df[\"emotion_1_id\"].values\n",
    "video_ids = df[\"video_id\"].values"
   ]
  },
  {
   "cell_type": "code",
   "execution_count": 9,
   "id": "cf7ac872-e6e2-41ac-9b3b-547c9425de7f",
   "metadata": {},
   "outputs": [],
   "source": [
    "x = scale_by(x, video_ids, \"min_max\")"
   ]
  },
  {
   "cell_type": "code",
   "execution_count": 10,
   "id": "b70aec45-0e8b-4039-b6db-5c758bea637d",
   "metadata": {},
   "outputs": [
    {
     "name": "stdout",
     "output_type": "stream",
     "text": [
      "Fitting 5 folds for each of 160 candidates, totalling 800 fits\n"
     ]
    },
    {
     "name": "stderr",
     "output_type": "stream",
     "text": [
      "[Parallel(n_jobs=-1)]: Using backend LokyBackend with 72 concurrent workers.\n",
      "[Parallel(n_jobs=-1)]: Done  18 tasks      | elapsed:    4.8s\n",
      "[Parallel(n_jobs=-1)]: Done 144 tasks      | elapsed:   11.7s\n",
      "[Parallel(n_jobs=-1)]: Done 306 tasks      | elapsed:   23.0s\n",
      "[Parallel(n_jobs=-1)]: Done 504 tasks      | elapsed:   37.1s\n",
      "[Parallel(n_jobs=-1)]: Done 800 out of 800 | elapsed:  1.1min finished\n"
     ]
    },
    {
     "data": {
      "text/plain": [
       "{'C': 1, 'class_weight': 'balanced', 'gamma': 1, 'kernel': 'poly'}"
      ]
     },
     "execution_count": 10,
     "metadata": {},
     "output_type": "execute_result"
    }
   ],
   "source": [
    "skf = KFold(n_splits=5, shuffle=True)\n",
    "splits = skf.split(x, y)\n",
    "\n",
    "# regularization paramater, lower C -> more regularization (less overfitting), large C -> less regularization (and possibly more overfitting)\n",
    "c_values = [0.1, 1, 5, 10, 25, 50, 75, 100]\n",
    "#\n",
    "gamma = [1, 0.1, 0.01, 0.001, 0.0001]\n",
    "\n",
    "kernel = ['rbf', 'linear', 'poly', 'sigmoid']\n",
    "\n",
    "parameters = {'class_weight': ['balanced'],\n",
    "              'C': c_values,\n",
    "              'gamma': gamma,\n",
    "              'kernel': kernel,\n",
    "              }\n",
    "\n",
    "svc = SVC()\n",
    "clf = GridSearchCV(estimator=svc,\n",
    "                   param_grid=parameters,\n",
    "                   scoring='accuracy',\n",
    "                   verbose=5,\n",
    "                   cv=splits,\n",
    "                   n_jobs=-1,\n",
    "                   )\n",
    "\n",
    "clf.fit(x, y)\n",
    "\n",
    "clf.best_params_\n",
    "\n"
   ]
  },
  {
   "cell_type": "code",
   "execution_count": 12,
   "id": "48d9bc3e-7a0c-4671-bbad-a01e5074b383",
   "metadata": {},
   "outputs": [
    {
     "name": "stderr",
     "output_type": "stream",
     "text": [
      "[Parallel(n_jobs=-1)]: Using backend LokyBackend with 72 concurrent workers.\n"
     ]
    },
    {
     "name": "stdout",
     "output_type": "stream",
     "text": [
      "printing accuracy measures\n",
      "avg (train): 0.9481732423586238\n",
      "std (train): 0.0029535160643462594\n",
      "avg (validation): 0.10871703910479154\n",
      "std (validation): 0.006085505190997724\n"
     ]
    },
    {
     "name": "stderr",
     "output_type": "stream",
     "text": [
      "[Parallel(n_jobs=-1)]: Done   5 out of   5 | elapsed:    5.6s finished\n"
     ]
    }
   ],
   "source": [
    "svc = SVC(**clf.best_params_)\n",
    "evaluate_scores(x, y, svc, scoring_method=\"accuracy\")"
   ]
  },
  {
   "cell_type": "markdown",
   "id": "ec3528d5-e4f4-4b3b-86fb-6ba9cade29dc",
   "metadata": {},
   "source": [
    "### Standard"
   ]
  },
  {
   "cell_type": "code",
   "execution_count": 14,
   "id": "5c328d53-4ec2-41ac-a8ab-0b72b753af33",
   "metadata": {},
   "outputs": [],
   "source": [
    "x = df[AUDIO_FUNCTIONALS_EGEMAPS_COLS].values\n",
    "y = df[\"emotion_1_id\"].values\n",
    "video_ids = df[\"video_id\"].values\n",
    "\n",
    "x = scale_by(x, video_ids, \"standard\")"
   ]
  },
  {
   "cell_type": "code",
   "execution_count": 15,
   "id": "d9f6d475-6a71-484c-af83-94bb7318842c",
   "metadata": {},
   "outputs": [
    {
     "name": "stdout",
     "output_type": "stream",
     "text": [
      "Fitting 5 folds for each of 160 candidates, totalling 800 fits\n"
     ]
    },
    {
     "name": "stderr",
     "output_type": "stream",
     "text": [
      "[Parallel(n_jobs=-1)]: Using backend LokyBackend with 72 concurrent workers.\n",
      "[Parallel(n_jobs=-1)]: Done  18 tasks      | elapsed:    3.9s\n",
      "[Parallel(n_jobs=-1)]: Done 144 tasks      | elapsed:   12.4s\n",
      "[Parallel(n_jobs=-1)]: Done 306 tasks      | elapsed:   27.0s\n",
      "[Parallel(n_jobs=-1)]: Done 504 tasks      | elapsed:   55.8s\n",
      "[Parallel(n_jobs=-1)]: Done 800 out of 800 | elapsed:  3.9min finished\n"
     ]
    },
    {
     "data": {
      "text/plain": [
       "{'C': 100, 'class_weight': 'balanced', 'gamma': 0.01, 'kernel': 'rbf'}"
      ]
     },
     "execution_count": 15,
     "metadata": {},
     "output_type": "execute_result"
    }
   ],
   "source": [
    "skf = KFold(n_splits=5, shuffle=True)\n",
    "splits = skf.split(x, y)\n",
    "\n",
    "# regularization paramater, lower C -> more regularization (less overfitting), large C -> less regularization (and possibly more overfitting)\n",
    "c_values = [0.1, 1, 5, 10, 25, 50, 75, 100]\n",
    "#\n",
    "gamma = [1, 0.1, 0.01, 0.001, 0.0001]\n",
    "\n",
    "kernel = ['rbf', 'linear', 'poly', 'sigmoid']\n",
    "\n",
    "parameters = {'class_weight': ['balanced'],\n",
    "              'C': c_values,\n",
    "              'gamma': gamma,\n",
    "              'kernel': kernel,\n",
    "              }\n",
    "\n",
    "svc = SVC()\n",
    "clf = GridSearchCV(estimator=svc,\n",
    "                   param_grid=parameters,\n",
    "                   scoring='accuracy',\n",
    "                   verbose=5,\n",
    "                   cv=splits,\n",
    "                   n_jobs=-1,\n",
    "                   )\n",
    "\n",
    "clf.fit(x, y)\n",
    "\n",
    "clf.best_params_"
   ]
  },
  {
   "cell_type": "code",
   "execution_count": 18,
   "id": "90793ca6-2fe8-448a-831d-d9bebf6c3d5b",
   "metadata": {},
   "outputs": [
    {
     "name": "stderr",
     "output_type": "stream",
     "text": [
      "[Parallel(n_jobs=-1)]: Using backend LokyBackend with 72 concurrent workers.\n"
     ]
    },
    {
     "name": "stdout",
     "output_type": "stream",
     "text": [
      "printing accuracy measures\n",
      "avg (train): 0.7978101606584317\n",
      "std (train): 0.0032727471949278134\n",
      "avg (validation): 0.09000814178334134\n",
      "std (validation): 0.004066505165894442\n"
     ]
    },
    {
     "name": "stderr",
     "output_type": "stream",
     "text": [
      "[Parallel(n_jobs=-1)]: Done   5 out of   5 | elapsed:    6.4s finished\n"
     ]
    }
   ],
   "source": [
    "svc = SVC(**clf.best_params_)\n",
    "evaluate_scores(x, y, svc, scoring_method=\"accuracy\")"
   ]
  },
  {
   "cell_type": "markdown",
   "id": "21ebc76c-f7d7-471c-8d43-0f39f40538a5",
   "metadata": {},
   "source": [
    "# Scale by intensity"
   ]
  },
  {
   "cell_type": "markdown",
   "id": "6460cddc-dfca-4dec-8185-a38ebb0e5c49",
   "metadata": {},
   "source": [
    "### Min Max"
   ]
  },
  {
   "cell_type": "code",
   "execution_count": 9,
   "id": "77b7b6d0-1a65-44bd-a746-c9dc869e0efb",
   "metadata": {},
   "outputs": [
    {
     "name": "stdout",
     "output_type": "stream",
     "text": [
      "Fitting 5 folds for each of 160 candidates, totalling 800 fits\n"
     ]
    },
    {
     "name": "stderr",
     "output_type": "stream",
     "text": [
      "[Parallel(n_jobs=-1)]: Using backend LokyBackend with 72 concurrent workers.\n",
      "[Parallel(n_jobs=-1)]: Done  18 tasks      | elapsed:    5.1s\n",
      "[Parallel(n_jobs=-1)]: Done 144 tasks      | elapsed:   13.4s\n",
      "[Parallel(n_jobs=-1)]: Done 306 tasks      | elapsed:   28.5s\n",
      "[Parallel(n_jobs=-1)]: Done 504 tasks      | elapsed:  1.0min\n",
      "[Parallel(n_jobs=-1)]: Done 800 out of 800 | elapsed:  4.8min finished\n"
     ]
    },
    {
     "data": {
      "text/plain": [
       "{'C': 0.1, 'class_weight': 'balanced', 'gamma': 1, 'kernel': 'linear'}"
      ]
     },
     "execution_count": 9,
     "metadata": {},
     "output_type": "execute_result"
    }
   ],
   "source": [
    "x = df[AUDIO_FUNCTIONALS_EGEMAPS_COLS].values\n",
    "y = df[\"emotion_1_id\"].values\n",
    "video_ids = df[\"video_id\"].values\n",
    "intensity_levels = df[\"intensity_level\"].values\n",
    "\n",
    "x = scale_by(x, intensity_levels, \"min_max\")\n",
    "\n",
    "scaler = StandardScaler()\n",
    "x = scaler.fit_transform(x)\n",
    "\n",
    "skf = KFold(n_splits=5, shuffle=True)\n",
    "splits = skf.split(x, y)\n",
    "\n",
    "# regularization paramater, lower C -> more regularization (less overfitting), large C -> less regularization (and possibly more overfitting)\n",
    "c_values = [0.1, 1, 5, 10, 25, 50, 75, 100]\n",
    "#\n",
    "gamma = [1, 0.1, 0.01, 0.001, 0.0001]\n",
    "\n",
    "kernel = ['rbf', 'linear', 'poly', 'sigmoid']\n",
    "\n",
    "parameters = {'class_weight': ['balanced'],\n",
    "              'C': c_values,\n",
    "              'gamma': gamma,\n",
    "              'kernel': kernel,\n",
    "              }\n",
    "\n",
    "svc = SVC()\n",
    "clf = GridSearchCV(estimator=svc,\n",
    "                   param_grid=parameters,\n",
    "                   scoring='accuracy',\n",
    "                   verbose=5,\n",
    "                   cv=splits,\n",
    "                   n_jobs=-1,\n",
    "                   )\n",
    "\n",
    "clf.fit(x, y)\n",
    "\n",
    "clf.best_params_"
   ]
  },
  {
   "cell_type": "code",
   "execution_count": 10,
   "id": "bb3f130a-821b-4893-a503-1599e30cf19b",
   "metadata": {},
   "outputs": [
    {
     "name": "stderr",
     "output_type": "stream",
     "text": [
      "[Parallel(n_jobs=-1)]: Using backend LokyBackend with 72 concurrent workers.\n"
     ]
    },
    {
     "name": "stdout",
     "output_type": "stream",
     "text": [
      "printing accuracy measures\n",
      "avg (train): 0.23811637559904547\n",
      "std (train): 0.004301989346990589\n",
      "avg (validation): 0.0814301914772975\n",
      "std (validation): 0.012880362415746839\n"
     ]
    },
    {
     "name": "stderr",
     "output_type": "stream",
     "text": [
      "[Parallel(n_jobs=-1)]: Done   5 out of   5 | elapsed:    4.5s finished\n"
     ]
    }
   ],
   "source": [
    "svc = SVC(**clf.best_params_)\n",
    "evaluate_scores(x, y, svc, scoring_method=\"accuracy\")"
   ]
  }
 ],
 "metadata": {
  "instance_type": "ml.c5.18xlarge",
  "kernelspec": {
   "display_name": "Python 3 (Data Science)",
   "language": "python",
   "name": "python3__SAGEMAKER_INTERNAL__arn:aws:sagemaker:eu-west-1:470317259841:image/datascience-1.0"
  },
  "language_info": {
   "codemirror_mode": {
    "name": "ipython",
    "version": 3
   },
   "file_extension": ".py",
   "mimetype": "text/x-python",
   "name": "python",
   "nbconvert_exporter": "python",
   "pygments_lexer": "ipython3",
   "version": "3.7.10"
  }
 },
 "nbformat": 4,
 "nbformat_minor": 5
}
