{
 "cells": [
  {
   "cell_type": "code",
   "execution_count": 2,
   "id": "75d3b158-aa44-46ee-ac9b-2e90d51872ec",
   "metadata": {},
   "outputs": [],
   "source": [
    "import os\n",
    "import sys\n",
    "import pickle\n",
    "\n",
    "import numpy as np\n",
    "import matplotlib.pyplot as plt\n",
    "import pandas as pd\n",
    "\n",
    "from sklearn.model_selection import GridSearchCV\n",
    "from sklearn.model_selection import RandomizedSearchCV\n",
    "\n",
    "from sklearn.model_selection import train_test_split\n",
    "from sklearn.svm import SVC\n",
    "from sklearn.model_selection import cross_validate\n",
    "from sklearn.utils import shuffle\n",
    "from sklearn.preprocessing import MinMaxScaler, StandardScaler\n",
    "from sklearn.model_selection import StratifiedKFold, KFold\n",
    "\n",
    "import boto3"
   ]
  },
  {
   "cell_type": "code",
   "execution_count": 3,
   "id": "73bec4d7-cf53-48a5-9ece-3fb750891ece",
   "metadata": {},
   "outputs": [],
   "source": [
    "module_path = os.path.abspath(os.path.join('../../../../'))\n",
    "if module_path not in sys.path:\n",
    "    sys.path.append(module_path)"
   ]
  },
  {
   "cell_type": "code",
   "execution_count": 4,
   "id": "9231536d-9c9f-47d3-9897-c2c019aa7aee",
   "metadata": {},
   "outputs": [],
   "source": [
    "from global_config import ROOT_DIR, emotion_id_to_emotion_abr, conf_cmap, AU_INTENSITY_COLS, GAZE_COLS, POSE_COLS\n",
    "from src.analysis.supervised_learning.evaluation.confusion_matrix import ConfusionMatrixCreator\n",
    "\n",
    "\n",
    "from src.analysis.data_exploration import plot_time_series_means_subplots\n",
    "\n",
    "from src.preprocessing.dataset_creation.scaling import Scaler\n",
    "from src.preprocessing.dataset_creation.helpers import slice_by, get_cols, get_fixed_col\n",
    "from src.preprocessing.dataset_creation.aggregation import get_aggregate_measures\n",
    "from src.preprocessing.dataset_creation.interpolation import Interpolator"
   ]
  },
  {
   "cell_type": "code",
   "execution_count": 5,
   "id": "86497fdb-a92f-463a-9054-4c4766e434ba",
   "metadata": {},
   "outputs": [],
   "source": [
    "def param_search(x_, y_):\n",
    "    # regularization paramater, lower C -> more regularization (less overfitting), large C -> less regularization (and possibly more overfitting)\n",
    "    c_values = [0.1, 1, 5, 10, 25, 50, 75, 100]\n",
    "\n",
    "    # \n",
    "    gamma = [1, 0.1, 0.01, 0.001, 0.0001]\n",
    "    kernel = ['rbf', 'linear', 'poly', 'sigmoid']\n",
    "\n",
    "    parameters = {'class_weight': ['balanced'],\n",
    "                  'C': c_values,\n",
    "                  'gamma': gamma,\n",
    "                  'kernel': kernel,\n",
    "                  }\n",
    "    \n",
    "    \n",
    "    skf = KFold(n_splits=5, shuffle=True)\n",
    "    splits = skf.split(x_, y_)\n",
    "    \n",
    "    svc = SVC()\n",
    "    clf = GridSearchCV(estimator=svc,\n",
    "                       param_grid=parameters,\n",
    "                       scoring='accuracy',\n",
    "                       verbose=5,\n",
    "                       cv=splits,\n",
    "                       n_jobs=-1,\n",
    "                       )\n",
    "    \n",
    "    clf.fit(x_, y_)\n",
    "    \n",
    "    print(\"best params\")\n",
    "    print(clf.best_params_)\n",
    "    return clf"
   ]
  },
  {
   "cell_type": "code",
   "execution_count": 6,
   "id": "0c6e6e68-9677-45bf-b882-707829747021",
   "metadata": {},
   "outputs": [],
   "source": [
    "def evaluate_scores(x_, y_, svc, scoring_method):\n",
    "    \n",
    "    skf = KFold(n_splits=5, shuffle=True)\n",
    "    \n",
    "    # get scores\n",
    "    scores = cross_validate(X=x_, y=y_,\n",
    "                            estimator           = svc,\n",
    "                            scoring             = [scoring_method],\n",
    "                            verbose             = 1,\n",
    "                            cv                  = skf.split(x_, y_),\n",
    "                            n_jobs              = -1,\n",
    "                            return_train_score  = True                        \n",
    "                           )\n",
    "    \n",
    "    print('printing {} measures'.format(scoring_method))\n",
    "    print('avg (train):', np.mean(scores['train_{}'.format(scoring_method)]))\n",
    "    print('std (train):', np.std(scores['train_{}'.format(scoring_method)]))\n",
    "    print('avg (validation):', np.mean(scores['test_{}'.format(scoring_method)]))\n",
    "    print('std (validation):', np.std(scores['test_{}'.format(scoring_method)]))"
   ]
  },
  {
   "cell_type": "code",
   "execution_count": 14,
   "id": "97c1e505-e4d4-4558-8562-bb2472394fc9",
   "metadata": {},
   "outputs": [],
   "source": [
    "def run(x, means, variance, deltas, peaks):\n",
    "    print(\"running tests with means={}, variance={}, deltas={} and peaks={}\".format(means, variance, deltas, peaks))\n",
    "    \n",
    "    \n",
    "    x = get_aggregate_measures(x,\n",
    "                               means=means,\n",
    "                               variance=variance,\n",
    "                               deltas=deltas,\n",
    "                               peaks=peaks)\n",
    "    scaler = MinMaxScaler()\n",
    "    x = scaler.fit_transform(x)\n",
    "    \n",
    "    print(\"printing shape\")\n",
    "    print(x.shape)\n",
    "    \n",
    "    clf = param_search(x, y)\n",
    "    \n",
    "    svc = SVC(**clf.best_params_)\n",
    "    evaluate_scores(x, y, svc, scoring_method=\"accuracy\")"
   ]
  },
  {
   "cell_type": "code",
   "execution_count": 8,
   "id": "652ff044-8134-4e9a-9232-53d47871caa2",
   "metadata": {},
   "outputs": [],
   "source": [
    "from s3fs.core import S3FileSystem\n",
    "s3 = S3FileSystem()\n",
    "from sagemaker import get_execution_role\n",
    "\n",
    "# this datafile has standardscaled data on a per actor basis\n",
    "role = get_execution_role()\n",
    "bucket='files-and-examples-01'\n",
    "file = 'datasets/su_dataset/query_13_videos.csv'\n",
    "\n",
    "path = 's3://{}/{}'.format(bucket, file)\n",
    "\n",
    "df = pd.read_csv(path)"
   ]
  },
  {
   "cell_type": "code",
   "execution_count": 9,
   "id": "fb8e2ddd-4516-4bcf-b49b-6edaba0310f5",
   "metadata": {},
   "outputs": [],
   "source": [
    "slices = slice_by(df, \"filename\")\n",
    "interpolator = Interpolator([*AU_INTENSITY_COLS, *GAZE_COLS, *POSE_COLS])\n",
    "slices = interpolator.remove_interpolate(slices)"
   ]
  },
  {
   "cell_type": "code",
   "execution_count": 10,
   "id": "cb4be42b-a6c5-47a9-ab3f-8f2c18b6ddce",
   "metadata": {},
   "outputs": [],
   "source": [
    "au_gaze_pose = get_cols(slices, [*AU_INTENSITY_COLS, *GAZE_COLS, *POSE_COLS])\n",
    "y = get_fixed_col(slices, \"emotion_1_id\")\n",
    "video_ids = get_fixed_col(slices, \"video_id\")"
   ]
  },
  {
   "cell_type": "code",
   "execution_count": 11,
   "id": "48d962c1-35db-4e2d-8db2-8c73782e43a9",
   "metadata": {},
   "outputs": [],
   "source": [
    "scaler = Scaler(au_gaze_pose, \"standard\")\n",
    "scaler.scale_by_video_id(video_ids)\n",
    "au_gaze_pose = scaler.slices"
   ]
  },
  {
   "cell_type": "code",
   "execution_count": 12,
   "id": "323e0b38-dc09-425e-b9f8-67b2dd0f0c30",
   "metadata": {},
   "outputs": [
    {
     "data": {
      "text/plain": [
       "4540"
      ]
     },
     "execution_count": 12,
     "metadata": {},
     "output_type": "execute_result"
    }
   ],
   "source": [
    "len(au_gaze_pose)"
   ]
  },
  {
   "cell_type": "code",
   "execution_count": 15,
   "id": "4bb90bc5-c636-43fb-8f0a-985fb30f78bc",
   "metadata": {},
   "outputs": [
    {
     "name": "stdout",
     "output_type": "stream",
     "text": [
      "running tests with means=True, variance=True, deltas=False and peaks=False\n",
      "printing shape\n",
      "(4540, 186)\n",
      "Fitting 5 folds for each of 160 candidates, totalling 800 fits\n"
     ]
    },
    {
     "name": "stderr",
     "output_type": "stream",
     "text": [
      "[Parallel(n_jobs=-1)]: Using backend LokyBackend with 96 concurrent workers.\n",
      "[Parallel(n_jobs=-1)]: Done  96 tasks      | elapsed:    9.9s\n",
      "[Parallel(n_jobs=-1)]: Done 258 tasks      | elapsed:   24.1s\n",
      "[Parallel(n_jobs=-1)]: Done 456 tasks      | elapsed:   39.0s\n",
      "[Parallel(n_jobs=-1)]: Done 770 out of 800 | elapsed:  1.1min remaining:    2.5s\n",
      "[Parallel(n_jobs=-1)]: Done 800 out of 800 | elapsed:  1.1min finished\n"
     ]
    },
    {
     "name": "stdout",
     "output_type": "stream",
     "text": [
      "best params\n",
      "{'C': 10, 'class_weight': 'balanced', 'gamma': 1, 'kernel': 'rbf'}\n"
     ]
    },
    {
     "name": "stderr",
     "output_type": "stream",
     "text": [
      "[Parallel(n_jobs=-1)]: Using backend LokyBackend with 96 concurrent workers.\n"
     ]
    },
    {
     "name": "stdout",
     "output_type": "stream",
     "text": [
      "printing accuracy measures\n",
      "avg (train): 0.9999449339207048\n",
      "std (train): 0.00011013215859030369\n",
      "avg (validation): 0.3843612334801762\n",
      "std (validation): 0.008838062840413602\n"
     ]
    },
    {
     "name": "stderr",
     "output_type": "stream",
     "text": [
      "[Parallel(n_jobs=-1)]: Done   5 out of   5 | elapsed:   10.3s finished\n"
     ]
    }
   ],
   "source": [
    "run(au_gaze_pose,\n",
    "    means=True,\n",
    "    variance=True,\n",
    "    deltas=False,\n",
    "    peaks=False)"
   ]
  },
  {
   "cell_type": "code",
   "execution_count": 16,
   "id": "a999e4a2-9182-4360-97b0-832132fabf77",
   "metadata": {},
   "outputs": [
    {
     "name": "stdout",
     "output_type": "stream",
     "text": [
      "running tests with means=True, variance=False, deltas=True and peaks=False\n",
      "printing shape\n",
      "(4540, 217)\n",
      "Fitting 5 folds for each of 160 candidates, totalling 800 fits\n"
     ]
    },
    {
     "name": "stderr",
     "output_type": "stream",
     "text": [
      "[Parallel(n_jobs=-1)]: Using backend LokyBackend with 96 concurrent workers.\n",
      "[Parallel(n_jobs=-1)]: Done  96 tasks      | elapsed:   10.7s\n",
      "[Parallel(n_jobs=-1)]: Done 258 tasks      | elapsed:   27.2s\n",
      "[Parallel(n_jobs=-1)]: Done 456 tasks      | elapsed:   43.6s\n",
      "[Parallel(n_jobs=-1)]: Done 770 out of 800 | elapsed:  1.2min remaining:    2.7s\n",
      "[Parallel(n_jobs=-1)]: Done 800 out of 800 | elapsed:  1.2min finished\n"
     ]
    },
    {
     "name": "stdout",
     "output_type": "stream",
     "text": [
      "best params\n",
      "{'C': 10, 'class_weight': 'balanced', 'gamma': 1, 'kernel': 'rbf'}\n"
     ]
    },
    {
     "name": "stderr",
     "output_type": "stream",
     "text": [
      "[Parallel(n_jobs=-1)]: Using backend LokyBackend with 96 concurrent workers.\n"
     ]
    },
    {
     "name": "stdout",
     "output_type": "stream",
     "text": [
      "printing accuracy measures\n",
      "avg (train): 1.0\n",
      "std (train): 0.0\n",
      "avg (validation): 0.37819383259911893\n",
      "std (validation): 0.013336454187859571\n"
     ]
    },
    {
     "name": "stderr",
     "output_type": "stream",
     "text": [
      "[Parallel(n_jobs=-1)]: Done   5 out of   5 | elapsed:   11.8s finished\n"
     ]
    }
   ],
   "source": [
    "run(au_gaze_pose,\n",
    "    means=True,\n",
    "    variance=False,\n",
    "    deltas=True,\n",
    "    peaks=False)"
   ]
  },
  {
   "cell_type": "code",
   "execution_count": 17,
   "id": "2e13a0bf-e924-45e7-9b08-5dd9b5c8abac",
   "metadata": {},
   "outputs": [
    {
     "name": "stdout",
     "output_type": "stream",
     "text": [
      "running tests with means=True, variance=False, deltas=False and peaks=True\n",
      "printing shape\n",
      "(4540, 186)\n",
      "Fitting 5 folds for each of 160 candidates, totalling 800 fits\n"
     ]
    },
    {
     "name": "stderr",
     "output_type": "stream",
     "text": [
      "[Parallel(n_jobs=-1)]: Using backend LokyBackend with 96 concurrent workers.\n",
      "[Parallel(n_jobs=-1)]: Done  96 tasks      | elapsed:    9.8s\n",
      "[Parallel(n_jobs=-1)]: Done 258 tasks      | elapsed:   23.9s\n",
      "[Parallel(n_jobs=-1)]: Done 456 tasks      | elapsed:   39.1s\n",
      "[Parallel(n_jobs=-1)]: Done 770 out of 800 | elapsed:  1.1min remaining:    2.5s\n",
      "[Parallel(n_jobs=-1)]: Done 800 out of 800 | elapsed:  1.1min finished\n"
     ]
    },
    {
     "name": "stdout",
     "output_type": "stream",
     "text": [
      "best params\n",
      "{'C': 10, 'class_weight': 'balanced', 'gamma': 1, 'kernel': 'rbf'}\n"
     ]
    },
    {
     "name": "stderr",
     "output_type": "stream",
     "text": [
      "[Parallel(n_jobs=-1)]: Using backend LokyBackend with 96 concurrent workers.\n"
     ]
    },
    {
     "name": "stdout",
     "output_type": "stream",
     "text": [
      "printing accuracy measures\n",
      "avg (train): 1.0\n",
      "std (train): 0.0\n",
      "avg (validation): 0.38634361233480174\n",
      "std (validation): 0.010686792485205475\n"
     ]
    },
    {
     "name": "stderr",
     "output_type": "stream",
     "text": [
      "[Parallel(n_jobs=-1)]: Done   5 out of   5 | elapsed:   10.3s finished\n"
     ]
    }
   ],
   "source": [
    "run(au_gaze_pose,\n",
    "    means=True,\n",
    "    variance=False,\n",
    "    deltas=False,\n",
    "    peaks=True)"
   ]
  },
  {
   "cell_type": "code",
   "execution_count": 18,
   "id": "9e3b284b-1fda-4dee-b76c-7b2ef795ee7c",
   "metadata": {},
   "outputs": [
    {
     "name": "stdout",
     "output_type": "stream",
     "text": [
      "running tests with means=True, variance=True, deltas=True and peaks=True\n",
      "printing shape\n",
      "(4540, 279)\n",
      "Fitting 5 folds for each of 160 candidates, totalling 800 fits\n"
     ]
    },
    {
     "name": "stderr",
     "output_type": "stream",
     "text": [
      "[Parallel(n_jobs=-1)]: Using backend LokyBackend with 96 concurrent workers.\n",
      "[Parallel(n_jobs=-1)]: Done  96 tasks      | elapsed:   13.2s\n",
      "[Parallel(n_jobs=-1)]: Done 258 tasks      | elapsed:   33.8s\n",
      "[Parallel(n_jobs=-1)]: Done 456 tasks      | elapsed:   54.4s\n",
      "[Parallel(n_jobs=-1)]: Done 770 out of 800 | elapsed:  1.4min remaining:    3.3s\n",
      "[Parallel(n_jobs=-1)]: Done 800 out of 800 | elapsed:  1.5min finished\n"
     ]
    },
    {
     "name": "stdout",
     "output_type": "stream",
     "text": [
      "best params\n",
      "{'C': 25, 'class_weight': 'balanced', 'gamma': 0.1, 'kernel': 'rbf'}\n"
     ]
    },
    {
     "name": "stderr",
     "output_type": "stream",
     "text": [
      "[Parallel(n_jobs=-1)]: Using backend LokyBackend with 96 concurrent workers.\n"
     ]
    },
    {
     "name": "stdout",
     "output_type": "stream",
     "text": [
      "printing accuracy measures\n",
      "avg (train): 0.9903634361233481\n",
      "std (train): 0.0013146846240433125\n",
      "avg (validation): 0.3665198237885462\n",
      "std (validation): 0.012448344626383065\n"
     ]
    },
    {
     "name": "stderr",
     "output_type": "stream",
     "text": [
      "[Parallel(n_jobs=-1)]: Done   5 out of   5 | elapsed:   11.9s finished\n"
     ]
    }
   ],
   "source": [
    "run(au_gaze_pose,\n",
    "    means=True,\n",
    "    variance=True,\n",
    "    deltas=True,\n",
    "    peaks=True)"
   ]
  }
 ],
 "metadata": {
  "instance_type": "ml.c5.24xlarge",
  "kernelspec": {
   "display_name": "Python 3 (Data Science)",
   "language": "python",
   "name": "python3__SAGEMAKER_INTERNAL__arn:aws:sagemaker:eu-west-1:470317259841:image/datascience-1.0"
  },
  "language_info": {
   "codemirror_mode": {
    "name": "ipython",
    "version": 3
   },
   "file_extension": ".py",
   "mimetype": "text/x-python",
   "name": "python",
   "nbconvert_exporter": "python",
   "pygments_lexer": "ipython3",
   "version": "3.7.10"
  }
 },
 "nbformat": 4,
 "nbformat_minor": 5
}
