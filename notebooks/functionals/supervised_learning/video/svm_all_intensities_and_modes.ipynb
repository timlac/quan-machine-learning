{
 "cells": [
  {
   "cell_type": "code",
   "execution_count": 26,
   "id": "fa9ddcb7-d077-49ab-ba86-75cfb78b6589",
   "metadata": {},
   "outputs": [],
   "source": [
    "import os\n",
    "import sys\n",
    "import pickle\n",
    "\n",
    "import numpy as np\n",
    "import matplotlib.pyplot as plt\n",
    "import pandas as pd\n",
    "\n",
    "from sklearn.model_selection import GridSearchCV\n",
    "from sklearn.model_selection import RandomizedSearchCV\n",
    "\n",
    "from sklearn.model_selection import train_test_split\n",
    "from sklearn.svm import SVC\n",
    "from sklearn.model_selection import cross_validate\n",
    "from sklearn.utils import shuffle\n",
    "from sklearn.preprocessing import MinMaxScaler, StandardScaler\n",
    "from sklearn.model_selection import StratifiedKFold, KFold\n",
    "\n",
    "\n",
    "import boto3"
   ]
  },
  {
   "cell_type": "code",
   "execution_count": 27,
   "id": "e348dc5a-6134-4149-9c31-6a81f32b1949",
   "metadata": {},
   "outputs": [],
   "source": [
    "module_path = os.path.abspath(os.path.join('../../../../'))\n",
    "if module_path not in sys.path:\n",
    "    sys.path.append(module_path)"
   ]
  },
  {
   "cell_type": "code",
   "execution_count": 28,
   "id": "7ea4d979-95be-4c40-be67-7d8fabe70341",
   "metadata": {},
   "outputs": [],
   "source": [
    "from global_config import ROOT_DIR, emotion_id_to_emotion_abr, conf_cmap\n",
    "from src.analysis.supervised_learning.evaluation.confusion_matrix import ConfusionMatrixCreator\n",
    "\n",
    "from src.preprocessing.dataset_creation.aggregation import get_aggregate_measures"
   ]
  },
  {
   "cell_type": "code",
   "execution_count": 48,
   "id": "7898621c-f2cf-4d90-be80-8212179fa5e6",
   "metadata": {},
   "outputs": [],
   "source": [
    "def evaluate_scores(X, y, svc, scoring_method):\n",
    "    \n",
    "    skf = KFold(n_splits=100, shuffle=True)\n",
    "    \n",
    "    # get scores\n",
    "    scores = cross_validate(X=X, y=y,\n",
    "                            estimator           = svc,\n",
    "                            scoring             = [scoring_method],\n",
    "                            verbose             = 1,\n",
    "                            cv                  = skf.split(X, y),\n",
    "                            n_jobs              = -1,\n",
    "                            return_train_score  = True                        \n",
    "                           )\n",
    "    \n",
    "    print('printing {} measures'.format(scoring_method))\n",
    "    print('avg (train):', np.mean(scores['train_{}'.format(scoring_method)]))\n",
    "    print('std (train):', np.std(scores['train_{}'.format(scoring_method)]))\n",
    "    print('avg (validation):', np.mean(scores['test_{}'.format(scoring_method)]))\n",
    "    print('std (validation):', np.std(scores['test_{}'.format(scoring_method)]))"
   ]
  },
  {
   "cell_type": "code",
   "execution_count": 30,
   "id": "82764df2-3659-42bd-ac71-779b9f6839b7",
   "metadata": {},
   "outputs": [],
   "source": [
    "from s3fs.core import S3FileSystem\n",
    "s3 = S3FileSystem()\n",
    "from sagemaker import get_execution_role\n",
    "\n",
    "# this datafile has standardscaled data on a per actor basis\n",
    "role = get_execution_role()\n",
    "bucket='files-and-examples-01'\n",
    "file = 'datasets/su_dataset/all_data.pickle'\n",
    "\n",
    "path = s3.open('s3://{}/{}'.format(bucket, file))"
   ]
  },
  {
   "cell_type": "code",
   "execution_count": 31,
   "id": "8be8d4da-909f-4cd4-83fa-2ffaf42ea99f",
   "metadata": {},
   "outputs": [],
   "source": [
    "file = pickle.load(path)\n",
    "\n",
    "x = file['x']\n",
    "y = file['y']\n",
    "\n",
    "au = x['au']\n",
    "gaze = x['gaze']\n",
    "pose = x['pose']"
   ]
  },
  {
   "cell_type": "code",
   "execution_count": 32,
   "id": "6b2ea75d-83d1-4beb-aed0-37d522320424",
   "metadata": {},
   "outputs": [
    {
     "data": {
      "text/plain": [
       "10963"
      ]
     },
     "execution_count": 32,
     "metadata": {},
     "output_type": "execute_result"
    }
   ],
   "source": [
    "len(au)"
   ]
  },
  {
   "cell_type": "code",
   "execution_count": 33,
   "id": "4b0c3a64-3034-426e-8fcc-43d89b56501e",
   "metadata": {},
   "outputs": [
    {
     "data": {
      "text/plain": [
       "(38, 17)"
      ]
     },
     "execution_count": 33,
     "metadata": {},
     "output_type": "execute_result"
    }
   ],
   "source": [
    "au[0].shape"
   ]
  },
  {
   "cell_type": "code",
   "execution_count": 34,
   "id": "8f4a346b-9c96-4b99-9238-e8d3273dccdd",
   "metadata": {},
   "outputs": [
    {
     "data": {
      "text/plain": [
       "(69, 17)"
      ]
     },
     "execution_count": 34,
     "metadata": {},
     "output_type": "execute_result"
    }
   ],
   "source": [
    "au[1].shape"
   ]
  },
  {
   "cell_type": "code",
   "execution_count": 35,
   "id": "7a585458-9480-44b7-b40f-8b000b7d4645",
   "metadata": {},
   "outputs": [],
   "source": [
    "au_agg = get_aggregate_measures(au,\n",
    "                               means=True,\n",
    "                               variance=False,\n",
    "                               deltas=False,\n",
    "                               peaks=False)"
   ]
  },
  {
   "cell_type": "code",
   "execution_count": 36,
   "id": "294eb1b4-2ecd-453a-8b53-f4306351d78c",
   "metadata": {},
   "outputs": [],
   "source": [
    "scaler = MinMaxScaler()\n",
    "au_agg = scaler.fit_transform(au_agg)"
   ]
  },
  {
   "cell_type": "code",
   "execution_count": 37,
   "id": "d71ccb5b-5019-4ce2-8d5c-9d3f846c90e0",
   "metadata": {},
   "outputs": [],
   "source": [
    "skf = KFold(n_splits=5, shuffle=True)\n",
    "splits = skf.split(au_agg, y)"
   ]
  },
  {
   "cell_type": "code",
   "execution_count": 38,
   "id": "1d6a2b55-ea2a-4674-84fd-4b5499703c98",
   "metadata": {},
   "outputs": [],
   "source": [
    "# regularization paramater, lower C -> more regularization (less overfitting), large C -> less regularization (and possibly more overfitting)\n",
    "c_values = [0.1, 1, 5, 10, 25, 50, 75, 100]\n",
    "\n",
    "# \n",
    "gamma = [1, 0.1, 0.01, 0.001, 0.0001]\n",
    "kernel = ['rbf', 'linear', 'poly', 'sigmoid']\n",
    "\n",
    "parameters = {'class_weight': ['balanced'],\n",
    "              'C': c_values,\n",
    "              'gamma': gamma,\n",
    "              'kernel': kernel,\n",
    "              }\n",
    "\n",
    "svc = SVC()\n",
    "clf = GridSearchCV(estimator=svc,\n",
    "                   param_grid=parameters,\n",
    "                   scoring='accuracy',\n",
    "                   verbose=5,\n",
    "                   cv=splits,\n",
    "                   n_jobs=-1,\n",
    "                   )"
   ]
  },
  {
   "cell_type": "code",
   "execution_count": 39,
   "id": "f5b14b7e-da63-4514-80bd-685b8f7d73f4",
   "metadata": {
    "tags": []
   },
   "outputs": [
    {
     "name": "stdout",
     "output_type": "stream",
     "text": [
      "Fitting 5 folds for each of 160 candidates, totalling 800 fits\n"
     ]
    },
    {
     "name": "stderr",
     "output_type": "stream",
     "text": [
      "[Parallel(n_jobs=-1)]: Using backend LokyBackend with 72 concurrent workers.\n",
      "[Parallel(n_jobs=-1)]: Done  18 tasks      | elapsed:   19.5s\n",
      "[Parallel(n_jobs=-1)]: Done 144 tasks      | elapsed:   55.4s\n",
      "[Parallel(n_jobs=-1)]: Done 306 tasks      | elapsed:  1.8min\n",
      "[Parallel(n_jobs=-1)]: Done 504 tasks      | elapsed:  2.8min\n",
      "[Parallel(n_jobs=-1)]: Done 800 out of 800 | elapsed:  5.1min finished\n"
     ]
    },
    {
     "data": {
      "text/plain": [
       "GridSearchCV(cv=<generator object _BaseKFold.split at 0x7fe6a49447d0>,\n",
       "             error_score=nan,\n",
       "             estimator=SVC(C=1.0, break_ties=False, cache_size=200,\n",
       "                           class_weight=None, coef0=0.0,\n",
       "                           decision_function_shape='ovr', degree=3,\n",
       "                           gamma='scale', kernel='rbf', max_iter=-1,\n",
       "                           probability=False, random_state=None, shrinking=True,\n",
       "                           tol=0.001, verbose=False),\n",
       "             iid='deprecated', n_jobs=-1,\n",
       "             param_grid={'C': [0.1, 1, 5, 10, 25, 50, 75, 100],\n",
       "                         'class_weight': ['balanced'],\n",
       "                         'gamma': [1, 0.1, 0.01, 0.001, 0.0001],\n",
       "                         'kernel': ['rbf', 'linear', 'poly', 'sigmoid']},\n",
       "             pre_dispatch='2*n_jobs', refit=True, return_train_score=False,\n",
       "             scoring='accuracy', verbose=5)"
      ]
     },
     "execution_count": 39,
     "metadata": {},
     "output_type": "execute_result"
    }
   ],
   "source": [
    "clf.fit(au_agg, y)"
   ]
  },
  {
   "cell_type": "code",
   "execution_count": 40,
   "id": "9a6a1a58-80c8-451a-b300-c8708a4a8736",
   "metadata": {},
   "outputs": [
    {
     "data": {
      "text/plain": [
       "{'C': 10, 'class_weight': 'balanced', 'gamma': 1, 'kernel': 'rbf'}"
      ]
     },
     "execution_count": 40,
     "metadata": {},
     "output_type": "execute_result"
    }
   ],
   "source": [
    "clf.best_params_"
   ]
  },
  {
   "cell_type": "code",
   "execution_count": 49,
   "id": "10730334-6925-458e-93ba-f721977df432",
   "metadata": {},
   "outputs": [
    {
     "name": "stderr",
     "output_type": "stream",
     "text": [
      "[Parallel(n_jobs=-1)]: Using backend LokyBackend with 72 concurrent workers.\n",
      "[Parallel(n_jobs=-1)]: Done  58 out of 100 | elapsed:  1.4min remaining:   59.9s\n"
     ]
    },
    {
     "name": "stdout",
     "output_type": "stream",
     "text": [
      "printing accuracy measures\n",
      "avg (train): 0.9549715918192548\n",
      "std (train): 0.0005959840092633306\n",
      "avg (validation): 0.23423603002502083\n",
      "std (validation): 0.04235634749554646\n"
     ]
    },
    {
     "name": "stderr",
     "output_type": "stream",
     "text": [
      "[Parallel(n_jobs=-1)]: Done 100 out of 100 | elapsed:  2.1min finished\n"
     ]
    }
   ],
   "source": [
    "svc = SVC(**clf.best_params_)\n",
    "evaluate_scores(au_agg, y, svc, scoring_method=\"accuracy\")"
   ]
  },
  {
   "cell_type": "markdown",
   "id": "b32acb8d-53d7-42b6-a2a8-4c044dc1d013",
   "metadata": {},
   "source": [
    "# Grid Search without shuffle/min max normalization"
   ]
  },
  {
   "cell_type": "code",
   "execution_count": 16,
   "id": "ba9ecd1c-a929-4c16-a938-7b1aa6f1561d",
   "metadata": {},
   "outputs": [
    {
     "data": {
      "text/plain": [
       "{'C': 1, 'class_weight': 'balanced', 'gamma': 0.01, 'kernel': 'rbf'}"
      ]
     },
     "execution_count": 16,
     "metadata": {},
     "output_type": "execute_result"
    }
   ],
   "source": [
    "clf.best_params_"
   ]
  },
  {
   "cell_type": "code",
   "execution_count": 17,
   "id": "94be70e4-c152-4c28-8034-5fd9da6703c4",
   "metadata": {},
   "outputs": [
    {
     "name": "stderr",
     "output_type": "stream",
     "text": [
      "[Parallel(n_jobs=-1)]: Using backend LokyBackend with 48 concurrent workers.\n"
     ]
    },
    {
     "name": "stdout",
     "output_type": "stream",
     "text": [
      "printing accuracy measures\n",
      "avg (train): 0.19410736662373554\n",
      "std (train): 0.004637956432709442\n",
      "avg (validation): 0.12341420611700801\n",
      "std (validation): 0.0124849801140342\n"
     ]
    },
    {
     "name": "stderr",
     "output_type": "stream",
     "text": [
      "[Parallel(n_jobs=-1)]: Done   5 out of   5 | elapsed:   26.1s finished\n"
     ]
    }
   ],
   "source": [
    "svc = SVC(**clf.best_params_)\n",
    "evaluate_scores(au_agg, y, svc, scoring_method=\"accuracy\")"
   ]
  },
  {
   "cell_type": "code",
   "execution_count": 21,
   "id": "a2bd19bb-edea-4ffc-9e8d-bdb0e7be9e7a",
   "metadata": {},
   "outputs": [
    {
     "name": "stderr",
     "output_type": "stream",
     "text": [
      "[Parallel(n_jobs=-1)]: Using backend LokyBackend with 48 concurrent workers.\n"
     ]
    },
    {
     "name": "stdout",
     "output_type": "stream",
     "text": [
      "printing accuracy measures\n",
      "avg (train): 0.23225845460713476\n",
      "std (train): 0.004177855646772091\n",
      "avg (validation): 0.12095182581605039\n",
      "std (validation): 0.009047825781993136\n"
     ]
    },
    {
     "name": "stderr",
     "output_type": "stream",
     "text": [
      "[Parallel(n_jobs=-1)]: Done   5 out of   5 | elapsed:   25.1s finished\n"
     ]
    }
   ],
   "source": [
    "#**{'C': 10, 'class_weight': 'balanced', 'gamma': 1, 'kernel': 'rbf'}\n",
    "\n",
    "svc = SVC(**{'C': 2, 'class_weight': 'balanced', 'gamma': 0.01, 'kernel': 'rbf'})\n",
    "evaluate_scores(au_agg, y, svc, scoring_method=\"accuracy\")"
   ]
  },
  {
   "cell_type": "code",
   "execution_count": 23,
   "id": "90aeb3bf-49f3-4330-89b5-4773ffa13ab1",
   "metadata": {},
   "outputs": [],
   "source": [
    "#scaler = MinMaxScaler()\n",
    "#au_agg = scaler.fit_transform(au_agg)\n",
    "au_agg, y = shuffle(au_agg, y)"
   ]
  },
  {
   "cell_type": "code",
   "execution_count": 24,
   "id": "f6bf3c0f-a9de-4b45-a4b3-b8246114e148",
   "metadata": {},
   "outputs": [
    {
     "name": "stderr",
     "output_type": "stream",
     "text": [
      "[Parallel(n_jobs=-1)]: Using backend LokyBackend with 48 concurrent workers.\n"
     ]
    },
    {
     "name": "stdout",
     "output_type": "stream",
     "text": [
      "printing accuracy measures\n",
      "avg (train): 0.1940390997751349\n",
      "std (train): 0.002745758375877358\n",
      "avg (validation): 0.13746380320928236\n",
      "std (validation): 0.011494319533980748\n"
     ]
    },
    {
     "name": "stderr",
     "output_type": "stream",
     "text": [
      "[Parallel(n_jobs=-1)]: Done   5 out of   5 | elapsed:   25.9s finished\n"
     ]
    }
   ],
   "source": [
    "svc = SVC(**clf.best_params_)\n",
    "evaluate_scores(au_agg, y, svc, scoring_method=\"accuracy\")"
   ]
  }
 ],
 "metadata": {
  "instance_type": "ml.c5.18xlarge",
  "kernelspec": {
   "display_name": "Python 3 (Data Science)",
   "language": "python",
   "name": "python3__SAGEMAKER_INTERNAL__arn:aws:sagemaker:eu-west-1:470317259841:image/datascience-1.0"
  },
  "language_info": {
   "codemirror_mode": {
    "name": "ipython",
    "version": 3
   },
   "file_extension": ".py",
   "mimetype": "text/x-python",
   "name": "python",
   "nbconvert_exporter": "python",
   "pygments_lexer": "ipython3",
   "version": "3.7.10"
  }
 },
 "nbformat": 4,
 "nbformat_minor": 5
}
