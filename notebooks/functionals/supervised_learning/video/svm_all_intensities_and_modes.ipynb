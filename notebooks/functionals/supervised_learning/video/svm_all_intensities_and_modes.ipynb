{
 "cells": [
  {
   "cell_type": "code",
   "execution_count": 2,
   "id": "fa9ddcb7-d077-49ab-ba86-75cfb78b6589",
   "metadata": {},
   "outputs": [],
   "source": [
    "import os\n",
    "import sys\n",
    "import pickle\n",
    "\n",
    "import numpy as np\n",
    "import matplotlib.pyplot as plt\n",
    "import pandas as pd\n",
    "\n",
    "from sklearn.model_selection import GridSearchCV\n",
    "from sklearn.model_selection import RandomizedSearchCV\n",
    "\n",
    "from sklearn.model_selection import train_test_split\n",
    "from sklearn.svm import SVC\n",
    "from sklearn.model_selection import cross_validate\n",
    "from sklearn.utils import shuffle\n",
    "from sklearn.preprocessing import MinMaxScaler, StandardScaler\n",
    "from sklearn.model_selection import StratifiedKFold, KFold\n",
    "\n",
    "import boto3"
   ]
  },
  {
   "cell_type": "code",
   "execution_count": 3,
   "id": "e348dc5a-6134-4149-9c31-6a81f32b1949",
   "metadata": {},
   "outputs": [],
   "source": [
    "module_path = os.path.abspath(os.path.join('../../../../'))\n",
    "if module_path not in sys.path:\n",
    "    sys.path.append(module_path)"
   ]
  },
  {
   "cell_type": "code",
   "execution_count": 53,
   "id": "7ea4d979-95be-4c40-be67-7d8fabe70341",
   "metadata": {},
   "outputs": [],
   "source": [
    "from global_config import ROOT_DIR, emotion_id_to_emotion_abr, conf_cmap, AU_INTENSITY_COLS, GAZE_COLS, POSE_COLS\n",
    "from src.analysis.supervised_learning.evaluation.confusion_matrix import ConfusionMatrixCreator\n",
    "\n",
    "\n",
    "from src.analysis.data_exploration import plot_time_series_means_subplots\n",
    "\n",
    "from src.preprocessing.dataset_creation.scaling import Scaler\n",
    "from src.preprocessing.dataset_creation.helpers import slice_by, get_cols, get_fixed_col\n",
    "from src.preprocessing.dataset_creation.aggregation import get_aggregate_measures\n",
    "from src.preprocessing.dataset_creation.interpolation import Interpolator"
   ]
  },
  {
   "cell_type": "markdown",
   "id": "2d816c0e-c21e-4dbd-9f68-905c5346ca86",
   "metadata": {},
   "source": [
    "Using kernel: ml.c5.18xlarge (72 vCPU + 144 GiB)"
   ]
  },
  {
   "cell_type": "code",
   "execution_count": 107,
   "id": "e6dd2d88-ebc3-4816-a9e5-a0560cccd95a",
   "metadata": {},
   "outputs": [],
   "source": [
    "def param_search(x_, y_):\n",
    "    # regularization paramater, lower C -> more regularization (less overfitting), large C -> less regularization (and possibly more overfitting)\n",
    "    c_values = [0.1, 1, 5, 10, 25, 50, 75, 100]\n",
    "    # \n",
    "    gamma = [1, 0.1, 0.01, 0.001, 0.0001]\n",
    "        \n",
    "    kernel = ['rbf', 'linear', 'poly', 'sigmoid']\n",
    "    \n",
    "    parameters = {'class_weight': ['balanced'],\n",
    "                  'C': c_values,\n",
    "                  'gamma': gamma,\n",
    "                  'kernel': kernel,\n",
    "                  }\n",
    "    \n",
    "    \n",
    "    skf = KFold(n_splits=5, shuffle=True)\n",
    "    splits = skf.split(x_, y_)\n",
    "    \n",
    "    svc = SVC()\n",
    "    clf = GridSearchCV(estimator=svc,\n",
    "                       param_grid=parameters,\n",
    "                       scoring='accuracy',\n",
    "                       verbose=5,\n",
    "                       cv=splits,\n",
    "                       n_jobs=-1,\n",
    "                       )\n",
    "    \n",
    "    clf.fit(x_, y_)\n",
    "    \n",
    "    print(clf.best_params_)\n",
    "    return clf"
   ]
  },
  {
   "cell_type": "code",
   "execution_count": 17,
   "id": "73500a8e-c830-4c58-970f-fb76061430a0",
   "metadata": {},
   "outputs": [],
   "source": [
    "def evaluate_scores(x_, y_, svc, scoring_method):\n",
    "    \n",
    "    skf = KFold(n_splits=5, shuffle=True)\n",
    "    \n",
    "    # get scores\n",
    "    scores = cross_validate(X=x_, y=y_,\n",
    "                            estimator           = svc,\n",
    "                            scoring             = [scoring_method],\n",
    "                            verbose             = 1,\n",
    "                            cv                  = skf.split(x_, y_),\n",
    "                            n_jobs              = -1,\n",
    "                            return_train_score  = True                        \n",
    "                           )\n",
    "    \n",
    "    print('printing {} measures'.format(scoring_method))\n",
    "    print('avg (train):', np.mean(scores['train_{}'.format(scoring_method)]))\n",
    "    print('std (train):', np.std(scores['train_{}'.format(scoring_method)]))\n",
    "    print('avg (validation):', np.mean(scores['test_{}'.format(scoring_method)]))\n",
    "    print('std (validation):', np.std(scores['test_{}'.format(scoring_method)]))"
   ]
  },
  {
   "cell_type": "code",
   "execution_count": 7,
   "id": "77669a2f-c4ef-4c5f-86d1-6b65d3f00ac8",
   "metadata": {},
   "outputs": [],
   "source": [
    "from s3fs.core import S3FileSystem\n",
    "s3 = S3FileSystem()\n",
    "from sagemaker import get_execution_role\n",
    "\n",
    "# this datafile has standardscaled data on a per actor basis\n",
    "role = get_execution_role()\n",
    "bucket='files-and-examples-01'\n",
    "file = 'datasets/su_dataset/query_13_videos.csv'\n",
    "\n",
    "path = 's3://{}/{}'.format(bucket, file)\n",
    "\n",
    "df = pd.read_csv(path)"
   ]
  },
  {
   "cell_type": "code",
   "execution_count": 8,
   "id": "f0814ea4-3de1-49b4-a58c-41856915d6a9",
   "metadata": {},
   "outputs": [],
   "source": [
    "slices = slice_by(df, \"filename\")"
   ]
  },
  {
   "cell_type": "code",
   "execution_count": 9,
   "id": "e654e9df-b4d2-440d-948b-fddaf96cccde",
   "metadata": {},
   "outputs": [
    {
     "data": {
      "text/plain": [
       "4544"
      ]
     },
     "execution_count": 9,
     "metadata": {},
     "output_type": "execute_result"
    }
   ],
   "source": [
    "len(slices)"
   ]
  },
  {
   "cell_type": "code",
   "execution_count": 10,
   "id": "ce73094f-e7bd-4555-b4b4-2de7474d6cc9",
   "metadata": {},
   "outputs": [],
   "source": [
    "interpolator = Interpolator([*AU_INTENSITY_COLS, *GAZE_COLS, *POSE_COLS])\n",
    "slices = interpolator.remove_interpolate(slices)"
   ]
  },
  {
   "cell_type": "code",
   "execution_count": 11,
   "id": "376fcabe-1888-48b7-bcb1-49f8111232eb",
   "metadata": {},
   "outputs": [
    {
     "data": {
      "text/plain": [
       "4540"
      ]
     },
     "execution_count": 11,
     "metadata": {},
     "output_type": "execute_result"
    }
   ],
   "source": [
    "len(slices)"
   ]
  },
  {
   "cell_type": "code",
   "execution_count": 12,
   "id": "7d8fbc98-723e-48f2-9ec7-e70eafc9b789",
   "metadata": {},
   "outputs": [],
   "source": [
    "au = get_cols(slices, AU_INTENSITY_COLS)\n",
    "y = get_fixed_col(slices, \"emotion_1_id\")"
   ]
  },
  {
   "cell_type": "markdown",
   "id": "57dd078a-b08b-4e65-b17b-50e2c82d2907",
   "metadata": {},
   "source": [
    "# Action units"
   ]
  },
  {
   "cell_type": "markdown",
   "id": "1d5caf13-8d64-4857-b338-86c0b4170ec2",
   "metadata": {},
   "source": [
    "## Without prior normalization"
   ]
  },
  {
   "cell_type": "code",
   "execution_count": 13,
   "id": "f651e942-828c-47a5-b076-c837f531781f",
   "metadata": {},
   "outputs": [],
   "source": [
    "au_agg = get_aggregate_measures(au,\n",
    "                               means=True,\n",
    "                               variance=False,\n",
    "                               deltas=False,\n",
    "                               peaks=False)\n",
    "scaler = MinMaxScaler()\n",
    "au_agg = scaler.fit_transform(au_agg)"
   ]
  },
  {
   "cell_type": "code",
   "execution_count": 14,
   "id": "1eaf7824-9ca7-4d25-9fb3-4d340bd9b9c2",
   "metadata": {},
   "outputs": [
    {
     "data": {
      "text/plain": [
       "(4540, 85)"
      ]
     },
     "execution_count": 14,
     "metadata": {},
     "output_type": "execute_result"
    }
   ],
   "source": [
    "au_agg.shape"
   ]
  },
  {
   "cell_type": "code",
   "execution_count": 15,
   "id": "18a5bbb4-f36b-43c8-970b-2687d5e5386e",
   "metadata": {
    "tags": []
   },
   "outputs": [
    {
     "name": "stdout",
     "output_type": "stream",
     "text": [
      "Fitting 5 folds for each of 160 candidates, totalling 800 fits\n"
     ]
    },
    {
     "name": "stderr",
     "output_type": "stream",
     "text": [
      "[Parallel(n_jobs=-1)]: Using backend LokyBackend with 72 concurrent workers.\n",
      "[Parallel(n_jobs=-1)]: Done  18 tasks      | elapsed:    4.5s\n",
      "[Parallel(n_jobs=-1)]: Done 144 tasks      | elapsed:   10.6s\n",
      "[Parallel(n_jobs=-1)]: Done 306 tasks      | elapsed:   19.6s\n",
      "[Parallel(n_jobs=-1)]: Done 504 tasks      | elapsed:   30.8s\n",
      "[Parallel(n_jobs=-1)]: Done 800 out of 800 | elapsed:   56.1s finished\n"
     ]
    },
    {
     "name": "stdout",
     "output_type": "stream",
     "text": [
      "{'C': 10, 'class_weight': 'balanced', 'gamma': 1, 'kernel': 'rbf'}\n"
     ]
    }
   ],
   "source": [
    "clf = param_search(au_agg, y)"
   ]
  },
  {
   "cell_type": "code",
   "execution_count": 19,
   "id": "d2cb25c4-0e48-410b-abb0-c0acc50a7283",
   "metadata": {},
   "outputs": [
    {
     "name": "stderr",
     "output_type": "stream",
     "text": [
      "[Parallel(n_jobs=-1)]: Using backend LokyBackend with 72 concurrent workers.\n"
     ]
    },
    {
     "name": "stdout",
     "output_type": "stream",
     "text": [
      "printing accuracy measures\n",
      "avg (train): 0.9241189427312776\n",
      "std (train): 0.004738883254174033\n",
      "avg (validation): 0.17709251101321585\n",
      "std (validation): 0.012982521610829406\n"
     ]
    },
    {
     "name": "stderr",
     "output_type": "stream",
     "text": [
      "[Parallel(n_jobs=-1)]: Done   5 out of   5 | elapsed:    5.8s finished\n"
     ]
    }
   ],
   "source": [
    "svc = SVC(**clf.best_params_)\n",
    "evaluate_scores(au_agg, y, svc, scoring_method=\"accuracy\")"
   ]
  },
  {
   "cell_type": "markdown",
   "id": "381f23c5-0c46-4018-bde7-6d7c3db209f7",
   "metadata": {},
   "source": [
    "## Normalized by actor"
   ]
  },
  {
   "cell_type": "markdown",
   "id": "d88d3c14-409b-4411-ab08-9f8bb5babb12",
   "metadata": {},
   "source": [
    "### Standard"
   ]
  },
  {
   "cell_type": "code",
   "execution_count": 21,
   "id": "1dbb026f-1cc0-4d3c-ad57-a4c4bd5ad0c3",
   "metadata": {},
   "outputs": [],
   "source": [
    "video_ids = get_fixed_col(slices, \"video_id\")"
   ]
  },
  {
   "cell_type": "code",
   "execution_count": 22,
   "id": "7e8082e4-3ec6-49fe-95e7-e8ce29a84906",
   "metadata": {},
   "outputs": [],
   "source": [
    "scaler = Scaler(au, \"standard\")\n",
    "scaler.scale_by_video_id(video_ids)\n",
    "au = scaler.slices"
   ]
  },
  {
   "cell_type": "code",
   "execution_count": 23,
   "id": "649ec994-efbd-4b64-8633-12190b1d840a",
   "metadata": {},
   "outputs": [],
   "source": [
    "au_agg = get_aggregate_measures(au,\n",
    "                               means=True,\n",
    "                               variance=False,\n",
    "                               deltas=False,\n",
    "                               peaks=False)\n",
    "scaler = MinMaxScaler()\n",
    "au_agg = scaler.fit_transform(au_agg)"
   ]
  },
  {
   "cell_type": "code",
   "execution_count": 24,
   "id": "51f396d6-1b1a-458a-9fda-62ea513e7655",
   "metadata": {},
   "outputs": [
    {
     "data": {
      "text/plain": [
       "(4540, 85)"
      ]
     },
     "execution_count": 24,
     "metadata": {},
     "output_type": "execute_result"
    }
   ],
   "source": [
    "au_agg.shape"
   ]
  },
  {
   "cell_type": "code",
   "execution_count": 25,
   "id": "823d0f74-e2a7-4e46-8c49-0025eddbe48d",
   "metadata": {},
   "outputs": [
    {
     "name": "stdout",
     "output_type": "stream",
     "text": [
      "Fitting 5 folds for each of 160 candidates, totalling 800 fits\n"
     ]
    },
    {
     "name": "stderr",
     "output_type": "stream",
     "text": [
      "[Parallel(n_jobs=-1)]: Using backend LokyBackend with 72 concurrent workers.\n",
      "[Parallel(n_jobs=-1)]: Done  18 tasks      | elapsed:    3.4s\n",
      "[Parallel(n_jobs=-1)]: Done 144 tasks      | elapsed:    9.7s\n",
      "[Parallel(n_jobs=-1)]: Done 306 tasks      | elapsed:   18.8s\n",
      "[Parallel(n_jobs=-1)]: Done 504 tasks      | elapsed:   30.2s\n",
      "[Parallel(n_jobs=-1)]: Done 800 out of 800 | elapsed:   53.7s finished\n"
     ]
    },
    {
     "name": "stdout",
     "output_type": "stream",
     "text": [
      "{'C': 5, 'class_weight': 'balanced', 'gamma': 1, 'kernel': 'rbf'}\n"
     ]
    }
   ],
   "source": [
    "clf = param_search(au_agg, y)"
   ]
  },
  {
   "cell_type": "code",
   "execution_count": 28,
   "id": "645c1661-f603-4393-adf0-4a60386d8cac",
   "metadata": {},
   "outputs": [
    {
     "name": "stderr",
     "output_type": "stream",
     "text": [
      "[Parallel(n_jobs=-1)]: Using backend LokyBackend with 72 concurrent workers.\n"
     ]
    },
    {
     "name": "stdout",
     "output_type": "stream",
     "text": [
      "printing accuracy measures\n",
      "avg (train): 0.9373898678414097\n",
      "std (train): 0.0021083909382243063\n",
      "avg (validation): 0.22114537444933918\n",
      "std (validation): 0.01093363316827388\n"
     ]
    },
    {
     "name": "stderr",
     "output_type": "stream",
     "text": [
      "[Parallel(n_jobs=-1)]: Done   5 out of   5 | elapsed:    5.9s finished\n"
     ]
    }
   ],
   "source": [
    "svc = SVC(**clf.best_params_)\n",
    "evaluate_scores(au_agg, y, svc, scoring_method=\"accuracy\")"
   ]
  },
  {
   "cell_type": "markdown",
   "id": "2be5c97e-2a79-4109-a83c-f1a3d007052c",
   "metadata": {},
   "source": [
    "### Min Max"
   ]
  },
  {
   "cell_type": "code",
   "execution_count": 29,
   "id": "7e0c0de4-75de-4d30-837e-13b93d5f0661",
   "metadata": {},
   "outputs": [],
   "source": [
    "au = get_cols(slices, AU_INTENSITY_COLS)"
   ]
  },
  {
   "cell_type": "code",
   "execution_count": 30,
   "id": "466d36fb-0aee-47b0-a8c4-6964ff1a66a3",
   "metadata": {},
   "outputs": [],
   "source": [
    "scaler = Scaler(au, \"min_max\")\n",
    "scaler.scale_by_video_id(video_ids)\n",
    "au = scaler.slices"
   ]
  },
  {
   "cell_type": "code",
   "execution_count": 31,
   "id": "b4bece88-607e-4fd9-bfc8-f2ca6d819b92",
   "metadata": {},
   "outputs": [],
   "source": [
    "au_agg = get_aggregate_measures(au,\n",
    "                               means=True,\n",
    "                               variance=False,\n",
    "                               deltas=False,\n",
    "                               peaks=False)\n",
    "scaler = MinMaxScaler()\n",
    "au_agg = scaler.fit_transform(au_agg)"
   ]
  },
  {
   "cell_type": "code",
   "execution_count": 32,
   "id": "18bb04a6-e3df-45a0-9888-c5bf1c5e2c1d",
   "metadata": {},
   "outputs": [
    {
     "data": {
      "text/plain": [
       "(4540, 85)"
      ]
     },
     "execution_count": 32,
     "metadata": {},
     "output_type": "execute_result"
    }
   ],
   "source": [
    "au_agg.shape"
   ]
  },
  {
   "cell_type": "code",
   "execution_count": 33,
   "id": "edab3734-760a-45a9-b5ee-be1cc5d8c14f",
   "metadata": {},
   "outputs": [
    {
     "name": "stdout",
     "output_type": "stream",
     "text": [
      "Fitting 5 folds for each of 160 candidates, totalling 800 fits\n"
     ]
    },
    {
     "name": "stderr",
     "output_type": "stream",
     "text": [
      "[Parallel(n_jobs=-1)]: Using backend LokyBackend with 72 concurrent workers.\n",
      "[Parallel(n_jobs=-1)]: Done  18 tasks      | elapsed:    3.3s\n",
      "[Parallel(n_jobs=-1)]: Done 144 tasks      | elapsed:    9.3s\n",
      "[Parallel(n_jobs=-1)]: Done 306 tasks      | elapsed:   18.6s\n",
      "[Parallel(n_jobs=-1)]: Done 504 tasks      | elapsed:   29.9s\n",
      "[Parallel(n_jobs=-1)]: Done 800 out of 800 | elapsed:   57.7s finished\n"
     ]
    },
    {
     "name": "stdout",
     "output_type": "stream",
     "text": [
      "{'C': 10, 'class_weight': 'balanced', 'gamma': 1, 'kernel': 'rbf'}\n"
     ]
    }
   ],
   "source": [
    "clf = param_search(au_agg, y)"
   ]
  },
  {
   "cell_type": "code",
   "execution_count": 36,
   "id": "6517725d-59a5-463a-a483-ec5fb839b5e1",
   "metadata": {},
   "outputs": [
    {
     "name": "stderr",
     "output_type": "stream",
     "text": [
      "[Parallel(n_jobs=-1)]: Using backend LokyBackend with 72 concurrent workers.\n"
     ]
    },
    {
     "name": "stdout",
     "output_type": "stream",
     "text": [
      "printing accuracy measures\n",
      "avg (train): 0.9629955947136564\n",
      "std (train): 0.0020939596191444317\n",
      "avg (validation): 0.1841409691629956\n",
      "std (validation): 0.013850405217852408\n"
     ]
    },
    {
     "name": "stderr",
     "output_type": "stream",
     "text": [
      "[Parallel(n_jobs=-1)]: Done   5 out of   5 | elapsed:    5.9s finished\n"
     ]
    }
   ],
   "source": [
    "svc = SVC(**clf.best_params_)\n",
    "evaluate_scores(au_agg, y, svc, scoring_method=\"accuracy\")"
   ]
  },
  {
   "cell_type": "markdown",
   "id": "7a54afe8-2153-456a-aad6-9e440f3ee486",
   "metadata": {},
   "source": [
    "## Normalized by intensity"
   ]
  },
  {
   "cell_type": "code",
   "execution_count": 38,
   "id": "477ede68-1692-4816-9668-6c6170279af0",
   "metadata": {},
   "outputs": [],
   "source": [
    "au = get_cols(slices, AU_INTENSITY_COLS)\n",
    "intensity_levels = get_fixed_col(slices, \"intensity_level\")"
   ]
  },
  {
   "cell_type": "code",
   "execution_count": 39,
   "id": "4b55f85a-f296-49e1-b9dd-e2c3704c478b",
   "metadata": {},
   "outputs": [],
   "source": [
    "scaler = Scaler(au, \"standard\")\n",
    "scaler.scale_by_intensity(intensity_levels)\n",
    "au = scaler.slices"
   ]
  },
  {
   "cell_type": "code",
   "execution_count": 40,
   "id": "e4b4537a-6e54-4296-be0a-d43249b218bd",
   "metadata": {},
   "outputs": [],
   "source": [
    "au_agg = get_aggregate_measures(au,\n",
    "                               means=True,\n",
    "                               variance=False,\n",
    "                               deltas=False,\n",
    "                               peaks=False)\n",
    "scaler = MinMaxScaler()\n",
    "au_agg = scaler.fit_transform(au_agg)"
   ]
  },
  {
   "cell_type": "code",
   "execution_count": 41,
   "id": "92c09595-a543-4518-9bc4-e2b5d49d9cba",
   "metadata": {},
   "outputs": [
    {
     "data": {
      "text/plain": [
       "(4540, 85)"
      ]
     },
     "execution_count": 41,
     "metadata": {},
     "output_type": "execute_result"
    }
   ],
   "source": [
    "au_agg.shape"
   ]
  },
  {
   "cell_type": "code",
   "execution_count": 42,
   "id": "d240f574-ce3c-4c2e-81e3-332936a27a1b",
   "metadata": {},
   "outputs": [
    {
     "name": "stdout",
     "output_type": "stream",
     "text": [
      "Fitting 5 folds for each of 160 candidates, totalling 800 fits\n"
     ]
    },
    {
     "name": "stderr",
     "output_type": "stream",
     "text": [
      "[Parallel(n_jobs=-1)]: Using backend LokyBackend with 72 concurrent workers.\n",
      "[Parallel(n_jobs=-1)]: Done  18 tasks      | elapsed:    3.6s\n",
      "[Parallel(n_jobs=-1)]: Done 144 tasks      | elapsed:    9.6s\n",
      "[Parallel(n_jobs=-1)]: Done 306 tasks      | elapsed:   19.2s\n",
      "[Parallel(n_jobs=-1)]: Done 504 tasks      | elapsed:   31.1s\n",
      "[Parallel(n_jobs=-1)]: Done 800 out of 800 | elapsed:  1.0min finished\n"
     ]
    },
    {
     "name": "stdout",
     "output_type": "stream",
     "text": [
      "{'C': 10, 'class_weight': 'balanced', 'gamma': 1, 'kernel': 'linear'}\n"
     ]
    }
   ],
   "source": [
    "clf = param_search(au_agg, y)"
   ]
  },
  {
   "cell_type": "code",
   "execution_count": 44,
   "id": "8aad7b88-380d-4ef5-9ffc-0e9021ea85ce",
   "metadata": {},
   "outputs": [
    {
     "name": "stderr",
     "output_type": "stream",
     "text": [
      "[Parallel(n_jobs=-1)]: Using backend LokyBackend with 72 concurrent workers.\n"
     ]
    },
    {
     "name": "stdout",
     "output_type": "stream",
     "text": [
      "printing accuracy measures\n",
      "avg (train): 0.3080947136563877\n",
      "std (train): 0.0036485173509862123\n",
      "avg (validation): 0.11475770925110133\n",
      "std (validation): 0.002905485893892713\n"
     ]
    },
    {
     "name": "stderr",
     "output_type": "stream",
     "text": [
      "[Parallel(n_jobs=-1)]: Done   5 out of   5 | elapsed:    4.6s finished\n"
     ]
    }
   ],
   "source": [
    "svc = SVC(**clf.best_params_)\n",
    "evaluate_scores(au_agg, y, svc, scoring_method=\"accuracy\")"
   ]
  },
  {
   "cell_type": "markdown",
   "id": "6a33c1d2-238f-4fb9-8ef1-1436e4bb291c",
   "metadata": {},
   "source": [
    "## Normalized by video id and intensity"
   ]
  },
  {
   "cell_type": "code",
   "execution_count": 54,
   "id": "ace869bb-55e7-41d0-8df0-358303a137e4",
   "metadata": {},
   "outputs": [],
   "source": [
    "au = get_cols(slices, AU_INTENSITY_COLS)\n",
    "\n",
    "scaler = Scaler(au, \"standard\")\n",
    "scaler.scale_by_video_id_and_intensity(video_ids, intensity_levels)\n",
    "au = scaler.slices"
   ]
  },
  {
   "cell_type": "code",
   "execution_count": 46,
   "id": "e99f2535-1e96-4f37-a2e9-3de94386cdd4",
   "metadata": {},
   "outputs": [],
   "source": [
    "au_agg = get_aggregate_measures(au,\n",
    "                               means=True,\n",
    "                               variance=False,\n",
    "                               deltas=False,\n",
    "                               peaks=False)\n",
    "scaler = MinMaxScaler()\n",
    "au_agg = scaler.fit_transform(au_agg)"
   ]
  },
  {
   "cell_type": "code",
   "execution_count": 47,
   "id": "22c7bc36-339c-4ae1-b856-224ce9e3d83a",
   "metadata": {},
   "outputs": [
    {
     "data": {
      "text/plain": [
       "(4540, 85)"
      ]
     },
     "execution_count": 47,
     "metadata": {},
     "output_type": "execute_result"
    }
   ],
   "source": [
    "au_agg.shape"
   ]
  },
  {
   "cell_type": "code",
   "execution_count": 51,
   "id": "8d92e420-3617-4850-b048-f36e6bdc52b2",
   "metadata": {},
   "outputs": [
    {
     "name": "stdout",
     "output_type": "stream",
     "text": [
      "Fitting 5 folds for each of 160 candidates, totalling 800 fits\n"
     ]
    },
    {
     "name": "stderr",
     "output_type": "stream",
     "text": [
      "[Parallel(n_jobs=-1)]: Using backend LokyBackend with 72 concurrent workers.\n",
      "[Parallel(n_jobs=-1)]: Done  18 tasks      | elapsed:    3.8s\n",
      "[Parallel(n_jobs=-1)]: Done 144 tasks      | elapsed:    9.9s\n",
      "[Parallel(n_jobs=-1)]: Done 306 tasks      | elapsed:   19.5s\n",
      "[Parallel(n_jobs=-1)]: Done 504 tasks      | elapsed:   31.4s\n",
      "[Parallel(n_jobs=-1)]: Done 800 out of 800 | elapsed:   59.3s finished\n"
     ]
    },
    {
     "name": "stdout",
     "output_type": "stream",
     "text": [
      "{'C': 10, 'class_weight': 'balanced', 'gamma': 1, 'kernel': 'linear'}\n"
     ]
    }
   ],
   "source": [
    "clf = param_search(au_agg, y)"
   ]
  },
  {
   "cell_type": "code",
   "execution_count": 52,
   "id": "86dddcef-ea9a-4779-9313-756b6bfb0938",
   "metadata": {},
   "outputs": [
    {
     "name": "stderr",
     "output_type": "stream",
     "text": [
      "[Parallel(n_jobs=-1)]: Using backend LokyBackend with 72 concurrent workers.\n"
     ]
    },
    {
     "name": "stdout",
     "output_type": "stream",
     "text": [
      "printing accuracy measures\n",
      "avg (train): 0.28436123348017617\n",
      "std (train): 0.0005879448376669203\n",
      "avg (validation): 0.10991189427312775\n",
      "std (validation): 0.003646023206442037\n"
     ]
    },
    {
     "name": "stderr",
     "output_type": "stream",
     "text": [
      "[Parallel(n_jobs=-1)]: Done   5 out of   5 | elapsed:    4.5s finished\n"
     ]
    }
   ],
   "source": [
    "svc = SVC(**clf.best_params_)\n",
    "evaluate_scores(au_agg, y, svc, scoring_method=\"accuracy\")"
   ]
  },
  {
   "cell_type": "markdown",
   "id": "24cd5512-80ad-4f57-bbfa-dae372116cb2",
   "metadata": {},
   "source": [
    "## Conclusion"
   ]
  },
  {
   "cell_type": "markdown",
   "id": "8d505e06-731a-43a7-a187-a1543c02dc09",
   "metadata": {},
   "source": [
    "Using standardscaler in the first step and scaling by actor gives the best results. Use this method"
   ]
  },
  {
   "cell_type": "markdown",
   "id": "ddbb2c10-5cac-4789-a9c2-935820ae2423",
   "metadata": {},
   "source": [
    "# Gaze"
   ]
  },
  {
   "cell_type": "code",
   "execution_count": 56,
   "id": "32d18815-5baf-4ea5-bf48-be5ec2b786b8",
   "metadata": {},
   "outputs": [],
   "source": [
    "gaze = get_cols(slices, GAZE_COLS)"
   ]
  },
  {
   "cell_type": "code",
   "execution_count": 57,
   "id": "15aa1b3b-d984-4c46-9dee-c47261a28a38",
   "metadata": {},
   "outputs": [],
   "source": [
    "scaler = Scaler(gaze, \"standard\")\n",
    "scaler.scale_by_video_id(video_ids)\n",
    "gaze = scaler.slices"
   ]
  },
  {
   "cell_type": "code",
   "execution_count": 58,
   "id": "d192017e-9cf7-4a06-b0d6-91ba812c3add",
   "metadata": {},
   "outputs": [],
   "source": [
    "gaze_agg = get_aggregate_measures(gaze,\n",
    "                               means=True,\n",
    "                               variance=False,\n",
    "                               deltas=False,\n",
    "                               peaks=False)\n",
    "scaler = MinMaxScaler()\n",
    "gaze_agg = scaler.fit_transform(gaze_agg)"
   ]
  },
  {
   "cell_type": "code",
   "execution_count": 59,
   "id": "5c1b0dd6-e821-4146-ace4-6d9e38d2f61e",
   "metadata": {},
   "outputs": [
    {
     "data": {
      "text/plain": [
       "(4540, 40)"
      ]
     },
     "execution_count": 59,
     "metadata": {},
     "output_type": "execute_result"
    }
   ],
   "source": [
    "gaze_agg.shape"
   ]
  },
  {
   "cell_type": "code",
   "execution_count": 61,
   "id": "27596305-c6b4-488d-a1ba-cddd025e11c2",
   "metadata": {},
   "outputs": [
    {
     "name": "stdout",
     "output_type": "stream",
     "text": [
      "Fitting 5 folds for each of 160 candidates, totalling 800 fits\n"
     ]
    },
    {
     "name": "stderr",
     "output_type": "stream",
     "text": [
      "[Parallel(n_jobs=-1)]: Using backend LokyBackend with 72 concurrent workers.\n",
      "[Parallel(n_jobs=-1)]: Done  18 tasks      | elapsed:    4.0s\n",
      "[Parallel(n_jobs=-1)]: Done 144 tasks      | elapsed:    8.5s\n",
      "[Parallel(n_jobs=-1)]: Done 306 tasks      | elapsed:   14.5s\n",
      "[Parallel(n_jobs=-1)]: Done 504 tasks      | elapsed:   23.8s\n",
      "[Parallel(n_jobs=-1)]: Done 800 out of 800 | elapsed:  3.0min finished\n"
     ]
    },
    {
     "name": "stdout",
     "output_type": "stream",
     "text": [
      "{'C': 100, 'class_weight': 'balanced', 'gamma': 1, 'kernel': 'rbf'}\n"
     ]
    }
   ],
   "source": [
    "clf = param_search(gaze_agg, y)"
   ]
  },
  {
   "cell_type": "code",
   "execution_count": 62,
   "id": "9e66981a-3949-4c9f-9668-18ed711ffdfc",
   "metadata": {},
   "outputs": [
    {
     "name": "stderr",
     "output_type": "stream",
     "text": [
      "[Parallel(n_jobs=-1)]: Using backend LokyBackend with 72 concurrent workers.\n"
     ]
    },
    {
     "name": "stdout",
     "output_type": "stream",
     "text": [
      "printing accuracy measures\n",
      "avg (train): 0.5267621145374449\n",
      "std (train): 0.005158019395306828\n",
      "avg (validation): 0.12136563876651982\n",
      "std (validation): 0.006731588894244989\n"
     ]
    },
    {
     "name": "stderr",
     "output_type": "stream",
     "text": [
      "[Parallel(n_jobs=-1)]: Done   5 out of   5 | elapsed:    4.1s finished\n"
     ]
    }
   ],
   "source": [
    "svc = SVC(**clf.best_params_)\n",
    "evaluate_scores(gaze_agg, y, svc, scoring_method=\"accuracy\")"
   ]
  },
  {
   "cell_type": "markdown",
   "id": "83b135b5-19fa-40ae-9ca3-272a4a8ed31e",
   "metadata": {},
   "source": [
    "# Pose "
   ]
  },
  {
   "cell_type": "code",
   "execution_count": 63,
   "id": "f3ce944b-9222-4392-ba30-6006fc76a81c",
   "metadata": {},
   "outputs": [],
   "source": [
    "pose = get_cols(slices, POSE_COLS)\n",
    "\n",
    "scaler = Scaler(pose, \"standard\")\n",
    "scaler.scale_by_video_id(video_ids)\n",
    "pose = scaler.slices"
   ]
  },
  {
   "cell_type": "code",
   "execution_count": 64,
   "id": "843b51b2-53dc-45f3-9828-ba4a850f4ee4",
   "metadata": {},
   "outputs": [],
   "source": [
    "pose_agg = get_aggregate_measures(pose,\n",
    "                               means=True,\n",
    "                               variance=False,\n",
    "                               deltas=False,\n",
    "                               peaks=False)\n",
    "scaler = MinMaxScaler()\n",
    "pose_agg = scaler.fit_transform(pose_agg)"
   ]
  },
  {
   "cell_type": "code",
   "execution_count": 65,
   "id": "a93405f4-b83c-4654-8fdf-6d6b6a74ad77",
   "metadata": {},
   "outputs": [
    {
     "data": {
      "text/plain": [
       "(4540, 30)"
      ]
     },
     "execution_count": 65,
     "metadata": {},
     "output_type": "execute_result"
    }
   ],
   "source": [
    "pose_agg.shape"
   ]
  },
  {
   "cell_type": "code",
   "execution_count": 93,
   "id": "1ac9df39-5f74-4018-a52d-9f68d67c18bd",
   "metadata": {},
   "outputs": [
    {
     "data": {
      "text/plain": [
       "dtype('float64')"
      ]
     },
     "execution_count": 93,
     "metadata": {},
     "output_type": "execute_result"
    }
   ],
   "source": [
    "pose_agg.dtype"
   ]
  },
  {
   "cell_type": "code",
   "execution_count": 67,
   "id": "829e92f6-aa4c-4c21-b631-312481cb4360",
   "metadata": {},
   "outputs": [
    {
     "name": "stdout",
     "output_type": "stream",
     "text": [
      "Fitting 5 folds for each of 160 candidates, totalling 800 fits\n"
     ]
    },
    {
     "name": "stderr",
     "output_type": "stream",
     "text": [
      "[Parallel(n_jobs=-1)]: Using backend LokyBackend with 72 concurrent workers.\n",
      "[Parallel(n_jobs=-1)]: Done  18 tasks      | elapsed:    3.6s\n",
      "[Parallel(n_jobs=-1)]: Done 144 tasks      | elapsed:    7.3s\n",
      "[Parallel(n_jobs=-1)]: Done 306 tasks      | elapsed:   12.2s\n",
      "[Parallel(n_jobs=-1)]: Done 504 tasks      | elapsed:   19.3s\n",
      "[Parallel(n_jobs=-1)]: Done 800 out of 800 | elapsed:  1.2min finished\n"
     ]
    },
    {
     "name": "stdout",
     "output_type": "stream",
     "text": [
      "{'C': 75, 'class_weight': 'balanced', 'gamma': 1, 'kernel': 'rbf'}\n"
     ]
    }
   ],
   "source": [
    "clf = param_search(pose_agg, y)"
   ]
  },
  {
   "cell_type": "code",
   "execution_count": 68,
   "id": "c1924b46-4d5e-4382-bce0-8850c0952a74",
   "metadata": {},
   "outputs": [
    {
     "name": "stderr",
     "output_type": "stream",
     "text": [
      "[Parallel(n_jobs=-1)]: Using backend LokyBackend with 72 concurrent workers.\n"
     ]
    },
    {
     "name": "stdout",
     "output_type": "stream",
     "text": [
      "printing accuracy measures\n",
      "avg (train): 0.6438876651982379\n",
      "std (train): 0.003558478947445703\n",
      "avg (validation): 0.18656387665198237\n",
      "std (validation): 0.01126582542074399\n"
     ]
    },
    {
     "name": "stderr",
     "output_type": "stream",
     "text": [
      "[Parallel(n_jobs=-1)]: Done   5 out of   5 | elapsed:    3.2s finished\n"
     ]
    }
   ],
   "source": [
    "svc = SVC(**clf.best_params_)\n",
    "evaluate_scores(pose_agg, y, svc, scoring_method=\"accuracy\")"
   ]
  },
  {
   "cell_type": "markdown",
   "id": "a3e28fe8-9a83-4181-9611-240b96466d67",
   "metadata": {},
   "source": [
    "# Early fusion"
   ]
  },
  {
   "cell_type": "markdown",
   "id": "a34589b5-d868-4e09-9e6a-e48f0d35fed6",
   "metadata": {},
   "source": [
    "## Per actor normalization"
   ]
  },
  {
   "cell_type": "code",
   "execution_count": 79,
   "id": "89450ff1-91a6-4860-86be-df2b0b6ee975",
   "metadata": {},
   "outputs": [],
   "source": [
    "au_gaze_pose = get_cols(slices, [*AU_INTENSITY_COLS, *GAZE_COLS, *POSE_COLS])"
   ]
  },
  {
   "cell_type": "code",
   "execution_count": 82,
   "id": "cbd2e348-5041-4552-ad4e-847cf6859247",
   "metadata": {},
   "outputs": [
    {
     "data": {
      "text/plain": [
       "4540"
      ]
     },
     "execution_count": 82,
     "metadata": {},
     "output_type": "execute_result"
    }
   ],
   "source": [
    "len(au_gaze_pose)"
   ]
  },
  {
   "cell_type": "code",
   "execution_count": 83,
   "id": "1a30db30-45d7-4706-b327-bd051ed133e4",
   "metadata": {},
   "outputs": [],
   "source": [
    "scaler = Scaler(au_gaze_pose, \"standard\")\n",
    "scaler.scale_by_video_id(video_ids)\n",
    "au_gaze_pose = scaler.slices"
   ]
  },
  {
   "cell_type": "code",
   "execution_count": 101,
   "id": "a0f9650b-1322-4af0-9c19-afa8d364c70c",
   "metadata": {},
   "outputs": [],
   "source": [
    "au_gaze_pose_agg = get_aggregate_measures(au_gaze_pose,\n",
    "                               means=True,\n",
    "                               variance=False,\n",
    "                               deltas=False,\n",
    "                               peaks=False)\n",
    "scaler = MinMaxScaler()\n",
    "au_gaze_pose_agg = scaler.fit_transform(au_gaze_pose_agg)"
   ]
  },
  {
   "cell_type": "code",
   "execution_count": 102,
   "id": "9b254045-07d4-4be3-ae3a-59e5e695c2e4",
   "metadata": {},
   "outputs": [
    {
     "data": {
      "text/plain": [
       "(4540, 155)"
      ]
     },
     "execution_count": 102,
     "metadata": {},
     "output_type": "execute_result"
    }
   ],
   "source": [
    "au_gaze_pose_agg.shape"
   ]
  },
  {
   "cell_type": "code",
   "execution_count": 103,
   "id": "5f8a5d1d-4d01-4189-9926-f2973c195cdf",
   "metadata": {},
   "outputs": [
    {
     "data": {
      "text/plain": [
       "dtype('int64')"
      ]
     },
     "execution_count": 103,
     "metadata": {},
     "output_type": "execute_result"
    }
   ],
   "source": [
    "y.dtype"
   ]
  },
  {
   "cell_type": "code",
   "execution_count": 108,
   "id": "525661d2-379c-4acd-b012-3f49d30fb6d5",
   "metadata": {},
   "outputs": [
    {
     "name": "stdout",
     "output_type": "stream",
     "text": [
      "Fitting 5 folds for each of 160 candidates, totalling 800 fits\n"
     ]
    },
    {
     "name": "stderr",
     "output_type": "stream",
     "text": [
      "[Parallel(n_jobs=-1)]: Using backend LokyBackend with 72 concurrent workers.\n",
      "[Parallel(n_jobs=-1)]: Done  18 tasks      | elapsed:    5.7s\n",
      "[Parallel(n_jobs=-1)]: Done 144 tasks      | elapsed:   15.5s\n",
      "[Parallel(n_jobs=-1)]: Done 306 tasks      | elapsed:   29.2s\n",
      "[Parallel(n_jobs=-1)]: Done 504 tasks      | elapsed:   46.1s\n",
      "[Parallel(n_jobs=-1)]: Done 800 out of 800 | elapsed:  1.2min finished\n"
     ]
    },
    {
     "name": "stdout",
     "output_type": "stream",
     "text": [
      "{'C': 10, 'class_weight': 'balanced', 'gamma': 1, 'kernel': 'rbf'}\n"
     ]
    }
   ],
   "source": [
    "clf = param_search(au_gaze_pose_agg, y)"
   ]
  },
  {
   "cell_type": "code",
   "execution_count": 89,
   "id": "1588db95-0c3a-4a7c-880d-a63d9430bfb6",
   "metadata": {},
   "outputs": [
    {
     "data": {
      "text/plain": [
       "(4540,)"
      ]
     },
     "execution_count": 89,
     "metadata": {},
     "output_type": "execute_result"
    }
   ],
   "source": [
    "y.shape"
   ]
  },
  {
   "cell_type": "code",
   "execution_count": 110,
   "id": "e964662d-b076-4f29-9c91-f432a0cc5c2b",
   "metadata": {},
   "outputs": [
    {
     "name": "stderr",
     "output_type": "stream",
     "text": [
      "[Parallel(n_jobs=-1)]: Using backend LokyBackend with 72 concurrent workers.\n"
     ]
    },
    {
     "name": "stdout",
     "output_type": "stream",
     "text": [
      "printing accuracy measures\n",
      "avg (train): 1.0\n",
      "std (train): 0.0\n",
      "avg (validation): 0.38920704845814974\n",
      "std (validation): 0.005422261508850735\n"
     ]
    },
    {
     "name": "stderr",
     "output_type": "stream",
     "text": [
      "[Parallel(n_jobs=-1)]: Done   5 out of   5 | elapsed:    9.6s finished\n"
     ]
    }
   ],
   "source": [
    "svc = SVC(**clf.best_params_)\n",
    "evaluate_scores(au_gaze_pose_agg, y, svc, scoring_method=\"accuracy\")"
   ]
  },
  {
   "cell_type": "markdown",
   "id": "d9a2928b-99e8-41e1-a04d-0a7beaf4a8b1",
   "metadata": {},
   "source": [
    "## Without normalization"
   ]
  },
  {
   "cell_type": "code",
   "execution_count": 111,
   "id": "49168692-a88a-4618-8246-f7db262546e7",
   "metadata": {},
   "outputs": [],
   "source": [
    "au_gaze_pose = get_cols(slices, [*AU_INTENSITY_COLS, *GAZE_COLS, *POSE_COLS])\n",
    "au_gaze_pose_agg = get_aggregate_measures(au_gaze_pose,\n",
    "                               means=True,\n",
    "                               variance=False,\n",
    "                               deltas=False,\n",
    "                               peaks=False)\n",
    "scaler = MinMaxScaler()\n",
    "au_gaze_pose_agg = scaler.fit_transform(au_gaze_pose_agg)"
   ]
  },
  {
   "cell_type": "code",
   "execution_count": 112,
   "id": "a919198a-ed29-4d19-b363-a0d35034da50",
   "metadata": {},
   "outputs": [
    {
     "name": "stdout",
     "output_type": "stream",
     "text": [
      "Fitting 5 folds for each of 160 candidates, totalling 800 fits\n"
     ]
    },
    {
     "name": "stderr",
     "output_type": "stream",
     "text": [
      "[Parallel(n_jobs=-1)]: Using backend LokyBackend with 72 concurrent workers.\n",
      "[Parallel(n_jobs=-1)]: Done  18 tasks      | elapsed:    8.4s\n",
      "[Parallel(n_jobs=-1)]: Done 144 tasks      | elapsed:   18.1s\n",
      "[Parallel(n_jobs=-1)]: Done 306 tasks      | elapsed:   32.4s\n",
      "[Parallel(n_jobs=-1)]: Done 504 tasks      | elapsed:   49.8s\n",
      "[Parallel(n_jobs=-1)]: Done 800 out of 800 | elapsed:  1.3min finished\n"
     ]
    },
    {
     "name": "stdout",
     "output_type": "stream",
     "text": [
      "{'C': 10, 'class_weight': 'balanced', 'gamma': 1, 'kernel': 'rbf'}\n"
     ]
    }
   ],
   "source": [
    "clf = param_search(au_gaze_pose_agg, y)"
   ]
  },
  {
   "cell_type": "code",
   "execution_count": 114,
   "id": "9f59dbaf-8972-4e32-ba9e-9263880a5e4e",
   "metadata": {},
   "outputs": [
    {
     "name": "stderr",
     "output_type": "stream",
     "text": [
      "[Parallel(n_jobs=-1)]: Using backend LokyBackend with 72 concurrent workers.\n"
     ]
    },
    {
     "name": "stdout",
     "output_type": "stream",
     "text": [
      "printing accuracy measures\n",
      "avg (train): 0.9981277533039649\n",
      "std (train): 0.0005615660257260841\n",
      "avg (validation): 0.34162995594713663\n",
      "std (validation): 0.020935541105206082\n"
     ]
    },
    {
     "name": "stderr",
     "output_type": "stream",
     "text": [
      "[Parallel(n_jobs=-1)]: Done   5 out of   5 | elapsed:    9.5s finished\n"
     ]
    }
   ],
   "source": [
    "svc = SVC(**clf.best_params_)\n",
    "evaluate_scores(au_gaze_pose_agg, y, svc, scoring_method=\"accuracy\")"
   ]
  },
  {
   "cell_type": "markdown",
   "id": "a6129e02-5ead-4f41-bc06-ee039c4cf97e",
   "metadata": {},
   "source": [
    "# Yesterdays runs "
   ]
  },
  {
   "cell_type": "code",
   "execution_count": 48,
   "id": "7898621c-f2cf-4d90-be80-8212179fa5e6",
   "metadata": {},
   "outputs": [],
   "source": [
    "def evaluate_scores(X, y, svc, scoring_method):\n",
    "    \n",
    "    skf = KFold(n_splits=100, shuffle=True)\n",
    "    \n",
    "    # get scores\n",
    "    scores = cross_validate(X=X, y=y,\n",
    "                            estimator           = svc,\n",
    "                            scoring             = [scoring_method],\n",
    "                            verbose             = 1,\n",
    "                            cv                  = skf.split(X, y),\n",
    "                            n_jobs              = -1,\n",
    "                            return_train_score  = True                        \n",
    "                           )\n",
    "    \n",
    "    print('printing {} measures'.format(scoring_method))\n",
    "    print('avg (train):', np.mean(scores['train_{}'.format(scoring_method)]))\n",
    "    print('std (train):', np.std(scores['train_{}'.format(scoring_method)]))\n",
    "    print('avg (validation):', np.mean(scores['test_{}'.format(scoring_method)]))\n",
    "    print('std (validation):', np.std(scores['test_{}'.format(scoring_method)]))"
   ]
  },
  {
   "cell_type": "code",
   "execution_count": null,
   "id": "82764df2-3659-42bd-ac71-779b9f6839b7",
   "metadata": {},
   "outputs": [
    {
     "ename": "SyntaxError",
     "evalue": "invalid syntax (<ipython-input-5-2bb7f4f2f84d>, line 10)",
     "output_type": "error",
     "traceback": [
      "\u001b[0;36m  File \u001b[0;32m\"<ipython-input-5-2bb7f4f2f84d>\"\u001b[0;36m, line \u001b[0;32m10\u001b[0m\n\u001b[0;31m    path = 's3://{}/{}'.format(bucket, file))\u001b[0m\n\u001b[0m                                            ^\u001b[0m\n\u001b[0;31mSyntaxError\u001b[0m\u001b[0;31m:\u001b[0m invalid syntax\n"
     ]
    }
   ],
   "source": [
    "from s3fs.core import S3FileSystem\n",
    "s3 = S3FileSystem()\n",
    "from sagemaker import get_execution_role\n",
    "\n",
    "# this datafile has standardscaled data on a per actor basis\n",
    "role = get_execution_role()\n",
    "bucket='files-and-examples-01'\n",
    "file = 'datasets/su_dataset/all_data.pickle'\n",
    "\n",
    "path = s3.open('s3://{}/{}'.format(bucket, file))"
   ]
  },
  {
   "cell_type": "code",
   "execution_count": 31,
   "id": "8be8d4da-909f-4cd4-83fa-2ffaf42ea99f",
   "metadata": {},
   "outputs": [],
   "source": [
    "file = pickle.load(path)\n",
    "\n",
    "x = file['x']\n",
    "y = file['y']\n",
    "\n",
    "au = x['au']\n",
    "gaze = x['gaze']\n",
    "pose = x['pose']"
   ]
  },
  {
   "cell_type": "code",
   "execution_count": 32,
   "id": "6b2ea75d-83d1-4beb-aed0-37d522320424",
   "metadata": {},
   "outputs": [
    {
     "data": {
      "text/plain": [
       "10963"
      ]
     },
     "execution_count": 32,
     "metadata": {},
     "output_type": "execute_result"
    }
   ],
   "source": [
    "len(au)"
   ]
  },
  {
   "cell_type": "code",
   "execution_count": 33,
   "id": "4b0c3a64-3034-426e-8fcc-43d89b56501e",
   "metadata": {},
   "outputs": [
    {
     "data": {
      "text/plain": [
       "(38, 17)"
      ]
     },
     "execution_count": 33,
     "metadata": {},
     "output_type": "execute_result"
    }
   ],
   "source": [
    "au[0].shape"
   ]
  },
  {
   "cell_type": "code",
   "execution_count": 34,
   "id": "8f4a346b-9c96-4b99-9238-e8d3273dccdd",
   "metadata": {},
   "outputs": [
    {
     "data": {
      "text/plain": [
       "(69, 17)"
      ]
     },
     "execution_count": 34,
     "metadata": {},
     "output_type": "execute_result"
    }
   ],
   "source": [
    "au[1].shape"
   ]
  },
  {
   "cell_type": "code",
   "execution_count": 35,
   "id": "7a585458-9480-44b7-b40f-8b000b7d4645",
   "metadata": {},
   "outputs": [],
   "source": [
    "au_agg = get_aggregate_measures(au,\n",
    "                               means=True,\n",
    "                               variance=False,\n",
    "                               deltas=False,\n",
    "                               peaks=False)"
   ]
  },
  {
   "cell_type": "code",
   "execution_count": 36,
   "id": "294eb1b4-2ecd-453a-8b53-f4306351d78c",
   "metadata": {},
   "outputs": [],
   "source": [
    "scaler = MinMaxScaler()\n",
    "au_agg = scaler.fit_transform(au_agg)"
   ]
  },
  {
   "cell_type": "code",
   "execution_count": 37,
   "id": "d71ccb5b-5019-4ce2-8d5c-9d3f846c90e0",
   "metadata": {},
   "outputs": [],
   "source": [
    "skf = KFold(n_splits=5, shuffle=True)\n",
    "splits = skf.split(au_agg, y)"
   ]
  },
  {
   "cell_type": "code",
   "execution_count": 38,
   "id": "1d6a2b55-ea2a-4674-84fd-4b5499703c98",
   "metadata": {},
   "outputs": [],
   "source": [
    "# regularization paramater, lower C -> more regularization (less overfitting), large C -> less regularization (and possibly more overfitting)\n",
    "c_values = [0.1, 1, 5, 10, 25, 50, 75, 100]\n",
    "\n",
    "# \n",
    "gamma = [1, 0.1, 0.01, 0.001, 0.0001]\n",
    "kernel = ['rbf', 'linear', 'poly', 'sigmoid']\n",
    "\n",
    "parameters = {'class_weight': ['balanced'],\n",
    "              'C': c_values,\n",
    "              'gamma': gamma,\n",
    "              'kernel': kernel,\n",
    "              }\n",
    "\n",
    "svc = SVC()\n",
    "clf = GridSearchCV(estimator=svc,\n",
    "                   param_grid=parameters,\n",
    "                   scoring='accuracy',\n",
    "                   verbose=5,\n",
    "                   cv=splits,\n",
    "                   n_jobs=-1,\n",
    "                   )"
   ]
  },
  {
   "cell_type": "code",
   "execution_count": 39,
   "id": "f5b14b7e-da63-4514-80bd-685b8f7d73f4",
   "metadata": {
    "tags": []
   },
   "outputs": [
    {
     "name": "stdout",
     "output_type": "stream",
     "text": [
      "Fitting 5 folds for each of 160 candidates, totalling 800 fits\n"
     ]
    },
    {
     "name": "stderr",
     "output_type": "stream",
     "text": [
      "[Parallel(n_jobs=-1)]: Using backend LokyBackend with 72 concurrent workers.\n",
      "[Parallel(n_jobs=-1)]: Done  18 tasks      | elapsed:   19.5s\n",
      "[Parallel(n_jobs=-1)]: Done 144 tasks      | elapsed:   55.4s\n",
      "[Parallel(n_jobs=-1)]: Done 306 tasks      | elapsed:  1.8min\n",
      "[Parallel(n_jobs=-1)]: Done 504 tasks      | elapsed:  2.8min\n",
      "[Parallel(n_jobs=-1)]: Done 800 out of 800 | elapsed:  5.1min finished\n"
     ]
    },
    {
     "data": {
      "text/plain": [
       "GridSearchCV(cv=<generator object _BaseKFold.split at 0x7fe6a49447d0>,\n",
       "             error_score=nan,\n",
       "             estimator=SVC(C=1.0, break_ties=False, cache_size=200,\n",
       "                           class_weight=None, coef0=0.0,\n",
       "                           decision_function_shape='ovr', degree=3,\n",
       "                           gamma='scale', kernel='rbf', max_iter=-1,\n",
       "                           probability=False, random_state=None, shrinking=True,\n",
       "                           tol=0.001, verbose=False),\n",
       "             iid='deprecated', n_jobs=-1,\n",
       "             param_grid={'C': [0.1, 1, 5, 10, 25, 50, 75, 100],\n",
       "                         'class_weight': ['balanced'],\n",
       "                         'gamma': [1, 0.1, 0.01, 0.001, 0.0001],\n",
       "                         'kernel': ['rbf', 'linear', 'poly', 'sigmoid']},\n",
       "             pre_dispatch='2*n_jobs', refit=True, return_train_score=False,\n",
       "             scoring='accuracy', verbose=5)"
      ]
     },
     "execution_count": 39,
     "metadata": {},
     "output_type": "execute_result"
    }
   ],
   "source": [
    "clf.fit(au_agg, y)"
   ]
  },
  {
   "cell_type": "code",
   "execution_count": 40,
   "id": "9a6a1a58-80c8-451a-b300-c8708a4a8736",
   "metadata": {},
   "outputs": [
    {
     "data": {
      "text/plain": [
       "{'C': 10, 'class_weight': 'balanced', 'gamma': 1, 'kernel': 'rbf'}"
      ]
     },
     "execution_count": 40,
     "metadata": {},
     "output_type": "execute_result"
    }
   ],
   "source": [
    "clf.best_params_"
   ]
  },
  {
   "cell_type": "code",
   "execution_count": 49,
   "id": "10730334-6925-458e-93ba-f721977df432",
   "metadata": {},
   "outputs": [
    {
     "name": "stderr",
     "output_type": "stream",
     "text": [
      "[Parallel(n_jobs=-1)]: Using backend LokyBackend with 72 concurrent workers.\n",
      "[Parallel(n_jobs=-1)]: Done  58 out of 100 | elapsed:  1.4min remaining:   59.9s\n"
     ]
    },
    {
     "name": "stdout",
     "output_type": "stream",
     "text": [
      "printing accuracy measures\n",
      "avg (train): 0.9549715918192548\n",
      "std (train): 0.0005959840092633306\n",
      "avg (validation): 0.23423603002502083\n",
      "std (validation): 0.04235634749554646\n"
     ]
    },
    {
     "name": "stderr",
     "output_type": "stream",
     "text": [
      "[Parallel(n_jobs=-1)]: Done 100 out of 100 | elapsed:  2.1min finished\n"
     ]
    }
   ],
   "source": [
    "svc = SVC(**clf.best_params_)\n",
    "evaluate_scores(au_agg, y, svc, scoring_method=\"accuracy\")"
   ]
  },
  {
   "cell_type": "markdown",
   "id": "b32acb8d-53d7-42b6-a2a8-4c044dc1d013",
   "metadata": {},
   "source": [
    "# Grid Search without shuffle/min max normalization"
   ]
  },
  {
   "cell_type": "code",
   "execution_count": 16,
   "id": "ba9ecd1c-a929-4c16-a938-7b1aa6f1561d",
   "metadata": {},
   "outputs": [
    {
     "data": {
      "text/plain": [
       "{'C': 1, 'class_weight': 'balanced', 'gamma': 0.01, 'kernel': 'rbf'}"
      ]
     },
     "execution_count": 16,
     "metadata": {},
     "output_type": "execute_result"
    }
   ],
   "source": [
    "clf.best_params_"
   ]
  },
  {
   "cell_type": "code",
   "execution_count": 17,
   "id": "94be70e4-c152-4c28-8034-5fd9da6703c4",
   "metadata": {},
   "outputs": [
    {
     "name": "stderr",
     "output_type": "stream",
     "text": [
      "[Parallel(n_jobs=-1)]: Using backend LokyBackend with 48 concurrent workers.\n"
     ]
    },
    {
     "name": "stdout",
     "output_type": "stream",
     "text": [
      "printing accuracy measures\n",
      "avg (train): 0.19410736662373554\n",
      "std (train): 0.004637956432709442\n",
      "avg (validation): 0.12341420611700801\n",
      "std (validation): 0.0124849801140342\n"
     ]
    },
    {
     "name": "stderr",
     "output_type": "stream",
     "text": [
      "[Parallel(n_jobs=-1)]: Done   5 out of   5 | elapsed:   26.1s finished\n"
     ]
    }
   ],
   "source": [
    "svc = SVC(**clf.best_params_)\n",
    "evaluate_scores(au_agg, y, svc, scoring_method=\"accuracy\")"
   ]
  },
  {
   "cell_type": "code",
   "execution_count": 21,
   "id": "a2bd19bb-edea-4ffc-9e8d-bdb0e7be9e7a",
   "metadata": {},
   "outputs": [
    {
     "name": "stderr",
     "output_type": "stream",
     "text": [
      "[Parallel(n_jobs=-1)]: Using backend LokyBackend with 48 concurrent workers.\n"
     ]
    },
    {
     "name": "stdout",
     "output_type": "stream",
     "text": [
      "printing accuracy measures\n",
      "avg (train): 0.23225845460713476\n",
      "std (train): 0.004177855646772091\n",
      "avg (validation): 0.12095182581605039\n",
      "std (validation): 0.009047825781993136\n"
     ]
    },
    {
     "name": "stderr",
     "output_type": "stream",
     "text": [
      "[Parallel(n_jobs=-1)]: Done   5 out of   5 | elapsed:   25.1s finished\n"
     ]
    }
   ],
   "source": [
    "#**{'C': 10, 'class_weight': 'balanced', 'gamma': 1, 'kernel': 'rbf'}\n",
    "\n",
    "svc = SVC(**{'C': 2, 'class_weight': 'balanced', 'gamma': 0.01, 'kernel': 'rbf'})\n",
    "evaluate_scores(au_agg, y, svc, scoring_method=\"accuracy\")"
   ]
  },
  {
   "cell_type": "code",
   "execution_count": 23,
   "id": "90aeb3bf-49f3-4330-89b5-4773ffa13ab1",
   "metadata": {},
   "outputs": [],
   "source": [
    "#scaler = MinMaxScaler()\n",
    "#au_agg = scaler.fit_transform(au_agg)\n",
    "au_agg, y = shuffle(au_agg, y)"
   ]
  },
  {
   "cell_type": "code",
   "execution_count": 24,
   "id": "f6bf3c0f-a9de-4b45-a4b3-b8246114e148",
   "metadata": {},
   "outputs": [
    {
     "name": "stderr",
     "output_type": "stream",
     "text": [
      "[Parallel(n_jobs=-1)]: Using backend LokyBackend with 48 concurrent workers.\n"
     ]
    },
    {
     "name": "stdout",
     "output_type": "stream",
     "text": [
      "printing accuracy measures\n",
      "avg (train): 0.1940390997751349\n",
      "std (train): 0.002745758375877358\n",
      "avg (validation): 0.13746380320928236\n",
      "std (validation): 0.011494319533980748\n"
     ]
    },
    {
     "name": "stderr",
     "output_type": "stream",
     "text": [
      "[Parallel(n_jobs=-1)]: Done   5 out of   5 | elapsed:   25.9s finished\n"
     ]
    }
   ],
   "source": [
    "svc = SVC(**clf.best_params_)\n",
    "evaluate_scores(au_agg, y, svc, scoring_method=\"accuracy\")"
   ]
  }
 ],
 "metadata": {
  "instance_type": "ml.c5.18xlarge",
  "kernelspec": {
   "display_name": "Python 3 (Data Science)",
   "language": "python",
   "name": "python3__SAGEMAKER_INTERNAL__arn:aws:sagemaker:eu-west-1:470317259841:image/datascience-1.0"
  },
  "language_info": {
   "codemirror_mode": {
    "name": "ipython",
    "version": 3
   },
   "file_extension": ".py",
   "mimetype": "text/x-python",
   "name": "python",
   "nbconvert_exporter": "python",
   "pygments_lexer": "ipython3",
   "version": "3.7.10"
  }
 },
 "nbformat": 4,
 "nbformat_minor": 5
}
