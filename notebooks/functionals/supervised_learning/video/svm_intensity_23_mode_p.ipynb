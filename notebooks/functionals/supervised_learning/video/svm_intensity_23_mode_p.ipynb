{
 "cells": [
  {
   "cell_type": "code",
   "execution_count": 50,
   "id": "d48dc720-6d44-474a-8d82-3fa65b0a34ad",
   "metadata": {},
   "outputs": [],
   "source": [
    "import os\n",
    "import sys\n",
    "import pickle\n",
    "\n",
    "import numpy as np\n",
    "import matplotlib.pyplot as plt\n",
    "import pandas as pd\n",
    "\n",
    "from sklearn.model_selection import GridSearchCV\n",
    "from sklearn.model_selection import RandomizedSearchCV\n",
    "\n",
    "from sklearn.model_selection import train_test_split\n",
    "from sklearn.svm import SVC\n",
    "from sklearn.model_selection import cross_validate\n",
    "from sklearn.utils import shuffle\n",
    "from sklearn.preprocessing import MinMaxScaler, StandardScaler\n",
    "\n",
    "from sklearn.model_selection import StratifiedKFold, KFold\n",
    "\n",
    "import boto3"
   ]
  },
  {
   "cell_type": "code",
   "execution_count": 51,
   "id": "cb0065a2-8788-485c-9b24-b1a781d11d61",
   "metadata": {},
   "outputs": [],
   "source": [
    "module_path = os.path.abspath(os.path.join('../../../../'))\n",
    "if module_path not in sys.path:\n",
    "    sys.path.append(module_path)"
   ]
  },
  {
   "cell_type": "markdown",
   "id": "d1ee3622-6ad6-462e-b16a-fabed0adb1d6",
   "metadata": {},
   "source": [
    "using kernel ml.c5.9xlarge"
   ]
  },
  {
   "cell_type": "code",
   "execution_count": 52,
   "id": "7fab7977-66d6-4a8b-b120-ec7a3c78e675",
   "metadata": {},
   "outputs": [],
   "source": [
    "from global_config import ROOT_DIR, emotion_id_to_emotion_abr, conf_cmap\n",
    "from src.analysis.supervised_learning.evaluation.confusion_matrix import ConfusionMatrixCreator\n",
    "\n",
    "from src.preprocessing.dataset_creation.aggregation import get_aggregate_measures, normalize"
   ]
  },
  {
   "cell_type": "code",
   "execution_count": 122,
   "id": "9f85798f-ecbe-4873-9019-dbdbfcee05a9",
   "metadata": {},
   "outputs": [],
   "source": [
    "def evaluate_scores(X, y, svc, scoring_method):\n",
    "    \n",
    "    skf = KFold(n_splits=100, shuffle=True)\n",
    "    \n",
    "    # get scores\n",
    "    scores = cross_validate(X=X, y=y,\n",
    "                            estimator           = svc,\n",
    "                            scoring             = [scoring_method],\n",
    "                            verbose             = 1,\n",
    "                            cv                  = skf.split(X, y),\n",
    "                            n_jobs              = -1,\n",
    "                            return_train_score  = True                        \n",
    "                           )\n",
    "    \n",
    "    print('printing {} measures'.format(scoring_method))\n",
    "    print('avg (train):', np.mean(scores['train_{}'.format(scoring_method)]))\n",
    "    print('std (train):', np.std(scores['train_{}'.format(scoring_method)]))\n",
    "    print('avg (validation):', np.mean(scores['test_{}'.format(scoring_method)]))\n",
    "    print('std (validation):', np.std(scores['test_{}'.format(scoring_method)]))"
   ]
  },
  {
   "cell_type": "markdown",
   "id": "88c8b939-0942-473b-96ac-8ca6dd822e92",
   "metadata": {},
   "source": [
    "# TODO\n",
    "Investigate whether min/max normalization or standardscaling in the first step is more effective, do some comparison."
   ]
  },
  {
   "cell_type": "markdown",
   "id": "1102dcb7-4499-4e00-bd32-08f44072aacf",
   "metadata": {},
   "source": [
    "# Min max normalized "
   ]
  },
  {
   "cell_type": "code",
   "execution_count": 96,
   "id": "1e1a8fa6-b6ae-4b65-b4c9-0b64978a02c1",
   "metadata": {},
   "outputs": [],
   "source": [
    "from s3fs.core import S3FileSystem\n",
    "s3 = S3FileSystem()\n",
    "from sagemaker import get_execution_role\n",
    "\n",
    "role = get_execution_role()\n",
    "bucket='files-and-examples-01'\n",
    "file = 'datasets/su_dataset/intensity_23_mode_p_minmax_normalized.pickle'\n",
    "\n",
    "path = s3.open('s3://{}/{}'.format(bucket, file))"
   ]
  },
  {
   "cell_type": "code",
   "execution_count": 97,
   "id": "64e62a6d-f492-4e14-87d9-7f58ec147b50",
   "metadata": {},
   "outputs": [],
   "source": [
    "file = pickle.load(path)\n",
    "x = file['x']\n",
    "y = file['y']\n",
    "\n",
    "au = x['au']\n",
    "gaze = x['gaze']\n",
    "pose = x['pose']"
   ]
  },
  {
   "cell_type": "code",
   "execution_count": 98,
   "id": "d24eb713-4631-4af7-ab1d-a92760b910a4",
   "metadata": {},
   "outputs": [],
   "source": [
    "au_agg = get_aggregate_measures(au,\n",
    "                               means=True,\n",
    "                               variance=False,\n",
    "                               deltas=False,\n",
    "                               peaks=False)"
   ]
  },
  {
   "cell_type": "code",
   "execution_count": 99,
   "id": "28333dea-6d20-4a6a-89ff-6ad5bbd9bfd5",
   "metadata": {},
   "outputs": [],
   "source": [
    "scaler = MinMaxScaler()\n",
    "au_agg = scaler.fit_transform(au_agg)"
   ]
  },
  {
   "cell_type": "code",
   "execution_count": 100,
   "id": "8582773c-5db8-4587-b46b-06081a900e10",
   "metadata": {},
   "outputs": [],
   "source": [
    "skf = KFold(n_splits=5, shuffle=True)\n",
    "splits = skf.split(au_agg, y)"
   ]
  },
  {
   "cell_type": "code",
   "execution_count": 101,
   "id": "20ebef84-181d-409c-91bc-4a300c3d901e",
   "metadata": {},
   "outputs": [],
   "source": [
    "# regularization paramater, lower C -> more regularization (less overfitting), large C -> less regularization (and possibly more overfitting)\n",
    "c_values = [0.1, 1, 5, 10, 25, 50, 75, 100]\n",
    "\n",
    "# \n",
    "gamma = [1, 0.1, 0.01, 0.001, 0.0001]\n",
    "kernel = ['rbf', 'linear', 'poly', 'sigmoid']\n",
    "\n",
    "parameters = {'class_weight': ['balanced'],\n",
    "              'C': c_values,\n",
    "              'gamma': gamma,\n",
    "              'kernel': kernel,\n",
    "              }\n",
    "\n",
    "svc = SVC()\n",
    "clf = GridSearchCV(estimator=svc,\n",
    "                   param_grid=parameters,\n",
    "                   scoring='accuracy',\n",
    "                   verbose=5,\n",
    "                   cv=splits,\n",
    "                   n_jobs=-1,\n",
    "                   )"
   ]
  },
  {
   "cell_type": "code",
   "execution_count": 102,
   "id": "9add300d-8d25-47c3-85e0-2af44554062b",
   "metadata": {},
   "outputs": [
    {
     "name": "stdout",
     "output_type": "stream",
     "text": [
      "Fitting 5 folds for each of 160 candidates, totalling 800 fits\n"
     ]
    },
    {
     "name": "stderr",
     "output_type": "stream",
     "text": [
      "[Parallel(n_jobs=-1)]: Using backend LokyBackend with 36 concurrent workers.\n",
      "[Parallel(n_jobs=-1)]: Done  90 tasks      | elapsed:    4.3s\n",
      "[Parallel(n_jobs=-1)]: Done 216 tasks      | elapsed:    9.2s\n",
      "[Parallel(n_jobs=-1)]: Done 378 tasks      | elapsed:   15.7s\n",
      "[Parallel(n_jobs=-1)]: Done 576 tasks      | elapsed:   24.8s\n",
      "[Parallel(n_jobs=-1)]: Done 800 out of 800 | elapsed:   37.5s finished\n"
     ]
    },
    {
     "data": {
      "text/plain": [
       "GridSearchCV(cv=<generator object _BaseKFold.split at 0x7f88d37bc4d0>,\n",
       "             error_score=nan,\n",
       "             estimator=SVC(C=1.0, break_ties=False, cache_size=200,\n",
       "                           class_weight=None, coef0=0.0,\n",
       "                           decision_function_shape='ovr', degree=3,\n",
       "                           gamma='scale', kernel='rbf', max_iter=-1,\n",
       "                           probability=False, random_state=None, shrinking=True,\n",
       "                           tol=0.001, verbose=False),\n",
       "             iid='deprecated', n_jobs=-1,\n",
       "             param_grid={'C': [0.1, 1, 5, 10, 25, 50, 75, 100],\n",
       "                         'class_weight': ['balanced'],\n",
       "                         'gamma': [1, 0.1, 0.01, 0.001, 0.0001],\n",
       "                         'kernel': ['rbf', 'linear', 'poly', 'sigmoid']},\n",
       "             pre_dispatch='2*n_jobs', refit=True, return_train_score=False,\n",
       "             scoring='accuracy', verbose=5)"
      ]
     },
     "execution_count": 102,
     "metadata": {},
     "output_type": "execute_result"
    }
   ],
   "source": [
    "clf.fit(au_agg, y)"
   ]
  },
  {
   "cell_type": "code",
   "execution_count": 103,
   "id": "cef0a33c-fae9-4e22-80ac-ef5a9b2d5619",
   "metadata": {},
   "outputs": [
    {
     "data": {
      "text/plain": [
       "{'C': 10, 'class_weight': 'balanced', 'gamma': 1, 'kernel': 'rbf'}"
      ]
     },
     "execution_count": 103,
     "metadata": {},
     "output_type": "execute_result"
    }
   ],
   "source": [
    "clf.best_params_"
   ]
  },
  {
   "cell_type": "code",
   "execution_count": 126,
   "id": "f284e840-d2d1-480b-a1bd-e73141c96c1a",
   "metadata": {},
   "outputs": [
    {
     "name": "stderr",
     "output_type": "stream",
     "text": [
      "[Parallel(n_jobs=-1)]: Using backend LokyBackend with 36 concurrent workers.\n"
     ]
    },
    {
     "name": "stdout",
     "output_type": "stream",
     "text": [
      "printing accuracy measures\n",
      "avg (train): 0.9988789426418613\n",
      "std (train): 9.760880106459751e-05\n",
      "avg (validation): 0.14827635327635327\n",
      "std (validation): 0.06996059770650222\n"
     ]
    },
    {
     "name": "stderr",
     "output_type": "stream",
     "text": [
      "[Parallel(n_jobs=-1)]: Done 100 out of 100 | elapsed:   13.0s finished\n"
     ]
    }
   ],
   "source": [
    "# Standard KFOLD\n",
    "svc = SVC(**clf.best_params_)\n",
    "evaluate_scores(au_agg, y, svc, scoring_method=\"accuracy\")"
   ]
  },
  {
   "cell_type": "markdown",
   "id": "ba9da389-6474-47f1-a4c2-793014090886",
   "metadata": {},
   "source": [
    "### Without last step min max"
   ]
  },
  {
   "cell_type": "code",
   "execution_count": 92,
   "id": "632b9f31-2fca-443f-8a21-a6713899c527",
   "metadata": {},
   "outputs": [
    {
     "data": {
      "text/plain": [
       "{'C': 10, 'class_weight': 'balanced', 'gamma': 0.01, 'kernel': 'rbf'}"
      ]
     },
     "execution_count": 92,
     "metadata": {},
     "output_type": "execute_result"
    }
   ],
   "source": [
    "clf.best_params_"
   ]
  },
  {
   "cell_type": "code",
   "execution_count": 95,
   "id": "d24c0e6e-e7dd-46bf-aaf6-607ef23b2a0e",
   "metadata": {},
   "outputs": [
    {
     "name": "stderr",
     "output_type": "stream",
     "text": [
      "[Parallel(n_jobs=-1)]: Using backend LokyBackend with 36 concurrent workers.\n"
     ]
    },
    {
     "name": "stdout",
     "output_type": "stream",
     "text": [
      "printing accuracy measures\n",
      "avg (train): 0.5294507575757577\n",
      "std (train): 0.0027673559083716734\n",
      "avg (validation): 0.12272727272727275\n",
      "std (validation): 0.012061881309159592\n"
     ]
    },
    {
     "name": "stderr",
     "output_type": "stream",
     "text": [
      "[Parallel(n_jobs=-1)]: Done   5 out of   5 | elapsed:    1.6s finished\n"
     ]
    }
   ],
   "source": [
    "# Standard KFOLD\n",
    "svc = SVC(**clf.best_params_)\n",
    "evaluate_scores(au_agg, y, svc, scoring_method=\"accuracy\")"
   ]
  },
  {
   "cell_type": "markdown",
   "id": "bb3dd10e-4482-474d-a76f-037e28f5d3d8",
   "metadata": {},
   "source": [
    "# Without normalization"
   ]
  },
  {
   "cell_type": "code",
   "execution_count": 72,
   "id": "5bbebedc-4237-42f9-a890-54064204b708",
   "metadata": {},
   "outputs": [],
   "source": [
    "from s3fs.core import S3FileSystem\n",
    "s3 = S3FileSystem()\n",
    "from sagemaker import get_execution_role\n",
    "\n",
    "role = get_execution_role()\n",
    "bucket='files-and-examples-01'\n",
    "file = 'datasets/su_dataset/sliced_au_gaze_int23_modep_unnormalized.pickle'\n",
    "\n",
    "path = s3.open('s3://{}/{}'.format(bucket, file))"
   ]
  },
  {
   "cell_type": "code",
   "execution_count": 73,
   "id": "6165ae82-4de0-43b0-a5f7-9944747b00bb",
   "metadata": {},
   "outputs": [],
   "source": [
    "file = pickle.load(path)\n",
    "x = file['x']\n",
    "y = file['y']\n",
    "\n",
    "au = x['au']\n",
    "gaze = x['gaze']\n",
    "pose = x['pose']"
   ]
  },
  {
   "cell_type": "code",
   "execution_count": 74,
   "id": "083b2d67-d67a-47b8-b3c5-093250c8cea8",
   "metadata": {},
   "outputs": [],
   "source": [
    "au_agg = get_aggregate_measures(au,\n",
    "                               means=True,\n",
    "                               variance=False,\n",
    "                               deltas=False,\n",
    "                               peaks=False)"
   ]
  },
  {
   "cell_type": "code",
   "execution_count": 75,
   "id": "1553b119-823c-4d6b-ad61-63b32fa5ff6b",
   "metadata": {},
   "outputs": [],
   "source": [
    "scaler = MinMaxScaler()\n",
    "au_agg = scaler.fit_transform(au_agg)"
   ]
  },
  {
   "cell_type": "code",
   "execution_count": 76,
   "id": "9dad177f-fe5e-4693-89dd-5249e76dd132",
   "metadata": {},
   "outputs": [],
   "source": [
    "skf = KFold(n_splits=5, shuffle=True)\n",
    "splits = skf.split(au_agg, y)"
   ]
  },
  {
   "cell_type": "code",
   "execution_count": 77,
   "id": "90037228-bc18-4883-aa18-9d5551e8e564",
   "metadata": {},
   "outputs": [],
   "source": [
    "# regularization paramater, lower C -> more regularization (less overfitting), large C -> less regularization (and possibly more overfitting)\n",
    "c_values = [0.1, 1, 5, 10, 25, 50, 75, 100]\n",
    "\n",
    "# \n",
    "gamma = [1, 0.1, 0.01, 0.001, 0.0001]\n",
    "kernel = ['rbf', 'linear', 'poly', 'sigmoid']\n",
    "\n",
    "parameters = {'class_weight': ['balanced'],\n",
    "              'C': c_values,\n",
    "              'gamma': gamma,\n",
    "              'kernel': kernel,\n",
    "              }\n",
    "\n",
    "svc = SVC()\n",
    "clf = GridSearchCV(estimator=svc,\n",
    "                   param_grid=parameters,\n",
    "                   scoring='accuracy',\n",
    "                   verbose=5,\n",
    "                   cv=splits,\n",
    "                   n_jobs=-1,\n",
    "                   )"
   ]
  },
  {
   "cell_type": "code",
   "execution_count": 78,
   "id": "dbe86548-89c2-486c-b23c-4f552227c8ca",
   "metadata": {},
   "outputs": [
    {
     "name": "stdout",
     "output_type": "stream",
     "text": [
      "Fitting 5 folds for each of 160 candidates, totalling 800 fits\n"
     ]
    },
    {
     "name": "stderr",
     "output_type": "stream",
     "text": [
      "[Parallel(n_jobs=-1)]: Using backend LokyBackend with 36 concurrent workers.\n",
      "[Parallel(n_jobs=-1)]: Done  90 tasks      | elapsed:    5.0s\n",
      "[Parallel(n_jobs=-1)]: Done 216 tasks      | elapsed:    9.8s\n",
      "[Parallel(n_jobs=-1)]: Done 378 tasks      | elapsed:   16.2s\n",
      "[Parallel(n_jobs=-1)]: Done 576 tasks      | elapsed:   25.3s\n",
      "[Parallel(n_jobs=-1)]: Done 800 out of 800 | elapsed:   40.1s finished\n"
     ]
    },
    {
     "data": {
      "text/plain": [
       "GridSearchCV(cv=<generator object _BaseKFold.split at 0x7f88c7718d50>,\n",
       "             error_score=nan,\n",
       "             estimator=SVC(C=1.0, break_ties=False, cache_size=200,\n",
       "                           class_weight=None, coef0=0.0,\n",
       "                           decision_function_shape='ovr', degree=3,\n",
       "                           gamma='scale', kernel='rbf', max_iter=-1,\n",
       "                           probability=False, random_state=None, shrinking=True,\n",
       "                           tol=0.001, verbose=False),\n",
       "             iid='deprecated', n_jobs=-1,\n",
       "             param_grid={'C': [0.1, 1, 5, 10, 25, 50, 75, 100],\n",
       "                         'class_weight': ['balanced'],\n",
       "                         'gamma': [1, 0.1, 0.01, 0.001, 0.0001],\n",
       "                         'kernel': ['rbf', 'linear', 'poly', 'sigmoid']},\n",
       "             pre_dispatch='2*n_jobs', refit=True, return_train_score=False,\n",
       "             scoring='accuracy', verbose=5)"
      ]
     },
     "execution_count": 78,
     "metadata": {},
     "output_type": "execute_result"
    }
   ],
   "source": [
    "clf.fit(au_agg, y)"
   ]
  },
  {
   "cell_type": "code",
   "execution_count": 80,
   "id": "d35475d8-c3b4-4a68-947f-bab8609363be",
   "metadata": {},
   "outputs": [
    {
     "data": {
      "text/plain": [
       "{'C': 10, 'class_weight': 'balanced', 'gamma': 1, 'kernel': 'rbf'}"
      ]
     },
     "execution_count": 80,
     "metadata": {},
     "output_type": "execute_result"
    }
   ],
   "source": [
    "clf.best_params_"
   ]
  },
  {
   "cell_type": "code",
   "execution_count": 84,
   "id": "e04d1b44-c0c3-42fa-93d1-4053021d0781",
   "metadata": {},
   "outputs": [
    {
     "name": "stderr",
     "output_type": "stream",
     "text": [
      "[Parallel(n_jobs=-1)]: Using backend LokyBackend with 36 concurrent workers.\n"
     ]
    },
    {
     "name": "stdout",
     "output_type": "stream",
     "text": [
      "printing accuracy measures\n",
      "avg (train): 0.9876893939393939\n",
      "std (train): 0.002074706657216531\n",
      "avg (validation): 0.10303030303030303\n",
      "std (validation): 0.013999786827709346\n"
     ]
    },
    {
     "name": "stderr",
     "output_type": "stream",
     "text": [
      "[Parallel(n_jobs=-1)]: Done   5 out of   5 | elapsed:    2.1s finished\n"
     ]
    }
   ],
   "source": [
    "# Standard KFOLD\n",
    "svc = SVC(**clf.best_params_)\n",
    "evaluate_scores(au_agg, y, svc, scoring_method=\"accuracy\")"
   ]
  },
  {
   "cell_type": "code",
   "execution_count": null,
   "id": "68fd8913-2a83-4e34-b4dc-b3143c56a827",
   "metadata": {},
   "outputs": [],
   "source": []
  },
  {
   "cell_type": "markdown",
   "id": "0d8aad46-4c6c-4229-8398-d2ff201784d9",
   "metadata": {},
   "source": [
    "# Standarddized data"
   ]
  },
  {
   "cell_type": "code",
   "execution_count": 54,
   "id": "4150426e-52de-418e-93d8-1a14d3174db0",
   "metadata": {},
   "outputs": [],
   "source": [
    "from s3fs.core import S3FileSystem\n",
    "s3 = S3FileSystem()\n",
    "from sagemaker import get_execution_role\n",
    "\n",
    "role = get_execution_role()\n",
    "bucket='files-and-examples-01'\n",
    "file = 'datasets/su_dataset/sliced_au_gaze_pose_intensity_23_mode_p.pickle'\n",
    "\n",
    "path = s3.open('s3://{}/{}'.format(bucket, file))"
   ]
  },
  {
   "cell_type": "code",
   "execution_count": 55,
   "id": "c1ed1177-c3e9-4c78-b3c9-a354e5942e01",
   "metadata": {},
   "outputs": [],
   "source": [
    "file = pickle.load(path)"
   ]
  },
  {
   "cell_type": "code",
   "execution_count": 56,
   "id": "d3a47994-54d4-4692-abd8-d250b10ee179",
   "metadata": {},
   "outputs": [],
   "source": [
    "x = file['x']\n",
    "y = file['y']\n",
    "\n",
    "au = x['au']\n",
    "gaze = x['gaze']\n",
    "pose = x['pose']"
   ]
  },
  {
   "cell_type": "markdown",
   "id": "944e3a2b-8333-4a6f-ad74-920dcee59664",
   "metadata": {},
   "source": [
    "# Only means"
   ]
  },
  {
   "cell_type": "code",
   "execution_count": 57,
   "id": "91790f79-e200-49f0-adab-c8b1f4b3ee26",
   "metadata": {},
   "outputs": [],
   "source": [
    "au_agg = get_aggregate_measures(au,\n",
    "                               means=True,\n",
    "                               variance=False,\n",
    "                               deltas=False,\n",
    "                               peaks=False)"
   ]
  },
  {
   "cell_type": "code",
   "execution_count": null,
   "id": "ca61995d-2494-455a-b8b9-6b01bd7537b1",
   "metadata": {},
   "outputs": [],
   "source": [
    "# regularization paramater, lower C -> more regularization (less overfitting), large C -> less regularization (and possibly more overfitting)\n",
    "c_values = [0.1, 1, 5, 10, 25, 50, 75, 100]\n",
    "\n",
    "# \n",
    "gamma = [1, 0.1, 0.01, 0.001, 0.0001]\n",
    "kernel = ['rbf', 'linear', 'poly', 'sigmoid']\n",
    "\n",
    "parameters = {'class_weight': ['balanced'],\n",
    "              'C': c_values,\n",
    "              'gamma': gamma,\n",
    "              'kernel': kernel,\n",
    "              }\n",
    "\n",
    "svc = SVC()\n",
    "clf = GridSearchCV(estimator=svc,\n",
    "                   param_grid=parameters,\n",
    "                   scoring='accuracy',\n",
    "                   verbose=5,\n",
    "                   cv=splits,\n",
    "                   n_jobs=-1,\n",
    "                   )"
   ]
  },
  {
   "cell_type": "code",
   "execution_count": 59,
   "id": "6f2f5ab6-4b9a-4d2a-b29f-4427491e342d",
   "metadata": {},
   "outputs": [],
   "source": [
    "#au_agg, y = shuffle(au_agg, y)"
   ]
  },
  {
   "cell_type": "code",
   "execution_count": 60,
   "id": "87be1946-80a7-46c2-a79a-6476e64d47b5",
   "metadata": {},
   "outputs": [
    {
     "data": {
      "text/plain": [
       "(2640, 85)"
      ]
     },
     "execution_count": 60,
     "metadata": {},
     "output_type": "execute_result"
    }
   ],
   "source": [
    "au_agg.shape"
   ]
  },
  {
   "cell_type": "code",
   "execution_count": 61,
   "id": "6158ef41-730a-4eb4-ae70-97eac3284fa1",
   "metadata": {},
   "outputs": [
    {
     "data": {
      "text/plain": [
       "(2640,)"
      ]
     },
     "execution_count": 61,
     "metadata": {},
     "output_type": "execute_result"
    }
   ],
   "source": [
    "y.shape"
   ]
  },
  {
   "cell_type": "code",
   "execution_count": 62,
   "id": "8b34c824-fc71-496d-bc72-d90d5b3102b6",
   "metadata": {},
   "outputs": [],
   "source": [
    "skf = KFold(n_splits=5, shuffle=True)\n",
    "splits = skf.split(au_agg, y)"
   ]
  },
  {
   "cell_type": "code",
   "execution_count": 63,
   "id": "5fa61db1-f6a0-4c56-863b-d87c6fdfa2c2",
   "metadata": {},
   "outputs": [],
   "source": [
    "# regularization paramater, lower C -> more regularization (less overfitting), large C -> less regularization (and possibly more overfitting)\n",
    "c_values = [0.1, 1, 5, 10, 25, 50, 75, 100]\n",
    "\n",
    "# \n",
    "gamma = [1, 0.1, 0.01, 0.001, 0.0001]\n",
    "kernel = ['rbf', 'linear', 'poly', 'sigmoid']\n",
    "\n",
    "parameters = {'class_weight': ['balanced'],\n",
    "              'C': c_values,\n",
    "              'gamma': gamma,\n",
    "              'kernel': kernel,\n",
    "              }\n",
    "\n",
    "svc = SVC()\n",
    "clf = GridSearchCV(estimator=svc,\n",
    "                   param_grid=parameters,\n",
    "                   scoring='accuracy',\n",
    "                   verbose=5,\n",
    "                   cv=splits,\n",
    "                   n_jobs=-1,\n",
    "                   )"
   ]
  },
  {
   "cell_type": "code",
   "execution_count": 64,
   "id": "c41d90fc-a21a-4305-90ac-e50b6ae3f8da",
   "metadata": {
    "tags": []
   },
   "outputs": [
    {
     "name": "stdout",
     "output_type": "stream",
     "text": [
      "Fitting 5 folds for each of 160 candidates, totalling 800 fits\n"
     ]
    },
    {
     "name": "stderr",
     "output_type": "stream",
     "text": [
      "[Parallel(n_jobs=-1)]: Using backend LokyBackend with 36 concurrent workers.\n",
      "[Parallel(n_jobs=-1)]: Done  90 tasks      | elapsed:    4.4s\n",
      "[Parallel(n_jobs=-1)]: Done 216 tasks      | elapsed:   10.4s\n",
      "[Parallel(n_jobs=-1)]: Done 378 tasks      | elapsed:   22.2s\n",
      "[Parallel(n_jobs=-1)]: Done 576 tasks      | elapsed:   40.6s\n",
      "[Parallel(n_jobs=-1)]: Done 800 out of 800 | elapsed:  1.2min finished\n"
     ]
    },
    {
     "data": {
      "text/plain": [
       "GridSearchCV(cv=<generator object _BaseKFold.split at 0x7f88d34a6cd0>,\n",
       "             error_score=nan,\n",
       "             estimator=SVC(C=1.0, break_ties=False, cache_size=200,\n",
       "                           class_weight=None, coef0=0.0,\n",
       "                           decision_function_shape='ovr', degree=3,\n",
       "                           gamma='scale', kernel='rbf', max_iter=-1,\n",
       "                           probability=False, random_state=None, shrinking=True,\n",
       "                           tol=0.001, verbose=False),\n",
       "             iid='deprecated', n_jobs=-1,\n",
       "             param_grid={'C': [0.1, 1, 5, 10, 25, 50, 75, 100],\n",
       "                         'class_weight': ['balanced'],\n",
       "                         'gamma': [1, 0.1, 0.01, 0.001, 0.0001],\n",
       "                         'kernel': ['rbf', 'linear', 'poly', 'sigmoid']},\n",
       "             pre_dispatch='2*n_jobs', refit=True, return_train_score=False,\n",
       "             scoring='accuracy', verbose=5)"
      ]
     },
     "execution_count": 64,
     "metadata": {},
     "output_type": "execute_result"
    }
   ],
   "source": [
    "clf.fit(au_agg, y)"
   ]
  },
  {
   "cell_type": "code",
   "execution_count": 65,
   "id": "43ade0f7-d004-4bdf-8ad9-19696b857a3b",
   "metadata": {},
   "outputs": [
    {
     "data": {
      "text/plain": [
       "{'C': 5, 'class_weight': 'balanced', 'gamma': 0.01, 'kernel': 'rbf'}"
      ]
     },
     "execution_count": 65,
     "metadata": {},
     "output_type": "execute_result"
    }
   ],
   "source": [
    "clf.best_params_"
   ]
  },
  {
   "cell_type": "code",
   "execution_count": 69,
   "id": "434e93ae-116f-45cb-bbf7-7eb4973f777b",
   "metadata": {},
   "outputs": [
    {
     "name": "stderr",
     "output_type": "stream",
     "text": [
      "[Parallel(n_jobs=-1)]: Using backend LokyBackend with 36 concurrent workers.\n"
     ]
    },
    {
     "name": "stdout",
     "output_type": "stream",
     "text": [
      "printing accuracy measures\n",
      "avg (train): 0.9379734848484848\n",
      "std (train): 0.0028723013045649677\n",
      "avg (validation): 0.12234848484848485\n",
      "std (validation): 0.017588161767036214\n"
     ]
    },
    {
     "name": "stderr",
     "output_type": "stream",
     "text": [
      "[Parallel(n_jobs=-1)]: Done   5 out of   5 | elapsed:    2.1s finished\n"
     ]
    }
   ],
   "source": [
    "# Standard KFOLD\n",
    "svc = SVC(**clf.best_params_)\n",
    "evaluate_scores(au_agg, y, svc, scoring_method=\"accuracy\")"
   ]
  },
  {
   "cell_type": "code",
   "execution_count": 28,
   "id": "61ba6c47-d716-4d11-b173-54a5ee4e9a76",
   "metadata": {},
   "outputs": [
    {
     "data": {
      "text/plain": [
       "{'C': 25, 'class_weight': 'balanced', 'gamma': 1, 'kernel': 'rbf'}"
      ]
     },
     "execution_count": 28,
     "metadata": {},
     "output_type": "execute_result"
    }
   ],
   "source": [
    "clf.best_params_"
   ]
  },
  {
   "cell_type": "code",
   "execution_count": 49,
   "id": "4de28ddd-61d0-404d-b9eb-696393152c03",
   "metadata": {},
   "outputs": [
    {
     "name": "stderr",
     "output_type": "stream",
     "text": [
      "[Parallel(n_jobs=-1)]: Using backend LokyBackend with 36 concurrent workers.\n"
     ]
    },
    {
     "name": "stdout",
     "output_type": "stream",
     "text": [
      "printing accuracy measures\n",
      "avg (train): 0.9994318181818181\n",
      "std (train): 0.0003543236161717848\n",
      "avg (validation): 0.1431818181818182\n",
      "std (validation): 0.00947726969939152\n"
     ]
    },
    {
     "name": "stderr",
     "output_type": "stream",
     "text": [
      "[Parallel(n_jobs=-1)]: Done   5 out of   5 | elapsed:    2.1s finished\n"
     ]
    }
   ],
   "source": [
    "# Min Max KFOLD\n",
    "svc = SVC(**clf.best_params_)\n",
    "evaluate_scores(au_agg, y, svc, scoring_method=\"accuracy\")"
   ]
  },
  {
   "cell_type": "code",
   "execution_count": 39,
   "id": "4adfd889-90e7-4d69-aa37-eeac18429674",
   "metadata": {},
   "outputs": [
    {
     "name": "stderr",
     "output_type": "stream",
     "text": [
      "[Parallel(n_jobs=-1)]: Using backend LokyBackend with 36 concurrent workers.\n"
     ]
    },
    {
     "name": "stdout",
     "output_type": "stream",
     "text": [
      "printing accuracy measures\n",
      "avg (train): 0.9993371212121211\n",
      "std (train): 0.00023195925594538333\n",
      "avg (validation): 0.13674242424242428\n",
      "std (validation): 0.007518724712605766\n"
     ]
    },
    {
     "name": "stderr",
     "output_type": "stream",
     "text": [
      "[Parallel(n_jobs=-1)]: Done   5 out of   5 | elapsed:    2.6s finished\n"
     ]
    }
   ],
   "source": [
    "# Standardscaler\n",
    "svc = SVC(**clf.best_params_)\n",
    "evaluate_scores(au_agg, y, svc, scoring_method=\"accuracy\")"
   ]
  },
  {
   "cell_type": "code",
   "execution_count": 89,
   "id": "a75a233c-5e03-465c-a237-808803dc4165",
   "metadata": {},
   "outputs": [
    {
     "data": {
      "text/plain": [
       "{'C': 10, 'class_weight': 'balanced', 'gamma': 0.1, 'kernel': 'rbf'}"
      ]
     },
     "execution_count": 89,
     "metadata": {},
     "output_type": "execute_result"
    }
   ],
   "source": [
    "# no scaling\n",
    "clf.best_params_"
   ]
  },
  {
   "cell_type": "code",
   "execution_count": 90,
   "id": "25352230-f414-4270-b0a3-89b6ffb69f1f",
   "metadata": {},
   "outputs": [
    {
     "name": "stderr",
     "output_type": "stream",
     "text": [
      "[Parallel(n_jobs=-1)]: Using backend LokyBackend with 36 concurrent workers.\n"
     ]
    },
    {
     "name": "stdout",
     "output_type": "stream",
     "text": [
      "printing accuracy measures\n",
      "avg (train): 0.9994318181818181\n",
      "std (train): 0.00035432361617178485\n",
      "avg (validation): 0.1303030303030303\n",
      "std (validation): 0.009978742327514766\n"
     ]
    },
    {
     "name": "stderr",
     "output_type": "stream",
     "text": [
      "[Parallel(n_jobs=-1)]: Done   5 out of   5 | elapsed:    2.1s finished\n"
     ]
    }
   ],
   "source": [
    "# no scaling\n",
    "svc = SVC(**clf.best_params_)\n",
    "evaluate_scores(au_agg, y, svc, scoring_method=\"accuracy\")"
   ]
  },
  {
   "cell_type": "code",
   "execution_count": 74,
   "id": "6be8b572-82db-43e1-ab75-442b4eca7545",
   "metadata": {},
   "outputs": [
    {
     "name": "stderr",
     "output_type": "stream",
     "text": [
      "[Parallel(n_jobs=-1)]: Using backend LokyBackend with 36 concurrent workers.\n"
     ]
    },
    {
     "name": "stdout",
     "output_type": "stream",
     "text": [
      "printing accuracy measures\n",
      "avg (train): 0.9994318181818181\n",
      "std (train): 0.00018939393939394473\n",
      "avg (validation): 0.14053030303030303\n",
      "std (validation): 0.00833333333333334\n"
     ]
    },
    {
     "name": "stderr",
     "output_type": "stream",
     "text": [
      "[Parallel(n_jobs=-1)]: Done   5 out of   5 | elapsed:    2.1s finished\n"
     ]
    }
   ],
   "source": [
    "# with min max scaler\n",
    "evaluate_scores(au_agg, y, svc, scoring_method=\"accuracy\")"
   ]
  },
  {
   "cell_type": "markdown",
   "id": "5fb998e6-9feb-4b25-8802-5c08eb73de88",
   "metadata": {},
   "source": [
    "# Adding Variance"
   ]
  },
  {
   "cell_type": "code",
   "execution_count": 26,
   "id": "db52e0f0-1cfe-44e7-b555-6ffae9c6a3f5",
   "metadata": {},
   "outputs": [],
   "source": [
    "au_agg = get_aggregate_measures(au,\n",
    "                               means=True,\n",
    "                               variance=True,\n",
    "                               deltas=False,\n",
    "                               peaks=False)"
   ]
  },
  {
   "cell_type": "code",
   "execution_count": 27,
   "id": "7cef7aa8-bedb-4124-ad13-03921bbcb4d1",
   "metadata": {},
   "outputs": [
    {
     "name": "stdout",
     "output_type": "stream",
     "text": [
      "Fitting 5 folds for each of 160 candidates, totalling 800 fits\n"
     ]
    },
    {
     "name": "stderr",
     "output_type": "stream",
     "text": [
      "[Parallel(n_jobs=-1)]: Using backend LokyBackend with 36 concurrent workers.\n",
      "[Parallel(n_jobs=-1)]: Done  90 tasks      | elapsed:    4.7s\n",
      "[Parallel(n_jobs=-1)]: Done 216 tasks      | elapsed:   11.1s\n",
      "[Parallel(n_jobs=-1)]: Done 378 tasks      | elapsed:   22.0s\n",
      "[Parallel(n_jobs=-1)]: Done 576 tasks      | elapsed:   38.8s\n",
      "[Parallel(n_jobs=-1)]: Done 800 out of 800 | elapsed:  1.1min finished\n"
     ]
    },
    {
     "data": {
      "text/plain": [
       "GridSearchCV(cv=None, error_score=nan,\n",
       "             estimator=SVC(C=1.0, break_ties=False, cache_size=200,\n",
       "                           class_weight=None, coef0=0.0,\n",
       "                           decision_function_shape='ovr', degree=3,\n",
       "                           gamma='scale', kernel='rbf', max_iter=-1,\n",
       "                           probability=False, random_state=None, shrinking=True,\n",
       "                           tol=0.001, verbose=False),\n",
       "             iid='deprecated', n_jobs=-1,\n",
       "             param_grid={'C': [0.1, 1, 5, 10, 20, 50, 80, 100],\n",
       "                         'class_weight': ['balanced'],\n",
       "                         'gamma': [1, 0.1, 0.01, 0.001, 0.0001],\n",
       "                         'kernel': ['rbf', 'linear', 'poly', 'sigmoid']},\n",
       "             pre_dispatch='2*n_jobs', refit=True, return_train_score=False,\n",
       "             scoring='accuracy', verbose=5)"
      ]
     },
     "execution_count": 27,
     "metadata": {},
     "output_type": "execute_result"
    }
   ],
   "source": [
    "clf.fit(au_agg, y)"
   ]
  },
  {
   "cell_type": "code",
   "execution_count": 28,
   "id": "703d8903-5a89-4420-948f-1e572ea672ab",
   "metadata": {},
   "outputs": [
    {
     "data": {
      "text/plain": [
       "{'C': 20, 'class_weight': 'balanced', 'gamma': 0.001, 'kernel': 'rbf'}"
      ]
     },
     "execution_count": 28,
     "metadata": {},
     "output_type": "execute_result"
    }
   ],
   "source": [
    "clf.best_params_"
   ]
  },
  {
   "cell_type": "code",
   "execution_count": 29,
   "id": "fee1604c-c8fa-4d15-98ad-9265ae472952",
   "metadata": {},
   "outputs": [],
   "source": [
    "svc = SVC(**clf.best_params_)"
   ]
  },
  {
   "cell_type": "code",
   "execution_count": 30,
   "id": "05d95b10-f841-4fae-840d-a6643bd093ce",
   "metadata": {},
   "outputs": [
    {
     "name": "stderr",
     "output_type": "stream",
     "text": [
      "[Parallel(n_jobs=-1)]: Using backend LokyBackend with 36 concurrent workers.\n"
     ]
    },
    {
     "name": "stdout",
     "output_type": "stream",
     "text": [
      "printing accuracy measures\n",
      "avg (train): 0.3135416666666667\n",
      "std (train): 0.0062843409178170795\n",
      "avg (validation): 0.12045454545454545\n",
      "std (validation): 0.014050937114387428\n"
     ]
    },
    {
     "name": "stderr",
     "output_type": "stream",
     "text": [
      "[Parallel(n_jobs=-1)]: Done   5 out of   5 | elapsed:    1.8s finished\n"
     ]
    }
   ],
   "source": [
    "evaluate_scores(au_agg, y, svc, scoring_method=\"accuracy\")"
   ]
  },
  {
   "cell_type": "markdown",
   "id": "d8a7e1bb-b83d-470e-8443-36a84350a3b7",
   "metadata": {},
   "source": [
    "# Adding deltas"
   ]
  },
  {
   "cell_type": "code",
   "execution_count": 31,
   "id": "3761b954-d6dc-4b3b-b354-19ce4d9eed1a",
   "metadata": {},
   "outputs": [],
   "source": [
    "au_agg = get_aggregate_measures(au,\n",
    "                               means=True,\n",
    "                               variance=False,\n",
    "                               deltas=True,\n",
    "                               peaks=False)"
   ]
  },
  {
   "cell_type": "code",
   "execution_count": 32,
   "id": "dd64e858-38ea-4494-a91f-f4cc3578b435",
   "metadata": {},
   "outputs": [
    {
     "name": "stdout",
     "output_type": "stream",
     "text": [
      "Fitting 5 folds for each of 160 candidates, totalling 800 fits\n"
     ]
    },
    {
     "name": "stderr",
     "output_type": "stream",
     "text": [
      "[Parallel(n_jobs=-1)]: Using backend LokyBackend with 36 concurrent workers.\n",
      "[Parallel(n_jobs=-1)]: Done  90 tasks      | elapsed:    5.2s\n",
      "[Parallel(n_jobs=-1)]: Done 216 tasks      | elapsed:   12.0s\n",
      "[Parallel(n_jobs=-1)]: Done 378 tasks      | elapsed:   23.4s\n",
      "[Parallel(n_jobs=-1)]: Done 576 tasks      | elapsed:   41.1s\n",
      "[Parallel(n_jobs=-1)]: Done 800 out of 800 | elapsed:  1.2min finished\n"
     ]
    },
    {
     "data": {
      "text/plain": [
       "GridSearchCV(cv=None, error_score=nan,\n",
       "             estimator=SVC(C=1.0, break_ties=False, cache_size=200,\n",
       "                           class_weight=None, coef0=0.0,\n",
       "                           decision_function_shape='ovr', degree=3,\n",
       "                           gamma='scale', kernel='rbf', max_iter=-1,\n",
       "                           probability=False, random_state=None, shrinking=True,\n",
       "                           tol=0.001, verbose=False),\n",
       "             iid='deprecated', n_jobs=-1,\n",
       "             param_grid={'C': [0.1, 1, 5, 10, 20, 50, 80, 100],\n",
       "                         'class_weight': ['balanced'],\n",
       "                         'gamma': [1, 0.1, 0.01, 0.001, 0.0001],\n",
       "                         'kernel': ['rbf', 'linear', 'poly', 'sigmoid']},\n",
       "             pre_dispatch='2*n_jobs', refit=True, return_train_score=False,\n",
       "             scoring='accuracy', verbose=5)"
      ]
     },
     "execution_count": 32,
     "metadata": {},
     "output_type": "execute_result"
    }
   ],
   "source": [
    "clf.fit(au_agg, y)"
   ]
  },
  {
   "cell_type": "code",
   "execution_count": 33,
   "id": "8be6c446-f6d3-434b-b09f-b2b18377983a",
   "metadata": {},
   "outputs": [
    {
     "data": {
      "text/plain": [
       "{'C': 100, 'class_weight': 'balanced', 'gamma': 0.0001, 'kernel': 'rbf'}"
      ]
     },
     "execution_count": 33,
     "metadata": {},
     "output_type": "execute_result"
    }
   ],
   "source": [
    "clf.best_params_"
   ]
  },
  {
   "cell_type": "code",
   "execution_count": 34,
   "id": "9e9c3ccf-a901-4053-b79e-2dff5e30284e",
   "metadata": {},
   "outputs": [],
   "source": [
    "svc = SVC(**clf.best_params_)"
   ]
  },
  {
   "cell_type": "code",
   "execution_count": 35,
   "id": "fe11ac10-29fe-48cf-9cc8-24191651e734",
   "metadata": {},
   "outputs": [
    {
     "name": "stderr",
     "output_type": "stream",
     "text": [
      "[Parallel(n_jobs=-1)]: Using backend LokyBackend with 36 concurrent workers.\n"
     ]
    },
    {
     "name": "stdout",
     "output_type": "stream",
     "text": [
      "printing accuracy measures\n",
      "avg (train): 0.21467803030303031\n",
      "std (train): 0.005436628823639137\n",
      "avg (validation): 0.12727272727272726\n",
      "std (validation): 0.021507681161482408\n"
     ]
    },
    {
     "name": "stderr",
     "output_type": "stream",
     "text": [
      "[Parallel(n_jobs=-1)]: Done   5 out of   5 | elapsed:    2.0s finished\n"
     ]
    }
   ],
   "source": [
    "evaluate_scores(au_agg, y, svc, scoring_method=\"accuracy\")"
   ]
  },
  {
   "cell_type": "markdown",
   "id": "3c51cdb5-910d-4d9e-9b45-019e19d5a9e4",
   "metadata": {},
   "source": [
    "# Adding peaks"
   ]
  },
  {
   "cell_type": "code",
   "execution_count": 36,
   "id": "c3c4dd8f-d26d-4a6b-9a8a-22d13eb84cbe",
   "metadata": {},
   "outputs": [],
   "source": [
    "au_agg = get_aggregate_measures(au,\n",
    "                               means=True,\n",
    "                               variance=False,\n",
    "                               deltas=False,\n",
    "                               peaks=True)"
   ]
  },
  {
   "cell_type": "code",
   "execution_count": 37,
   "id": "b7c64206-2c82-431e-8443-6d2ede5a14f9",
   "metadata": {},
   "outputs": [
    {
     "data": {
      "text/plain": [
       "(2640, 102)"
      ]
     },
     "execution_count": 37,
     "metadata": {},
     "output_type": "execute_result"
    }
   ],
   "source": [
    "au_agg.shape"
   ]
  },
  {
   "cell_type": "code",
   "execution_count": 38,
   "id": "583dae70-0173-4953-a233-fa9e2b7e1231",
   "metadata": {},
   "outputs": [
    {
     "data": {
      "text/plain": [
       "{'C': 100, 'class_weight': 'balanced', 'gamma': 0.0001, 'kernel': 'rbf'}"
      ]
     },
     "execution_count": 38,
     "metadata": {},
     "output_type": "execute_result"
    }
   ],
   "source": [
    "clf.best_params_"
   ]
  },
  {
   "cell_type": "code",
   "execution_count": 39,
   "id": "32b420cb-f085-40af-88db-00b78b87ae4f",
   "metadata": {},
   "outputs": [
    {
     "name": "stderr",
     "output_type": "stream",
     "text": [
      "[Parallel(n_jobs=-1)]: Using backend LokyBackend with 36 concurrent workers.\n"
     ]
    },
    {
     "name": "stdout",
     "output_type": "stream",
     "text": [
      "printing accuracy measures\n",
      "avg (train): 0.4\n",
      "std (train): 0.012187614047875895\n",
      "avg (validation): 0.09848484848484848\n",
      "std (validation): 0.01233243984553008\n"
     ]
    },
    {
     "name": "stderr",
     "output_type": "stream",
     "text": [
      "[Parallel(n_jobs=-1)]: Done   5 out of   5 | elapsed:    2.0s finished\n"
     ]
    }
   ],
   "source": [
    "svc = SVC(**clf.best_params_)\n",
    "evaluate_scores(au_agg, y, svc, scoring_method=\"accuracy\")"
   ]
  },
  {
   "cell_type": "markdown",
   "id": "3542d19b-8062-4274-b87a-6938ba7f03b2",
   "metadata": {},
   "source": [
    "# Running on all aggregates "
   ]
  },
  {
   "cell_type": "code",
   "execution_count": 40,
   "id": "06615bb1-fdfe-4a91-afc8-23b05dfae70a",
   "metadata": {},
   "outputs": [],
   "source": [
    "au_agg = get_aggregate_measures(au)"
   ]
  },
  {
   "cell_type": "code",
   "execution_count": 41,
   "id": "ecd34dc4-5622-48f3-8d53-bf6bfef3a39c",
   "metadata": {},
   "outputs": [
    {
     "data": {
      "text/plain": [
       "(2640, 153)"
      ]
     },
     "execution_count": 41,
     "metadata": {},
     "output_type": "execute_result"
    }
   ],
   "source": [
    "au_agg.shape"
   ]
  },
  {
   "cell_type": "code",
   "execution_count": 42,
   "id": "2398d69e-09f1-496a-abc4-b896a4f8f31b",
   "metadata": {},
   "outputs": [
    {
     "name": "stdout",
     "output_type": "stream",
     "text": [
      "Fitting 5 folds for each of 160 candidates, totalling 800 fits\n"
     ]
    },
    {
     "name": "stderr",
     "output_type": "stream",
     "text": [
      "[Parallel(n_jobs=-1)]: Using backend LokyBackend with 36 concurrent workers.\n",
      "[Parallel(n_jobs=-1)]: Done  90 tasks      | elapsed:    7.8s\n",
      "[Parallel(n_jobs=-1)]: Done 216 tasks      | elapsed:   21.9s\n",
      "[Parallel(n_jobs=-1)]: Done 378 tasks      | elapsed:   44.2s\n",
      "[Parallel(n_jobs=-1)]: Done 576 tasks      | elapsed:  1.3min\n",
      "[Parallel(n_jobs=-1)]: Done 800 out of 800 | elapsed:  1.9min finished\n"
     ]
    },
    {
     "data": {
      "text/plain": [
       "GridSearchCV(cv=None, error_score=nan,\n",
       "             estimator=SVC(C=1.0, break_ties=False, cache_size=200,\n",
       "                           class_weight=None, coef0=0.0,\n",
       "                           decision_function_shape='ovr', degree=3,\n",
       "                           gamma='scale', kernel='rbf', max_iter=-1,\n",
       "                           probability=False, random_state=None, shrinking=True,\n",
       "                           tol=0.001, verbose=False),\n",
       "             iid='deprecated', n_jobs=-1,\n",
       "             param_grid={'C': [0.1, 1, 5, 10, 20, 50, 80, 100],\n",
       "                         'class_weight': ['balanced'],\n",
       "                         'gamma': [1, 0.1, 0.01, 0.001, 0.0001],\n",
       "                         'kernel': ['rbf', 'linear', 'poly', 'sigmoid']},\n",
       "             pre_dispatch='2*n_jobs', refit=True, return_train_score=False,\n",
       "             scoring='accuracy', verbose=5)"
      ]
     },
     "execution_count": 42,
     "metadata": {},
     "output_type": "execute_result"
    }
   ],
   "source": [
    "clf.fit(au_agg, y)"
   ]
  },
  {
   "cell_type": "code",
   "execution_count": 43,
   "id": "a0c5afbc-d0ce-4097-968f-867042bd5ebd",
   "metadata": {},
   "outputs": [
    {
     "data": {
      "text/plain": [
       "{'C': 50, 'class_weight': 'balanced', 'gamma': 0.0001, 'kernel': 'rbf'}"
      ]
     },
     "execution_count": 43,
     "metadata": {},
     "output_type": "execute_result"
    }
   ],
   "source": [
    "clf.best_params_"
   ]
  },
  {
   "cell_type": "code",
   "execution_count": 44,
   "id": "36eaa217-fcbb-445f-a702-c930c3999bcd",
   "metadata": {},
   "outputs": [
    {
     "name": "stderr",
     "output_type": "stream",
     "text": [
      "[Parallel(n_jobs=-1)]: Using backend LokyBackend with 36 concurrent workers.\n"
     ]
    },
    {
     "name": "stdout",
     "output_type": "stream",
     "text": [
      "printing accuracy measures\n",
      "avg (train): 0.35331439393939396\n",
      "std (train): 0.006383446797860897\n",
      "avg (validation): 0.10606060606060605\n",
      "std (validation): 0.013392173886108855\n"
     ]
    },
    {
     "name": "stderr",
     "output_type": "stream",
     "text": [
      "[Parallel(n_jobs=-1)]: Done   5 out of   5 | elapsed:    2.7s finished\n"
     ]
    }
   ],
   "source": [
    "svc = SVC(**clf.best_params_)\n",
    "evaluate_scores(au_agg, y, svc, scoring_method=\"accuracy\")"
   ]
  },
  {
   "cell_type": "markdown",
   "id": "aa96c836-c54f-4290-a75b-64899dfdb7d4",
   "metadata": {},
   "source": [
    "# Removing peaks"
   ]
  },
  {
   "cell_type": "code",
   "execution_count": 45,
   "id": "7dd33828-5c8a-4cc3-9f6a-f49dbdcca981",
   "metadata": {},
   "outputs": [],
   "source": [
    "au_agg = get_aggregate_measures(au,\n",
    "                               means=True,\n",
    "                               variance=True,\n",
    "                               deltas=True,\n",
    "                               peaks=False)"
   ]
  },
  {
   "cell_type": "code",
   "execution_count": 46,
   "id": "129a31e0-7172-47f4-ae55-3153dd046a30",
   "metadata": {},
   "outputs": [
    {
     "data": {
      "text/plain": [
       "(2640, 136)"
      ]
     },
     "execution_count": 46,
     "metadata": {},
     "output_type": "execute_result"
    }
   ],
   "source": [
    "au_agg.shape"
   ]
  },
  {
   "cell_type": "code",
   "execution_count": 47,
   "id": "797f6918-1c7d-41df-891e-f4f466db9986",
   "metadata": {},
   "outputs": [
    {
     "name": "stdout",
     "output_type": "stream",
     "text": [
      "Fitting 5 folds for each of 160 candidates, totalling 800 fits\n"
     ]
    },
    {
     "name": "stderr",
     "output_type": "stream",
     "text": [
      "[Parallel(n_jobs=-1)]: Using backend LokyBackend with 36 concurrent workers.\n",
      "[Parallel(n_jobs=-1)]: Done  90 tasks      | elapsed:    5.9s\n",
      "[Parallel(n_jobs=-1)]: Done 216 tasks      | elapsed:   13.5s\n",
      "[Parallel(n_jobs=-1)]: Done 378 tasks      | elapsed:   25.2s\n",
      "[Parallel(n_jobs=-1)]: Done 576 tasks      | elapsed:   41.7s\n",
      "[Parallel(n_jobs=-1)]: Done 800 out of 800 | elapsed:  1.0min finished\n"
     ]
    },
    {
     "data": {
      "text/plain": [
       "GridSearchCV(cv=None, error_score=nan,\n",
       "             estimator=SVC(C=1.0, break_ties=False, cache_size=200,\n",
       "                           class_weight=None, coef0=0.0,\n",
       "                           decision_function_shape='ovr', degree=3,\n",
       "                           gamma='scale', kernel='rbf', max_iter=-1,\n",
       "                           probability=False, random_state=None, shrinking=True,\n",
       "                           tol=0.001, verbose=False),\n",
       "             iid='deprecated', n_jobs=-1,\n",
       "             param_grid={'C': [0.1, 1, 5, 10, 20, 50, 80, 100],\n",
       "                         'class_weight': ['balanced'],\n",
       "                         'gamma': [1, 0.1, 0.01, 0.001, 0.0001],\n",
       "                         'kernel': ['rbf', 'linear', 'poly', 'sigmoid']},\n",
       "             pre_dispatch='2*n_jobs', refit=True, return_train_score=False,\n",
       "             scoring='accuracy', verbose=5)"
      ]
     },
     "execution_count": 47,
     "metadata": {},
     "output_type": "execute_result"
    }
   ],
   "source": [
    "clf.fit(au_agg, y)"
   ]
  },
  {
   "cell_type": "code",
   "execution_count": 48,
   "id": "35689f9f-ba8c-4158-a646-7521b7ad8623",
   "metadata": {},
   "outputs": [
    {
     "data": {
      "text/plain": [
       "{'C': 20, 'class_weight': 'balanced', 'gamma': 0.001, 'kernel': 'rbf'}"
      ]
     },
     "execution_count": 48,
     "metadata": {},
     "output_type": "execute_result"
    }
   ],
   "source": [
    "clf.best_params_"
   ]
  },
  {
   "cell_type": "code",
   "execution_count": 49,
   "id": "e6b9cea5-f8fd-4e26-b573-e6acf905d436",
   "metadata": {},
   "outputs": [
    {
     "name": "stderr",
     "output_type": "stream",
     "text": [
      "[Parallel(n_jobs=-1)]: Using backend LokyBackend with 36 concurrent workers.\n"
     ]
    },
    {
     "name": "stdout",
     "output_type": "stream",
     "text": [
      "printing accuracy measures\n",
      "avg (train): 0.31609848484848485\n",
      "std (train): 0.007405763180309532\n",
      "avg (validation): 0.11969696969696968\n",
      "std (validation): 0.014344012294516277\n"
     ]
    },
    {
     "name": "stderr",
     "output_type": "stream",
     "text": [
      "[Parallel(n_jobs=-1)]: Done   5 out of   5 | elapsed:    2.3s finished\n"
     ]
    }
   ],
   "source": [
    "svc = SVC(**clf.best_params_)\n",
    "evaluate_scores(au_agg, y, svc, scoring_method=\"accuracy\")"
   ]
  },
  {
   "cell_type": "markdown",
   "id": "a094458b-7680-4940-8e40-7f3c84f28b48",
   "metadata": {},
   "source": [
    "# pose"
   ]
  },
  {
   "cell_type": "code",
   "execution_count": 15,
   "id": "e93c53f2-bd9f-447f-9e95-e48c1f9acfea",
   "metadata": {},
   "outputs": [
    {
     "data": {
      "text/plain": [
       "2640"
      ]
     },
     "execution_count": 15,
     "metadata": {},
     "output_type": "execute_result"
    }
   ],
   "source": [
    "len(pose)"
   ]
  },
  {
   "cell_type": "code",
   "execution_count": 16,
   "id": "198ebc33-861f-4b1e-bf67-b729b2bfee49",
   "metadata": {},
   "outputs": [
    {
     "data": {
      "text/plain": [
       "(69, 6)"
      ]
     },
     "execution_count": 16,
     "metadata": {},
     "output_type": "execute_result"
    }
   ],
   "source": [
    "pose[0].shape"
   ]
  },
  {
   "cell_type": "code",
   "execution_count": 12,
   "id": "5cd16ef9-50a6-4e8f-9133-75a29c851dd4",
   "metadata": {},
   "outputs": [],
   "source": [
    "pose_agg = get_aggregate_measures(pose)"
   ]
  },
  {
   "cell_type": "code",
   "execution_count": 13,
   "id": "bed6ecbf-950d-48d4-9b0a-22aee7bd7986",
   "metadata": {},
   "outputs": [
    {
     "data": {
      "text/plain": [
       "(2640, 54)"
      ]
     },
     "execution_count": 13,
     "metadata": {},
     "output_type": "execute_result"
    }
   ],
   "source": [
    "pose_agg.shape"
   ]
  },
  {
   "cell_type": "code",
   "execution_count": 14,
   "id": "22fe4802-1435-4163-b5b3-298576f426bd",
   "metadata": {},
   "outputs": [
    {
     "data": {
      "text/plain": [
       "(2640,)"
      ]
     },
     "execution_count": 14,
     "metadata": {},
     "output_type": "execute_result"
    }
   ],
   "source": [
    "y.shape"
   ]
  },
  {
   "cell_type": "code",
   "execution_count": 20,
   "id": "780d8ba4-9680-4c84-804a-0a3bfac28fad",
   "metadata": {},
   "outputs": [],
   "source": [
    "c_values = [0.1, 1, 5, 10, 20, 50]\n",
    "gamma = [1, 0.1, 0.01, 0.001, 0.0001]\n",
    "kernel = ['rbf', 'linear', 'poly', 'sigmoid']\n",
    "\n",
    "parameters = {'class_weight': ['balanced'],\n",
    "              'C': c_values,\n",
    "              'gamma': gamma,\n",
    "              'kernel': kernel,\n",
    "              }\n",
    "\n",
    "svc = SVC()\n",
    "clf = GridSearchCV(estimator=svc,\n",
    "                   param_grid=parameters,\n",
    "                   scoring='accuracy',\n",
    "                   verbose=51,\n",
    "                   n_jobs=-1,\n",
    "                   )"
   ]
  },
  {
   "cell_type": "code",
   "execution_count": null,
   "id": "409bd3ac-a7d1-4de2-900a-9e9a04fcdb87",
   "metadata": {},
   "outputs": [],
   "source": [
    "clf.fit(pose_agg, y)"
   ]
  },
  {
   "cell_type": "code",
   "execution_count": 22,
   "id": "27f71404-b905-4a00-ab49-876aaf3776b7",
   "metadata": {},
   "outputs": [
    {
     "data": {
      "text/plain": [
       "{'C': 10, 'class_weight': 'balanced', 'gamma': 1, 'kernel': 'linear'}"
      ]
     },
     "execution_count": 22,
     "metadata": {},
     "output_type": "execute_result"
    }
   ],
   "source": [
    "clf.best_params_"
   ]
  },
  {
   "cell_type": "code",
   "execution_count": 24,
   "id": "6d6dd3d8-538b-4e0b-a48a-9424e2b3a7cc",
   "metadata": {},
   "outputs": [
    {
     "name": "stderr",
     "output_type": "stream",
     "text": [
      "[Parallel(n_jobs=-1)]: Using backend LokyBackend with 36 concurrent workers.\n"
     ]
    },
    {
     "name": "stdout",
     "output_type": "stream",
     "text": [
      "printing accuracy measures\n",
      "avg (train): 0.40123106060606056\n",
      "std (train): 0.006242821865094504\n",
      "avg (validation): 0.07727272727272728\n",
      "std (validation): 0.01733342604340538\n"
     ]
    },
    {
     "name": "stderr",
     "output_type": "stream",
     "text": [
      "[Parallel(n_jobs=-1)]: Done   5 out of   5 | elapsed:  1.2min finished\n"
     ]
    }
   ],
   "source": [
    "svc = SVC(**clf.best_params_)\n",
    "evaluate_scores(pose_agg, y, svc, scoring_method=\"accuracy\")"
   ]
  },
  {
   "cell_type": "markdown",
   "id": "ae7886ac-ad55-47b5-97e3-44952c1c63b4",
   "metadata": {},
   "source": [
    "# gaze"
   ]
  },
  {
   "cell_type": "code",
   "execution_count": 12,
   "id": "30f81972-76ee-4b51-8b8c-1ac70087baac",
   "metadata": {},
   "outputs": [
    {
     "data": {
      "text/plain": [
       "2640"
      ]
     },
     "execution_count": 12,
     "metadata": {},
     "output_type": "execute_result"
    }
   ],
   "source": [
    "len(gaze)"
   ]
  },
  {
   "cell_type": "code",
   "execution_count": 13,
   "id": "a236c00f-4ff7-46f5-8206-e271b70aebaa",
   "metadata": {},
   "outputs": [
    {
     "data": {
      "text/plain": [
       "(2640,)"
      ]
     },
     "execution_count": 13,
     "metadata": {},
     "output_type": "execute_result"
    }
   ],
   "source": [
    "y.shape"
   ]
  },
  {
   "cell_type": "code",
   "execution_count": 14,
   "id": "285d3bf3-6117-4d5c-affc-8111d5f89cdb",
   "metadata": {},
   "outputs": [],
   "source": [
    "gaze_agg = get_aggregate_measures(gaze)"
   ]
  },
  {
   "cell_type": "code",
   "execution_count": 15,
   "id": "44908898-99c3-47c7-b2b2-dc3f052232d1",
   "metadata": {},
   "outputs": [
    {
     "data": {
      "text/plain": [
       "(2640, 72)"
      ]
     },
     "execution_count": 15,
     "metadata": {},
     "output_type": "execute_result"
    }
   ],
   "source": [
    "gaze_agg.shape"
   ]
  },
  {
   "cell_type": "code",
   "execution_count": 25,
   "id": "6f4c4146-13c5-4718-a9ff-588ca654958d",
   "metadata": {},
   "outputs": [],
   "source": [
    "c_values = [0.1, 1, 5, 10, 20, 50, 80]\n",
    "gamma = [1, 0.1, 0.01, 0.001, 0.0001]\n",
    "kernel = ['rbf', 'linear', 'poly', 'sigmoid']\n",
    "\n",
    "parameters = {'class_weight': ['balanced'],\n",
    "              'C': c_values,\n",
    "              'gamma': gamma,\n",
    "              'kernel': kernel,\n",
    "              }\n",
    "\n",
    "svc = SVC()\n",
    "\n",
    "clf = GridSearchCV(\n",
    "                estimator=svc,\n",
    "                param_grid=parameters,\n",
    "                scoring='accuracy',\n",
    "                verbose=5,\n",
    "                n_jobs=-1,\n",
    "                   )"
   ]
  },
  {
   "cell_type": "code",
   "execution_count": 26,
   "id": "193b29c4-c7a1-46b4-97c9-d811b48e79cf",
   "metadata": {},
   "outputs": [
    {
     "name": "stdout",
     "output_type": "stream",
     "text": [
      "Fitting 5 folds for each of 140 candidates, totalling 700 fits\n"
     ]
    },
    {
     "name": "stderr",
     "output_type": "stream",
     "text": [
      "[Parallel(n_jobs=-1)]: Using backend LokyBackend with 36 concurrent workers.\n",
      "[Parallel(n_jobs=-1)]: Done  90 tasks      | elapsed:   10.3s\n",
      "[Parallel(n_jobs=-1)]: Done 216 tasks      | elapsed:  1.2min\n",
      "[Parallel(n_jobs=-1)]: Done 378 tasks      | elapsed:  4.5min\n",
      "[Parallel(n_jobs=-1)]: Done 576 tasks      | elapsed: 19.3min\n",
      "[Parallel(n_jobs=-1)]: Done 700 out of 700 | elapsed: 60.8min finished\n"
     ]
    },
    {
     "data": {
      "text/plain": [
       "GridSearchCV(cv=None, error_score=nan,\n",
       "             estimator=SVC(C=1.0, break_ties=False, cache_size=200,\n",
       "                           class_weight=None, coef0=0.0,\n",
       "                           decision_function_shape='ovr', degree=3,\n",
       "                           gamma='scale', kernel='rbf', max_iter=-1,\n",
       "                           probability=False, random_state=None, shrinking=True,\n",
       "                           tol=0.001, verbose=False),\n",
       "             iid='deprecated', n_jobs=-1,\n",
       "             param_grid={'C': [0.1, 1, 5, 10, 20, 50, 80],\n",
       "                         'class_weight': ['balanced'],\n",
       "                         'gamma': [1, 0.1, 0.01, 0.001, 0.0001],\n",
       "                         'kernel': ['rbf', 'linear', 'poly', 'sigmoid']},\n",
       "             pre_dispatch='2*n_jobs', refit=True, return_train_score=False,\n",
       "             scoring='accuracy', verbose=5)"
      ]
     },
     "execution_count": 26,
     "metadata": {},
     "output_type": "execute_result"
    }
   ],
   "source": [
    "clf.fit(gaze_agg, y)"
   ]
  },
  {
   "cell_type": "code",
   "execution_count": 27,
   "id": "82393827-fd0e-43ad-b969-1f86344d754b",
   "metadata": {},
   "outputs": [
    {
     "data": {
      "text/plain": [
       "{'C': 0.1, 'class_weight': 'balanced', 'gamma': 1, 'kernel': 'linear'}"
      ]
     },
     "execution_count": 27,
     "metadata": {},
     "output_type": "execute_result"
    }
   ],
   "source": [
    "clf.best_params_"
   ]
  },
  {
   "cell_type": "code",
   "execution_count": 28,
   "id": "b2ef446b-cb00-487d-9026-e5d1f7d3a61d",
   "metadata": {},
   "outputs": [
    {
     "name": "stderr",
     "output_type": "stream",
     "text": [
      "[Parallel(n_jobs=-1)]: Using backend LokyBackend with 36 concurrent workers.\n"
     ]
    },
    {
     "name": "stdout",
     "output_type": "stream",
     "text": [
      "printing accuracy measures\n",
      "avg (train): 0.17054924242424244\n",
      "std (train): 0.006577180058403531\n",
      "avg (validation): 0.060227272727272727\n",
      "std (validation): 0.01367838642823317\n"
     ]
    },
    {
     "name": "stderr",
     "output_type": "stream",
     "text": [
      "[Parallel(n_jobs=-1)]: Done   5 out of   5 | elapsed:    3.7s finished\n"
     ]
    }
   ],
   "source": [
    "svc = SVC(**clf.best_params_)\n",
    "evaluate_scores(gaze_agg, y, svc, scoring_method=\"accuracy\")"
   ]
  }
 ],
 "metadata": {
  "instance_type": "ml.c5.9xlarge",
  "kernelspec": {
   "display_name": "Python 3 (Data Science)",
   "language": "python",
   "name": "python3__SAGEMAKER_INTERNAL__arn:aws:sagemaker:eu-west-1:470317259841:image/datascience-1.0"
  },
  "language_info": {
   "codemirror_mode": {
    "name": "ipython",
    "version": 3
   },
   "file_extension": ".py",
   "mimetype": "text/x-python",
   "name": "python",
   "nbconvert_exporter": "python",
   "pygments_lexer": "ipython3",
   "version": "3.7.10"
  }
 },
 "nbformat": 4,
 "nbformat_minor": 5
}
