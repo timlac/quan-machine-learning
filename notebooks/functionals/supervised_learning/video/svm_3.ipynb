{
 "cells": [
  {
   "cell_type": "code",
   "execution_count": 2,
   "id": "d48dc720-6d44-474a-8d82-3fa65b0a34ad",
   "metadata": {},
   "outputs": [],
   "source": [
    "import os\n",
    "import sys\n",
    "import pickle\n",
    "\n",
    "import numpy as np\n",
    "import matplotlib.pyplot as plt\n",
    "import pandas as pd\n",
    "\n",
    "from sklearn.model_selection import GridSearchCV\n",
    "from sklearn.model_selection import train_test_split\n",
    "from sklearn.svm import SVC\n",
    "from sklearn.model_selection import cross_validate\n",
    "from sklearn.utils import shuffle\n",
    "\n",
    "import boto3"
   ]
  },
  {
   "cell_type": "code",
   "execution_count": 3,
   "id": "cb0065a2-8788-485c-9b24-b1a781d11d61",
   "metadata": {},
   "outputs": [],
   "source": [
    "module_path = os.path.abspath(os.path.join('../../../../'))\n",
    "if module_path not in sys.path:\n",
    "    sys.path.append(module_path)"
   ]
  },
  {
   "cell_type": "markdown",
   "id": "d1ee3622-6ad6-462e-b16a-fabed0adb1d6",
   "metadata": {},
   "source": [
    "using kernel ml.c5.9xlarge"
   ]
  },
  {
   "cell_type": "code",
   "execution_count": 4,
   "id": "7fab7977-66d6-4a8b-b120-ec7a3c78e675",
   "metadata": {},
   "outputs": [],
   "source": [
    "from global_config import ROOT_DIR, emotion_id_to_emotion_abr, conf_cmap\n",
    "from src.analysis.supervised_learning.evaluation.confusion_matrix import ConfusionMatrixCreator\n",
    "\n",
    "from src.preprocessing.dataset_creation.aggregation import get_aggregate_measures"
   ]
  },
  {
   "cell_type": "code",
   "execution_count": 14,
   "id": "9f85798f-ecbe-4873-9019-dbdbfcee05a9",
   "metadata": {},
   "outputs": [],
   "source": [
    "def evaluate_scores(X, y, svc, scoring_method):\n",
    "    \n",
    "    # get scores\n",
    "    scores = cross_validate(X=X, y=y,\n",
    "                            estimator           = svc,\n",
    "                            scoring             = [scoring_method],\n",
    "                            verbose             = 1,\n",
    "                            n_jobs              = -1,\n",
    "                            return_train_score  = True                        \n",
    "                           )\n",
    "    \n",
    "    print('printing {} measures'.format(scoring_method))\n",
    "    print('avg (train):', np.mean(scores['train_{}'.format(scoring_method)]))\n",
    "    print('std (train):', np.std(scores['train_{}'.format(scoring_method)]))\n",
    "    print('avg (validation):', np.mean(scores['test_{}'.format(scoring_method)]))\n",
    "    print('std (validation):', np.std(scores['test_{}'.format(scoring_method)]))"
   ]
  },
  {
   "cell_type": "code",
   "execution_count": 5,
   "id": "4150426e-52de-418e-93d8-1a14d3174db0",
   "metadata": {},
   "outputs": [],
   "source": [
    "from s3fs.core import S3FileSystem\n",
    "s3 = S3FileSystem()\n",
    "from sagemaker import get_execution_role\n",
    "\n",
    "role = get_execution_role()\n",
    "bucket='files-and-examples-01'\n",
    "file = 'datasets/su_dataset/sliced_au_gaze_pose.pickle'\n",
    "\n",
    "path = s3.open('s3://{}/{}'.format(bucket, file))"
   ]
  },
  {
   "cell_type": "code",
   "execution_count": 6,
   "id": "c1ed1177-c3e9-4c78-b3c9-a354e5942e01",
   "metadata": {},
   "outputs": [],
   "source": [
    "file = pickle.load(path)"
   ]
  },
  {
   "cell_type": "code",
   "execution_count": 7,
   "id": "d3a47994-54d4-4692-abd8-d250b10ee179",
   "metadata": {},
   "outputs": [],
   "source": [
    "x = file['x']\n",
    "y = file['y']\n",
    "\n",
    "au = x['au']\n",
    "gaze = x['gaze']\n",
    "pose = x['pose']"
   ]
  },
  {
   "cell_type": "markdown",
   "id": "944e3a2b-8333-4a6f-ad74-920dcee59664",
   "metadata": {},
   "source": [
    "# Only means"
   ]
  },
  {
   "cell_type": "code",
   "execution_count": 8,
   "id": "91790f79-e200-49f0-adab-c8b1f4b3ee26",
   "metadata": {},
   "outputs": [],
   "source": [
    "au_agg = get_aggregate_measures(au,\n",
    "                               means=True,\n",
    "                               variance=False,\n",
    "                               deltas=False,\n",
    "                               peaks=False)"
   ]
  },
  {
   "cell_type": "code",
   "execution_count": 9,
   "id": "87be1946-80a7-46c2-a79a-6476e64d47b5",
   "metadata": {},
   "outputs": [
    {
     "data": {
      "text/plain": [
       "(2640, 85)"
      ]
     },
     "execution_count": 9,
     "metadata": {},
     "output_type": "execute_result"
    }
   ],
   "source": [
    "au_agg.shape"
   ]
  },
  {
   "cell_type": "code",
   "execution_count": 10,
   "id": "6158ef41-730a-4eb4-ae70-97eac3284fa1",
   "metadata": {},
   "outputs": [
    {
     "data": {
      "text/plain": [
       "(2640,)"
      ]
     },
     "execution_count": 10,
     "metadata": {},
     "output_type": "execute_result"
    }
   ],
   "source": [
    "y.shape"
   ]
  },
  {
   "cell_type": "code",
   "execution_count": 20,
   "id": "5fa61db1-f6a0-4c56-863b-d87c6fdfa2c2",
   "metadata": {},
   "outputs": [],
   "source": [
    "c_values = [0.1, 1, 5, 10, 20, 50, 80, 100]\n",
    "gamma = [1, 0.1, 0.01, 0.001, 0.0001]\n",
    "kernel = ['rbf', 'linear', 'poly', 'sigmoid']\n",
    "\n",
    "parameters = {'class_weight': ['balanced'],\n",
    "              'C': c_values,\n",
    "              'gamma': gamma,\n",
    "              'kernel': kernel,\n",
    "              }\n",
    "\n",
    "svc = SVC()\n",
    "clf = GridSearchCV(estimator=svc,\n",
    "                   param_grid=parameters,\n",
    "                   scoring='accuracy',\n",
    "                   verbose=5,\n",
    "                   n_jobs=-1,\n",
    "                   )"
   ]
  },
  {
   "cell_type": "code",
   "execution_count": 21,
   "id": "c41d90fc-a21a-4305-90ac-e50b6ae3f8da",
   "metadata": {},
   "outputs": [
    {
     "name": "stdout",
     "output_type": "stream",
     "text": [
      "Fitting 5 folds for each of 160 candidates, totalling 800 fits\n"
     ]
    },
    {
     "name": "stderr",
     "output_type": "stream",
     "text": [
      "[Parallel(n_jobs=-1)]: Using backend LokyBackend with 36 concurrent workers.\n",
      "[Parallel(n_jobs=-1)]: Done  90 tasks      | elapsed:    4.1s\n",
      "[Parallel(n_jobs=-1)]: Done 216 tasks      | elapsed:    9.4s\n",
      "[Parallel(n_jobs=-1)]: Done 378 tasks      | elapsed:   19.4s\n",
      "[Parallel(n_jobs=-1)]: Done 576 tasks      | elapsed:   38.1s\n",
      "[Parallel(n_jobs=-1)]: Done 800 out of 800 | elapsed:  1.5min finished\n"
     ]
    },
    {
     "data": {
      "text/plain": [
       "GridSearchCV(cv=None, error_score=nan,\n",
       "             estimator=SVC(C=1.0, break_ties=False, cache_size=200,\n",
       "                           class_weight=None, coef0=0.0,\n",
       "                           decision_function_shape='ovr', degree=3,\n",
       "                           gamma='scale', kernel='rbf', max_iter=-1,\n",
       "                           probability=False, random_state=None, shrinking=True,\n",
       "                           tol=0.001, verbose=False),\n",
       "             iid='deprecated', n_jobs=-1,\n",
       "             param_grid={'C': [0.1, 1, 5, 10, 20, 50, 80, 100],\n",
       "                         'class_weight': ['balanced'],\n",
       "                         'gamma': [1, 0.1, 0.01, 0.001, 0.0001],\n",
       "                         'kernel': ['rbf', 'linear', 'poly', 'sigmoid']},\n",
       "             pre_dispatch='2*n_jobs', refit=True, return_train_score=False,\n",
       "             scoring='accuracy', verbose=5)"
      ]
     },
     "execution_count": 21,
     "metadata": {},
     "output_type": "execute_result"
    }
   ],
   "source": [
    "clf.fit(au_agg, y)"
   ]
  },
  {
   "cell_type": "code",
   "execution_count": 22,
   "id": "a75a233c-5e03-465c-a237-808803dc4165",
   "metadata": {},
   "outputs": [
    {
     "data": {
      "text/plain": [
       "{'C': 50, 'class_weight': 'balanced', 'gamma': 0.001, 'kernel': 'rbf'}"
      ]
     },
     "execution_count": 22,
     "metadata": {},
     "output_type": "execute_result"
    }
   ],
   "source": [
    "clf.best_params_"
   ]
  },
  {
   "cell_type": "code",
   "execution_count": 23,
   "id": "25352230-f414-4270-b0a3-89b6ffb69f1f",
   "metadata": {},
   "outputs": [],
   "source": [
    "svc = SVC(**clf.best_params_)"
   ]
  },
  {
   "cell_type": "code",
   "execution_count": 25,
   "id": "6be8b572-82db-43e1-ab75-442b4eca7545",
   "metadata": {},
   "outputs": [
    {
     "name": "stderr",
     "output_type": "stream",
     "text": [
      "[Parallel(n_jobs=-1)]: Using backend LokyBackend with 36 concurrent workers.\n"
     ]
    },
    {
     "name": "stdout",
     "output_type": "stream",
     "text": [
      "printing accuracy measures\n",
      "avg (train): 0.30359848484848484\n",
      "std (train): 0.006205361714168902\n",
      "avg (validation): 0.12727272727272726\n",
      "std (validation): 0.018533530034431915\n"
     ]
    },
    {
     "name": "stderr",
     "output_type": "stream",
     "text": [
      "[Parallel(n_jobs=-1)]: Done   5 out of   5 | elapsed:    1.5s finished\n"
     ]
    }
   ],
   "source": [
    "evaluate_scores(au_agg, y, svc, scoring_method=\"accuracy\")"
   ]
  },
  {
   "cell_type": "markdown",
   "id": "5fb998e6-9feb-4b25-8802-5c08eb73de88",
   "metadata": {},
   "source": [
    "# Adding Variance"
   ]
  },
  {
   "cell_type": "code",
   "execution_count": 26,
   "id": "db52e0f0-1cfe-44e7-b555-6ffae9c6a3f5",
   "metadata": {},
   "outputs": [],
   "source": [
    "au_agg = get_aggregate_measures(au,\n",
    "                               means=True,\n",
    "                               variance=True,\n",
    "                               deltas=False,\n",
    "                               peaks=False)"
   ]
  },
  {
   "cell_type": "code",
   "execution_count": 27,
   "id": "7cef7aa8-bedb-4124-ad13-03921bbcb4d1",
   "metadata": {},
   "outputs": [
    {
     "name": "stdout",
     "output_type": "stream",
     "text": [
      "Fitting 5 folds for each of 160 candidates, totalling 800 fits\n"
     ]
    },
    {
     "name": "stderr",
     "output_type": "stream",
     "text": [
      "[Parallel(n_jobs=-1)]: Using backend LokyBackend with 36 concurrent workers.\n",
      "[Parallel(n_jobs=-1)]: Done  90 tasks      | elapsed:    4.7s\n",
      "[Parallel(n_jobs=-1)]: Done 216 tasks      | elapsed:   11.1s\n",
      "[Parallel(n_jobs=-1)]: Done 378 tasks      | elapsed:   22.0s\n",
      "[Parallel(n_jobs=-1)]: Done 576 tasks      | elapsed:   38.8s\n",
      "[Parallel(n_jobs=-1)]: Done 800 out of 800 | elapsed:  1.1min finished\n"
     ]
    },
    {
     "data": {
      "text/plain": [
       "GridSearchCV(cv=None, error_score=nan,\n",
       "             estimator=SVC(C=1.0, break_ties=False, cache_size=200,\n",
       "                           class_weight=None, coef0=0.0,\n",
       "                           decision_function_shape='ovr', degree=3,\n",
       "                           gamma='scale', kernel='rbf', max_iter=-1,\n",
       "                           probability=False, random_state=None, shrinking=True,\n",
       "                           tol=0.001, verbose=False),\n",
       "             iid='deprecated', n_jobs=-1,\n",
       "             param_grid={'C': [0.1, 1, 5, 10, 20, 50, 80, 100],\n",
       "                         'class_weight': ['balanced'],\n",
       "                         'gamma': [1, 0.1, 0.01, 0.001, 0.0001],\n",
       "                         'kernel': ['rbf', 'linear', 'poly', 'sigmoid']},\n",
       "             pre_dispatch='2*n_jobs', refit=True, return_train_score=False,\n",
       "             scoring='accuracy', verbose=5)"
      ]
     },
     "execution_count": 27,
     "metadata": {},
     "output_type": "execute_result"
    }
   ],
   "source": [
    "clf.fit(au_agg, y)"
   ]
  },
  {
   "cell_type": "code",
   "execution_count": 28,
   "id": "703d8903-5a89-4420-948f-1e572ea672ab",
   "metadata": {},
   "outputs": [
    {
     "data": {
      "text/plain": [
       "{'C': 20, 'class_weight': 'balanced', 'gamma': 0.001, 'kernel': 'rbf'}"
      ]
     },
     "execution_count": 28,
     "metadata": {},
     "output_type": "execute_result"
    }
   ],
   "source": [
    "clf.best_params_"
   ]
  },
  {
   "cell_type": "code",
   "execution_count": 29,
   "id": "fee1604c-c8fa-4d15-98ad-9265ae472952",
   "metadata": {},
   "outputs": [],
   "source": [
    "svc = SVC(**clf.best_params_)"
   ]
  },
  {
   "cell_type": "code",
   "execution_count": 30,
   "id": "05d95b10-f841-4fae-840d-a6643bd093ce",
   "metadata": {},
   "outputs": [
    {
     "name": "stderr",
     "output_type": "stream",
     "text": [
      "[Parallel(n_jobs=-1)]: Using backend LokyBackend with 36 concurrent workers.\n"
     ]
    },
    {
     "name": "stdout",
     "output_type": "stream",
     "text": [
      "printing accuracy measures\n",
      "avg (train): 0.3135416666666667\n",
      "std (train): 0.0062843409178170795\n",
      "avg (validation): 0.12045454545454545\n",
      "std (validation): 0.014050937114387428\n"
     ]
    },
    {
     "name": "stderr",
     "output_type": "stream",
     "text": [
      "[Parallel(n_jobs=-1)]: Done   5 out of   5 | elapsed:    1.8s finished\n"
     ]
    }
   ],
   "source": [
    "evaluate_scores(au_agg, y, svc, scoring_method=\"accuracy\")"
   ]
  },
  {
   "cell_type": "markdown",
   "id": "d8a7e1bb-b83d-470e-8443-36a84350a3b7",
   "metadata": {},
   "source": [
    "# Adding deltas"
   ]
  },
  {
   "cell_type": "code",
   "execution_count": 31,
   "id": "3761b954-d6dc-4b3b-b354-19ce4d9eed1a",
   "metadata": {},
   "outputs": [],
   "source": [
    "au_agg = get_aggregate_measures(au,\n",
    "                               means=True,\n",
    "                               variance=False,\n",
    "                               deltas=True,\n",
    "                               peaks=False)"
   ]
  },
  {
   "cell_type": "code",
   "execution_count": 32,
   "id": "dd64e858-38ea-4494-a91f-f4cc3578b435",
   "metadata": {},
   "outputs": [
    {
     "name": "stdout",
     "output_type": "stream",
     "text": [
      "Fitting 5 folds for each of 160 candidates, totalling 800 fits\n"
     ]
    },
    {
     "name": "stderr",
     "output_type": "stream",
     "text": [
      "[Parallel(n_jobs=-1)]: Using backend LokyBackend with 36 concurrent workers.\n",
      "[Parallel(n_jobs=-1)]: Done  90 tasks      | elapsed:    5.2s\n",
      "[Parallel(n_jobs=-1)]: Done 216 tasks      | elapsed:   12.0s\n",
      "[Parallel(n_jobs=-1)]: Done 378 tasks      | elapsed:   23.4s\n",
      "[Parallel(n_jobs=-1)]: Done 576 tasks      | elapsed:   41.1s\n",
      "[Parallel(n_jobs=-1)]: Done 800 out of 800 | elapsed:  1.2min finished\n"
     ]
    },
    {
     "data": {
      "text/plain": [
       "GridSearchCV(cv=None, error_score=nan,\n",
       "             estimator=SVC(C=1.0, break_ties=False, cache_size=200,\n",
       "                           class_weight=None, coef0=0.0,\n",
       "                           decision_function_shape='ovr', degree=3,\n",
       "                           gamma='scale', kernel='rbf', max_iter=-1,\n",
       "                           probability=False, random_state=None, shrinking=True,\n",
       "                           tol=0.001, verbose=False),\n",
       "             iid='deprecated', n_jobs=-1,\n",
       "             param_grid={'C': [0.1, 1, 5, 10, 20, 50, 80, 100],\n",
       "                         'class_weight': ['balanced'],\n",
       "                         'gamma': [1, 0.1, 0.01, 0.001, 0.0001],\n",
       "                         'kernel': ['rbf', 'linear', 'poly', 'sigmoid']},\n",
       "             pre_dispatch='2*n_jobs', refit=True, return_train_score=False,\n",
       "             scoring='accuracy', verbose=5)"
      ]
     },
     "execution_count": 32,
     "metadata": {},
     "output_type": "execute_result"
    }
   ],
   "source": [
    "clf.fit(au_agg, y)"
   ]
  },
  {
   "cell_type": "code",
   "execution_count": 33,
   "id": "8be6c446-f6d3-434b-b09f-b2b18377983a",
   "metadata": {},
   "outputs": [
    {
     "data": {
      "text/plain": [
       "{'C': 100, 'class_weight': 'balanced', 'gamma': 0.0001, 'kernel': 'rbf'}"
      ]
     },
     "execution_count": 33,
     "metadata": {},
     "output_type": "execute_result"
    }
   ],
   "source": [
    "clf.best_params_"
   ]
  },
  {
   "cell_type": "code",
   "execution_count": 34,
   "id": "9e9c3ccf-a901-4053-b79e-2dff5e30284e",
   "metadata": {},
   "outputs": [],
   "source": [
    "svc = SVC(**clf.best_params_)"
   ]
  },
  {
   "cell_type": "code",
   "execution_count": 35,
   "id": "fe11ac10-29fe-48cf-9cc8-24191651e734",
   "metadata": {},
   "outputs": [
    {
     "name": "stderr",
     "output_type": "stream",
     "text": [
      "[Parallel(n_jobs=-1)]: Using backend LokyBackend with 36 concurrent workers.\n"
     ]
    },
    {
     "name": "stdout",
     "output_type": "stream",
     "text": [
      "printing accuracy measures\n",
      "avg (train): 0.21467803030303031\n",
      "std (train): 0.005436628823639137\n",
      "avg (validation): 0.12727272727272726\n",
      "std (validation): 0.021507681161482408\n"
     ]
    },
    {
     "name": "stderr",
     "output_type": "stream",
     "text": [
      "[Parallel(n_jobs=-1)]: Done   5 out of   5 | elapsed:    2.0s finished\n"
     ]
    }
   ],
   "source": [
    "evaluate_scores(au_agg, y, svc, scoring_method=\"accuracy\")"
   ]
  },
  {
   "cell_type": "markdown",
   "id": "3c51cdb5-910d-4d9e-9b45-019e19d5a9e4",
   "metadata": {},
   "source": [
    "# Adding peaks"
   ]
  },
  {
   "cell_type": "code",
   "execution_count": 36,
   "id": "c3c4dd8f-d26d-4a6b-9a8a-22d13eb84cbe",
   "metadata": {},
   "outputs": [],
   "source": [
    "au_agg = get_aggregate_measures(au,\n",
    "                               means=True,\n",
    "                               variance=False,\n",
    "                               deltas=False,\n",
    "                               peaks=True)"
   ]
  },
  {
   "cell_type": "code",
   "execution_count": 37,
   "id": "b7c64206-2c82-431e-8443-6d2ede5a14f9",
   "metadata": {},
   "outputs": [
    {
     "data": {
      "text/plain": [
       "(2640, 102)"
      ]
     },
     "execution_count": 37,
     "metadata": {},
     "output_type": "execute_result"
    }
   ],
   "source": [
    "au_agg.shape"
   ]
  },
  {
   "cell_type": "code",
   "execution_count": 38,
   "id": "583dae70-0173-4953-a233-fa9e2b7e1231",
   "metadata": {},
   "outputs": [
    {
     "data": {
      "text/plain": [
       "{'C': 100, 'class_weight': 'balanced', 'gamma': 0.0001, 'kernel': 'rbf'}"
      ]
     },
     "execution_count": 38,
     "metadata": {},
     "output_type": "execute_result"
    }
   ],
   "source": [
    "clf.best_params_"
   ]
  },
  {
   "cell_type": "code",
   "execution_count": 39,
   "id": "32b420cb-f085-40af-88db-00b78b87ae4f",
   "metadata": {},
   "outputs": [
    {
     "name": "stderr",
     "output_type": "stream",
     "text": [
      "[Parallel(n_jobs=-1)]: Using backend LokyBackend with 36 concurrent workers.\n"
     ]
    },
    {
     "name": "stdout",
     "output_type": "stream",
     "text": [
      "printing accuracy measures\n",
      "avg (train): 0.4\n",
      "std (train): 0.012187614047875895\n",
      "avg (validation): 0.09848484848484848\n",
      "std (validation): 0.01233243984553008\n"
     ]
    },
    {
     "name": "stderr",
     "output_type": "stream",
     "text": [
      "[Parallel(n_jobs=-1)]: Done   5 out of   5 | elapsed:    2.0s finished\n"
     ]
    }
   ],
   "source": [
    "svc = SVC(**clf.best_params_)\n",
    "evaluate_scores(au_agg, y, svc, scoring_method=\"accuracy\")"
   ]
  },
  {
   "cell_type": "markdown",
   "id": "3542d19b-8062-4274-b87a-6938ba7f03b2",
   "metadata": {},
   "source": [
    "# Running on all aggregates "
   ]
  },
  {
   "cell_type": "code",
   "execution_count": 40,
   "id": "06615bb1-fdfe-4a91-afc8-23b05dfae70a",
   "metadata": {},
   "outputs": [],
   "source": [
    "au_agg = get_aggregate_measures(au)"
   ]
  },
  {
   "cell_type": "code",
   "execution_count": 41,
   "id": "ecd34dc4-5622-48f3-8d53-bf6bfef3a39c",
   "metadata": {},
   "outputs": [
    {
     "data": {
      "text/plain": [
       "(2640, 153)"
      ]
     },
     "execution_count": 41,
     "metadata": {},
     "output_type": "execute_result"
    }
   ],
   "source": [
    "au_agg.shape"
   ]
  },
  {
   "cell_type": "code",
   "execution_count": 42,
   "id": "2398d69e-09f1-496a-abc4-b896a4f8f31b",
   "metadata": {},
   "outputs": [
    {
     "name": "stdout",
     "output_type": "stream",
     "text": [
      "Fitting 5 folds for each of 160 candidates, totalling 800 fits\n"
     ]
    },
    {
     "name": "stderr",
     "output_type": "stream",
     "text": [
      "[Parallel(n_jobs=-1)]: Using backend LokyBackend with 36 concurrent workers.\n",
      "[Parallel(n_jobs=-1)]: Done  90 tasks      | elapsed:    7.8s\n",
      "[Parallel(n_jobs=-1)]: Done 216 tasks      | elapsed:   21.9s\n",
      "[Parallel(n_jobs=-1)]: Done 378 tasks      | elapsed:   44.2s\n",
      "[Parallel(n_jobs=-1)]: Done 576 tasks      | elapsed:  1.3min\n",
      "[Parallel(n_jobs=-1)]: Done 800 out of 800 | elapsed:  1.9min finished\n"
     ]
    },
    {
     "data": {
      "text/plain": [
       "GridSearchCV(cv=None, error_score=nan,\n",
       "             estimator=SVC(C=1.0, break_ties=False, cache_size=200,\n",
       "                           class_weight=None, coef0=0.0,\n",
       "                           decision_function_shape='ovr', degree=3,\n",
       "                           gamma='scale', kernel='rbf', max_iter=-1,\n",
       "                           probability=False, random_state=None, shrinking=True,\n",
       "                           tol=0.001, verbose=False),\n",
       "             iid='deprecated', n_jobs=-1,\n",
       "             param_grid={'C': [0.1, 1, 5, 10, 20, 50, 80, 100],\n",
       "                         'class_weight': ['balanced'],\n",
       "                         'gamma': [1, 0.1, 0.01, 0.001, 0.0001],\n",
       "                         'kernel': ['rbf', 'linear', 'poly', 'sigmoid']},\n",
       "             pre_dispatch='2*n_jobs', refit=True, return_train_score=False,\n",
       "             scoring='accuracy', verbose=5)"
      ]
     },
     "execution_count": 42,
     "metadata": {},
     "output_type": "execute_result"
    }
   ],
   "source": [
    "clf.fit(au_agg, y)"
   ]
  },
  {
   "cell_type": "code",
   "execution_count": 43,
   "id": "a0c5afbc-d0ce-4097-968f-867042bd5ebd",
   "metadata": {},
   "outputs": [
    {
     "data": {
      "text/plain": [
       "{'C': 50, 'class_weight': 'balanced', 'gamma': 0.0001, 'kernel': 'rbf'}"
      ]
     },
     "execution_count": 43,
     "metadata": {},
     "output_type": "execute_result"
    }
   ],
   "source": [
    "clf.best_params_"
   ]
  },
  {
   "cell_type": "code",
   "execution_count": 44,
   "id": "36eaa217-fcbb-445f-a702-c930c3999bcd",
   "metadata": {},
   "outputs": [
    {
     "name": "stderr",
     "output_type": "stream",
     "text": [
      "[Parallel(n_jobs=-1)]: Using backend LokyBackend with 36 concurrent workers.\n"
     ]
    },
    {
     "name": "stdout",
     "output_type": "stream",
     "text": [
      "printing accuracy measures\n",
      "avg (train): 0.35331439393939396\n",
      "std (train): 0.006383446797860897\n",
      "avg (validation): 0.10606060606060605\n",
      "std (validation): 0.013392173886108855\n"
     ]
    },
    {
     "name": "stderr",
     "output_type": "stream",
     "text": [
      "[Parallel(n_jobs=-1)]: Done   5 out of   5 | elapsed:    2.7s finished\n"
     ]
    }
   ],
   "source": [
    "svc = SVC(**clf.best_params_)\n",
    "evaluate_scores(au_agg, y, svc, scoring_method=\"accuracy\")"
   ]
  },
  {
   "cell_type": "markdown",
   "id": "aa96c836-c54f-4290-a75b-64899dfdb7d4",
   "metadata": {},
   "source": [
    "# Removing peaks"
   ]
  },
  {
   "cell_type": "code",
   "execution_count": 45,
   "id": "7dd33828-5c8a-4cc3-9f6a-f49dbdcca981",
   "metadata": {},
   "outputs": [],
   "source": [
    "au_agg = get_aggregate_measures(au,\n",
    "                               means=True,\n",
    "                               variance=True,\n",
    "                               deltas=True,\n",
    "                               peaks=False)"
   ]
  },
  {
   "cell_type": "code",
   "execution_count": 46,
   "id": "129a31e0-7172-47f4-ae55-3153dd046a30",
   "metadata": {},
   "outputs": [
    {
     "data": {
      "text/plain": [
       "(2640, 136)"
      ]
     },
     "execution_count": 46,
     "metadata": {},
     "output_type": "execute_result"
    }
   ],
   "source": [
    "au_agg.shape"
   ]
  },
  {
   "cell_type": "code",
   "execution_count": 47,
   "id": "797f6918-1c7d-41df-891e-f4f466db9986",
   "metadata": {},
   "outputs": [
    {
     "name": "stdout",
     "output_type": "stream",
     "text": [
      "Fitting 5 folds for each of 160 candidates, totalling 800 fits\n"
     ]
    },
    {
     "name": "stderr",
     "output_type": "stream",
     "text": [
      "[Parallel(n_jobs=-1)]: Using backend LokyBackend with 36 concurrent workers.\n",
      "[Parallel(n_jobs=-1)]: Done  90 tasks      | elapsed:    5.9s\n",
      "[Parallel(n_jobs=-1)]: Done 216 tasks      | elapsed:   13.5s\n",
      "[Parallel(n_jobs=-1)]: Done 378 tasks      | elapsed:   25.2s\n",
      "[Parallel(n_jobs=-1)]: Done 576 tasks      | elapsed:   41.7s\n",
      "[Parallel(n_jobs=-1)]: Done 800 out of 800 | elapsed:  1.0min finished\n"
     ]
    },
    {
     "data": {
      "text/plain": [
       "GridSearchCV(cv=None, error_score=nan,\n",
       "             estimator=SVC(C=1.0, break_ties=False, cache_size=200,\n",
       "                           class_weight=None, coef0=0.0,\n",
       "                           decision_function_shape='ovr', degree=3,\n",
       "                           gamma='scale', kernel='rbf', max_iter=-1,\n",
       "                           probability=False, random_state=None, shrinking=True,\n",
       "                           tol=0.001, verbose=False),\n",
       "             iid='deprecated', n_jobs=-1,\n",
       "             param_grid={'C': [0.1, 1, 5, 10, 20, 50, 80, 100],\n",
       "                         'class_weight': ['balanced'],\n",
       "                         'gamma': [1, 0.1, 0.01, 0.001, 0.0001],\n",
       "                         'kernel': ['rbf', 'linear', 'poly', 'sigmoid']},\n",
       "             pre_dispatch='2*n_jobs', refit=True, return_train_score=False,\n",
       "             scoring='accuracy', verbose=5)"
      ]
     },
     "execution_count": 47,
     "metadata": {},
     "output_type": "execute_result"
    }
   ],
   "source": [
    "clf.fit(au_agg, y)"
   ]
  },
  {
   "cell_type": "code",
   "execution_count": 48,
   "id": "35689f9f-ba8c-4158-a646-7521b7ad8623",
   "metadata": {},
   "outputs": [
    {
     "data": {
      "text/plain": [
       "{'C': 20, 'class_weight': 'balanced', 'gamma': 0.001, 'kernel': 'rbf'}"
      ]
     },
     "execution_count": 48,
     "metadata": {},
     "output_type": "execute_result"
    }
   ],
   "source": [
    "clf.best_params_"
   ]
  },
  {
   "cell_type": "code",
   "execution_count": 49,
   "id": "e6b9cea5-f8fd-4e26-b573-e6acf905d436",
   "metadata": {},
   "outputs": [
    {
     "name": "stderr",
     "output_type": "stream",
     "text": [
      "[Parallel(n_jobs=-1)]: Using backend LokyBackend with 36 concurrent workers.\n"
     ]
    },
    {
     "name": "stdout",
     "output_type": "stream",
     "text": [
      "printing accuracy measures\n",
      "avg (train): 0.31609848484848485\n",
      "std (train): 0.007405763180309532\n",
      "avg (validation): 0.11969696969696968\n",
      "std (validation): 0.014344012294516277\n"
     ]
    },
    {
     "name": "stderr",
     "output_type": "stream",
     "text": [
      "[Parallel(n_jobs=-1)]: Done   5 out of   5 | elapsed:    2.3s finished\n"
     ]
    }
   ],
   "source": [
    "svc = SVC(**clf.best_params_)\n",
    "evaluate_scores(au_agg, y, svc, scoring_method=\"accuracy\")"
   ]
  }
 ],
 "metadata": {
  "instance_type": "ml.c5.9xlarge",
  "kernelspec": {
   "display_name": "Python 3 (Data Science)",
   "language": "python",
   "name": "python3__SAGEMAKER_INTERNAL__arn:aws:sagemaker:eu-west-1:470317259841:image/datascience-1.0"
  },
  "language_info": {
   "codemirror_mode": {
    "name": "ipython",
    "version": 3
   },
   "file_extension": ".py",
   "mimetype": "text/x-python",
   "name": "python",
   "nbconvert_exporter": "python",
   "pygments_lexer": "ipython3",
   "version": "3.7.10"
  }
 },
 "nbformat": 4,
 "nbformat_minor": 5
}
