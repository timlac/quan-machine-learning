{
 "cells": [
  {
   "cell_type": "code",
   "execution_count": 14,
   "id": "ac864757-bc22-47c0-a2ce-ab2bf64cc46d",
   "metadata": {},
   "outputs": [],
   "source": [
    "import os\n",
    "from glob import glob\n",
    "from pathlib import Path\n",
    "import sys\n",
    "import os\n",
    "\n",
    "import numpy as np\n",
    "import matplotlib.pyplot as plt\n",
    "import seaborn as sns\n",
    "import pandas as pd\n",
    "import sklearn as sk\n",
    "import pickle\n",
    "import copy\n",
    "from treeinterpreter import treeinterpreter as ti\n",
    "from sklearn.model_selection import LeaveOneGroupOut\n",
    "from sklearn.preprocessing import MinMaxScaler\n",
    "from sklearn.utils import shuffle"
   ]
  },
  {
   "cell_type": "code",
   "execution_count": 15,
   "id": "7eaf2d66-cb79-48ce-a812-5e7b1787285a",
   "metadata": {},
   "outputs": [],
   "source": [
    "module_path = os.path.abspath(os.path.join('../../../'))\n",
    "if module_path not in sys.path:\n",
    "    sys.path.append(module_path)"
   ]
  },
  {
   "cell_type": "code",
   "execution_count": 16,
   "id": "78748cc5-ca80-4a16-8ee4-d2fd51ee628e",
   "metadata": {},
   "outputs": [],
   "source": [
    "from global_config import ROOT_DIR"
   ]
  },
  {
   "cell_type": "code",
   "execution_count": 17,
   "id": "1cec9c35-1431-4791-85a1-ab10969787ee",
   "metadata": {},
   "outputs": [],
   "source": [
    "input_path = os.path.join(ROOT_DIR,'files/tests/preprocessing/dataset_creation/video_data_functionals_A220.npz')\n",
    "output_path = os.path.join(ROOT_DIR,'files/out/functionals/supervised_learning/video')"
   ]
  },
  {
   "cell_type": "code",
   "execution_count": 18,
   "id": "898dc61b-11ac-4c85-96aa-6d7a35abcb5b",
   "metadata": {},
   "outputs": [],
   "source": [
    "npz_file = np.load(input_path, allow_pickle=True)\n",
    "_XX = npz_file['x']\n",
    "yy = npz_file['y']\n",
    "col_names = npz_file['col_names']\n",
    "\n",
    "scaler = MinMaxScaler()\n",
    "XX = scaler.fit_transform(_XX)"
   ]
  },
  {
   "cell_type": "code",
   "execution_count": 19,
   "id": "2b562c40-8c48-47ca-9e80-c90bf0fc7e5e",
   "metadata": {},
   "outputs": [],
   "source": [
    "XX, yy = shuffle(XX, yy)"
   ]
  },
  {
   "cell_type": "code",
   "execution_count": 20,
   "id": "2b83e772-f83c-4bc9-b30f-e17243a83299",
   "metadata": {},
   "outputs": [
    {
     "ename": "NameError",
     "evalue": "name 'train_shuffled_df' is not defined",
     "output_type": "error",
     "traceback": [
      "\u001b[0;31m---------------------------------------------------------------------------\u001b[0m",
      "\u001b[0;31mNameError\u001b[0m                                 Traceback (most recent call last)",
      "\u001b[0;32m/tmp/ipykernel_8306/2053413010.py\u001b[0m in \u001b[0;36m<module>\u001b[0;34m\u001b[0m\n\u001b[1;32m      4\u001b[0m \u001b[0mX\u001b[0m \u001b[0;34m=\u001b[0m \u001b[0mpd\u001b[0m\u001b[0;34m.\u001b[0m\u001b[0mDataFrame\u001b[0m\u001b[0;34m(\u001b[0m\u001b[0mdata\u001b[0m\u001b[0;34m=\u001b[0m\u001b[0mXX\u001b[0m\u001b[0;34m,\u001b[0m \u001b[0mcolumns\u001b[0m\u001b[0;34m=\u001b[0m\u001b[0mcol_names\u001b[0m\u001b[0;34m)\u001b[0m\u001b[0;34m\u001b[0m\u001b[0;34m\u001b[0m\u001b[0m\n\u001b[1;32m      5\u001b[0m \u001b[0my\u001b[0m \u001b[0;34m=\u001b[0m \u001b[0mpd\u001b[0m\u001b[0;34m.\u001b[0m\u001b[0mSeries\u001b[0m\u001b[0;34m(\u001b[0m\u001b[0my\u001b[0m\u001b[0;34m)\u001b[0m\u001b[0;34m\u001b[0m\u001b[0;34m\u001b[0m\u001b[0m\n\u001b[0;32m----> 6\u001b[0;31m \u001b[0mgroups\u001b[0m \u001b[0;34m=\u001b[0m \u001b[0mtrain_shuffled_df\u001b[0m\u001b[0;34m.\u001b[0m\u001b[0mgroup\u001b[0m\u001b[0;34m\u001b[0m\u001b[0;34m\u001b[0m\u001b[0m\n\u001b[0m\u001b[1;32m      7\u001b[0m \u001b[0mn_groups\u001b[0m \u001b[0;34m=\u001b[0m \u001b[0mlen\u001b[0m\u001b[0;34m(\u001b[0m\u001b[0mgroups\u001b[0m\u001b[0;34m.\u001b[0m\u001b[0munique\u001b[0m\u001b[0;34m(\u001b[0m\u001b[0;34m)\u001b[0m\u001b[0;34m)\u001b[0m\u001b[0;34m\u001b[0m\u001b[0;34m\u001b[0m\u001b[0m\n\u001b[1;32m      8\u001b[0m \u001b[0;34m\u001b[0m\u001b[0m\n",
      "\u001b[0;31mNameError\u001b[0m: name 'train_shuffled_df' is not defined"
     ]
    }
   ],
   "source": [
    "from sklearn.ensemble import RandomForestClassifier\n",
    "\n",
    "# Obtain X, y, and groups from the training dataset\n",
    "X = pd.DataFrame(data=XX, columns=col_names)\n",
    "y = pd.Series(y)\n",
    "\n",
    "\n",
    "# TODO write code to create groups in src\n",
    "groups = train_shuffled_df.group\n",
    "n_groups = len(groups.unique())\n",
    "\n",
    "# Load best parameters and initialize classifier\n",
    "file_path = os.path.join(output_path,'best_params','best_params_rf_intensity_video.sav')\n",
    "best_params = pickle.load(open(file_path, 'rb'))\n",
    "clf = RandomForestClassifier(**best_params)\n",
    "\n",
    "# Perform LOGO CV (5 GROUPS)\n",
    "data_tmp = [] # Initialize to store data\n",
    "logo = LeaveOneGroupOut()\n",
    "for train_idx, val_idx in logo.split(X, y, groups):\n",
    "    X_train, X_val, y_train, y_val = X.iloc[train_idx], X.iloc[val_idx], y.iloc[train_idx], y.iloc[val_idx]\n",
    "    \n",
    "    # Fit models\n",
    "    clf.fit(X_train, y_train)\n",
    "    \n",
    "    # Step 0. Get prediction probabilities, bias, contributions, predicted class and store it in a DataFrame\n",
    "    prediction_proba, bias, contributions = ti.predict(clf, X_val)\n",
    "    prediction = clf.predict(X_val)\n",
    "    for i in range(len(X_val)):\n",
    "        pred_class_tmp = prediction[i]\n",
    "        bias_tmp = bias[i, pred_class_tmp]\n",
    "        contributions_tmp = contributions[i, :, pred_class_tmp]\n",
    "        data_tmp.append([bias_tmp] + contributions_tmp.tolist() + [pred_class_tmp])\n",
    "\n",
    "interpretation_step_0_df = pd.DataFrame(data=data_tmp, columns=['bias']+X.columns.tolist()+['prediction'])\n",
    "interpretation_step_0_df"
   ]
  }
 ],
 "metadata": {
  "kernelspec": {
   "display_name": "Python 3 (ipykernel)",
   "language": "python",
   "name": "python3"
  },
  "language_info": {
   "codemirror_mode": {
    "name": "ipython",
    "version": 3
   },
   "file_extension": ".py",
   "mimetype": "text/x-python",
   "name": "python",
   "nbconvert_exporter": "python",
   "pygments_lexer": "ipython3",
   "version": "3.7.13"
  }
 },
 "nbformat": 4,
 "nbformat_minor": 5
}
