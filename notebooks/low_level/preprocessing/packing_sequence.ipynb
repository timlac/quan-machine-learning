{
 "cells": [
  {
   "cell_type": "code",
   "execution_count": 6,
   "id": "2a38ae71-db75-4314-aaa1-921097f090b3",
   "metadata": {},
   "outputs": [],
   "source": [
    "from torch.nn.utils.rnn import pad_sequence, pack_sequence\n",
    "import torch\n",
    "import numpy as np"
   ]
  },
  {
   "cell_type": "code",
   "execution_count": 9,
   "id": "7cf8435b-02b5-4377-8e10-e0a7f65d5ba2",
   "metadata": {},
   "outputs": [],
   "source": [
    "x = np.array([[12, 3, 3, 5], [1,2,4,5]])"
   ]
  },
  {
   "cell_type": "code",
   "execution_count": 20,
   "id": "559e9f96-0fb7-4d01-8856-688f20e6ad34",
   "metadata": {},
   "outputs": [],
   "source": [
    "lst_of_seq = [torch.tensor([1,2,3]), torch.tensor([1,2]), torch.tensor([1,2,3,5])]"
   ]
  },
  {
   "cell_type": "code",
   "execution_count": 22,
   "id": "05302363-3dc0-4ad5-8985-9c381d371e7f",
   "metadata": {},
   "outputs": [
    {
     "data": {
      "text/plain": [
       "[tensor([1, 2, 3]), tensor([1, 2]), tensor([1, 2, 3, 5])]"
      ]
     },
     "execution_count": 22,
     "metadata": {},
     "output_type": "execute_result"
    }
   ],
   "source": [
    "lst_of_seq"
   ]
  },
  {
   "cell_type": "code",
   "execution_count": 28,
   "id": "edabef86-441f-4815-a9f3-39afc4e33ee5",
   "metadata": {},
   "outputs": [],
   "source": [
    "x = pack_sequence(lst_of_seq, enforce_sorted=False)"
   ]
  },
  {
   "cell_type": "code",
   "execution_count": 29,
   "id": "dd49947f-c0ea-47fe-b557-a6a9d466a282",
   "metadata": {},
   "outputs": [
    {
     "data": {
      "text/plain": [
       "tensor([1, 1, 1, 2, 2, 2, 3, 3, 5])"
      ]
     },
     "execution_count": 29,
     "metadata": {},
     "output_type": "execute_result"
    }
   ],
   "source": [
    "x.data."
   ]
  }
 ],
 "metadata": {
  "kernelspec": {
   "display_name": "Python 3 (ipykernel)",
   "language": "python",
   "name": "python3"
  },
  "language_info": {
   "codemirror_mode": {
    "name": "ipython",
    "version": 3
   },
   "file_extension": ".py",
   "mimetype": "text/x-python",
   "name": "python",
   "nbconvert_exporter": "python",
   "pygments_lexer": "ipython3",
   "version": "3.8.13"
  }
 },
 "nbformat": 4,
 "nbformat_minor": 5
}
