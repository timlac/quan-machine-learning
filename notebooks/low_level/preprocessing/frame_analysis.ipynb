{
 "cells": [
  {
   "cell_type": "code",
   "execution_count": 34,
   "id": "1c30d821-efca-484e-ad79-85e44865da5d",
   "metadata": {},
   "outputs": [],
   "source": [
    "import os\n",
    "import sys\n",
    "import pandas as pd\n",
    "import numpy as np\n",
    "import matplotlib.pyplot as plt\n",
    "import seaborn as sns\n",
    "import pandas as pd\n",
    "from torch.nn.utils.rnn import pad_sequence, pack_sequence\n",
    "import torch"
   ]
  },
  {
   "cell_type": "code",
   "execution_count": 2,
   "id": "08ddd782-790c-4bad-a7b0-409a84483c19",
   "metadata": {},
   "outputs": [],
   "source": [
    "module_path = os.path.abspath(os.path.join('../../../'))\n",
    "if module_path not in sys.path:\n",
    "    sys.path.append(module_path)"
   ]
  },
  {
   "cell_type": "code",
   "execution_count": 3,
   "id": "ea82a7e2-c435-4fec-a9b2-4114c2b1cf5a",
   "metadata": {},
   "outputs": [],
   "source": [
    "from src.preprocessing.sql_handling.execute_sql import execute_sql_pandas\n",
    "from global_config import *"
   ]
  },
  {
   "cell_type": "code",
   "execution_count": 4,
   "id": "7558f0e4-29b7-4dac-a003-a849ef6083e0",
   "metadata": {},
   "outputs": [
    {
     "name": "stdout",
     "output_type": "stream",
     "text": [
      "executing query: \n",
      "SELECT filename,\n",
      "video_id,\n",
      "emotion_1,\n",
      "emotion_1_id,\n",
      "frame,\n",
      "success,\n",
      "confidence,\n",
      "AU01_r,\n",
      "AU02_r,\n",
      "AU04_r,\n",
      "AU05_r,\n",
      "AU06_r,\n",
      "AU07_r,\n",
      "AU09_r,\n",
      "AU10_r,\n",
      "AU12_r,\n",
      "AU14_r,\n",
      "AU15_r,\n",
      "AU17_r,\n",
      "AU20_r,\n",
      "AU23_r,\n",
      "AU25_r,\n",
      "AU26_r,\n",
      "AU45_r\n",
      "FROM openface\n",
      "WHERE mix = 0\n",
      "AND video_id = 'A220';\n",
      "\n",
      "done\n",
      "Read duration: 42.248\n"
     ]
    }
   ],
   "source": [
    "query = \"\"\"SELECT filename,\n",
    "video_id,\n",
    "emotion_1,\n",
    "emotion_1_id,\n",
    "frame,\n",
    "success,\n",
    "confidence,\n",
    "AU01_r,\n",
    "AU02_r,\n",
    "AU04_r,\n",
    "AU05_r,\n",
    "AU06_r,\n",
    "AU07_r,\n",
    "AU09_r,\n",
    "AU10_r,\n",
    "AU12_r,\n",
    "AU14_r,\n",
    "AU15_r,\n",
    "AU17_r,\n",
    "AU20_r,\n",
    "AU23_r,\n",
    "AU25_r,\n",
    "AU26_r,\n",
    "AU45_r\n",
    "FROM openface\n",
    "WHERE mix = 0\n",
    "AND video_id = 'A220';\n",
    "\"\"\"\n",
    "df, read_duration = execute_sql_pandas(query)"
   ]
  },
  {
   "cell_type": "code",
   "execution_count": 5,
   "id": "a38d7409-6125-49b3-ae13-109a764e7956",
   "metadata": {},
   "outputs": [
    {
     "data": {
      "text/html": [
       "<div>\n",
       "<style scoped>\n",
       "    .dataframe tbody tr th:only-of-type {\n",
       "        vertical-align: middle;\n",
       "    }\n",
       "\n",
       "    .dataframe tbody tr th {\n",
       "        vertical-align: top;\n",
       "    }\n",
       "\n",
       "    .dataframe thead th {\n",
       "        text-align: right;\n",
       "    }\n",
       "</style>\n",
       "<table border=\"1\" class=\"dataframe\">\n",
       "  <thead>\n",
       "    <tr style=\"text-align: right;\">\n",
       "      <th></th>\n",
       "      <th>filename</th>\n",
       "      <th>video_id</th>\n",
       "      <th>emotion_1</th>\n",
       "      <th>emotion_1_id</th>\n",
       "      <th>frame</th>\n",
       "      <th>success</th>\n",
       "      <th>confidence</th>\n",
       "      <th>AU01_r</th>\n",
       "      <th>AU02_r</th>\n",
       "      <th>AU04_r</th>\n",
       "      <th>...</th>\n",
       "      <th>AU10_r</th>\n",
       "      <th>AU12_r</th>\n",
       "      <th>AU14_r</th>\n",
       "      <th>AU15_r</th>\n",
       "      <th>AU17_r</th>\n",
       "      <th>AU20_r</th>\n",
       "      <th>AU23_r</th>\n",
       "      <th>AU25_r</th>\n",
       "      <th>AU26_r</th>\n",
       "      <th>AU45_r</th>\n",
       "    </tr>\n",
       "  </thead>\n",
       "  <tbody>\n",
       "    <tr>\n",
       "      <th>0</th>\n",
       "      <td>A220_reg_p_2</td>\n",
       "      <td>A220</td>\n",
       "      <td>reg</td>\n",
       "      <td>0</td>\n",
       "      <td>1</td>\n",
       "      <td>1</td>\n",
       "      <td>1</td>\n",
       "      <td>0.00</td>\n",
       "      <td>0.0</td>\n",
       "      <td>2.10</td>\n",
       "      <td>...</td>\n",
       "      <td>1.22</td>\n",
       "      <td>0.00</td>\n",
       "      <td>1.64</td>\n",
       "      <td>0.00</td>\n",
       "      <td>0.52</td>\n",
       "      <td>0.0</td>\n",
       "      <td>0.74</td>\n",
       "      <td>0.40</td>\n",
       "      <td>0.42</td>\n",
       "      <td>0.00</td>\n",
       "    </tr>\n",
       "    <tr>\n",
       "      <th>1</th>\n",
       "      <td>A220_reg_p_2</td>\n",
       "      <td>A220</td>\n",
       "      <td>reg</td>\n",
       "      <td>0</td>\n",
       "      <td>2</td>\n",
       "      <td>1</td>\n",
       "      <td>1</td>\n",
       "      <td>0.00</td>\n",
       "      <td>0.0</td>\n",
       "      <td>2.11</td>\n",
       "      <td>...</td>\n",
       "      <td>1.01</td>\n",
       "      <td>0.00</td>\n",
       "      <td>1.72</td>\n",
       "      <td>0.15</td>\n",
       "      <td>0.29</td>\n",
       "      <td>0.0</td>\n",
       "      <td>0.64</td>\n",
       "      <td>0.41</td>\n",
       "      <td>0.37</td>\n",
       "      <td>0.10</td>\n",
       "    </tr>\n",
       "    <tr>\n",
       "      <th>2</th>\n",
       "      <td>A220_reg_p_2</td>\n",
       "      <td>A220</td>\n",
       "      <td>reg</td>\n",
       "      <td>0</td>\n",
       "      <td>3</td>\n",
       "      <td>1</td>\n",
       "      <td>1</td>\n",
       "      <td>0.00</td>\n",
       "      <td>0.0</td>\n",
       "      <td>2.06</td>\n",
       "      <td>...</td>\n",
       "      <td>0.88</td>\n",
       "      <td>0.00</td>\n",
       "      <td>1.74</td>\n",
       "      <td>0.15</td>\n",
       "      <td>0.20</td>\n",
       "      <td>0.0</td>\n",
       "      <td>0.59</td>\n",
       "      <td>0.46</td>\n",
       "      <td>0.27</td>\n",
       "      <td>0.10</td>\n",
       "    </tr>\n",
       "    <tr>\n",
       "      <th>3</th>\n",
       "      <td>A220_reg_p_2</td>\n",
       "      <td>A220</td>\n",
       "      <td>reg</td>\n",
       "      <td>0</td>\n",
       "      <td>4</td>\n",
       "      <td>1</td>\n",
       "      <td>1</td>\n",
       "      <td>0.00</td>\n",
       "      <td>0.0</td>\n",
       "      <td>2.06</td>\n",
       "      <td>...</td>\n",
       "      <td>0.90</td>\n",
       "      <td>0.00</td>\n",
       "      <td>1.70</td>\n",
       "      <td>0.12</td>\n",
       "      <td>0.27</td>\n",
       "      <td>0.0</td>\n",
       "      <td>0.61</td>\n",
       "      <td>0.42</td>\n",
       "      <td>0.22</td>\n",
       "      <td>0.09</td>\n",
       "    </tr>\n",
       "    <tr>\n",
       "      <th>4</th>\n",
       "      <td>A220_reg_p_2</td>\n",
       "      <td>A220</td>\n",
       "      <td>reg</td>\n",
       "      <td>0</td>\n",
       "      <td>5</td>\n",
       "      <td>1</td>\n",
       "      <td>1</td>\n",
       "      <td>0.00</td>\n",
       "      <td>0.0</td>\n",
       "      <td>2.03</td>\n",
       "      <td>...</td>\n",
       "      <td>0.87</td>\n",
       "      <td>0.00</td>\n",
       "      <td>1.72</td>\n",
       "      <td>0.10</td>\n",
       "      <td>0.27</td>\n",
       "      <td>0.0</td>\n",
       "      <td>0.59</td>\n",
       "      <td>0.48</td>\n",
       "      <td>0.35</td>\n",
       "      <td>0.05</td>\n",
       "    </tr>\n",
       "    <tr>\n",
       "      <th>...</th>\n",
       "      <td>...</td>\n",
       "      <td>...</td>\n",
       "      <td>...</td>\n",
       "      <td>...</td>\n",
       "      <td>...</td>\n",
       "      <td>...</td>\n",
       "      <td>...</td>\n",
       "      <td>...</td>\n",
       "      <td>...</td>\n",
       "      <td>...</td>\n",
       "      <td>...</td>\n",
       "      <td>...</td>\n",
       "      <td>...</td>\n",
       "      <td>...</td>\n",
       "      <td>...</td>\n",
       "      <td>...</td>\n",
       "      <td>...</td>\n",
       "      <td>...</td>\n",
       "      <td>...</td>\n",
       "      <td>...</td>\n",
       "      <td>...</td>\n",
       "    </tr>\n",
       "    <tr>\n",
       "      <th>98333</th>\n",
       "      <td>A220_anx_v_3</td>\n",
       "      <td>A220</td>\n",
       "      <td>anx</td>\n",
       "      <td>34</td>\n",
       "      <td>306</td>\n",
       "      <td>1</td>\n",
       "      <td>1</td>\n",
       "      <td>0.01</td>\n",
       "      <td>0.0</td>\n",
       "      <td>0.62</td>\n",
       "      <td>...</td>\n",
       "      <td>1.37</td>\n",
       "      <td>0.61</td>\n",
       "      <td>2.10</td>\n",
       "      <td>0.00</td>\n",
       "      <td>0.78</td>\n",
       "      <td>0.0</td>\n",
       "      <td>0.95</td>\n",
       "      <td>0.03</td>\n",
       "      <td>0.00</td>\n",
       "      <td>0.00</td>\n",
       "    </tr>\n",
       "    <tr>\n",
       "      <th>98334</th>\n",
       "      <td>A220_anx_v_3</td>\n",
       "      <td>A220</td>\n",
       "      <td>anx</td>\n",
       "      <td>34</td>\n",
       "      <td>307</td>\n",
       "      <td>1</td>\n",
       "      <td>1</td>\n",
       "      <td>0.03</td>\n",
       "      <td>0.0</td>\n",
       "      <td>0.63</td>\n",
       "      <td>...</td>\n",
       "      <td>1.42</td>\n",
       "      <td>0.63</td>\n",
       "      <td>2.08</td>\n",
       "      <td>0.00</td>\n",
       "      <td>0.81</td>\n",
       "      <td>0.0</td>\n",
       "      <td>0.90</td>\n",
       "      <td>0.03</td>\n",
       "      <td>0.00</td>\n",
       "      <td>0.00</td>\n",
       "    </tr>\n",
       "    <tr>\n",
       "      <th>98335</th>\n",
       "      <td>A220_anx_v_3</td>\n",
       "      <td>A220</td>\n",
       "      <td>anx</td>\n",
       "      <td>34</td>\n",
       "      <td>308</td>\n",
       "      <td>1</td>\n",
       "      <td>1</td>\n",
       "      <td>0.03</td>\n",
       "      <td>0.0</td>\n",
       "      <td>0.55</td>\n",
       "      <td>...</td>\n",
       "      <td>1.46</td>\n",
       "      <td>0.64</td>\n",
       "      <td>2.03</td>\n",
       "      <td>0.00</td>\n",
       "      <td>0.83</td>\n",
       "      <td>0.0</td>\n",
       "      <td>0.80</td>\n",
       "      <td>0.02</td>\n",
       "      <td>0.00</td>\n",
       "      <td>0.00</td>\n",
       "    </tr>\n",
       "    <tr>\n",
       "      <th>98336</th>\n",
       "      <td>A220_anx_v_3</td>\n",
       "      <td>A220</td>\n",
       "      <td>anx</td>\n",
       "      <td>34</td>\n",
       "      <td>309</td>\n",
       "      <td>1</td>\n",
       "      <td>1</td>\n",
       "      <td>0.05</td>\n",
       "      <td>0.0</td>\n",
       "      <td>0.50</td>\n",
       "      <td>...</td>\n",
       "      <td>1.43</td>\n",
       "      <td>0.61</td>\n",
       "      <td>2.02</td>\n",
       "      <td>0.00</td>\n",
       "      <td>0.80</td>\n",
       "      <td>0.0</td>\n",
       "      <td>0.71</td>\n",
       "      <td>0.02</td>\n",
       "      <td>0.00</td>\n",
       "      <td>0.00</td>\n",
       "    </tr>\n",
       "    <tr>\n",
       "      <th>98337</th>\n",
       "      <td>A220_anx_v_3</td>\n",
       "      <td>A220</td>\n",
       "      <td>anx</td>\n",
       "      <td>34</td>\n",
       "      <td>310</td>\n",
       "      <td>1</td>\n",
       "      <td>1</td>\n",
       "      <td>0.07</td>\n",
       "      <td>0.0</td>\n",
       "      <td>0.48</td>\n",
       "      <td>...</td>\n",
       "      <td>1.40</td>\n",
       "      <td>0.56</td>\n",
       "      <td>1.94</td>\n",
       "      <td>0.00</td>\n",
       "      <td>0.78</td>\n",
       "      <td>0.0</td>\n",
       "      <td>0.58</td>\n",
       "      <td>0.07</td>\n",
       "      <td>0.00</td>\n",
       "      <td>0.00</td>\n",
       "    </tr>\n",
       "  </tbody>\n",
       "</table>\n",
       "<p>98338 rows × 24 columns</p>\n",
       "</div>"
      ],
      "text/plain": [
       "           filename video_id emotion_1  emotion_1_id  frame  success  \\\n",
       "0      A220_reg_p_2     A220       reg             0      1        1   \n",
       "1      A220_reg_p_2     A220       reg             0      2        1   \n",
       "2      A220_reg_p_2     A220       reg             0      3        1   \n",
       "3      A220_reg_p_2     A220       reg             0      4        1   \n",
       "4      A220_reg_p_2     A220       reg             0      5        1   \n",
       "...             ...      ...       ...           ...    ...      ...   \n",
       "98333  A220_anx_v_3     A220       anx            34    306        1   \n",
       "98334  A220_anx_v_3     A220       anx            34    307        1   \n",
       "98335  A220_anx_v_3     A220       anx            34    308        1   \n",
       "98336  A220_anx_v_3     A220       anx            34    309        1   \n",
       "98337  A220_anx_v_3     A220       anx            34    310        1   \n",
       "\n",
       "       confidence  AU01_r  AU02_r  AU04_r  ...  AU10_r  AU12_r  AU14_r  \\\n",
       "0               1    0.00     0.0    2.10  ...    1.22    0.00    1.64   \n",
       "1               1    0.00     0.0    2.11  ...    1.01    0.00    1.72   \n",
       "2               1    0.00     0.0    2.06  ...    0.88    0.00    1.74   \n",
       "3               1    0.00     0.0    2.06  ...    0.90    0.00    1.70   \n",
       "4               1    0.00     0.0    2.03  ...    0.87    0.00    1.72   \n",
       "...           ...     ...     ...     ...  ...     ...     ...     ...   \n",
       "98333           1    0.01     0.0    0.62  ...    1.37    0.61    2.10   \n",
       "98334           1    0.03     0.0    0.63  ...    1.42    0.63    2.08   \n",
       "98335           1    0.03     0.0    0.55  ...    1.46    0.64    2.03   \n",
       "98336           1    0.05     0.0    0.50  ...    1.43    0.61    2.02   \n",
       "98337           1    0.07     0.0    0.48  ...    1.40    0.56    1.94   \n",
       "\n",
       "       AU15_r  AU17_r  AU20_r  AU23_r  AU25_r  AU26_r  AU45_r  \n",
       "0        0.00    0.52     0.0    0.74    0.40    0.42    0.00  \n",
       "1        0.15    0.29     0.0    0.64    0.41    0.37    0.10  \n",
       "2        0.15    0.20     0.0    0.59    0.46    0.27    0.10  \n",
       "3        0.12    0.27     0.0    0.61    0.42    0.22    0.09  \n",
       "4        0.10    0.27     0.0    0.59    0.48    0.35    0.05  \n",
       "...       ...     ...     ...     ...     ...     ...     ...  \n",
       "98333    0.00    0.78     0.0    0.95    0.03    0.00    0.00  \n",
       "98334    0.00    0.81     0.0    0.90    0.03    0.00    0.00  \n",
       "98335    0.00    0.83     0.0    0.80    0.02    0.00    0.00  \n",
       "98336    0.00    0.80     0.0    0.71    0.02    0.00    0.00  \n",
       "98337    0.00    0.78     0.0    0.58    0.07    0.00    0.00  \n",
       "\n",
       "[98338 rows x 24 columns]"
      ]
     },
     "execution_count": 5,
     "metadata": {},
     "output_type": "execute_result"
    }
   ],
   "source": [
    "df"
   ]
  },
  {
   "cell_type": "markdown",
   "id": "65a709a4-0080-4cd5-9963-f274232212ce",
   "metadata": {},
   "source": [
    "## Number of instances per emotion"
   ]
  },
  {
   "cell_type": "code",
   "execution_count": 6,
   "id": "c7905c7c-392b-4566-ba91-99937f25ada3",
   "metadata": {},
   "outputs": [
    {
     "name": "stdout",
     "output_type": "stream",
     "text": [
      "Number of Instances per Emotion (before data cleaning)\n",
      "ang        4116\n",
      "sad        3643\n",
      "disa       3352\n",
      "neu        3287\n",
      "hap        2877\n",
      "rel        2625\n",
      "fea        2621\n",
      "awe        2559\n",
      "sha        2552\n",
      "conc       2524\n",
      "reg        2501\n",
      "gra        2383\n",
      "env        2353\n",
      "pri        2348\n",
      "sat        2346\n",
      "disg       2339\n",
      "ple        2310\n",
      "amu        2292\n",
      "adm        2245\n",
      "emb        2243\n",
      "gui        2238\n",
      "anx        2202\n",
      "ele        2199\n",
      "rej        2184\n",
      "sex        2168\n",
      "pea        2078\n",
      "ins        2068\n",
      "exc        2052\n",
      "dou        2041\n",
      "hop        2012\n",
      "bor        1994\n",
      "dist       1948\n",
      "cont       1946\n",
      "int        1834\n",
      "mov        1782\n",
      "conf       1666\n",
      "nos        1665\n",
      "neg_sur    1649\n",
      "pos_sur    1611\n",
      "sar        1598\n",
      "scha       1594\n",
      "tri        1554\n",
      "ten        1421\n",
      "det        1318\n",
      "Name: emotion_1, dtype: int64\n"
     ]
    },
    {
     "data": {
      "image/png": "[encoded data removed]",
      "text/plain": [
       "<Figure size 1800x360 with 1 Axes>"
      ]
     },
     "metadata": {
      "needs_background": "light"
     },
     "output_type": "display_data"
    },
    {
     "name": "stdout",
     "output_type": "stream",
     "text": [
      "\n"
     ]
    }
   ],
   "source": [
    "print(\"Number of Instances per Emotion (before data cleaning)\")\n",
    "emotion_val_counts_original = df[\"emotion_1\"].value_counts()\n",
    "print(emotion_val_counts_original)\n",
    "plt.figure(figsize=(25,5))\n",
    "sns.barplot(emotion_val_counts_original.index, emotion_val_counts_original.values, saturation=sns_saturation, color=blue_rgb)\n",
    "plt.title(\"Number of instances per emotion before data cleaning\")\n",
    "plt.xlabel('Emotion ID')\n",
    "plt.ylabel('Number of Instances')\n",
    "#plt.xticks(rotation=45)\n",
    "plt.show()\n",
    "print()"
   ]
  },
  {
   "cell_type": "markdown",
   "id": "067277ba-d045-4cfb-b84d-b01daae8c39c",
   "metadata": {},
   "source": [
    "## Frame counts"
   ]
  },
  {
   "cell_type": "code",
   "execution_count": 7,
   "id": "08abd881-a102-43e9-a7a0-dbe0f64bdba6",
   "metadata": {},
   "outputs": [
    {
     "name": "stdout",
     "output_type": "stream",
     "text": [
      "Number of frames for every filename\n"
     ]
    },
    {
     "data": {
      "image/png": "[encoded data removed]",
      "text/plain": [
       "<Figure size 1080x360 with 1 Axes>"
      ]
     },
     "metadata": {
      "needs_background": "light"
     },
     "output_type": "display_data"
    }
   ],
   "source": [
    "print(\"Number of frames for every filename\")\n",
    "frame_counts = df[['frame','filename']].groupby([\"filename\"]).frame.nunique().reset_index()\n",
    "frame_counts.plot(figsize=(15,5))\n",
    "plt.title(\"Frame counts\")\n",
    "plt.xlabel('videos')\n",
    "plt.ylabel('frames')\n",
    "plt.show()"
   ]
  },
  {
   "cell_type": "markdown",
   "id": "93866781-c177-4f2b-94d6-4efb537b5945",
   "metadata": {},
   "source": [
    "## Frame counts density plot"
   ]
  },
  {
   "cell_type": "code",
   "execution_count": 8,
   "id": "9d903c43-4050-43fc-8413-34621c9e360e",
   "metadata": {},
   "outputs": [
    {
     "name": "stdout",
     "output_type": "stream",
     "text": [
      "Number of frames for every filename\n"
     ]
    },
    {
     "data": {
      "image/png": "[encoded data removed]",
      "text/plain": [
       "<Figure size 1080x360 with 1 Axes>"
      ]
     },
     "metadata": {
      "needs_background": "light"
     },
     "output_type": "display_data"
    }
   ],
   "source": [
    "print(\"Number of frames for every filename\")\n",
    "frame_counts = df[['frame','filename']].groupby([\"filename\"]).frame.nunique().reset_index()\n",
    "frame_counts.plot.density(figsize=(15,5))\n",
    "plt.title(\"Frame counts\")\n",
    "plt.xlabel('frames')\n",
    "plt.ylabel('density')\n",
    "plt.show()"
   ]
  },
  {
   "cell_type": "markdown",
   "id": "4ae578fe-ab59-468d-a3eb-62d9ebbef849",
   "metadata": {},
   "source": [
    "## Time series transformation"
   ]
  },
  {
   "cell_type": "code",
   "execution_count": 9,
   "id": "d94e521f-07d6-42b5-879c-db4a2eab7d7a",
   "metadata": {},
   "outputs": [],
   "source": [
    "def time_series_to_list(df, identifier, x_cols, y_col):\n",
    "    \"\"\"\n",
    "    :param df: pd.Dataframe\n",
    "    :param identifier: which column to split time series by\n",
    "    :param x_cols: column names for input features\n",
    "    :param y_col: column name for labels\n",
    "    :return: list with length = number of time series and every element of shape (number of frames, number of features)\n",
    "    \"\"\"\n",
    "    x = []\n",
    "    y = []\n",
    "    for _, group in df.groupby(identifier):\n",
    "        x_arr = np.array(group[x_cols].values)\n",
    "        x.append(x_arr)\n",
    "\n",
    "        y_val = group[[y_col]].values[0][0]\n",
    "        y.append(y_val)\n",
    "    return x, y\n"
   ]
  },
  {
   "cell_type": "code",
   "execution_count": 10,
   "id": "bacebeb8-f367-4bc5-b36b-8ba579e63765",
   "metadata": {},
   "outputs": [],
   "source": [
    "def pad_list_of_series(ts_list):\n",
    "    \"\"\"\n",
    "    :param ts_list: a list of time series where every element has shape (number of frames, number of features)\n",
    "    :return: np.array where every element in the series has been padded with zeros and then transformed into a matrix\n",
    "                with shape (number of time series, number of frames, number of features)\n",
    "    \"\"\"\n",
    "    # obtain the longest element in the list\n",
    "    length = max(map(len, ts_list))\n",
    "\n",
    "    padded_list = []\n",
    "    for series in ts_list:\n",
    "        # create an empty np array of appropriate size\n",
    "        pad = np.zeros((length-len(series), series.shape[1]))\n",
    "\n",
    "        # concat with series and transpose in order to\n",
    "        series = np.concatenate((series, pad))\n",
    "\n",
    "        padded_list.append(series)\n",
    "\n",
    "    return np.asarray(padded_list)"
   ]
  },
  {
   "cell_type": "code",
   "execution_count": 11,
   "id": "de015af3-15ca-42cb-97c3-b03061b922c9",
   "metadata": {},
   "outputs": [],
   "source": [
    "X, y = time_series_to_list(df, \"filename\", AU_INTENSITY_COLS, TARGET_COLUMN)"
   ]
  },
  {
   "cell_type": "code",
   "execution_count": 15,
   "id": "f396af62-4a22-40e9-a9d9-248d9e25a9a5",
   "metadata": {},
   "outputs": [
    {
     "data": {
      "text/plain": [
       "352"
      ]
     },
     "execution_count": 15,
     "metadata": {},
     "output_type": "execute_result"
    }
   ],
   "source": [
    "len(X)"
   ]
  },
  {
   "cell_type": "code",
   "execution_count": 14,
   "id": "7cb6eb28-9ef6-4aa7-8ae1-0b17c3a6dd11",
   "metadata": {},
   "outputs": [
    {
     "data": {
      "text/plain": [
       "(182, 17)"
      ]
     },
     "execution_count": 14,
     "metadata": {},
     "output_type": "execute_result"
    }
   ],
   "source": [
    "X[0].shape"
   ]
  },
  {
   "cell_type": "code",
   "execution_count": 22,
   "id": "b157dbad-1762-4a26-b3c3-cf97b8168010",
   "metadata": {},
   "outputs": [],
   "source": [
    "X_torch = []\n",
    "for i in X:\n",
    "    i = torch.tensor(i)\n",
    "    X_torch.append(i)"
   ]
  },
  {
   "cell_type": "code",
   "execution_count": 25,
   "id": "58db113a-bcf4-4e79-bc78-2f9e904f5f65",
   "metadata": {},
   "outputs": [
    {
     "data": {
      "text/plain": [
       "352"
      ]
     },
     "execution_count": 25,
     "metadata": {},
     "output_type": "execute_result"
    }
   ],
   "source": [
    "len(X_torch)"
   ]
  },
  {
   "cell_type": "code",
   "execution_count": 24,
   "id": "7d0ffe0b-5f55-488d-ae0a-df3bba15dcad",
   "metadata": {},
   "outputs": [
    {
     "data": {
      "text/plain": [
       "torch.Size([182, 17])"
      ]
     },
     "execution_count": 24,
     "metadata": {},
     "output_type": "execute_result"
    }
   ],
   "source": [
    "X_torch[0].shape"
   ]
  },
  {
   "cell_type": "code",
   "execution_count": 27,
   "id": "393bae9f-e28e-4a5f-9c47-3557ad0f7c02",
   "metadata": {},
   "outputs": [],
   "source": [
    "X_pad = pad_sequence(X_torch, batch_first=True)"
   ]
  },
  {
   "cell_type": "code",
   "execution_count": 29,
   "id": "d56c835e-d21d-443a-a058-c2aa372deea7",
   "metadata": {},
   "outputs": [
    {
     "data": {
      "text/plain": [
       "torch.Size([352, 1084, 17])"
      ]
     },
     "execution_count": 29,
     "metadata": {},
     "output_type": "execute_result"
    }
   ],
   "source": [
    "X_pad.shape"
   ]
  },
  {
   "cell_type": "code",
   "execution_count": 30,
   "id": "6eb3a85b-ee9f-4d39-b63b-05559abf6e9b",
   "metadata": {},
   "outputs": [],
   "source": [
    "X_pad_np = np.array(X_pad)"
   ]
  },
  {
   "cell_type": "code",
   "execution_count": 36,
   "id": "3ca61261-0c7b-41b9-823c-33599738a8fd",
   "metadata": {},
   "outputs": [],
   "source": [
    "X_pack = pack_sequence(X_torch, enforce_sorted=False)"
   ]
  },
  {
   "cell_type": "code",
   "execution_count": 42,
   "id": "81e51e80-1864-4f46-82be-4088f2dcf6c4",
   "metadata": {},
   "outputs": [
    {
     "data": {
      "text/plain": [
       "torch.Size([98338, 17])"
      ]
     },
     "execution_count": 42,
     "metadata": {},
     "output_type": "execute_result"
    }
   ],
   "source": [
    "X_pack.data.size()"
   ]
  },
  {
   "cell_type": "code",
   "execution_count": 12,
   "id": "f78b6b6a-40f1-40c3-9066-05d5f7213053",
   "metadata": {},
   "outputs": [],
   "source": [
    "X = pad_list_of_series(X)"
   ]
  },
  {
   "cell_type": "markdown",
   "id": "75a6e9d8-15cb-401c-b61a-ab55a29166c4",
   "metadata": {},
   "source": [
    "The shape of x is (number of times series, number of frames (plus padding), number of features)"
   ]
  },
  {
   "cell_type": "code",
   "execution_count": 13,
   "id": "3d2316f2-9e00-413d-8d42-4e44634c342e",
   "metadata": {},
   "outputs": [
    {
     "data": {
      "text/plain": [
       "(352, 1084, 17)"
      ]
     },
     "execution_count": 13,
     "metadata": {},
     "output_type": "execute_result"
    }
   ],
   "source": [
    "X.shape"
   ]
  },
  {
   "cell_type": "code",
   "execution_count": 14,
   "id": "baf9a6f8-a80e-42f3-95c0-3a34391ee168",
   "metadata": {},
   "outputs": [
    {
     "data": {
      "text/plain": [
       "(352,)"
      ]
     },
     "execution_count": 14,
     "metadata": {},
     "output_type": "execute_result"
    }
   ],
   "source": [
    "y = np.array(y)\n",
    "y.shape"
   ]
  },
  {
   "cell_type": "markdown",
   "id": "2f8ce60e-e2a9-4fcb-a5a1-4f09720fccfc",
   "metadata": {},
   "source": [
    "## Save file"
   ]
  },
  {
   "cell_type": "code",
   "execution_count": 15,
   "id": "892146a8-df8c-406e-9bbb-bd1becf56957",
   "metadata": {},
   "outputs": [],
   "source": [
    "out = os.path.join(ROOT_DIR, \"files/out/low_level/video_time_series_data_A220\")\n",
    "np.savez_compressed(out, X=X, y=y)"
   ]
  }
 ],
 "metadata": {
  "kernelspec": {
   "display_name": "Python 3 (ipykernel)",
   "language": "python",
   "name": "python3"
  },
  "language_info": {
   "codemirror_mode": {
    "name": "ipython",
    "version": 3
   },
   "file_extension": ".py",
   "mimetype": "text/x-python",
   "name": "python",
   "nbconvert_exporter": "python",
   "pygments_lexer": "ipython3",
   "version": "3.8.13"
  }
 },
 "nbformat": 4,
 "nbformat_minor": 5
}
