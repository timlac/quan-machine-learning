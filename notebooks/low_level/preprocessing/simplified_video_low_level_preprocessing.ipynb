{
 "cells": [
  {
   "cell_type": "markdown",
   "id": "f310fb15-0d61-4c5a-9a7e-b338f01744e8",
   "metadata": {
    "pycharm": {
     "name": "#%% md\n"
    }
   },
   "source": [
    "# Introduction"
   ]
  },
  {
   "cell_type": "markdown",
   "id": "8b41d399-28e6-4d3b-9b36-40695a3ea801",
   "metadata": {
    "pycharm": {
     "name": "#%% md\n"
    }
   },
   "source": [
    "For starters we will use ten different actors, denoted by different video id:s.\n"
   ]
  },
  {
   "cell_type": "markdown",
   "id": "3962ccc4-925f-4e8f-8e6a-043960afc249",
   "metadata": {
    "pycharm": {
     "name": "#%% md\n"
    }
   },
   "source": [
    "We will apply LOGO CV (Leave One Group Out cross-validation)\n",
    "\n",
    "We will later have to take into account variables like mode (prosody or vocalization) and intensity (1-4) in the cross validation scheme. \n",
    "\n",
    "However for the first run it will be fine to include all without taking such factors into account.\n",
    "\n"
   ]
  },
  {
   "cell_type": "code",
   "execution_count": 1,
   "id": "c1e1c469-7c68-48b9-8f56-a6d28faa6334",
   "metadata": {
    "pycharm": {
     "name": "#%%\n"
    }
   },
   "outputs": [],
   "source": [
    "import os\n",
    "import sys\n",
    "import pandas as pd\n",
    "import numpy as np\n",
    "import matplotlib.pyplot as plt\n",
    "import seaborn as sns\n",
    "import pandas as pd\n",
    "import sklearn as sk\n",
    "import scipy\n",
    "from dotenv import load_dotenv"
   ]
  },
  {
   "cell_type": "markdown",
   "id": "81757a24",
   "metadata": {
    "pycharm": {
     "name": "#%% md\n"
    }
   },
   "source": [
    "# Working dir"
   ]
  },
  {
   "cell_type": "code",
   "execution_count": 2,
   "id": "5e1b34f1-167e-4713-8745-93895555cc61",
   "metadata": {
    "tags": [],
    "pycharm": {
     "name": "#%%\n"
    }
   },
   "outputs": [],
   "source": [
    "module_path = os.path.abspath(os.path.join('../../'))\n",
    "if module_path not in sys.path:\n",
    "    sys.path.append(module_path)"
   ]
  },
  {
   "cell_type": "code",
   "execution_count": 3,
   "id": "3131c179-2417-4902-98d7-42ca9b344695",
   "metadata": {
    "pycharm": {
     "name": "#%%\n"
    }
   },
   "outputs": [],
   "source": [
    "from src.preprocessing.sql_handling.execute_sql import execute_sql_pandas"
   ]
  },
  {
   "cell_type": "markdown",
   "id": "65cd00e4-a864-4fcb-9699-896bc1f1ce07",
   "metadata": {
    "pycharm": {
     "name": "#%% md\n"
    }
   },
   "source": [
    "# Paths"
   ]
  },
  {
   "cell_type": "code",
   "execution_count": 4,
   "id": "cbc30485-f73c-4325-bd1f-1e6b19db4d29",
   "metadata": {
    "pycharm": {
     "name": "#%%\n"
    }
   },
   "outputs": [],
   "source": [
    "load_dotenv()\n",
    "\n",
    "# path to save figures\n",
    "output_path = os.getenv(\"VIDEO_OUT\")\n",
    "\n",
    "# Global configuration path\n",
    "glob_conf_path = '../global_config.py'"
   ]
  },
  {
   "cell_type": "code",
   "execution_count": 5,
   "id": "9cbf9dd0-8e13-4c65-b4a2-8c969a0df6ee",
   "metadata": {
    "pycharm": {
     "name": "#%%\n"
    }
   },
   "outputs": [
    {
     "data": {
      "text/plain": [
       "'/home/tim/work/su-thesis-project/emotional-recognition/files/tests/out/video/'"
      ]
     },
     "execution_count": 5,
     "metadata": {},
     "output_type": "execute_result"
    }
   ],
   "source": [
    "output_path"
   ]
  },
  {
   "cell_type": "markdown",
   "id": "20b6ead1",
   "metadata": {
    "pycharm": {
     "name": "#%% md\n"
    }
   },
   "source": [
    "# Load global variables"
   ]
  },
  {
   "cell_type": "code",
   "execution_count": 6,
   "id": "e012cb6c",
   "metadata": {
    "pycharm": {
     "name": "#%%\n"
    }
   },
   "outputs": [],
   "source": [
    "exec(open(glob_conf_path).read())"
   ]
  },
  {
   "cell_type": "markdown",
   "id": "6ae55b0a",
   "metadata": {
    "pycharm": {
     "name": "#%% md\n"
    }
   },
   "source": [
    "# Select data from DB"
   ]
  },
  {
   "cell_type": "markdown",
   "id": "b1d7bb74-2690-4a8a-80d8-d9e49f3ccbae",
   "metadata": {
    "pycharm": {
     "name": "#%% md\n"
    }
   },
   "source": [
    "We only select data that satisfies following three conditions:\n",
    "\n",
    "* Success == 1\n",
    "* Confidence rate >= 0.98\n",
    "* mix (mixed emotions) = False(0)\n",
    "\n",
    "We also only select the following six video_ids: 'A101', 'A102', 'A18', 'A200'"
   ]
  },
  {
   "cell_type": "code",
   "execution_count": 27,
   "id": "bc5ff787-e598-4d01-ab12-ddc5524b8e9f",
   "metadata": {
    "pycharm": {
     "name": "#%%\n"
    }
   },
   "outputs": [],
   "source": [
    "query = \"\"\"SELECT filename,\n",
    "video_id,\n",
    "emotion_1,\n",
    "emotion_1_id,\n",
    "frame,\n",
    "success,\n",
    "confidence,\n",
    "AU01_r,\n",
    "AU02_r,\n",
    "AU04_r,\n",
    "AU05_r,\n",
    "AU06_r,\n",
    "AU07_r,\n",
    "AU09_r,\n",
    "AU10_r,\n",
    "AU12_r,\n",
    "AU14_r,\n",
    "AU15_r,\n",
    "AU17_r,\n",
    "AU20_r,\n",
    "AU23_r,\n",
    "AU25_r,\n",
    "AU26_r,\n",
    "AU45_r\n",
    "FROM openface\n",
    "WHERE success = 1 \n",
    "AND confidence >= 0.98 \n",
    "AND mix = 0\n",
    "AND emotion_1 in ('{}');\n",
    "\"\"\".format(\"', '\".join(basic_emotions.keys()))\n",
    "\n",
    "df, read_duration = execute_sql_pandas(query)"
   ]
  },
  {
   "cell_type": "code",
   "execution_count": 28,
   "id": "fd049d4b-33be-41d0-af21-6325eb79764b",
   "metadata": {
    "pycharm": {
     "name": "#%%\n"
    }
   },
   "outputs": [
    {
     "name": "stdout",
     "output_type": "stream",
     "text": [
      "query executed in: 54.735 seconds\n"
     ]
    }
   ],
   "source": [
    "print(\"query executed in: {} seconds\".format(read_duration))"
   ]
  },
  {
   "cell_type": "code",
   "execution_count": 30,
   "id": "4868c99a",
   "metadata": {
    "pycharm": {
     "name": "#%%\n"
    }
   },
   "outputs": [
    {
     "data": {
      "text/html": [
       "<div>\n",
       "<style scoped>\n",
       "    .dataframe tbody tr th:only-of-type {\n",
       "        vertical-align: middle;\n",
       "    }\n",
       "\n",
       "    .dataframe tbody tr th {\n",
       "        vertical-align: top;\n",
       "    }\n",
       "\n",
       "    .dataframe thead th {\n",
       "        text-align: right;\n",
       "    }\n",
       "</style>\n",
       "<table border=\"1\" class=\"dataframe\">\n",
       "  <thead>\n",
       "    <tr style=\"text-align: right;\">\n",
       "      <th></th>\n",
       "      <th>filename</th>\n",
       "      <th>video_id</th>\n",
       "      <th>emotion_1</th>\n",
       "      <th>emotion_1_id</th>\n",
       "      <th>frame</th>\n",
       "      <th>success</th>\n",
       "      <th>confidence</th>\n",
       "      <th>AU01_r</th>\n",
       "      <th>AU02_r</th>\n",
       "      <th>AU04_r</th>\n",
       "      <th>...</th>\n",
       "      <th>AU10_r</th>\n",
       "      <th>AU12_r</th>\n",
       "      <th>AU14_r</th>\n",
       "      <th>AU15_r</th>\n",
       "      <th>AU17_r</th>\n",
       "      <th>AU20_r</th>\n",
       "      <th>AU23_r</th>\n",
       "      <th>AU25_r</th>\n",
       "      <th>AU26_r</th>\n",
       "      <th>AU45_r</th>\n",
       "    </tr>\n",
       "  </thead>\n",
       "  <tbody>\n",
       "    <tr>\n",
       "      <th>0</th>\n",
       "      <td>A223_ang_p_4</td>\n",
       "      <td>A223</td>\n",
       "      <td>ang</td>\n",
       "      <td>12</td>\n",
       "      <td>1</td>\n",
       "      <td>1</td>\n",
       "      <td>1</td>\n",
       "      <td>0.00</td>\n",
       "      <td>0.00</td>\n",
       "      <td>0.70</td>\n",
       "      <td>...</td>\n",
       "      <td>0.92</td>\n",
       "      <td>0.62</td>\n",
       "      <td>0.30</td>\n",
       "      <td>0.33</td>\n",
       "      <td>1.84</td>\n",
       "      <td>0.17</td>\n",
       "      <td>0.59</td>\n",
       "      <td>0.00</td>\n",
       "      <td>0.0</td>\n",
       "      <td>0.00</td>\n",
       "    </tr>\n",
       "    <tr>\n",
       "      <th>1</th>\n",
       "      <td>A223_ang_p_4</td>\n",
       "      <td>A223</td>\n",
       "      <td>ang</td>\n",
       "      <td>12</td>\n",
       "      <td>2</td>\n",
       "      <td>1</td>\n",
       "      <td>1</td>\n",
       "      <td>0.03</td>\n",
       "      <td>0.00</td>\n",
       "      <td>0.81</td>\n",
       "      <td>...</td>\n",
       "      <td>0.97</td>\n",
       "      <td>0.61</td>\n",
       "      <td>0.27</td>\n",
       "      <td>0.27</td>\n",
       "      <td>1.84</td>\n",
       "      <td>0.11</td>\n",
       "      <td>0.37</td>\n",
       "      <td>0.00</td>\n",
       "      <td>0.0</td>\n",
       "      <td>0.07</td>\n",
       "    </tr>\n",
       "    <tr>\n",
       "      <th>2</th>\n",
       "      <td>A223_ang_p_4</td>\n",
       "      <td>A223</td>\n",
       "      <td>ang</td>\n",
       "      <td>12</td>\n",
       "      <td>3</td>\n",
       "      <td>1</td>\n",
       "      <td>1</td>\n",
       "      <td>0.03</td>\n",
       "      <td>0.00</td>\n",
       "      <td>0.86</td>\n",
       "      <td>...</td>\n",
       "      <td>1.02</td>\n",
       "      <td>0.63</td>\n",
       "      <td>0.24</td>\n",
       "      <td>0.17</td>\n",
       "      <td>1.82</td>\n",
       "      <td>0.05</td>\n",
       "      <td>0.32</td>\n",
       "      <td>0.00</td>\n",
       "      <td>0.0</td>\n",
       "      <td>0.07</td>\n",
       "    </tr>\n",
       "    <tr>\n",
       "      <th>3</th>\n",
       "      <td>A223_ang_p_4</td>\n",
       "      <td>A223</td>\n",
       "      <td>ang</td>\n",
       "      <td>12</td>\n",
       "      <td>4</td>\n",
       "      <td>1</td>\n",
       "      <td>1</td>\n",
       "      <td>0.00</td>\n",
       "      <td>0.00</td>\n",
       "      <td>0.86</td>\n",
       "      <td>...</td>\n",
       "      <td>1.07</td>\n",
       "      <td>0.69</td>\n",
       "      <td>0.27</td>\n",
       "      <td>0.12</td>\n",
       "      <td>1.80</td>\n",
       "      <td>0.05</td>\n",
       "      <td>0.41</td>\n",
       "      <td>0.00</td>\n",
       "      <td>0.0</td>\n",
       "      <td>0.05</td>\n",
       "    </tr>\n",
       "    <tr>\n",
       "      <th>4</th>\n",
       "      <td>A223_ang_p_4</td>\n",
       "      <td>A223</td>\n",
       "      <td>ang</td>\n",
       "      <td>12</td>\n",
       "      <td>5</td>\n",
       "      <td>1</td>\n",
       "      <td>1</td>\n",
       "      <td>0.00</td>\n",
       "      <td>0.00</td>\n",
       "      <td>0.89</td>\n",
       "      <td>...</td>\n",
       "      <td>1.08</td>\n",
       "      <td>0.75</td>\n",
       "      <td>0.29</td>\n",
       "      <td>0.18</td>\n",
       "      <td>1.85</td>\n",
       "      <td>0.00</td>\n",
       "      <td>0.51</td>\n",
       "      <td>0.00</td>\n",
       "      <td>0.0</td>\n",
       "      <td>0.01</td>\n",
       "    </tr>\n",
       "    <tr>\n",
       "      <th>...</th>\n",
       "      <td>...</td>\n",
       "      <td>...</td>\n",
       "      <td>...</td>\n",
       "      <td>...</td>\n",
       "      <td>...</td>\n",
       "      <td>...</td>\n",
       "      <td>...</td>\n",
       "      <td>...</td>\n",
       "      <td>...</td>\n",
       "      <td>...</td>\n",
       "      <td>...</td>\n",
       "      <td>...</td>\n",
       "      <td>...</td>\n",
       "      <td>...</td>\n",
       "      <td>...</td>\n",
       "      <td>...</td>\n",
       "      <td>...</td>\n",
       "      <td>...</td>\n",
       "      <td>...</td>\n",
       "      <td>...</td>\n",
       "      <td>...</td>\n",
       "    </tr>\n",
       "    <tr>\n",
       "      <th>410215</th>\n",
       "      <td>A91_sad_p_3</td>\n",
       "      <td>A91</td>\n",
       "      <td>sad</td>\n",
       "      <td>6</td>\n",
       "      <td>196</td>\n",
       "      <td>1</td>\n",
       "      <td>1</td>\n",
       "      <td>0.04</td>\n",
       "      <td>0.00</td>\n",
       "      <td>0.00</td>\n",
       "      <td>...</td>\n",
       "      <td>0.64</td>\n",
       "      <td>0.71</td>\n",
       "      <td>0.00</td>\n",
       "      <td>0.00</td>\n",
       "      <td>0.00</td>\n",
       "      <td>0.00</td>\n",
       "      <td>0.00</td>\n",
       "      <td>1.64</td>\n",
       "      <td>0.0</td>\n",
       "      <td>0.03</td>\n",
       "    </tr>\n",
       "    <tr>\n",
       "      <th>410216</th>\n",
       "      <td>A91_sad_p_3</td>\n",
       "      <td>A91</td>\n",
       "      <td>sad</td>\n",
       "      <td>6</td>\n",
       "      <td>197</td>\n",
       "      <td>1</td>\n",
       "      <td>1</td>\n",
       "      <td>0.00</td>\n",
       "      <td>0.00</td>\n",
       "      <td>0.00</td>\n",
       "      <td>...</td>\n",
       "      <td>0.57</td>\n",
       "      <td>0.67</td>\n",
       "      <td>0.00</td>\n",
       "      <td>0.04</td>\n",
       "      <td>0.02</td>\n",
       "      <td>0.00</td>\n",
       "      <td>0.00</td>\n",
       "      <td>1.54</td>\n",
       "      <td>0.0</td>\n",
       "      <td>0.04</td>\n",
       "    </tr>\n",
       "    <tr>\n",
       "      <th>410217</th>\n",
       "      <td>A91_sad_p_3</td>\n",
       "      <td>A91</td>\n",
       "      <td>sad</td>\n",
       "      <td>6</td>\n",
       "      <td>198</td>\n",
       "      <td>1</td>\n",
       "      <td>1</td>\n",
       "      <td>0.00</td>\n",
       "      <td>0.01</td>\n",
       "      <td>0.00</td>\n",
       "      <td>...</td>\n",
       "      <td>0.50</td>\n",
       "      <td>0.64</td>\n",
       "      <td>0.00</td>\n",
       "      <td>0.10</td>\n",
       "      <td>0.02</td>\n",
       "      <td>0.00</td>\n",
       "      <td>0.00</td>\n",
       "      <td>1.44</td>\n",
       "      <td>0.0</td>\n",
       "      <td>0.02</td>\n",
       "    </tr>\n",
       "    <tr>\n",
       "      <th>410218</th>\n",
       "      <td>A91_sad_p_3</td>\n",
       "      <td>A91</td>\n",
       "      <td>sad</td>\n",
       "      <td>6</td>\n",
       "      <td>199</td>\n",
       "      <td>1</td>\n",
       "      <td>1</td>\n",
       "      <td>0.00</td>\n",
       "      <td>0.10</td>\n",
       "      <td>0.00</td>\n",
       "      <td>...</td>\n",
       "      <td>0.50</td>\n",
       "      <td>0.64</td>\n",
       "      <td>0.00</td>\n",
       "      <td>0.17</td>\n",
       "      <td>0.05</td>\n",
       "      <td>0.00</td>\n",
       "      <td>0.00</td>\n",
       "      <td>1.38</td>\n",
       "      <td>0.0</td>\n",
       "      <td>0.02</td>\n",
       "    </tr>\n",
       "    <tr>\n",
       "      <th>410219</th>\n",
       "      <td>A91_sad_p_3</td>\n",
       "      <td>A91</td>\n",
       "      <td>sad</td>\n",
       "      <td>6</td>\n",
       "      <td>200</td>\n",
       "      <td>1</td>\n",
       "      <td>1</td>\n",
       "      <td>0.00</td>\n",
       "      <td>0.27</td>\n",
       "      <td>0.00</td>\n",
       "      <td>...</td>\n",
       "      <td>0.58</td>\n",
       "      <td>0.66</td>\n",
       "      <td>0.00</td>\n",
       "      <td>0.21</td>\n",
       "      <td>0.10</td>\n",
       "      <td>0.00</td>\n",
       "      <td>0.00</td>\n",
       "      <td>1.38</td>\n",
       "      <td>0.0</td>\n",
       "      <td>0.00</td>\n",
       "    </tr>\n",
       "  </tbody>\n",
       "</table>\n",
       "<p>410220 rows × 24 columns</p>\n",
       "</div>"
      ],
      "text/plain": [
       "            filename video_id emotion_1  emotion_1_id  frame  success  \\\n",
       "0       A223_ang_p_4     A223       ang            12      1        1   \n",
       "1       A223_ang_p_4     A223       ang            12      2        1   \n",
       "2       A223_ang_p_4     A223       ang            12      3        1   \n",
       "3       A223_ang_p_4     A223       ang            12      4        1   \n",
       "4       A223_ang_p_4     A223       ang            12      5        1   \n",
       "...              ...      ...       ...           ...    ...      ...   \n",
       "410215   A91_sad_p_3      A91       sad             6    196        1   \n",
       "410216   A91_sad_p_3      A91       sad             6    197        1   \n",
       "410217   A91_sad_p_3      A91       sad             6    198        1   \n",
       "410218   A91_sad_p_3      A91       sad             6    199        1   \n",
       "410219   A91_sad_p_3      A91       sad             6    200        1   \n",
       "\n",
       "        confidence  AU01_r  AU02_r  AU04_r  ...  AU10_r  AU12_r  AU14_r  \\\n",
       "0                1    0.00    0.00    0.70  ...    0.92    0.62    0.30   \n",
       "1                1    0.03    0.00    0.81  ...    0.97    0.61    0.27   \n",
       "2                1    0.03    0.00    0.86  ...    1.02    0.63    0.24   \n",
       "3                1    0.00    0.00    0.86  ...    1.07    0.69    0.27   \n",
       "4                1    0.00    0.00    0.89  ...    1.08    0.75    0.29   \n",
       "...            ...     ...     ...     ...  ...     ...     ...     ...   \n",
       "410215           1    0.04    0.00    0.00  ...    0.64    0.71    0.00   \n",
       "410216           1    0.00    0.00    0.00  ...    0.57    0.67    0.00   \n",
       "410217           1    0.00    0.01    0.00  ...    0.50    0.64    0.00   \n",
       "410218           1    0.00    0.10    0.00  ...    0.50    0.64    0.00   \n",
       "410219           1    0.00    0.27    0.00  ...    0.58    0.66    0.00   \n",
       "\n",
       "        AU15_r  AU17_r  AU20_r  AU23_r  AU25_r  AU26_r  AU45_r  \n",
       "0         0.33    1.84    0.17    0.59    0.00     0.0    0.00  \n",
       "1         0.27    1.84    0.11    0.37    0.00     0.0    0.07  \n",
       "2         0.17    1.82    0.05    0.32    0.00     0.0    0.07  \n",
       "3         0.12    1.80    0.05    0.41    0.00     0.0    0.05  \n",
       "4         0.18    1.85    0.00    0.51    0.00     0.0    0.01  \n",
       "...        ...     ...     ...     ...     ...     ...     ...  \n",
       "410215    0.00    0.00    0.00    0.00    1.64     0.0    0.03  \n",
       "410216    0.04    0.02    0.00    0.00    1.54     0.0    0.04  \n",
       "410217    0.10    0.02    0.00    0.00    1.44     0.0    0.02  \n",
       "410218    0.17    0.05    0.00    0.00    1.38     0.0    0.02  \n",
       "410219    0.21    0.10    0.00    0.00    1.38     0.0    0.00  \n",
       "\n",
       "[410220 rows x 24 columns]"
      ]
     },
     "execution_count": 30,
     "metadata": {},
     "output_type": "execute_result"
    }
   ],
   "source": [
    "df"
   ]
  },
  {
   "cell_type": "code",
   "execution_count": 31,
   "id": "bf0454f3-8c4e-44ed-867c-4d1a28ae4ce8",
   "metadata": {
    "pycharm": {
     "name": "#%%\n"
    }
   },
   "outputs": [
    {
     "data": {
      "text/plain": [
       "<AxesSubplot:>"
      ]
     },
     "execution_count": 31,
     "metadata": {},
     "output_type": "execute_result"
    },
    {
     "data": {
      "image/png": "[encoded data removed]",
      "text/plain": [
       "<Figure size 432x288 with 1 Axes>"
      ]
     },
     "metadata": {
      "needs_background": "light"
     },
     "output_type": "display_data"
    }
   ],
   "source": [
    "df['AU01_r'].plot()"
   ]
  },
  {
   "cell_type": "code",
   "execution_count": 32,
   "id": "78668baa",
   "metadata": {
    "pycharm": {
     "name": "#%%\n"
    }
   },
   "outputs": [
    {
     "name": "stdout",
     "output_type": "stream",
     "text": [
      "Total number of instances: 410220\n",
      "\n",
      "Number of Instances per File (before data cleaning)\n",
      "A205_sad_v_3         1549\n",
      "A205_sad_v_4         1437\n",
      "A205_fea_v_1         1218\n",
      "A205_sad_v_1         1214\n",
      "A205_sad_v_2         1161\n",
      "                     ... \n",
      "A34_int_v_1            37\n",
      "A050121-R_ang_v_2      37\n",
      "A303_hap_v_1           37\n",
      "A332_hap_v_4           34\n",
      "A050121-R_fea_p_1      33\n",
      "Name: filename, Length: 2007, dtype: int64\n",
      "\n"
     ]
    },
    {
     "data": {
      "image/png": "[encoded data removed]",
      "text/plain": [
       "<Figure size 1080x360 with 1 Axes>"
      ]
     },
     "metadata": {
      "needs_background": "light"
     },
     "output_type": "display_data"
    },
    {
     "name": "stdout",
     "output_type": "stream",
     "text": [
      "\n",
      "Number of Instances per Video id (before data cleaning)\n",
      "A205         31472\n",
      "A55          27404\n",
      "A223         26011\n",
      "A220         22220\n",
      "A102         21585\n",
      "A67          16615\n",
      "A218         14396\n",
      "A221         14364\n",
      "A26          14322\n",
      "A101         14120\n",
      "A64          13902\n",
      "A103         13366\n",
      "A207         13311\n",
      "A72          12504\n",
      "A200         12241\n",
      "A327         11309\n",
      "A74          11137\n",
      "A201         11129\n",
      "A334         10697\n",
      "A18          10502\n",
      "A91          10481\n",
      "A323          9808\n",
      "A227          9429\n",
      "A65           9420\n",
      "A75           8949\n",
      "A332          7214\n",
      "A21           6979\n",
      "A34           6973\n",
      "A303          6846\n",
      "A337          6672\n",
      "A050121-R     4842\n",
      "Name: video_id, dtype: int64\n"
     ]
    },
    {
     "data": {
      "image/png": "[encoded data removed]",
      "text/plain": [
       "<Figure size 1080x360 with 1 Axes>"
      ]
     },
     "metadata": {
      "needs_background": "light"
     },
     "output_type": "display_data"
    },
    {
     "name": "stdout",
     "output_type": "stream",
     "text": [
      "\n",
      "Number of Instances per Emotion (before data cleaning)\n",
      "sad     59331\n",
      "sha     55597\n",
      "gui     55249\n",
      "ang     50777\n",
      "fea     49321\n",
      "int     48368\n",
      "disg    46731\n",
      "hap     44846\n",
      "Name: emotion_1, dtype: int64\n"
     ]
    },
    {
     "data": {
      "image/png": "[encoded data removed]",
      "text/plain": [
       "<Figure size 1080x360 with 1 Axes>"
      ]
     },
     "metadata": {
      "needs_background": "light"
     },
     "output_type": "display_data"
    },
    {
     "name": "stdout",
     "output_type": "stream",
     "text": [
      "\n",
      "Number of Instances per Success Status (before data cleaning)\n",
      "1    410220\n",
      "Name: success, dtype: int64\n"
     ]
    },
    {
     "data": {
      "image/png": "[encoded data removed]",
      "text/plain": [
       "<Figure size 432x288 with 1 Axes>"
      ]
     },
     "metadata": {},
     "output_type": "display_data"
    },
    {
     "name": "stdout",
     "output_type": "stream",
     "text": [
      "\n",
      "Percentage of Instances per Confidence Rate (before data cleaning)\n",
      "1    1.0\n",
      "Name: confidence, dtype: float64\n"
     ]
    },
    {
     "data": {
      "image/png": "[encoded data removed]",
      "text/plain": [
       "<Figure size 1080x360 with 1 Axes>"
      ]
     },
     "metadata": {
      "needs_background": "light"
     },
     "output_type": "display_data"
    },
    {
     "name": "stdout",
     "output_type": "stream",
     "text": [
      "\n"
     ]
    }
   ],
   "source": [
    "print(\"Total number of instances: {}\".format(len(df)))\n",
    "print()\n",
    "\n",
    "\n",
    "print(\"Number of Instances per File (before data cleaning)\")\n",
    "file_val_counts_original = df[\"filename\"].value_counts()\n",
    "print(file_val_counts_original)\n",
    "print()\n",
    "\n",
    "\n",
    "x = file_val_counts_original.values\n",
    "plt.figure(figsize=(15,5))\n",
    "sns.distplot(x, rug=True, norm_hist=True,\n",
    "             rug_kws={'color': blue_shades[0],'alpha':1},\n",
    "             kde_kws={'color': blue_shades[0],'alpha':1},\n",
    "             hist_kws={'color': blue_shades[1], 'alpha':0.6}\n",
    "            )\n",
    "plt.xlabel('Number of Instances')\n",
    "plt.ylabel('Density')\n",
    "plt.grid(False,axis='x')\n",
    "plt.savefig(os.path.join(output_path,'charts','report_distribution_before_cleaning.svg'), bbox_inches = 'tight')\n",
    "plt.title('Density Plot with Rug Plot (before data cleaning)')\n",
    "plt.savefig(os.path.join(output_path,'charts','distribution_before_cleaning.svg'), bbox_inches = 'tight')\n",
    "plt.show()\n",
    "print()\n",
    "\n",
    "\n",
    "print(\"Number of Instances per Video id (before data cleaning)\")\n",
    "video_val_counts_original = df[\"video_id\"].value_counts()\n",
    "print(video_val_counts_original)\n",
    "plt.figure(figsize=(15,5))\n",
    "sns.barplot(video_val_counts_original.index, video_val_counts_original.values, saturation=sns_saturation, color=blue_rgb)\n",
    "plt.title(\"Number of instances per video before data cleaning\")\n",
    "plt.xlabel('video ID')\n",
    "plt.ylabel('Number of Instances')\n",
    "plt.show()\n",
    "print()\n",
    "\n",
    "\n",
    "print(\"Number of Instances per Emotion (before data cleaning)\")\n",
    "emotion_val_counts_original = df[\"emotion_1\"].value_counts()\n",
    "print(emotion_val_counts_original)\n",
    "plt.figure(figsize=(15,5))\n",
    "sns.barplot(emotion_val_counts_original.index, emotion_val_counts_original.values, saturation=sns_saturation, color=blue_rgb)\n",
    "plt.title(\"Number of instances per emotion before data cleaning\")\n",
    "plt.xlabel('Emotion ID')\n",
    "plt.ylabel('Number of Instances')\n",
    "#plt.xticks(rotation=45)\n",
    "plt.show()\n",
    "print()\n",
    "\n",
    "print(\"Number of Instances per Success Status (before data cleaning)\")\n",
    "success_val_counts_original = df[\"success\"].value_counts()\n",
    "print(success_val_counts_original)\n",
    "plt.figure()\n",
    "plt.pie(success_val_counts_original.values, autopct='%1.2f%%', pctdistance= 1.4, colors=palette_def)\n",
    "plt.legend(['Successful','Unsuccessful'],bbox_to_anchor=(0.9, 1))\n",
    "plt.savefig(os.path.join(output_path,'charts','report_success_before_cleaning.svg'), bbox_inches = 'tight')\n",
    "plt.title(\"Distribution of the Success Field (before data cleaning)\")\n",
    "plt.savefig(os.path.join(output_path,'charts','success_before_cleaning.svg'), bbox_inches = 'tight')\n",
    "plt.show()\n",
    "print()\n",
    "\n",
    "print(\"Percentage of Instances per Confidence Rate (before data cleaning)\")\n",
    "confidence_val_counts_original = df[\"confidence\"].value_counts(normalize=True).sort_index()\n",
    "print(confidence_val_counts_original)\n",
    "plt.figure(figsize=(15,5))\n",
    "sns.barplot(confidence_val_counts_original.index, 100*confidence_val_counts_original.values, saturation=sns_saturation, color=blue_rgb)\n",
    "plt.xlabel('Confidence Rate')\n",
    "plt.ylabel('Instances (%)')\n",
    "plt.savefig(os.path.join(output_path,'charts','report_confidence_before_cleaning.svg'), bbox_inches = 'tight')\n",
    "plt.title(\"Percentage of Instances per Confidence Rate (before data cleaning)\")\n",
    "plt.savefig(os.path.join(output_path,'charts','confidence_before_cleaning.svg'), bbox_inches = 'tight')\n",
    "plt.show()\n",
    "print()"
   ]
  },
  {
   "cell_type": "code",
   "execution_count": 33,
   "id": "facfdce7-8b1c-4b33-8356-e40ba2347dea",
   "metadata": {
    "pycharm": {
     "name": "#%%\n"
    }
   },
   "outputs": [
    {
     "name": "stdout",
     "output_type": "stream",
     "text": [
      "Number of Instances per video id for every filename\n",
      "     video_id  filename\n",
      "0   A050121-R        64\n",
      "1        A101        64\n",
      "2        A102        64\n",
      "3        A103        64\n",
      "4         A18        64\n",
      "5        A200        64\n",
      "6        A201        64\n",
      "7        A205        64\n",
      "8        A207        64\n",
      "9         A21        64\n",
      "10       A218        64\n",
      "11       A220        64\n",
      "12       A221        64\n",
      "13       A223        64\n",
      "14       A227        64\n",
      "15        A26        64\n",
      "16       A303        64\n",
      "17       A323        64\n",
      "18       A327        56\n",
      "19       A332        61\n",
      "20       A334        64\n",
      "21       A337        64\n",
      "22        A34        64\n",
      "23        A55       107\n",
      "24        A64        64\n",
      "25        A65        64\n",
      "26        A67        62\n",
      "27        A72        64\n",
      "28        A74        63\n",
      "29        A75        58\n",
      "30        A91        64\n",
      "\n"
     ]
    }
   ],
   "source": [
    "print(\"Number of Instances per video id for every filename\")\n",
    "video_val_counts_original = df[['video_id','filename']].groupby([\"video_id\"]).filename.nunique().reset_index()\n",
    "print(video_val_counts_original)\n",
    "print()"
   ]
  },
  {
   "cell_type": "markdown",
   "id": "3154269c-d7c0-4911-a591-7756004bac57",
   "metadata": {
    "pycharm": {
     "name": "#%% md\n"
    }
   },
   "source": [
    "## Number of frames for every filename"
   ]
  },
  {
   "cell_type": "code",
   "execution_count": 34,
   "id": "f49e61d0-6c4d-406a-ba5c-a3b7f3484eb2",
   "metadata": {
    "pycharm": {
     "name": "#%%\n"
    }
   },
   "outputs": [
    {
     "name": "stdout",
     "output_type": "stream",
     "text": [
      "Number of frames for every filename\n"
     ]
    },
    {
     "data": {
      "image/png": "[encoded data removed]",
      "text/plain": [
       "<Figure size 1080x360 with 1 Axes>"
      ]
     },
     "metadata": {
      "needs_background": "light"
     },
     "output_type": "display_data"
    }
   ],
   "source": [
    "print(\"Number of frames for every filename\")\n",
    "frame_counts = df[['frame','filename']].groupby([\"filename\"]).frame.nunique().reset_index()\n",
    "frame_counts.plot(figsize=(15,5))\n",
    "plt.title(\"Frame counts\")\n",
    "plt.xlabel('videos')\n",
    "plt.ylabel('frames')\n",
    "plt.show()"
   ]
  },
  {
   "cell_type": "markdown",
   "id": "cb9f45e9-36d3-4803-9789-ef22b79ddb30",
   "metadata": {
    "pycharm": {
     "name": "#%% md\n"
    }
   },
   "source": [
    "# Normalize training set"
   ]
  },
  {
   "cell_type": "markdown",
   "id": "544d6fec-842f-4ce0-b311-fbae9bbc6786",
   "metadata": {
    "pycharm": {
     "name": "#%% md\n"
    }
   },
   "source": [
    "Merge on filename index... Merge with metadata afterwards..."
   ]
  },
  {
   "cell_type": "markdown",
   "id": "99e92b58-7e50-4c32-99a1-615ace64a2b3",
   "metadata": {
    "pycharm": {
     "name": "#%% md\n"
    }
   },
   "source": [
    "A way to normalize the input features/variables is the Min-Max scaler. By doing so, all features will be transformed into the range [0,1] meaning that the minimum and maximum value of a feature/variable is going to be 0 and 1, respectively."
   ]
  },
  {
   "cell_type": "code",
   "execution_count": 35,
   "id": "27645130-633f-4661-828d-c2674b94f151",
   "metadata": {
    "pycharm": {
     "name": "#%%\n"
    }
   },
   "outputs": [],
   "source": [
    "df.reset_index(drop = True, inplace=True)"
   ]
  },
  {
   "cell_type": "code",
   "execution_count": 36,
   "id": "2aee42b2-7cf8-4000-91cf-939803690570",
   "metadata": {
    "pycharm": {
     "name": "#%%\n"
    }
   },
   "outputs": [
    {
     "name": "stdout",
     "output_type": "stream",
     "text": [
      "(410220, 4)\n",
      "AU01_r    False\n",
      "AU02_r    False\n",
      "AU04_r    False\n",
      "AU05_r    False\n",
      "AU06_r    False\n",
      "AU07_r    False\n",
      "AU09_r    False\n",
      "AU10_r    False\n",
      "AU12_r    False\n",
      "AU14_r    False\n",
      "AU15_r    False\n",
      "AU17_r    False\n",
      "AU20_r    False\n",
      "AU23_r    False\n",
      "AU25_r    False\n",
      "AU26_r    False\n",
      "AU45_r    False\n",
      "dtype: bool\n",
      "False\n",
      "0\n",
      "(410220, 17)\n",
      "0\n"
     ]
    }
   ],
   "source": [
    "from sklearn import preprocessing\n",
    "\n",
    "# get the metadata from original dataframe\n",
    "\n",
    "df_metadata = df[['filename', \"frame\", \"video_id\", \"emotion_1_id\"]]\n",
    "\n",
    "print(df_metadata.shape)\n",
    "\n",
    "# get only features\n",
    "X = df.drop(columns=['filename', \"frame\", \"video_id\", \"emotion_1\", \"emotion_1_id\", \"confidence\", \"success\"])\n",
    "# check for null values\n",
    "print(np.isnan(np.sum(X)))\n",
    "\n",
    "\n",
    "min_max_scaler = preprocessing.MinMaxScaler()\n",
    "\n",
    "# Fit and transform features\n",
    "X_scaled = min_max_scaler.fit_transform(X)\n",
    "\n",
    "# check for null values\n",
    "print(np.isnan(np.sum(X_scaled)))\n",
    "\n",
    "\n",
    "# Create a dataframe from normalized features\n",
    "X_scaled_df = pd.DataFrame(data=X_scaled, columns=X.columns.to_list())\n",
    "print(X_scaled_df.isna().sum().sum())\n",
    "\n",
    "print(X_scaled_df.shape)\n",
    "\n",
    "\n",
    "# join back on index with filename dataframe\n",
    "X_scaled_df = df_metadata.join(X_scaled_df)\n",
    "print(X_scaled_df.isna().sum().sum())\n"
   ]
  },
  {
   "cell_type": "code",
   "execution_count": 37,
   "id": "557bf3f9-cc2f-40dc-943b-516fd66818f7",
   "metadata": {
    "pycharm": {
     "name": "#%%\n"
    }
   },
   "outputs": [
    {
     "data": {
      "text/html": [
       "<div>\n",
       "<style scoped>\n",
       "    .dataframe tbody tr th:only-of-type {\n",
       "        vertical-align: middle;\n",
       "    }\n",
       "\n",
       "    .dataframe tbody tr th {\n",
       "        vertical-align: top;\n",
       "    }\n",
       "\n",
       "    .dataframe thead th {\n",
       "        text-align: right;\n",
       "    }\n",
       "</style>\n",
       "<table border=\"1\" class=\"dataframe\">\n",
       "  <thead>\n",
       "    <tr style=\"text-align: right;\">\n",
       "      <th></th>\n",
       "      <th>filename</th>\n",
       "      <th>frame</th>\n",
       "      <th>video_id</th>\n",
       "      <th>emotion_1_id</th>\n",
       "    </tr>\n",
       "  </thead>\n",
       "  <tbody>\n",
       "    <tr>\n",
       "      <th>0</th>\n",
       "      <td>A223_ang_p_4</td>\n",
       "      <td>1</td>\n",
       "      <td>A223</td>\n",
       "      <td>12</td>\n",
       "    </tr>\n",
       "    <tr>\n",
       "      <th>1</th>\n",
       "      <td>A223_ang_p_4</td>\n",
       "      <td>2</td>\n",
       "      <td>A223</td>\n",
       "      <td>12</td>\n",
       "    </tr>\n",
       "    <tr>\n",
       "      <th>2</th>\n",
       "      <td>A223_ang_p_4</td>\n",
       "      <td>3</td>\n",
       "      <td>A223</td>\n",
       "      <td>12</td>\n",
       "    </tr>\n",
       "    <tr>\n",
       "      <th>3</th>\n",
       "      <td>A223_ang_p_4</td>\n",
       "      <td>4</td>\n",
       "      <td>A223</td>\n",
       "      <td>12</td>\n",
       "    </tr>\n",
       "    <tr>\n",
       "      <th>4</th>\n",
       "      <td>A223_ang_p_4</td>\n",
       "      <td>5</td>\n",
       "      <td>A223</td>\n",
       "      <td>12</td>\n",
       "    </tr>\n",
       "    <tr>\n",
       "      <th>...</th>\n",
       "      <td>...</td>\n",
       "      <td>...</td>\n",
       "      <td>...</td>\n",
       "      <td>...</td>\n",
       "    </tr>\n",
       "    <tr>\n",
       "      <th>410215</th>\n",
       "      <td>A91_sad_p_3</td>\n",
       "      <td>196</td>\n",
       "      <td>A91</td>\n",
       "      <td>6</td>\n",
       "    </tr>\n",
       "    <tr>\n",
       "      <th>410216</th>\n",
       "      <td>A91_sad_p_3</td>\n",
       "      <td>197</td>\n",
       "      <td>A91</td>\n",
       "      <td>6</td>\n",
       "    </tr>\n",
       "    <tr>\n",
       "      <th>410217</th>\n",
       "      <td>A91_sad_p_3</td>\n",
       "      <td>198</td>\n",
       "      <td>A91</td>\n",
       "      <td>6</td>\n",
       "    </tr>\n",
       "    <tr>\n",
       "      <th>410218</th>\n",
       "      <td>A91_sad_p_3</td>\n",
       "      <td>199</td>\n",
       "      <td>A91</td>\n",
       "      <td>6</td>\n",
       "    </tr>\n",
       "    <tr>\n",
       "      <th>410219</th>\n",
       "      <td>A91_sad_p_3</td>\n",
       "      <td>200</td>\n",
       "      <td>A91</td>\n",
       "      <td>6</td>\n",
       "    </tr>\n",
       "  </tbody>\n",
       "</table>\n",
       "<p>410220 rows × 4 columns</p>\n",
       "</div>"
      ],
      "text/plain": [
       "            filename  frame video_id  emotion_1_id\n",
       "0       A223_ang_p_4      1     A223            12\n",
       "1       A223_ang_p_4      2     A223            12\n",
       "2       A223_ang_p_4      3     A223            12\n",
       "3       A223_ang_p_4      4     A223            12\n",
       "4       A223_ang_p_4      5     A223            12\n",
       "...              ...    ...      ...           ...\n",
       "410215   A91_sad_p_3    196      A91             6\n",
       "410216   A91_sad_p_3    197      A91             6\n",
       "410217   A91_sad_p_3    198      A91             6\n",
       "410218   A91_sad_p_3    199      A91             6\n",
       "410219   A91_sad_p_3    200      A91             6\n",
       "\n",
       "[410220 rows x 4 columns]"
      ]
     },
     "execution_count": 37,
     "metadata": {},
     "output_type": "execute_result"
    }
   ],
   "source": [
    "df_metadata"
   ]
  },
  {
   "cell_type": "code",
   "execution_count": 38,
   "id": "e66f6438-4183-46b3-990b-4846f5ea790a",
   "metadata": {
    "pycharm": {
     "name": "#%%\n"
    }
   },
   "outputs": [
    {
     "data": {
      "text/html": [
       "<div>\n",
       "<style scoped>\n",
       "    .dataframe tbody tr th:only-of-type {\n",
       "        vertical-align: middle;\n",
       "    }\n",
       "\n",
       "    .dataframe tbody tr th {\n",
       "        vertical-align: top;\n",
       "    }\n",
       "\n",
       "    .dataframe thead th {\n",
       "        text-align: right;\n",
       "    }\n",
       "</style>\n",
       "<table border=\"1\" class=\"dataframe\">\n",
       "  <thead>\n",
       "    <tr style=\"text-align: right;\">\n",
       "      <th></th>\n",
       "      <th>filename</th>\n",
       "      <th>frame</th>\n",
       "      <th>video_id</th>\n",
       "      <th>emotion_1_id</th>\n",
       "      <th>AU01_r</th>\n",
       "      <th>AU02_r</th>\n",
       "      <th>AU04_r</th>\n",
       "      <th>AU05_r</th>\n",
       "      <th>AU06_r</th>\n",
       "      <th>AU07_r</th>\n",
       "      <th>...</th>\n",
       "      <th>AU10_r</th>\n",
       "      <th>AU12_r</th>\n",
       "      <th>AU14_r</th>\n",
       "      <th>AU15_r</th>\n",
       "      <th>AU17_r</th>\n",
       "      <th>AU20_r</th>\n",
       "      <th>AU23_r</th>\n",
       "      <th>AU25_r</th>\n",
       "      <th>AU26_r</th>\n",
       "      <th>AU45_r</th>\n",
       "    </tr>\n",
       "  </thead>\n",
       "  <tbody>\n",
       "    <tr>\n",
       "      <th>0</th>\n",
       "      <td>A223_ang_p_4</td>\n",
       "      <td>1</td>\n",
       "      <td>A223</td>\n",
       "      <td>12</td>\n",
       "      <td>0.000</td>\n",
       "      <td>0.000000</td>\n",
       "      <td>0.140</td>\n",
       "      <td>0.000000</td>\n",
       "      <td>0.0</td>\n",
       "      <td>0.0</td>\n",
       "      <td>...</td>\n",
       "      <td>0.186613</td>\n",
       "      <td>0.124</td>\n",
       "      <td>0.061602</td>\n",
       "      <td>0.066</td>\n",
       "      <td>0.368</td>\n",
       "      <td>0.034</td>\n",
       "      <td>0.118</td>\n",
       "      <td>0.000</td>\n",
       "      <td>0.0</td>\n",
       "      <td>0.000</td>\n",
       "    </tr>\n",
       "    <tr>\n",
       "      <th>1</th>\n",
       "      <td>A223_ang_p_4</td>\n",
       "      <td>2</td>\n",
       "      <td>A223</td>\n",
       "      <td>12</td>\n",
       "      <td>0.006</td>\n",
       "      <td>0.000000</td>\n",
       "      <td>0.162</td>\n",
       "      <td>0.000000</td>\n",
       "      <td>0.0</td>\n",
       "      <td>0.0</td>\n",
       "      <td>...</td>\n",
       "      <td>0.196755</td>\n",
       "      <td>0.122</td>\n",
       "      <td>0.055441</td>\n",
       "      <td>0.054</td>\n",
       "      <td>0.368</td>\n",
       "      <td>0.022</td>\n",
       "      <td>0.074</td>\n",
       "      <td>0.000</td>\n",
       "      <td>0.0</td>\n",
       "      <td>0.014</td>\n",
       "    </tr>\n",
       "    <tr>\n",
       "      <th>2</th>\n",
       "      <td>A223_ang_p_4</td>\n",
       "      <td>3</td>\n",
       "      <td>A223</td>\n",
       "      <td>12</td>\n",
       "      <td>0.006</td>\n",
       "      <td>0.000000</td>\n",
       "      <td>0.172</td>\n",
       "      <td>0.000000</td>\n",
       "      <td>0.0</td>\n",
       "      <td>0.0</td>\n",
       "      <td>...</td>\n",
       "      <td>0.206897</td>\n",
       "      <td>0.126</td>\n",
       "      <td>0.049281</td>\n",
       "      <td>0.034</td>\n",
       "      <td>0.364</td>\n",
       "      <td>0.010</td>\n",
       "      <td>0.064</td>\n",
       "      <td>0.000</td>\n",
       "      <td>0.0</td>\n",
       "      <td>0.014</td>\n",
       "    </tr>\n",
       "    <tr>\n",
       "      <th>3</th>\n",
       "      <td>A223_ang_p_4</td>\n",
       "      <td>4</td>\n",
       "      <td>A223</td>\n",
       "      <td>12</td>\n",
       "      <td>0.000</td>\n",
       "      <td>0.000000</td>\n",
       "      <td>0.172</td>\n",
       "      <td>0.000000</td>\n",
       "      <td>0.0</td>\n",
       "      <td>0.0</td>\n",
       "      <td>...</td>\n",
       "      <td>0.217039</td>\n",
       "      <td>0.138</td>\n",
       "      <td>0.055441</td>\n",
       "      <td>0.024</td>\n",
       "      <td>0.360</td>\n",
       "      <td>0.010</td>\n",
       "      <td>0.082</td>\n",
       "      <td>0.000</td>\n",
       "      <td>0.0</td>\n",
       "      <td>0.010</td>\n",
       "    </tr>\n",
       "    <tr>\n",
       "      <th>4</th>\n",
       "      <td>A223_ang_p_4</td>\n",
       "      <td>5</td>\n",
       "      <td>A223</td>\n",
       "      <td>12</td>\n",
       "      <td>0.000</td>\n",
       "      <td>0.000000</td>\n",
       "      <td>0.178</td>\n",
       "      <td>0.000000</td>\n",
       "      <td>0.0</td>\n",
       "      <td>0.0</td>\n",
       "      <td>...</td>\n",
       "      <td>0.219067</td>\n",
       "      <td>0.150</td>\n",
       "      <td>0.059548</td>\n",
       "      <td>0.036</td>\n",
       "      <td>0.370</td>\n",
       "      <td>0.000</td>\n",
       "      <td>0.102</td>\n",
       "      <td>0.000</td>\n",
       "      <td>0.0</td>\n",
       "      <td>0.002</td>\n",
       "    </tr>\n",
       "    <tr>\n",
       "      <th>...</th>\n",
       "      <td>...</td>\n",
       "      <td>...</td>\n",
       "      <td>...</td>\n",
       "      <td>...</td>\n",
       "      <td>...</td>\n",
       "      <td>...</td>\n",
       "      <td>...</td>\n",
       "      <td>...</td>\n",
       "      <td>...</td>\n",
       "      <td>...</td>\n",
       "      <td>...</td>\n",
       "      <td>...</td>\n",
       "      <td>...</td>\n",
       "      <td>...</td>\n",
       "      <td>...</td>\n",
       "      <td>...</td>\n",
       "      <td>...</td>\n",
       "      <td>...</td>\n",
       "      <td>...</td>\n",
       "      <td>...</td>\n",
       "      <td>...</td>\n",
       "    </tr>\n",
       "    <tr>\n",
       "      <th>410215</th>\n",
       "      <td>A91_sad_p_3</td>\n",
       "      <td>196</td>\n",
       "      <td>A91</td>\n",
       "      <td>6</td>\n",
       "      <td>0.008</td>\n",
       "      <td>0.000000</td>\n",
       "      <td>0.000</td>\n",
       "      <td>0.006098</td>\n",
       "      <td>0.0</td>\n",
       "      <td>0.0</td>\n",
       "      <td>...</td>\n",
       "      <td>0.129817</td>\n",
       "      <td>0.142</td>\n",
       "      <td>0.000000</td>\n",
       "      <td>0.000</td>\n",
       "      <td>0.000</td>\n",
       "      <td>0.000</td>\n",
       "      <td>0.000</td>\n",
       "      <td>0.328</td>\n",
       "      <td>0.0</td>\n",
       "      <td>0.006</td>\n",
       "    </tr>\n",
       "    <tr>\n",
       "      <th>410216</th>\n",
       "      <td>A91_sad_p_3</td>\n",
       "      <td>197</td>\n",
       "      <td>A91</td>\n",
       "      <td>6</td>\n",
       "      <td>0.000</td>\n",
       "      <td>0.000000</td>\n",
       "      <td>0.000</td>\n",
       "      <td>0.000000</td>\n",
       "      <td>0.0</td>\n",
       "      <td>0.0</td>\n",
       "      <td>...</td>\n",
       "      <td>0.115619</td>\n",
       "      <td>0.134</td>\n",
       "      <td>0.000000</td>\n",
       "      <td>0.008</td>\n",
       "      <td>0.004</td>\n",
       "      <td>0.000</td>\n",
       "      <td>0.000</td>\n",
       "      <td>0.308</td>\n",
       "      <td>0.0</td>\n",
       "      <td>0.008</td>\n",
       "    </tr>\n",
       "    <tr>\n",
       "      <th>410217</th>\n",
       "      <td>A91_sad_p_3</td>\n",
       "      <td>198</td>\n",
       "      <td>A91</td>\n",
       "      <td>6</td>\n",
       "      <td>0.000</td>\n",
       "      <td>0.002012</td>\n",
       "      <td>0.000</td>\n",
       "      <td>0.000000</td>\n",
       "      <td>0.0</td>\n",
       "      <td>0.0</td>\n",
       "      <td>...</td>\n",
       "      <td>0.101420</td>\n",
       "      <td>0.128</td>\n",
       "      <td>0.000000</td>\n",
       "      <td>0.020</td>\n",
       "      <td>0.004</td>\n",
       "      <td>0.000</td>\n",
       "      <td>0.000</td>\n",
       "      <td>0.288</td>\n",
       "      <td>0.0</td>\n",
       "      <td>0.004</td>\n",
       "    </tr>\n",
       "    <tr>\n",
       "      <th>410218</th>\n",
       "      <td>A91_sad_p_3</td>\n",
       "      <td>199</td>\n",
       "      <td>A91</td>\n",
       "      <td>6</td>\n",
       "      <td>0.000</td>\n",
       "      <td>0.020121</td>\n",
       "      <td>0.000</td>\n",
       "      <td>0.000000</td>\n",
       "      <td>0.0</td>\n",
       "      <td>0.0</td>\n",
       "      <td>...</td>\n",
       "      <td>0.101420</td>\n",
       "      <td>0.128</td>\n",
       "      <td>0.000000</td>\n",
       "      <td>0.034</td>\n",
       "      <td>0.010</td>\n",
       "      <td>0.000</td>\n",
       "      <td>0.000</td>\n",
       "      <td>0.276</td>\n",
       "      <td>0.0</td>\n",
       "      <td>0.004</td>\n",
       "    </tr>\n",
       "    <tr>\n",
       "      <th>410219</th>\n",
       "      <td>A91_sad_p_3</td>\n",
       "      <td>200</td>\n",
       "      <td>A91</td>\n",
       "      <td>6</td>\n",
       "      <td>0.000</td>\n",
       "      <td>0.054326</td>\n",
       "      <td>0.000</td>\n",
       "      <td>0.003049</td>\n",
       "      <td>0.0</td>\n",
       "      <td>0.0</td>\n",
       "      <td>...</td>\n",
       "      <td>0.117647</td>\n",
       "      <td>0.132</td>\n",
       "      <td>0.000000</td>\n",
       "      <td>0.042</td>\n",
       "      <td>0.020</td>\n",
       "      <td>0.000</td>\n",
       "      <td>0.000</td>\n",
       "      <td>0.276</td>\n",
       "      <td>0.0</td>\n",
       "      <td>0.000</td>\n",
       "    </tr>\n",
       "  </tbody>\n",
       "</table>\n",
       "<p>410220 rows × 21 columns</p>\n",
       "</div>"
      ],
      "text/plain": [
       "            filename  frame video_id  emotion_1_id  AU01_r    AU02_r  AU04_r  \\\n",
       "0       A223_ang_p_4      1     A223            12   0.000  0.000000   0.140   \n",
       "1       A223_ang_p_4      2     A223            12   0.006  0.000000   0.162   \n",
       "2       A223_ang_p_4      3     A223            12   0.006  0.000000   0.172   \n",
       "3       A223_ang_p_4      4     A223            12   0.000  0.000000   0.172   \n",
       "4       A223_ang_p_4      5     A223            12   0.000  0.000000   0.178   \n",
       "...              ...    ...      ...           ...     ...       ...     ...   \n",
       "410215   A91_sad_p_3    196      A91             6   0.008  0.000000   0.000   \n",
       "410216   A91_sad_p_3    197      A91             6   0.000  0.000000   0.000   \n",
       "410217   A91_sad_p_3    198      A91             6   0.000  0.002012   0.000   \n",
       "410218   A91_sad_p_3    199      A91             6   0.000  0.020121   0.000   \n",
       "410219   A91_sad_p_3    200      A91             6   0.000  0.054326   0.000   \n",
       "\n",
       "          AU05_r  AU06_r  AU07_r  ...    AU10_r  AU12_r    AU14_r  AU15_r  \\\n",
       "0       0.000000     0.0     0.0  ...  0.186613   0.124  0.061602   0.066   \n",
       "1       0.000000     0.0     0.0  ...  0.196755   0.122  0.055441   0.054   \n",
       "2       0.000000     0.0     0.0  ...  0.206897   0.126  0.049281   0.034   \n",
       "3       0.000000     0.0     0.0  ...  0.217039   0.138  0.055441   0.024   \n",
       "4       0.000000     0.0     0.0  ...  0.219067   0.150  0.059548   0.036   \n",
       "...          ...     ...     ...  ...       ...     ...       ...     ...   \n",
       "410215  0.006098     0.0     0.0  ...  0.129817   0.142  0.000000   0.000   \n",
       "410216  0.000000     0.0     0.0  ...  0.115619   0.134  0.000000   0.008   \n",
       "410217  0.000000     0.0     0.0  ...  0.101420   0.128  0.000000   0.020   \n",
       "410218  0.000000     0.0     0.0  ...  0.101420   0.128  0.000000   0.034   \n",
       "410219  0.003049     0.0     0.0  ...  0.117647   0.132  0.000000   0.042   \n",
       "\n",
       "        AU17_r  AU20_r  AU23_r  AU25_r  AU26_r  AU45_r  \n",
       "0        0.368   0.034   0.118   0.000     0.0   0.000  \n",
       "1        0.368   0.022   0.074   0.000     0.0   0.014  \n",
       "2        0.364   0.010   0.064   0.000     0.0   0.014  \n",
       "3        0.360   0.010   0.082   0.000     0.0   0.010  \n",
       "4        0.370   0.000   0.102   0.000     0.0   0.002  \n",
       "...        ...     ...     ...     ...     ...     ...  \n",
       "410215   0.000   0.000   0.000   0.328     0.0   0.006  \n",
       "410216   0.004   0.000   0.000   0.308     0.0   0.008  \n",
       "410217   0.004   0.000   0.000   0.288     0.0   0.004  \n",
       "410218   0.010   0.000   0.000   0.276     0.0   0.004  \n",
       "410219   0.020   0.000   0.000   0.276     0.0   0.000  \n",
       "\n",
       "[410220 rows x 21 columns]"
      ]
     },
     "execution_count": 38,
     "metadata": {},
     "output_type": "execute_result"
    }
   ],
   "source": [
    "X_scaled_df"
   ]
  },
  {
   "cell_type": "code",
   "execution_count": 39,
   "id": "26bb84f2-b6d9-4d60-9e6f-47f44e7e0f00",
   "metadata": {
    "pycharm": {
     "name": "#%%\n"
    }
   },
   "outputs": [
    {
     "data": {
      "text/plain": [
       "<AxesSubplot:>"
      ]
     },
     "execution_count": 39,
     "metadata": {},
     "output_type": "execute_result"
    },
    {
     "data": {
      "image/png": "[encoded data removed]",
      "text/plain": [
       "<Figure size 432x288 with 1 Axes>"
      ]
     },
     "metadata": {
      "needs_background": "light"
     },
     "output_type": "display_data"
    }
   ],
   "source": [
    "X_scaled_df['AU01_r'].plot()"
   ]
  },
  {
   "cell_type": "code",
   "execution_count": 41,
   "id": "43a99bbb-ad01-4844-84d3-79dcba4bb09d",
   "metadata": {
    "pycharm": {
     "name": "#%%\n"
    }
   },
   "outputs": [],
   "source": [
    "save_path = os.path.join(output_path, 'video_data_time_series_reduced_basic_emotions_no_interpolation_unscaled.csv')\n",
    "df.to_csv(save_path, index=None, header=True)"
   ]
  }
 ],
 "metadata": {
  "kernelspec": {
   "display_name": "Python 3 (ipykernel)",
   "language": "python",
   "name": "python3"
  },
  "language_info": {
   "codemirror_mode": {
    "name": "ipython",
    "version": 3
   },
   "file_extension": ".py",
   "mimetype": "text/x-python",
   "name": "python",
   "nbconvert_exporter": "python",
   "pygments_lexer": "ipython3",
   "version": "3.8.13"
  }
 },
 "nbformat": 4,
 "nbformat_minor": 5
}