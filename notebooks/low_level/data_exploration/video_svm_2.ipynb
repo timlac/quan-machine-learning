{
 "cells": [
  {
   "cell_type": "code",
   "execution_count": 109,
   "id": "40b32c19-6a7b-4154-91da-975663245f13",
   "metadata": {},
   "outputs": [],
   "source": [
    "import os\n",
    "import sys\n",
    "import boto3\n",
    "import pickle\n",
    "\n",
    "import numpy as np\n",
    "from sklearn.svm import SVC\n",
    "\n",
    "from sagemaker.sklearn.estimator import SKLearn\n",
    "from sklearn.model_selection import cross_validate\n"
   ]
  },
  {
   "cell_type": "code",
   "execution_count": null,
   "id": "d284fe56-6c97-4a02-ac05-6693b9962ace",
   "metadata": {},
   "outputs": [],
   "source": [
    "os.chdir('/root/emotional-recognition/notebooks/functionals/supervised_learning/')"
   ]
  },
  {
   "cell_type": "code",
   "execution_count": 13,
   "id": "db956206-2610-46ae-a4d8-51ee2888258f",
   "metadata": {},
   "outputs": [
    {
     "data": {
      "text/plain": [
       "'/root/emotional-recognition/notebooks/functionals/supervised_learning'"
      ]
     },
     "execution_count": 13,
     "metadata": {},
     "output_type": "execute_result"
    }
   ],
   "source": [
    "pwd"
   ]
  },
  {
   "cell_type": "code",
   "execution_count": 10,
   "id": "0c7bbbee-4504-4eca-8402-4966071feb76",
   "metadata": {},
   "outputs": [],
   "source": [
    "module_path = os.path.abspath(os.path.join('../../../'))\n",
    "if module_path not in sys.path:\n",
    "    sys.path.append(module_path)"
   ]
  },
  {
   "cell_type": "code",
   "execution_count": 11,
   "id": "fb047f0d-3610-48c1-b633-a77fbc2d526c",
   "metadata": {},
   "outputs": [],
   "source": [
    "from label_transforms import *\n"
   ]
  },
  {
   "cell_type": "code",
   "execution_count": 84,
   "id": "32fae530-d6ec-4f62-9b1f-146ef33cbe0d",
   "metadata": {},
   "outputs": [],
   "source": [
    "from s3fs.core import S3FileSystem\n",
    "s3 = S3FileSystem()\n",
    "from sagemaker import get_execution_role\n",
    "\n",
    "role = get_execution_role()\n",
    "bucket='files-and-examples-01'\n",
    "train_file = 'datasets/su_dataset/video_data_functionals_A74.npz'\n",
    "\n",
    "train_path = s3.open('s3://{}/{}'.format(bucket, train_file))\n",
    "\n",
    "f = np.load(train_path)\n",
    "\n",
    "x = f['x']\n",
    "y = f['y']"
   ]
  },
  {
   "cell_type": "code",
   "execution_count": 85,
   "id": "7f404b84-a1db-40b3-acee-0369c63df74b",
   "metadata": {},
   "outputs": [],
   "source": [
    "train_uri = f\"s3://{bucket}/{train_file}\""
   ]
  },
  {
   "cell_type": "code",
   "execution_count": 86,
   "id": "b5d88ccc-7dd5-4e45-9a26-a581f7e65346",
   "metadata": {},
   "outputs": [
    {
     "data": {
      "text/plain": [
       "'s3://files-and-examples-01/datasets/su_dataset/video_data_functionals_A74.npz'"
      ]
     },
     "execution_count": 86,
     "metadata": {},
     "output_type": "execute_result"
    }
   ],
   "source": [
    "train_uri"
   ]
  },
  {
   "cell_type": "code",
   "execution_count": 34,
   "id": "312977bc-0a82-441f-9336-0adc0373cfd0",
   "metadata": {},
   "outputs": [
    {
     "data": {
      "text/plain": [
       "(341, 85)"
      ]
     },
     "execution_count": 34,
     "metadata": {},
     "output_type": "execute_result"
    }
   ],
   "source": [
    "x.shape"
   ]
  },
  {
   "cell_type": "code",
   "execution_count": 35,
   "id": "3829b611-7e3f-4968-bc52-0b49f60e3025",
   "metadata": {},
   "outputs": [
    {
     "data": {
      "text/plain": [
       "(341,)"
      ]
     },
     "execution_count": 35,
     "metadata": {},
     "output_type": "execute_result"
    }
   ],
   "source": [
    "y.shape"
   ]
  },
  {
   "cell_type": "code",
   "execution_count": 95,
   "id": "c61f9a7f-5eed-49a5-b45d-94ed3a2cd7fc",
   "metadata": {},
   "outputs": [],
   "source": [
    "train_instance_type = \"ml.m5.large\"\n",
    "\n",
    "inputs = {\n",
    "    \"train\": train_uri\n",
    "}"
   ]
  },
  {
   "cell_type": "code",
   "execution_count": 96,
   "id": "4fdccefe-8a8f-49d7-92b6-c264be7bbba8",
   "metadata": {},
   "outputs": [
    {
     "data": {
      "text/plain": [
       "{'train': 's3://files-and-examples-01/datasets/su_dataset/video_data_functionals_A74.npz'}"
      ]
     },
     "execution_count": 96,
     "metadata": {},
     "output_type": "execute_result"
    }
   ],
   "source": [
    "inputs"
   ]
  },
  {
   "cell_type": "code",
   "execution_count": 97,
   "id": "1e43955a-a259-4e9d-9443-f5df4299bbbc",
   "metadata": {},
   "outputs": [],
   "source": [
    "estimator_parameters = {\n",
    "    \"entry_point\": \"svm_param_search.py\",\n",
    "    \"source_dir\": \"scripts\",\n",
    "    \"framework_version\": \"0.23-1\",\n",
    "    \"py_version\": \"py3\",\n",
    "    \"instance_type\": train_instance_type,\n",
    "    \"instance_count\": 1,\n",
    "    \"role\": role,\n",
    "    \"base_job_name\": \"svm-param-search\",\n",
    "}\n",
    "\n",
    "estimator = SKLearn(**estimator_parameters)"
   ]
  },
  {
   "cell_type": "code",
   "execution_count": 126,
   "id": "67cefb2b-1ce3-4e92-bf97-179f811765a7",
   "metadata": {},
   "outputs": [
    {
     "name": "stdout",
     "output_type": "stream",
     "text": [
      "\n",
      "2022-11-02 16:51:27 Starting - Starting the training job..\n",
      "2022-11-02 16:51:42 Starting - Preparing the instances for training...............\n",
      "2022-11-02 16:53:00 Downloading - Downloading input data.......\n",
      "2022-11-02 16:53:41 Training - Downloading the training image........\n",
      "2022-11-02 16:54:26 Training - Training image download completed. Training in progress.....\n",
      "2022-11-02 16:54:52 Uploading - Uploading generated training model..\n",
      "2022-11-02 16:55:08 Completed - Training job completed\n"
     ]
    }
   ],
   "source": [
    "estimator.fit(inputs, logs=\"None\")"
   ]
  },
  {
   "cell_type": "code",
   "execution_count": 99,
   "id": "3b4f4823-3a08-4359-9c7d-cc1011d95937",
   "metadata": {},
   "outputs": [
    {
     "name": "stdout",
     "output_type": "stream",
     "text": [
      "download: s3://sagemaker-eu-west-1-061749825266/svm-param-search-2022-11-02-15-51-51-300/output/model.tar.gz to model/model.tar.gz\n"
     ]
    }
   ],
   "source": [
    "!aws s3 cp {estimator.model_data} ./model/model.tar.gz\n",
    "!tar -xvzf ./model/model.tar.gz -C ./model"
   ]
  },
  {
   "cell_type": "code",
   "execution_count": 103,
   "id": "10443a76-9242-4135-a561-966650969ade",
   "metadata": {},
   "outputs": [
    {
     "name": "stderr",
     "output_type": "stream",
     "text": [
      "/opt/conda/lib/python3.7/site-packages/sklearn/base.py:318: UserWarning: Trying to unpickle estimator SVC from version 0.23.2 when using version 0.22.1. This might lead to breaking code or invalid results. Use at your own risk.\n",
      "  UserWarning)\n",
      "/opt/conda/lib/python3.7/site-packages/sklearn/base.py:318: UserWarning: Trying to unpickle estimator GridSearchCV from version 0.23.2 when using version 0.22.1. This might lead to breaking code or invalid results. Use at your own risk.\n",
      "  UserWarning)\n"
     ]
    }
   ],
   "source": [
    "loaded_model = pickle.load(open(\"model/model.pickle\", 'rb'))"
   ]
  },
  {
   "cell_type": "code",
   "execution_count": 104,
   "id": "9addb21c-ae86-4513-a7d9-99275e93de24",
   "metadata": {},
   "outputs": [],
   "source": [
    "def evaluate_scores(X, y, clf, scoring_method):\n",
    "    # get scores\n",
    "    scores = cross_validate(X=X, y=y,\n",
    "                            estimator           = clf,\n",
    "                            scoring             = [scoring_method],\n",
    "                            verbose             = 1,\n",
    "                            n_jobs              = -1,\n",
    "                            return_train_score  = True                        \n",
    "                           )\n",
    "    \n",
    "    print('printing {} measures'.format(scoring_method))\n",
    "    print('avg (train):', np.mean(scores['train_{}'.format(scoring_method)]))\n",
    "    print('std (train):', np.std(scores['train_{}'.format(scoring_method)]))\n",
    "    print('avg (validation):', np.mean(scores['test_{}'.format(scoring_method)]))\n",
    "    print('std (validation):', np.std(scores['test_{}'.format(scoring_method)]))"
   ]
  },
  {
   "cell_type": "code",
   "execution_count": 107,
   "id": "b4f2f4dc-17a8-4a95-b1d4-e3d86ac05ff7",
   "metadata": {},
   "outputs": [],
   "source": [
    "svc = loaded_model.best_estimator_"
   ]
  },
  {
   "cell_type": "code",
   "execution_count": 110,
   "id": "ba934a64-d626-47d0-8b06-49092db1db6b",
   "metadata": {},
   "outputs": [
    {
     "name": "stderr",
     "output_type": "stream",
     "text": [
      "[Parallel(n_jobs=-1)]: Using backend LokyBackend with 2 concurrent workers.\n"
     ]
    },
    {
     "name": "stdout",
     "output_type": "stream",
     "text": [
      "printing accuracy measures\n",
      "avg (train): 0.5102644904115492\n",
      "std (train): 0.030418571777857506\n",
      "avg (validation): 0.1758312020460358\n",
      "std (validation): 0.0666594983968966\n"
     ]
    },
    {
     "name": "stderr",
     "output_type": "stream",
     "text": [
      "[Parallel(n_jobs=-1)]: Done   5 out of   5 | elapsed:    1.5s finished\n"
     ]
    }
   ],
   "source": [
    "evaluate_scores(x, y, svc, \"accuracy\")"
   ]
  },
  {
   "cell_type": "code",
   "execution_count": 111,
   "id": "53b4e689-700e-4818-9d3a-1cbfe1421596",
   "metadata": {},
   "outputs": [],
   "source": [
    "svc = SVC(**loaded_model.best_params_)"
   ]
  },
  {
   "cell_type": "code",
   "execution_count": 112,
   "id": "57930ebb-011b-4642-8529-466fa2339a12",
   "metadata": {},
   "outputs": [
    {
     "name": "stderr",
     "output_type": "stream",
     "text": [
      "[Parallel(n_jobs=-1)]: Using backend LokyBackend with 2 concurrent workers.\n"
     ]
    },
    {
     "name": "stdout",
     "output_type": "stream",
     "text": [
      "printing accuracy measures\n",
      "avg (train): 0.5102644904115492\n",
      "std (train): 0.030418571777857506\n",
      "avg (validation): 0.1758312020460358\n",
      "std (validation): 0.0666594983968966\n"
     ]
    },
    {
     "name": "stderr",
     "output_type": "stream",
     "text": [
      "[Parallel(n_jobs=-1)]: Done   5 out of   5 | elapsed:    0.5s finished\n"
     ]
    }
   ],
   "source": [
    "evaluate_scores(x, y, svc, \"accuracy\")"
   ]
  },
  {
   "cell_type": "markdown",
   "id": "fbe455fd-363c-493b-9499-6703937b46ef",
   "metadata": {},
   "source": [
    "# Testing on A220 dataset"
   ]
  },
  {
   "cell_type": "code",
   "execution_count": 113,
   "id": "607c05cc-f5f0-44fc-8de8-918c9cda70bd",
   "metadata": {},
   "outputs": [],
   "source": [
    "from s3fs.core import S3FileSystem\n",
    "s3 = S3FileSystem()\n",
    "from sagemaker import get_execution_role\n",
    "\n",
    "role = get_execution_role()\n",
    "bucket='files-and-examples-01'\n",
    "train_file = 'datasets/su_dataset/video_data_functionals_A220.npz'\n",
    "\n",
    "train_path = s3.open('s3://{}/{}'.format(bucket, train_file))\n",
    "\n",
    "f = np.load(train_path)\n",
    "\n",
    "x = f['x']\n",
    "y = f['y']"
   ]
  },
  {
   "cell_type": "code",
   "execution_count": 116,
   "id": "0cb4db43-0e8d-4d29-94e7-5c3d37e2c57c",
   "metadata": {},
   "outputs": [],
   "source": [
    "train_uri = f\"s3://{bucket}/{train_file}\""
   ]
  },
  {
   "cell_type": "code",
   "execution_count": 117,
   "id": "22173205-face-4466-83e9-4334c54f31da",
   "metadata": {},
   "outputs": [
    {
     "data": {
      "text/plain": [
       "'s3://files-and-examples-01/datasets/su_dataset/video_data_functionals_A220.npz'"
      ]
     },
     "execution_count": 117,
     "metadata": {},
     "output_type": "execute_result"
    }
   ],
   "source": [
    "train_uri"
   ]
  },
  {
   "cell_type": "code",
   "execution_count": 118,
   "id": "14b3124a-ab72-4ba7-9ab6-17e50d68d338",
   "metadata": {},
   "outputs": [],
   "source": [
    "train_instance_type = \"ml.m5.large\"\n",
    "\n",
    "inputs = {\n",
    "    \"train\": train_uri\n",
    "}"
   ]
  },
  {
   "cell_type": "code",
   "execution_count": 119,
   "id": "e613edd5-0a41-482d-9f5b-5f7cf8d28ade",
   "metadata": {},
   "outputs": [],
   "source": [
    "estimator_parameters = {\n",
    "    \"entry_point\": \"svm_param_search.py\",\n",
    "    \"source_dir\": \"scripts\",\n",
    "    \"framework_version\": \"0.23-1\",\n",
    "    \"py_version\": \"py3\",\n",
    "    \"instance_type\": train_instance_type,\n",
    "    \"instance_count\": 1,\n",
    "    \"role\": role,\n",
    "    \"base_job_name\": \"svm-param-search\",\n",
    "}\n",
    "\n",
    "estimator = SKLearn(**estimator_parameters)"
   ]
  },
  {
   "cell_type": "code",
   "execution_count": 125,
   "id": "b25512c6-731a-43c1-a639-a4ab09d0028a",
   "metadata": {},
   "outputs": [
    {
     "name": "stdout",
     "output_type": "stream",
     "text": [
      "\n",
      "2022-11-02 16:31:24 Starting - Starting the training job..........\n",
      "2022-11-02 16:32:18 Starting - Preparing the instances for training..............\n",
      "2022-11-02 16:33:33 Downloading - Downloading input data.......\n",
      "2022-11-02 16:34:13 Training - Downloading the training image.........\n",
      "2022-11-02 16:35:03 Training - Training image download completed. Training in progress......\n",
      "2022-11-02 16:35:34 Uploading - Uploading generated training model..\n",
      "2022-11-02 16:35:50 Completed - Training job completed\n"
     ]
    }
   ],
   "source": [
    "estimator.fit(inputs, logs=\"None\")"
   ]
  },
  {
   "cell_type": "code",
   "execution_count": 121,
   "id": "19b8bcca-de1c-4404-9d58-d69eaeb88d27",
   "metadata": {},
   "outputs": [
    {
     "name": "stdout",
     "output_type": "stream",
     "text": [
      "download: s3://sagemaker-eu-west-1-061749825266/svm-param-search-2022-11-02-16-16-09-460/output/model.tar.gz to model/model.tar.gz\n",
      "model.pickle\n"
     ]
    }
   ],
   "source": [
    "!aws s3 cp {estimator.model_data} ./model/model.tar.gz\n",
    "!tar -xvzf ./model/model.tar.gz -C ./model"
   ]
  },
  {
   "cell_type": "code",
   "execution_count": 122,
   "id": "c241dbe2-1c1c-40cf-90f7-3ecb86dfe294",
   "metadata": {},
   "outputs": [
    {
     "name": "stderr",
     "output_type": "stream",
     "text": [
      "/opt/conda/lib/python3.7/site-packages/sklearn/base.py:318: UserWarning: Trying to unpickle estimator SVC from version 0.23.2 when using version 0.22.1. This might lead to breaking code or invalid results. Use at your own risk.\n",
      "  UserWarning)\n",
      "/opt/conda/lib/python3.7/site-packages/sklearn/base.py:318: UserWarning: Trying to unpickle estimator GridSearchCV from version 0.23.2 when using version 0.22.1. This might lead to breaking code or invalid results. Use at your own risk.\n",
      "  UserWarning)\n"
     ]
    }
   ],
   "source": [
    "loaded_model = pickle.load(open(\"model/model.pickle\", 'rb'))"
   ]
  },
  {
   "cell_type": "code",
   "execution_count": 123,
   "id": "e5defb78-5934-4942-b2c9-c98d63c960ef",
   "metadata": {},
   "outputs": [
    {
     "name": "stderr",
     "output_type": "stream",
     "text": [
      "[Parallel(n_jobs=-1)]: Using backend LokyBackend with 2 concurrent workers.\n"
     ]
    },
    {
     "name": "stdout",
     "output_type": "stream",
     "text": [
      "printing accuracy measures\n",
      "avg (train): 0.7187324903460286\n",
      "std (train): 0.024943040369078975\n",
      "avg (validation): 0.40321931589537224\n",
      "std (validation): 0.08675192111740986\n"
     ]
    },
    {
     "name": "stderr",
     "output_type": "stream",
     "text": [
      "[Parallel(n_jobs=-1)]: Done   5 out of   5 | elapsed:    1.2s finished\n"
     ]
    }
   ],
   "source": [
    "svc = SVC(**loaded_model.best_params_)\n",
    "evaluate_scores(x, y, svc, \"accuracy\")"
   ]
  }
 ],
 "metadata": {
  "instance_type": "ml.t3.medium",
  "kernelspec": {
   "display_name": "Python 3 (Data Science)",
   "language": "python",
   "name": "python3__SAGEMAKER_INTERNAL__arn:aws:sagemaker:eu-west-1:470317259841:image/datascience-1.0"
  },
  "language_info": {
   "codemirror_mode": {
    "name": "ipython",
    "version": 3
   },
   "file_extension": ".py",
   "mimetype": "text/x-python",
   "name": "python",
   "nbconvert_exporter": "python",
   "pygments_lexer": "ipython3",
   "version": "3.7.10"
  }
 },
 "nbformat": 4,
 "nbformat_minor": 5
}
