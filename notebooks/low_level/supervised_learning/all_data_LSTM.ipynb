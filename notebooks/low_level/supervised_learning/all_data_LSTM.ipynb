{
 "cells": [
  {
   "cell_type": "code",
   "execution_count": 5,
   "id": "15e7749b-2f82-485c-8270-4b748bc16455",
   "metadata": {},
   "outputs": [],
   "source": [
    "import tensorflow as tf\n",
    "from tensorflow.python.keras.models import Sequential\n",
    "from tensorflow.python.keras.layers import Input, Dense, GRU, Embedding,LSTM, CuDNNLSTM, Flatten, MaxPooling1D\n",
    "from tensorflow.python.keras.layers import BatchNormalization, Dropout, TimeDistributed, Conv1D, Conv2D\n",
    "from tensorflow.keras.optimizers import Adam\n",
    "\n",
    "import matplotlib.pyplot as plt\n",
    "import h5py\n",
    "import boto3\n",
    "import pandas as pd\n",
    "import numpy as np\n",
    "import matplotlib.pyplot as plt\n",
    "from sklearn.model_selection import train_test_split\n",
    "from sklearn.preprocessing import MinMaxScaler, StandardScaler\n",
    "from sklearn.utils import shuffle\n",
    "from time import time\n",
    "\n",
    "import os\n",
    "import sys"
   ]
  },
  {
   "cell_type": "code",
   "execution_count": 3,
   "id": "820ced33-4ede-4672-a4f5-efd02941d618",
   "metadata": {},
   "outputs": [
    {
     "name": "stdout",
     "output_type": "stream",
     "text": [
      "Num GPUs Available:  1\n"
     ]
    }
   ],
   "source": [
    "print(\"Num GPUs Available: \", len(tf.config.list_physical_devices('GPU')))"
   ]
  },
  {
   "cell_type": "code",
   "execution_count": 4,
   "id": "d738e4fd-9cae-467a-bfb3-39d3dc09cf7f",
   "metadata": {},
   "outputs": [
    {
     "ename": "NameError",
     "evalue": "name 'os' is not defined",
     "output_type": "error",
     "traceback": [
      "\u001b[0;31m---------------------------------------------------------------------------\u001b[0m",
      "\u001b[0;31mNameError\u001b[0m                                 Traceback (most recent call last)",
      "\u001b[0;32m<ipython-input-4-f7547d1fd275>\u001b[0m in \u001b[0;36m<module>\u001b[0;34m\u001b[0m\n\u001b[0;32m----> 1\u001b[0;31m \u001b[0mmodule_path\u001b[0m \u001b[0;34m=\u001b[0m \u001b[0mos\u001b[0m\u001b[0;34m.\u001b[0m\u001b[0mpath\u001b[0m\u001b[0;34m.\u001b[0m\u001b[0mabspath\u001b[0m\u001b[0;34m(\u001b[0m\u001b[0mos\u001b[0m\u001b[0;34m.\u001b[0m\u001b[0mpath\u001b[0m\u001b[0;34m.\u001b[0m\u001b[0mjoin\u001b[0m\u001b[0;34m(\u001b[0m\u001b[0;34m'../../../'\u001b[0m\u001b[0;34m)\u001b[0m\u001b[0;34m)\u001b[0m\u001b[0;34m\u001b[0m\u001b[0;34m\u001b[0m\u001b[0m\n\u001b[0m\u001b[1;32m      2\u001b[0m \u001b[0;32mif\u001b[0m \u001b[0mmodule_path\u001b[0m \u001b[0;32mnot\u001b[0m \u001b[0;32min\u001b[0m \u001b[0msys\u001b[0m\u001b[0;34m.\u001b[0m\u001b[0mpath\u001b[0m\u001b[0;34m:\u001b[0m\u001b[0;34m\u001b[0m\u001b[0;34m\u001b[0m\u001b[0m\n\u001b[1;32m      3\u001b[0m     \u001b[0msys\u001b[0m\u001b[0;34m.\u001b[0m\u001b[0mpath\u001b[0m\u001b[0;34m.\u001b[0m\u001b[0mappend\u001b[0m\u001b[0;34m(\u001b[0m\u001b[0mmodule_path\u001b[0m\u001b[0;34m)\u001b[0m\u001b[0;34m\u001b[0m\u001b[0;34m\u001b[0m\u001b[0m\n",
      "\u001b[0;31mNameError\u001b[0m: name 'os' is not defined"
     ]
    }
   ],
   "source": [
    "module_path = os.path.abspath(os.path.join('../../../'))\n",
    "if module_path not in sys.path:\n",
    "    sys.path.append(module_path)"
   ]
  },
  {
   "cell_type": "code",
   "execution_count": 3,
   "id": "f9a990f6-1cec-48a9-9cd5-f6ae745fcc86",
   "metadata": {},
   "outputs": [
    {
     "ename": "ModuleNotFoundError",
     "evalue": "No module named 'label_transforms'",
     "output_type": "error",
     "traceback": [
      "\u001b[0;31m---------------------------------------------------------------------------\u001b[0m",
      "\u001b[0;31mModuleNotFoundError\u001b[0m                       Traceback (most recent call last)",
      "\u001b[0;32m<ipython-input-3-960f6fca675b>\u001b[0m in \u001b[0;36m<module>\u001b[0;34m\u001b[0m\n\u001b[0;32m----> 1\u001b[0;31m \u001b[0;32mfrom\u001b[0m \u001b[0mlabel_transforms\u001b[0m \u001b[0;32mimport\u001b[0m \u001b[0;34m*\u001b[0m\u001b[0;34m\u001b[0m\u001b[0;34m\u001b[0m\u001b[0m\n\u001b[0m",
      "\u001b[0;31mModuleNotFoundError\u001b[0m: No module named 'label_transforms'"
     ]
    }
   ],
   "source": [
    "from label_transforms import *"
   ]
  },
  {
   "cell_type": "code",
   "execution_count": 7,
   "id": "c858d874-f486-4eb4-9135-bd802efa8a1a",
   "metadata": {},
   "outputs": [],
   "source": [
    "from s3fs.core import S3FileSystem\n",
    "s3 = S3FileSystem()\n",
    "from sagemaker import get_execution_role\n",
    "\n",
    "role = get_execution_role()\n",
    "bucket='files-and-examples-01'\n",
    "train_file = 'datasets/su_dataset/video_data_low_level.hdf5'\n",
    "\n",
    "train_path = s3.open('s3://{}/{}'.format(bucket, train_file))\n",
    "\n",
    "f = h5py.File(name=train_path, mode='r')\n",
    "x = np.array(f['x'])\n",
    "y = np.array(f['y'])"
   ]
  },
  {
   "cell_type": "code",
   "execution_count": 10,
   "id": "7103cbbf-6b72-4e7f-adb3-b27b530c222c",
   "metadata": {},
   "outputs": [],
   "source": [
    "X_train, X_test, y_train, y_test = train_test_split(x, y, test_size=0.3)"
   ]
  },
  {
   "cell_type": "code",
   "execution_count": 11,
   "id": "d03b84d8-8daa-443a-a27d-147b9e2a301d",
   "metadata": {},
   "outputs": [
    {
     "data": {
      "text/plain": [
       "(7743, 1549, 17)"
      ]
     },
     "execution_count": 11,
     "metadata": {},
     "output_type": "execute_result"
    }
   ],
   "source": [
    "X_train.shape"
   ]
  },
  {
   "cell_type": "code",
   "execution_count": 12,
   "id": "2816a28b-7966-40bf-9f5c-08aba68f2d7a",
   "metadata": {},
   "outputs": [
    {
     "name": "stdout",
     "output_type": "stream",
     "text": [
      "Extension horovod.torch has not been built: /usr/local/lib/python3.8/site-packages/horovod/torch/mpi_lib/_mpi_lib.cpython-38-x86_64-linux-gnu.so not found\n",
      "If this is not expected, reinstall Horovod with HOROVOD_WITH_PYTORCH=1 to debug the build error.\n",
      "Warning! MPI libs are missing, but python applications are still avaiable.\n",
      "[2022-10-13 12:56:34.033 tensorflow-2-6-gpu--ml-g4dn-xlarge-6f7b193ebf85c4ca6ed374f84b1e:21 INFO utils.py:27] RULE_JOB_STOP_SIGNAL_FILENAME: None\n",
      "[2022-10-13 12:56:34.060 tensorflow-2-6-gpu--ml-g4dn-xlarge-6f7b193ebf85c4ca6ed374f84b1e:21 INFO profiler_config_parser.py:111] Unable to find config at /opt/ml/input/config/profilerconfig.json. Profiler is disabled.\n",
      "Model: \"sequential\"\n",
      "_________________________________________________________________\n",
      "Layer (type)                 Output Shape              Param #   \n",
      "=================================================================\n",
      "lstm (LSTM)                  (None, 1549, 100)         47200     \n",
      "_________________________________________________________________\n",
      "dropout (Dropout)            (None, 1549, 100)         0         \n",
      "_________________________________________________________________\n",
      "flatten (Flatten)            (None, 154900)            0         \n",
      "_________________________________________________________________\n",
      "dense (Dense)                (None, 100)               15490100  \n",
      "_________________________________________________________________\n",
      "dense_1 (Dense)              (None, 44)                4444      \n",
      "=================================================================\n",
      "Total params: 15,541,744\n",
      "Trainable params: 15,541,744\n",
      "Non-trainable params: 0\n",
      "_________________________________________________________________\n"
     ]
    }
   ],
   "source": [
    "seq_len=1549\n",
    "STEPS = 50\n",
    "EPOCHS= 60\n",
    "\n",
    "model = Sequential()\n",
    "\n",
    "model.add(LSTM(units=100,\n",
    "              return_sequences=True,\n",
    "              input_shape=(seq_len,17)))\n",
    "\n",
    "model.add(Dropout(0.5))\n",
    "\n",
    "model.add(Flatten())\n",
    "model.add(Dense(100, activation='relu'))\n",
    "\n",
    "model.add(Dense(44, activation='sigmoid'))\n",
    "\n",
    "\n",
    "model.compile(loss=tf.keras.losses.SparseCategoricalCrossentropy(), optimizer='adam', metrics=['accuracy'])\n",
    "model.summary()"
   ]
  },
  {
   "cell_type": "code",
   "execution_count": null,
   "id": "4acceb5a-a0df-49be-bc9f-451dc07449d7",
   "metadata": {},
   "outputs": [
    {
     "name": "stdout",
     "output_type": "stream",
     "text": [
      "Epoch 1/60\n",
      "155/155 [==============================] - 742s 5s/step - loss: 3.6040 - accuracy: 0.0576 - val_loss: 3.5270 - val_accuracy: 0.0684\n",
      "Epoch 2/60\n",
      "155/155 [==============================] - 740s 5s/step - loss: 3.3083 - accuracy: 0.1099 - val_loss: 3.4715 - val_accuracy: 0.0798\n",
      "Epoch 3/60\n",
      "155/155 [==============================] - 740s 5s/step - loss: 3.0851 - accuracy: 0.1534 - val_loss: 3.5468 - val_accuracy: 0.0801\n",
      "Epoch 4/60\n",
      "155/155 [==============================] - 742s 5s/step - loss: 2.8288 - accuracy: 0.2194 - val_loss: 3.6869 - val_accuracy: 0.0913\n",
      "Epoch 5/60\n",
      "155/155 [==============================] - 741s 5s/step - loss: 2.5278 - accuracy: 0.2960 - val_loss: 3.9187 - val_accuracy: 0.0865\n",
      "Epoch 6/60\n",
      "155/155 [==============================] - 739s 5s/step - loss: 2.2096 - accuracy: 0.3793 - val_loss: 4.2118 - val_accuracy: 0.0922\n",
      "Epoch 7/60\n",
      "155/155 [==============================] - 739s 5s/step - loss: 1.9263 - accuracy: 0.4577 - val_loss: 4.5726 - val_accuracy: 0.0826\n",
      "Epoch 8/60\n",
      "155/155 [==============================] - 739s 5s/step - loss: 1.6211 - accuracy: 0.5407 - val_loss: 5.1767 - val_accuracy: 0.0783\n",
      "Epoch 9/60\n",
      "155/155 [==============================] - 740s 5s/step - loss: 1.3774 - accuracy: 0.6048 - val_loss: 5.4046 - val_accuracy: 0.0853\n",
      "Epoch 10/60\n",
      "155/155 [==============================] - 739s 5s/step - loss: 1.1356 - accuracy: 0.6734 - val_loss: 6.0246 - val_accuracy: 0.0865\n",
      "Epoch 11/60\n",
      "155/155 [==============================] - 740s 5s/step - loss: 0.9265 - accuracy: 0.7310 - val_loss: 6.6526 - val_accuracy: 0.0829\n",
      "Epoch 12/60\n",
      " 26/155 [====>.........................] - ETA: 9:52 - loss: 0.6500 - accuracy: 0.8215"
     ]
    }
   ],
   "source": [
    "model.fit(X_train, y_train, batch_size=50, epochs=EPOCHS, validation_data=(X_test, y_test))"
   ]
  },
  {
   "cell_type": "markdown",
   "id": "1598f0ef-b34d-4428-8ef9-78230c212ede",
   "metadata": {},
   "source": [
    "# Training on basic emotions"
   ]
  },
  {
   "cell_type": "code",
   "execution_count": 2,
   "id": "65c0c4a0-7232-41ee-99d7-7502aa4a854a",
   "metadata": {},
   "outputs": [
    {
     "ename": "NameError",
     "evalue": "name 'emotion_abr_to_emotion_id' is not defined",
     "output_type": "error",
     "traceback": [
      "\u001b[0;31m---------------------------------------------------------------------------\u001b[0m",
      "\u001b[0;31mNameError\u001b[0m                                 Traceback (most recent call last)",
      "\u001b[0;32m<ipython-input-2-2057f4a7efbd>\u001b[0m in \u001b[0;36m<module>\u001b[0;34m\u001b[0m\n\u001b[0;32m----> 1\u001b[0;31m \u001b[0mang_idx\u001b[0m \u001b[0;34m=\u001b[0m \u001b[0memotion_abr_to_emotion_id\u001b[0m\u001b[0;34m[\u001b[0m\u001b[0;34m\"ang\"\u001b[0m\u001b[0;34m]\u001b[0m\u001b[0;34m\u001b[0m\u001b[0;34m\u001b[0m\u001b[0m\n\u001b[0m\u001b[1;32m      2\u001b[0m \u001b[0mprint\u001b[0m\u001b[0;34m(\u001b[0m\u001b[0;34m\"ang_idx:\"\u001b[0m\u001b[0;34m,\u001b[0m \u001b[0mang_idx\u001b[0m\u001b[0;34m)\u001b[0m\u001b[0;34m\u001b[0m\u001b[0;34m\u001b[0m\u001b[0m\n\u001b[1;32m      3\u001b[0m \u001b[0mhap_idx\u001b[0m \u001b[0;34m=\u001b[0m \u001b[0memotion_abr_to_emotion_id\u001b[0m\u001b[0;34m[\u001b[0m\u001b[0;34m\"hap\"\u001b[0m\u001b[0;34m]\u001b[0m\u001b[0;34m\u001b[0m\u001b[0;34m\u001b[0m\u001b[0m\n\u001b[1;32m      4\u001b[0m \u001b[0mprint\u001b[0m\u001b[0;34m(\u001b[0m\u001b[0;34m\"hap_idx:\"\u001b[0m\u001b[0;34m,\u001b[0m \u001b[0mhap_idx\u001b[0m\u001b[0;34m)\u001b[0m\u001b[0;34m\u001b[0m\u001b[0;34m\u001b[0m\u001b[0m\n\u001b[1;32m      5\u001b[0m \u001b[0msad_idx\u001b[0m \u001b[0;34m=\u001b[0m \u001b[0memotion_abr_to_emotion_id\u001b[0m\u001b[0;34m[\u001b[0m\u001b[0;34m\"sad\"\u001b[0m\u001b[0;34m]\u001b[0m\u001b[0;34m\u001b[0m\u001b[0;34m\u001b[0m\u001b[0m\n",
      "\u001b[0;31mNameError\u001b[0m: name 'emotion_abr_to_emotion_id' is not defined"
     ]
    }
   ],
   "source": [
    "ang_idx = emotion_abr_to_emotion_id[\"ang\"]\n",
    "print(\"ang_idx:\", ang_idx)\n",
    "hap_idx = emotion_abr_to_emotion_id[\"hap\"]\n",
    "print(\"hap_idx:\", hap_idx)\n",
    "sad_idx = emotion_abr_to_emotion_id[\"sad\"]\n",
    "print(\"sad:\", sad_idx)\n",
    "disg_idx = emotion_abr_to_emotion_id[\"disg\"]\n",
    "print(\"disg:\", disg_idx)\n",
    "fea_idx = emotion_abr_to_emotion_id[\"fea\"]\n",
    "print(\"fea:\", fea_idx)"
   ]
  },
  {
   "cell_type": "code",
   "execution_count": null,
   "id": "b66102a1-d655-4b89-b7b2-cf3f86fc44e9",
   "metadata": {},
   "outputs": [],
   "source": [
    "y_basic_emotions[y_basic_emotions == ang_idx] = 0\n",
    "y_basic_emotions[y_basic_emotions == hap_idx] = 1\n",
    "y_basic_emotions[y_basic_emotions == sad_idx] = 2\n",
    "y_basic_emotions[y_basic_emotions == disg_idx] = 3\n",
    "y_basic_emotions[y_basic_emotions == fea_idx] = 4"
   ]
  }
 ],
 "metadata": {
  "instance_type": "ml.g4dn.xlarge",
  "kernelspec": {
   "display_name": "Python 3 (TensorFlow 2.6 Python 3.8 GPU Optimized)",
   "language": "python",
   "name": "python3__SAGEMAKER_INTERNAL__arn:aws:sagemaker:eu-west-1:470317259841:image/tensorflow-2.6-gpu-py38-cu112-ubuntu20.04-v1"
  },
  "language_info": {
   "codemirror_mode": {
    "name": "ipython",
    "version": 3
   },
   "file_extension": ".py",
   "mimetype": "text/x-python",
   "name": "python",
   "nbconvert_exporter": "python",
   "pygments_lexer": "ipython3",
   "version": "3.8.2"
  }
 },
 "nbformat": 4,
 "nbformat_minor": 5
}
